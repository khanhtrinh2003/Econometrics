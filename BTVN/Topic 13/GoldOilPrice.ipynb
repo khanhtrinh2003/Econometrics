{
 "cells": [
  {
   "cell_type": "code",
   "execution_count": null,
   "metadata": {
    "vscode": {
     "languageId": "r"
    }
   },
   "outputs": [],
   "source": [
    "library(lmtest)\n",
    "library(car)\n",
    "library(carData)\n",
    "library(ggplot2)\n",
    "library(zoo)\n",
    "library(sandwich)\n",
    "library(dynlm)\n",
    "library(tseries)"
   ]
  }
 ],
 "metadata": {
  "kernelspec": {
   "display_name": "R",
   "language": "R",
   "name": "ir"
  },
  "language_info": {
   "name": "R"
  },
  "orig_nbformat": 4
 },
 "nbformat": 4,
 "nbformat_minor": 2
}
