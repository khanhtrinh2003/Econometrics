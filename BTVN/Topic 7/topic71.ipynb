{
 "cells": [
  {
   "cell_type": "code",
   "execution_count": 3,
   "metadata": {
    "vscode": {
     "languageId": "r"
    }
   },
   "outputs": [
    {
     "name": "stderr",
     "output_type": "stream",
     "text": [
      "Loading required package: ggplot2\n",
      "\n",
      "Warning message:\n",
      "\"package 'ggplot2' was built under R version 4.2.2\"\n",
      "Loading required package: lmtest\n",
      "\n",
      "Warning message:\n",
      "\"package 'lmtest' was built under R version 4.2.2\"\n",
      "Loading required package: zoo\n",
      "\n",
      "Warning message:\n",
      "\"package 'zoo' was built under R version 4.2.2\"\n",
      "\n",
      "Attaching package: 'zoo'\n",
      "\n",
      "\n",
      "The following objects are masked from 'package:base':\n",
      "\n",
      "    as.Date, as.Date.numeric\n",
      "\n",
      "\n",
      "Loading required package: urca\n",
      "\n",
      "Warning message:\n",
      "\"package 'urca' was built under R version 4.2.2\"\n",
      "Loading required package: sandwich\n",
      "\n",
      "Warning message:\n",
      "\"package 'sandwich' was built under R version 4.2.2\"\n",
      "Loading required package: car\n",
      "\n",
      "Warning message:\n",
      "\"package 'car' was built under R version 4.2.2\"\n",
      "Loading required package: carData\n",
      "\n",
      "Warning message:\n",
      "\"package 'carData' was built under R version 4.2.2\"\n",
      "Loading required package: forecast\n",
      "\n",
      "Warning message:\n",
      "\"package 'forecast' was built under R version 4.2.2\"\n",
      "Registered S3 method overwritten by 'quantmod':\n",
      "  method            from\n",
      "  as.zoo.data.frame zoo \n",
      "\n",
      "Loading required package: tseries\n",
      "\n",
      "Warning message:\n",
      "\"package 'tseries' was built under R version 4.2.2\"\n",
      "Loading required package: dummy\n",
      "\n",
      "dummy 0.1.3\n",
      "\n",
      "dummyNews()\n",
      "\n",
      "Loading required package: seasonal\n",
      "\n",
      "Warning message:\n",
      "\"package 'seasonal' was built under R version 4.2.2\"\n"
     ]
    }
   ],
   "source": [
    "if(!require(ggplot2)) install.packages(\"ggplot2\")\n",
    "library(ggplot2)\n",
    "\n",
    "if(!require(lmtest)) install.packages(\"lmtest\")\n",
    "library(lmtest)\n",
    "\n",
    "if(!require(urca)) install.packages(\"urca\")\n",
    "library(urca)\n",
    "\n",
    "if(!require(sandwich)) install.packages(\"sandwich\")\n",
    "library(sandwich)\n",
    "\n",
    "if(!require(car)) install.packages(\"car\")\n",
    "library(car)\n",
    "\n",
    "if(!require(carData)) install.packages(\"carData\")\n",
    "library(carData)\n",
    "\n",
    "if(!require(forecast)) install.packages(\"forecast\")\n",
    "library(forecast)\n",
    "\n",
    "if(!require(tseries)) install.packages(\"tseries\")\n",
    "library(tseries)\n",
    "\n",
    "if(!require(dummy)) install.packages(\"dummy\")\n",
    "library(dummy)\n",
    "\n",
    "if(!require(seasonal)) install.packages(\"seasonal\")\n",
    "library(seasonal)\n",
    "\n",
    "library(hexView)"
   ]
  },
  {
   "attachments": {},
   "cell_type": "markdown",
   "metadata": {},
   "source": [
    "##### TIEN CONG PHU THUOC VAO KINH NGHIEM, THAM GIA UNION"
   ]
  },
  {
   "cell_type": "code",
   "execution_count": 5,
   "metadata": {
    "vscode": {
     "languageId": "r"
    }
   },
   "outputs": [
    {
     "name": "stderr",
     "output_type": "stream",
     "text": [
      "Warning message in readEViews(\"../../chap 02/ch2bt3.wf1\"):\n",
      "\"Skipping boilerplate variable\n",
      "\"\n",
      "Warning message in readEViews(\"../../chap 02/ch2bt3.wf1\"):\n",
      "\"Skipping boilerplate variable\n",
      "\"\n"
     ]
    },
    {
     "data": {
      "text/plain": [
       "      Date                EXP01           GRADE        UNION     \n",
       " Min.   :0001-01-01   Min.   : 1.00   Min.   : 5   Min.   :0.00  \n",
       " 1st Qu.:0025-10-01   1st Qu.:10.00   1st Qu.:12   1st Qu.:0.00  \n",
       " Median :0050-07-02   Median :16.00   Median :12   Median :0.00  \n",
       " Mean   :0050-07-02   Mean   :19.48   Mean   :12   Mean   :0.19  \n",
       " 3rd Qu.:0075-04-02   3rd Qu.:25.75   3rd Qu.:14   3rd Qu.:0.00  \n",
       " Max.   :0100-01-01   Max.   :53.00   Max.   :18   Max.   :1.00  \n",
       "      WAGE      \n",
       " Min.   : 6.35  \n",
       " 1st Qu.: 9.50  \n",
       " Median :13.27  \n",
       " Mean   :15.05  \n",
       " 3rd Qu.:17.78  \n",
       " Max.   :68.00  "
      ]
     },
     "metadata": {},
     "output_type": "display_data"
    }
   ],
   "source": [
    "ch4bt6_m=readEViews(\"../../chap 02/ch2bt3.wf1\")\n",
    "summary(ch4bt6_m)"
   ]
  },
  {
   "cell_type": "code",
   "execution_count": 6,
   "metadata": {
    "vscode": {
     "languageId": "r"
    }
   },
   "outputs": [
    {
     "data": {
      "text/plain": [
       "\n",
       "Call:\n",
       "lm(formula = lwage ~ grade + union)\n",
       "\n",
       "Residuals:\n",
       "    Min      1Q  Median      3Q     Max \n",
       "-10.363  -4.922  -1.797   1.944  53.203 \n",
       "\n",
       "Coefficients:\n",
       "            Estimate Std. Error t value Pr(>|t|)   \n",
       "(Intercept)   4.0984     3.8303   1.070  0.28728   \n",
       "grade         0.8915     0.3119   2.859  0.00521 **\n",
       "union         1.3115     2.2118   0.593  0.55459   \n",
       "---\n",
       "Signif. codes:  0 '***' 0.001 '**' 0.01 '*' 0.05 '.' 0.1 ' ' 1\n",
       "\n",
       "Residual standard error: 8.647 on 97 degrees of freedom\n",
       "Multiple R-squared:  0.08372,\tAdjusted R-squared:  0.06483 \n",
       "F-statistic: 4.432 on 2 and 97 DF,  p-value: 0.0144\n"
      ]
     },
     "metadata": {},
     "output_type": "display_data"
    }
   ],
   "source": [
    "lwage=ch4bt6_m$WAGE\n",
    "grade=ch4bt6_m$GRADE\n",
    "union=ch4bt6_m$UNION\n",
    "reg=lm(lwage ~ grade+union)\n",
    "summary(reg)"
   ]
  },
  {
   "attachments": {},
   "cell_type": "markdown",
   "metadata": {},
   "source": [
    "##### ANH HUONG TUONG TAC CỦA grade & union"
   ]
  },
  {
   "cell_type": "code",
   "execution_count": 7,
   "metadata": {
    "vscode": {
     "languageId": "r"
    }
   },
   "outputs": [
    {
     "data": {
      "text/plain": [
       "\n",
       "Call:\n",
       "lm(formula = lwage ~ grade + union + grade * union)\n",
       "\n",
       "Residuals:\n",
       "    Min      1Q  Median      3Q     Max \n",
       "-10.564  -4.682  -1.661   2.044  53.198 \n",
       "\n",
       "Coefficients:\n",
       "            Estimate Std. Error t value Pr(>|t|)   \n",
       "(Intercept)   3.5186     3.9741   0.885  0.37816   \n",
       "grade         0.9403     0.3243   2.900  0.00463 **\n",
       "union        10.1507    15.5531   0.653  0.51554   \n",
       "grade:union  -0.7109     1.2381  -0.574  0.56717   \n",
       "---\n",
       "Signif. codes:  0 '***' 0.001 '**' 0.01 '*' 0.05 '.' 0.1 ' ' 1\n",
       "\n",
       "Residual standard error: 8.677 on 96 degrees of freedom\n",
       "Multiple R-squared:  0.08686,\tAdjusted R-squared:  0.05832 \n",
       "F-statistic: 3.044 on 3 and 96 DF,  p-value: 0.03254\n"
      ]
     },
     "metadata": {},
     "output_type": "display_data"
    }
   ],
   "source": [
    "reg1=lm(lwage~ grade+union+grade*union)\n",
    "summary(reg1)"
   ]
  },
  {
   "cell_type": "code",
   "execution_count": null,
   "metadata": {
    "vscode": {
     "languageId": "r"
    }
   },
   "outputs": [],
   "source": []
  }
 ],
 "metadata": {
  "kernelspec": {
   "display_name": "R",
   "language": "R",
   "name": "ir"
  },
  "language_info": {
   "codemirror_mode": "r",
   "file_extension": ".r",
   "mimetype": "text/x-r-source",
   "name": "R",
   "pygments_lexer": "r",
   "version": "4.2.1"
  },
  "orig_nbformat": 4,
  "vscode": {
   "interpreter": {
    "hash": "a42ccb73e7d9bfdf27e036f1d2b8b681e55fc0743cc5586bc2474d4a60f4b886"
   }
  }
 },
 "nbformat": 4,
 "nbformat_minor": 2
}
