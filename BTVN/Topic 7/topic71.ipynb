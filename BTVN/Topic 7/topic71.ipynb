{
 "cells": [
  {
   "cell_type": "code",
   "execution_count": null,
   "metadata": {
    "vscode": {
     "languageId": "r"
    }
   },
   "outputs": [],
   "source": [
    "if(!require(ggplot2)) install.packages(\"ggplot2\")\n",
    "library(ggplot2)\n",
    "\n",
    "if(!require(lmtest)) install.packages(\"lmtest\")\n",
    "library(lmtest)\n",
    "\n",
    "if(!require(urca)) install.packages(\"urca\")\n",
    "library(urca)\n",
    "\n",
    "if(!require(sandwich)) install.packages(\"sandwich\")\n",
    "library(sandwich)\n",
    "\n",
    "if(!require(car)) install.packages(\"car\")\n",
    "library(car)\n",
    "\n",
    "if(!require(carData)) install.packages(\"carData\")\n",
    "library(carData)\n",
    "\n",
    "if(!require(forecast)) install.packages(\"forecast\")\n",
    "library(forecast)\n",
    "\n",
    "if(!require(tseries)) install.packages(\"tseries\")\n",
    "library(tseries)\n",
    "\n",
    "if(!require(dummy)) install.packages(\"dummy\")\n",
    "library(dummy)\n",
    "\n",
    "if(!require(seasonal)) install.packages(\"seasonal\")\n",
    "library(seasonal)"
   ]
  },
  {
   "attachments": {},
   "cell_type": "markdown",
   "metadata": {},
   "source": [
    "##### TIEN CONG PHU THUOC VAO KINH NGHIEM, THAM GIA UNION"
   ]
  },
  {
   "cell_type": "code",
   "execution_count": null,
   "metadata": {
    "vscode": {
     "languageId": "r"
    }
   },
   "outputs": [],
   "source": [
    "ch4bt6_m=read.table(\"ch4bt6_m.txt\",header=TRUE)\n",
    "summary(ch4bt6_m)"
   ]
  },
  {
   "cell_type": "code",
   "execution_count": null,
   "metadata": {
    "vscode": {
     "languageId": "r"
    }
   },
   "outputs": [],
   "source": [
    "lwage=ch4bt6_m$LWAGE\n",
    "grade=ch4bt6_m$GRADE\n",
    "union=ch4bt6_m$UNION\n",
    "reg=lm(lwage ~ grade+union)\n",
    "summary(reg)"
   ]
  },
  {
   "attachments": {},
   "cell_type": "markdown",
   "metadata": {},
   "source": [
    "##### ANH HUONG TUONG TAC CỦA grade & union"
   ]
  },
  {
   "cell_type": "code",
   "execution_count": null,
   "metadata": {
    "vscode": {
     "languageId": "r"
    }
   },
   "outputs": [],
   "source": [
    "reg1=lm(lwage~ grade+union+grade*union)\n",
    "summary(reg1)"
   ]
  }
 ],
 "metadata": {
  "kernelspec": {
   "display_name": "R",
   "language": "R",
   "name": "ir"
  },
  "language_info": {
   "name": "R",
   "version": "3.10.9"
  },
  "orig_nbformat": 4,
  "vscode": {
   "interpreter": {
    "hash": "a42ccb73e7d9bfdf27e036f1d2b8b681e55fc0743cc5586bc2474d4a60f4b886"
   }
  }
 },
 "nbformat": 4,
 "nbformat_minor": 2
}
