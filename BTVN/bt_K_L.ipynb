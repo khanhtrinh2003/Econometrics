{
 "cells": [
  {
   "cell_type": "code",
   "execution_count": 1,
   "metadata": {
    "vscode": {
     "languageId": "r"
    }
   },
   "outputs": [
    {
     "name": "stderr",
     "output_type": "stream",
     "text": [
      "Warning message:\n",
      "\"package 'fBasics' was built under R version 4.2.2\"\n"
     ]
    }
   ],
   "source": [
    "library(fBasics)"
   ]
  },
  {
   "attachments": {},
   "cell_type": "markdown",
   "metadata": {},
   "source": [
    "##### a)  Hãy ước lượng hàm sản xuất có dạng Cobb- Douglas. Phương sai của sai số có đồng đều không?"
   ]
  },
  {
   "cell_type": "code",
   "execution_count": 4,
   "metadata": {
    "vscode": {
     "languageId": "r"
    }
   },
   "outputs": [
    {
     "data": {
      "text/plain": [
       "\n",
       "Call:\n",
       "lm(formula = log(Y) ~ log(K) + log(L), data = df)\n",
       "\n",
       "Residuals:\n",
       "     Min       1Q   Median       3Q      Max \n",
       "-0.56455 -0.21716  0.03205  0.16651  0.42318 \n",
       "\n",
       "Coefficients:\n",
       "            Estimate Std. Error t value Pr(>|t|)    \n",
       "(Intercept)  9.77025    0.22857  42.745  < 2e-16 ***\n",
       "log(K)       0.52370    0.09376   5.586 3.28e-05 ***\n",
       "log(L)       0.69301    0.14054   4.931 0.000127 ***\n",
       "---\n",
       "Signif. codes:  0 '***' 0.001 '**' 0.01 '*' 0.05 '.' 0.1 ' ' 1\n",
       "\n",
       "Residual standard error: 0.282 on 17 degrees of freedom\n",
       "Multiple R-squared:  0.7814,\tAdjusted R-squared:  0.7557 \n",
       "F-statistic: 30.39 on 2 and 17 DF,  p-value: 2.436e-06\n"
      ]
     },
     "metadata": {},
     "output_type": "display_data"
    }
   ],
   "source": [
    "df = read.table(\"ch3bt4.txt\",header = TRUE)\n",
    "hq <- lm(data = df,log(Y)~log(K)+log(L))\n",
    "summary(hq)"
   ]
  },
  {
   "attachments": {},
   "cell_type": "markdown",
   "metadata": {},
   "source": [
    "Kiểm định phương sai có đồng đều không (BP Test)\n",
    "$\\begin{cases} \n",
    "\\text{H0: phương sai là không đổi}\\\\\n",
    "\\text{H1: phương sai là thay đổi.}\n",
    "\\end{cases}$"
   ]
  },
  {
   "cell_type": "code",
   "execution_count": 7,
   "metadata": {
    "vscode": {
     "languageId": "r"
    }
   },
   "outputs": [
    {
     "data": {
      "text/plain": [
       "\n",
       "\tstudentized Breusch-Pagan test\n",
       "\n",
       "data:  hq\n",
       "BP = 0.35168, df = 2, p-value = 0.8388\n"
      ]
     },
     "metadata": {},
     "output_type": "display_data"
    }
   ],
   "source": [
    "library(lmtest)\n",
    "bptest(hq)"
   ]
  },
  {
   "attachments": {},
   "cell_type": "markdown",
   "metadata": {},
   "source": [
    "Do giá trị p-value = 0.8388 < 5% nên chúng ta có bằng chứng thống kê bắc bỏ Ho"
   ]
  },
  {
   "attachments": {},
   "cell_type": "markdown",
   "metadata": {},
   "source": [
    "##### c) Hiệu quả sản xuất không đổi theo quy mô? "
   ]
  },
  {
   "cell_type": "code",
   "execution_count": 9,
   "metadata": {
    "vscode": {
     "languageId": "r"
    }
   },
   "outputs": [
    {
     "data": {
      "text/html": [
       "<table class=\"dataframe\">\n",
       "<caption>A anova: 2 × 6</caption>\n",
       "<thead>\n",
       "\t<tr><th></th><th scope=col>Res.Df</th><th scope=col>RSS</th><th scope=col>Df</th><th scope=col>Sum of Sq</th><th scope=col>F</th><th scope=col>Pr(&gt;F)</th></tr>\n",
       "\t<tr><th></th><th scope=col>&lt;dbl&gt;</th><th scope=col>&lt;dbl&gt;</th><th scope=col>&lt;dbl&gt;</th><th scope=col>&lt;dbl&gt;</th><th scope=col>&lt;dbl&gt;</th><th scope=col>&lt;dbl&gt;</th></tr>\n",
       "</thead>\n",
       "<tbody>\n",
       "\t<tr><th scope=row>1</th><td>18</td><td>1.494548</td><td>NA</td><td>       NA</td><td>     NA</td><td>       NA</td></tr>\n",
       "\t<tr><th scope=row>2</th><td>17</td><td>1.352226</td><td> 1</td><td>0.1423218</td><td>1.78925</td><td>0.1986389</td></tr>\n",
       "</tbody>\n",
       "</table>\n"
      ],
      "text/latex": [
       "A anova: 2 × 6\n",
       "\\begin{tabular}{r|llllll}\n",
       "  & Res.Df & RSS & Df & Sum of Sq & F & Pr(>F)\\\\\n",
       "  & <dbl> & <dbl> & <dbl> & <dbl> & <dbl> & <dbl>\\\\\n",
       "\\hline\n",
       "\t1 & 18 & 1.494548 & NA &        NA &      NA &        NA\\\\\n",
       "\t2 & 17 & 1.352226 &  1 & 0.1423218 & 1.78925 & 0.1986389\\\\\n",
       "\\end{tabular}\n"
      ],
      "text/markdown": [
       "\n",
       "A anova: 2 × 6\n",
       "\n",
       "| <!--/--> | Res.Df &lt;dbl&gt; | RSS &lt;dbl&gt; | Df &lt;dbl&gt; | Sum of Sq &lt;dbl&gt; | F &lt;dbl&gt; | Pr(&gt;F) &lt;dbl&gt; |\n",
       "|---|---|---|---|---|---|---|\n",
       "| 1 | 18 | 1.494548 | NA |        NA |      NA |        NA |\n",
       "| 2 | 17 | 1.352226 |  1 | 0.1423218 | 1.78925 | 0.1986389 |\n",
       "\n"
      ],
      "text/plain": [
       "  Res.Df RSS      Df Sum of Sq F       Pr(>F)   \n",
       "1 18     1.494548 NA        NA      NA        NA\n",
       "2 17     1.352226  1 0.1423218 1.78925 0.1986389"
      ]
     },
     "metadata": {},
     "output_type": "display_data"
    }
   ],
   "source": [
    "library(car)\n",
    "linearHypothesis(hq,c(\"log(K)+log(L)=1\"))"
   ]
  },
  {
   "attachments": {},
   "cell_type": "markdown",
   "metadata": {},
   "source": [
    "##### d) Khoảng tin cậy"
   ]
  },
  {
   "cell_type": "code",
   "execution_count": 23,
   "metadata": {
    "vscode": {
     "languageId": "r"
    }
   },
   "outputs": [
    {
     "data": {
      "text/html": [
       "<table class=\"dataframe\">\n",
       "<caption>A matrix: 3 × 2 of type dbl</caption>\n",
       "<thead>\n",
       "\t<tr><th></th><th scope=col>5 %</th><th scope=col>95 %</th></tr>\n",
       "</thead>\n",
       "<tbody>\n",
       "\t<tr><th scope=row>(Intercept)</th><td>9.3726319</td><td>10.1678699</td></tr>\n",
       "\t<tr><th scope=row>log(K)</th><td>0.3606023</td><td> 0.6867965</td></tr>\n",
       "\t<tr><th scope=row>log(L)</th><td>0.4485214</td><td> 0.9374895</td></tr>\n",
       "</tbody>\n",
       "</table>\n"
      ],
      "text/latex": [
       "A matrix: 3 × 2 of type dbl\n",
       "\\begin{tabular}{r|ll}\n",
       "  & 5 \\% & 95 \\%\\\\\n",
       "\\hline\n",
       "\t(Intercept) & 9.3726319 & 10.1678699\\\\\n",
       "\tlog(K) & 0.3606023 &  0.6867965\\\\\n",
       "\tlog(L) & 0.4485214 &  0.9374895\\\\\n",
       "\\end{tabular}\n"
      ],
      "text/markdown": [
       "\n",
       "A matrix: 3 × 2 of type dbl\n",
       "\n",
       "| <!--/--> | 5 % | 95 % |\n",
       "|---|---|---|\n",
       "| (Intercept) | 9.3726319 | 10.1678699 |\n",
       "| log(K) | 0.3606023 |  0.6867965 |\n",
       "| log(L) | 0.4485214 |  0.9374895 |\n",
       "\n"
      ],
      "text/plain": [
       "            5 %       95 %      \n",
       "(Intercept) 9.3726319 10.1678699\n",
       "log(K)      0.3606023  0.6867965\n",
       "log(L)      0.4485214  0.9374895"
      ]
     },
     "metadata": {},
     "output_type": "display_data"
    }
   ],
   "source": [
    "confint(hq,level = 0.9)"
   ]
  },
  {
   "attachments": {},
   "cell_type": "markdown",
   "metadata": {},
   "source": [
    "$\\hat\\beta_1+ \\hat\\beta_2-t_{\\alpha/2}se(\\hat\\beta_1+ \\hat\\beta_2)<\\beta_1+ \\beta_2<\\hat\\beta_1+ \\hat\\beta_2+t_{\\alpha/2}se(\\hat\\beta_1+ \\hat\\beta_2)$"
   ]
  },
  {
   "cell_type": "code",
   "execution_count": 25,
   "metadata": {
    "vscode": {
     "languageId": "r"
    }
   },
   "outputs": [
    {
     "data": {
      "text/html": [
       "<table class=\"dataframe\">\n",
       "<caption>A matrix: 3 × 3 of type dbl</caption>\n",
       "<thead>\n",
       "\t<tr><th></th><th scope=col>(Intercept)</th><th scope=col>log(K)</th><th scope=col>log(L)</th></tr>\n",
       "</thead>\n",
       "<tbody>\n",
       "\t<tr><th scope=row>(Intercept)</th><td> 0.05224348</td><td>-0.012182545</td><td>-0.023211362</td></tr>\n",
       "\t<tr><th scope=row>log(K)</th><td>-0.01218254</td><td> 0.008790028</td><td>-0.001147648</td></tr>\n",
       "\t<tr><th scope=row>log(L)</th><td>-0.02321136</td><td>-0.001147648</td><td> 0.019751448</td></tr>\n",
       "</tbody>\n",
       "</table>\n"
      ],
      "text/latex": [
       "A matrix: 3 × 3 of type dbl\n",
       "\\begin{tabular}{r|lll}\n",
       "  & (Intercept) & log(K) & log(L)\\\\\n",
       "\\hline\n",
       "\t(Intercept) &  0.05224348 & -0.012182545 & -0.023211362\\\\\n",
       "\tlog(K) & -0.01218254 &  0.008790028 & -0.001147648\\\\\n",
       "\tlog(L) & -0.02321136 & -0.001147648 &  0.019751448\\\\\n",
       "\\end{tabular}\n"
      ],
      "text/markdown": [
       "\n",
       "A matrix: 3 × 3 of type dbl\n",
       "\n",
       "| <!--/--> | (Intercept) | log(K) | log(L) |\n",
       "|---|---|---|---|\n",
       "| (Intercept) |  0.05224348 | -0.012182545 | -0.023211362 |\n",
       "| log(K) | -0.01218254 |  0.008790028 | -0.001147648 |\n",
       "| log(L) | -0.02321136 | -0.001147648 |  0.019751448 |\n",
       "\n"
      ],
      "text/plain": [
       "            (Intercept) log(K)       log(L)      \n",
       "(Intercept)  0.05224348 -0.012182545 -0.023211362\n",
       "log(K)      -0.01218254  0.008790028 -0.001147648\n",
       "log(L)      -0.02321136 -0.001147648  0.019751448"
      ]
     },
     "metadata": {},
     "output_type": "display_data"
    }
   ],
   "source": [
    "vcov(hq)\n",
    "var2 <- vcov(hq)[2,2]\n",
    "var3 <- vcov(hq)[3,3]\n",
    "cov23 <- vcov(hq)[3,2]"
   ]
  },
  {
   "cell_type": "code",
   "execution_count": 26,
   "metadata": {
    "vscode": {
     "languageId": "r"
    }
   },
   "outputs": [],
   "source": [
    "se <- sqrt(var2+var3+2*cov23)\n",
    "beta2 <- 0.52370 \n",
    "beta3 <- 0.69301"
   ]
  },
  {
   "cell_type": "code",
   "execution_count": 27,
   "metadata": {
    "vscode": {
     "languageId": "r"
    }
   },
   "outputs": [],
   "source": [
    "can_tren <- (beta2+beta3)+qt(0.95,length(df$K)-3)*se\n",
    "can_duoi <- (beta2+beta3)-qt(0.95,length(df$L)-3)*se"
   ]
  },
  {
   "cell_type": "code",
   "execution_count": 28,
   "metadata": {
    "vscode": {
     "languageId": "r"
    }
   },
   "outputs": [
    {
     "data": {
      "text/html": [
       "1.49853799785867"
      ],
      "text/latex": [
       "1.49853799785867"
      ],
      "text/markdown": [
       "1.49853799785867"
      ],
      "text/plain": [
       "[1] 1.498538"
      ]
     },
     "metadata": {},
     "output_type": "display_data"
    }
   ],
   "source": [
    "can_tren"
   ]
  },
  {
   "cell_type": "code",
   "execution_count": 29,
   "metadata": {
    "vscode": {
     "languageId": "r"
    }
   },
   "outputs": [
    {
     "data": {
      "text/html": [
       "0.934882002141332"
      ],
      "text/latex": [
       "0.934882002141332"
      ],
      "text/markdown": [
       "0.934882002141332"
      ],
      "text/plain": [
       "[1] 0.934882"
      ]
     },
     "metadata": {},
     "output_type": "display_data"
    }
   ],
   "source": [
    "can_duoi"
   ]
  },
  {
   "attachments": {},
   "cell_type": "markdown",
   "metadata": {},
   "source": [
    "##### e) Dự báo với 2 quan sát sau mẫu: K=(50,45), L=(35,32)."
   ]
  },
  {
   "attachments": {},
   "cell_type": "markdown",
   "metadata": {},
   "source": [
    "$\\beta_1 = \\beta_2$"
   ]
  },
  {
   "cell_type": "code",
   "execution_count": 11,
   "metadata": {
    "vscode": {
     "languageId": "r"
    }
   },
   "outputs": [
    {
     "data": {
      "text/html": [
       "<table class=\"dataframe\">\n",
       "<caption>A anova: 2 × 6</caption>\n",
       "<thead>\n",
       "\t<tr><th></th><th scope=col>Res.Df</th><th scope=col>RSS</th><th scope=col>Df</th><th scope=col>Sum of Sq</th><th scope=col>F</th><th scope=col>Pr(&gt;F)</th></tr>\n",
       "\t<tr><th></th><th scope=col>&lt;dbl&gt;</th><th scope=col>&lt;dbl&gt;</th><th scope=col>&lt;dbl&gt;</th><th scope=col>&lt;dbl&gt;</th><th scope=col>&lt;dbl&gt;</th><th scope=col>&lt;dbl&gt;</th></tr>\n",
       "</thead>\n",
       "<tbody>\n",
       "\t<tr><th scope=row>1</th><td>18</td><td>1.426166</td><td>NA</td><td>        NA</td><td>       NA</td><td>       NA</td></tr>\n",
       "\t<tr><th scope=row>2</th><td>17</td><td>1.352226</td><td> 1</td><td>0.07393951</td><td>0.9295573</td><td>0.3484935</td></tr>\n",
       "</tbody>\n",
       "</table>\n"
      ],
      "text/latex": [
       "A anova: 2 × 6\n",
       "\\begin{tabular}{r|llllll}\n",
       "  & Res.Df & RSS & Df & Sum of Sq & F & Pr(>F)\\\\\n",
       "  & <dbl> & <dbl> & <dbl> & <dbl> & <dbl> & <dbl>\\\\\n",
       "\\hline\n",
       "\t1 & 18 & 1.426166 & NA &         NA &        NA &        NA\\\\\n",
       "\t2 & 17 & 1.352226 &  1 & 0.07393951 & 0.9295573 & 0.3484935\\\\\n",
       "\\end{tabular}\n"
      ],
      "text/markdown": [
       "\n",
       "A anova: 2 × 6\n",
       "\n",
       "| <!--/--> | Res.Df &lt;dbl&gt; | RSS &lt;dbl&gt; | Df &lt;dbl&gt; | Sum of Sq &lt;dbl&gt; | F &lt;dbl&gt; | Pr(&gt;F) &lt;dbl&gt; |\n",
       "|---|---|---|---|---|---|---|\n",
       "| 1 | 18 | 1.426166 | NA |         NA |        NA |        NA |\n",
       "| 2 | 17 | 1.352226 |  1 | 0.07393951 | 0.9295573 | 0.3484935 |\n",
       "\n"
      ],
      "text/plain": [
       "  Res.Df RSS      Df Sum of Sq  F         Pr(>F)   \n",
       "1 18     1.426166 NA         NA        NA        NA\n",
       "2 17     1.352226  1 0.07393951 0.9295573 0.3484935"
      ]
     },
     "metadata": {},
     "output_type": "display_data"
    }
   ],
   "source": [
    "library(car)\n",
    "linearHypothesis(hq,c(\"log(K)=log(L)\"))"
   ]
  },
  {
   "attachments": {},
   "cell_type": "markdown",
   "metadata": {},
   "source": [
    "$\\beta_1 = \\beta_2\\ và\\ \\beta_2=0.3$"
   ]
  },
  {
   "cell_type": "code",
   "execution_count": 12,
   "metadata": {
    "vscode": {
     "languageId": "r"
    }
   },
   "outputs": [
    {
     "data": {
      "text/html": [
       "<table class=\"dataframe\">\n",
       "<caption>A anova: 2 × 6</caption>\n",
       "<thead>\n",
       "\t<tr><th></th><th scope=col>Res.Df</th><th scope=col>RSS</th><th scope=col>Df</th><th scope=col>Sum of Sq</th><th scope=col>F</th><th scope=col>Pr(&gt;F)</th></tr>\n",
       "\t<tr><th></th><th scope=col>&lt;dbl&gt;</th><th scope=col>&lt;dbl&gt;</th><th scope=col>&lt;dbl&gt;</th><th scope=col>&lt;dbl&gt;</th><th scope=col>&lt;dbl&gt;</th><th scope=col>&lt;dbl&gt;</th></tr>\n",
       "</thead>\n",
       "<tbody>\n",
       "\t<tr><th scope=row>1</th><td>19</td><td>2.188990</td><td>NA</td><td>       NA</td><td>     NA</td><td>       NA</td></tr>\n",
       "\t<tr><th scope=row>2</th><td>17</td><td>1.352226</td><td> 2</td><td>0.8367639</td><td>5.25984</td><td>0.0166666</td></tr>\n",
       "</tbody>\n",
       "</table>\n"
      ],
      "text/latex": [
       "A anova: 2 × 6\n",
       "\\begin{tabular}{r|llllll}\n",
       "  & Res.Df & RSS & Df & Sum of Sq & F & Pr(>F)\\\\\n",
       "  & <dbl> & <dbl> & <dbl> & <dbl> & <dbl> & <dbl>\\\\\n",
       "\\hline\n",
       "\t1 & 19 & 2.188990 & NA &        NA &      NA &        NA\\\\\n",
       "\t2 & 17 & 1.352226 &  2 & 0.8367639 & 5.25984 & 0.0166666\\\\\n",
       "\\end{tabular}\n"
      ],
      "text/markdown": [
       "\n",
       "A anova: 2 × 6\n",
       "\n",
       "| <!--/--> | Res.Df &lt;dbl&gt; | RSS &lt;dbl&gt; | Df &lt;dbl&gt; | Sum of Sq &lt;dbl&gt; | F &lt;dbl&gt; | Pr(&gt;F) &lt;dbl&gt; |\n",
       "|---|---|---|---|---|---|---|\n",
       "| 1 | 19 | 2.188990 | NA |        NA |      NA |        NA |\n",
       "| 2 | 17 | 1.352226 |  2 | 0.8367639 | 5.25984 | 0.0166666 |\n",
       "\n"
      ],
      "text/plain": [
       "  Res.Df RSS      Df Sum of Sq F       Pr(>F)   \n",
       "1 19     2.188990 NA        NA      NA        NA\n",
       "2 17     1.352226  2 0.8367639 5.25984 0.0166666"
      ]
     },
     "metadata": {},
     "output_type": "display_data"
    }
   ],
   "source": [
    "linearHypothesis(hq,c(\"log(K)+log(L)=1\",\"log(L)=0.3\"))"
   ]
  },
  {
   "attachments": {},
   "cell_type": "markdown",
   "metadata": {},
   "source": [
    "##### f) Dự báo với 2 quan sát sau mẫu: K=(50,45), L=(35,32)."
   ]
  },
  {
   "cell_type": "code",
   "execution_count": 17,
   "metadata": {
    "vscode": {
     "languageId": "r"
    }
   },
   "outputs": [
    {
     "data": {
      "text/html": [
       "<style>\n",
       ".dl-inline {width: auto; margin:0; padding: 0}\n",
       ".dl-inline>dt, .dl-inline>dd {float: none; width: auto; display: inline-block}\n",
       ".dl-inline>dt::after {content: \":\\0020\"; padding-right: .5ex}\n",
       ".dl-inline>dt:not(:first-of-type) {padding-left: .5ex}\n",
       "</style><dl class=dl-inline><dt>1</dt><dd>14.2828504637554</dd><dt>2</dt><dd>14.1655715131433</dd></dl>\n"
      ],
      "text/latex": [
       "\\begin{description*}\n",
       "\\item[1] 14.2828504637554\n",
       "\\item[2] 14.1655715131433\n",
       "\\end{description*}\n"
      ],
      "text/markdown": [
       "1\n",
       ":   14.28285046375542\n",
       ":   14.1655715131433\n",
       "\n"
      ],
      "text/plain": [
       "       1        2 \n",
       "14.28285 14.16557 "
      ]
     },
     "metadata": {},
     "output_type": "display_data"
    }
   ],
   "source": [
    "K <- c(50,45)\n",
    "L <- c(35,32)\n",
    "predic1 <- predict(hq,data.frame(K,L))\n",
    "predic1"
   ]
  },
  {
   "cell_type": "code",
   "execution_count": 18,
   "metadata": {
    "vscode": {
     "languageId": "r"
    }
   },
   "outputs": [
    {
     "data": {
      "text/html": [
       "<table class=\"dataframe\">\n",
       "<caption>A matrix: 2 × 3 of type dbl</caption>\n",
       "<thead>\n",
       "\t<tr><th></th><th scope=col>fit</th><th scope=col>lwr</th><th scope=col>upr</th></tr>\n",
       "</thead>\n",
       "<tbody>\n",
       "\t<tr><th scope=row>1</th><td>14.28285</td><td>13.48183</td><td>15.08387</td></tr>\n",
       "\t<tr><th scope=row>2</th><td>14.16557</td><td>13.39632</td><td>14.93482</td></tr>\n",
       "</tbody>\n",
       "</table>\n"
      ],
      "text/latex": [
       "A matrix: 2 × 3 of type dbl\n",
       "\\begin{tabular}{r|lll}\n",
       "  & fit & lwr & upr\\\\\n",
       "\\hline\n",
       "\t1 & 14.28285 & 13.48183 & 15.08387\\\\\n",
       "\t2 & 14.16557 & 13.39632 & 14.93482\\\\\n",
       "\\end{tabular}\n"
      ],
      "text/markdown": [
       "\n",
       "A matrix: 2 × 3 of type dbl\n",
       "\n",
       "| <!--/--> | fit | lwr | upr |\n",
       "|---|---|---|---|\n",
       "| 1 | 14.28285 | 13.48183 | 15.08387 |\n",
       "| 2 | 14.16557 | 13.39632 | 14.93482 |\n",
       "\n"
      ],
      "text/plain": [
       "  fit      lwr      upr     \n",
       "1 14.28285 13.48183 15.08387\n",
       "2 14.16557 13.39632 14.93482"
      ]
     },
     "metadata": {},
     "output_type": "display_data"
    }
   ],
   "source": [
    "predic2 <- predict(hq,data.frame(K,L),interval=\"confidence\",level=0.95)\n",
    "predic2"
   ]
  }
 ],
 "metadata": {
  "kernelspec": {
   "display_name": "R",
   "language": "R",
   "name": "ir"
  },
  "language_info": {
   "codemirror_mode": "r",
   "file_extension": ".r",
   "mimetype": "text/x-r-source",
   "name": "R",
   "pygments_lexer": "r",
   "version": "4.2.1"
  },
  "orig_nbformat": 4
 },
 "nbformat": 4,
 "nbformat_minor": 2
}
