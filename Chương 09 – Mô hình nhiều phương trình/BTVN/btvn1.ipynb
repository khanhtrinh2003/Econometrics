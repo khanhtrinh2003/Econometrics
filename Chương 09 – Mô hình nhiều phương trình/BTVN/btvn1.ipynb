{
 "cells": [
  {
   "cell_type": "markdown",
   "metadata": {},
   "source": [
    "\n",
    "## VI DU 9.17-CHUONG 9,  TRANG 370\n",
    "# CAC BIEN: hours= số giờ làm việc được trả công ; wage= tiền công/giờ;age= số tuổi;edu= số năm được đào tạo; kidslt6= số con có tuổi <6; nwifeinc= thu nhập ngoài tiền công (bao gồm cả thu nhập của chồng); exper= số năm kinh nghiệm. Data: mroz.txt\n",
    "# He phuong trinh tuyến tính : hours-f(ln(wage), edu, age, didslt6,nwifeinc); Ln(wage)=g(hours, edu, exper, exper^2)\n",
    "# Call packages for estimating, test\n"
   ]
  },
  {
   "cell_type": "code",
   "execution_count": 9,
   "metadata": {
    "vscode": {
     "languageId": "r"
    }
   },
   "outputs": [
    {
     "name": "stderr",
     "output_type": "stream",
     "text": [
      "Warning message:\n",
      "\"package 'caret' was built under R version 4.2.3\"\n",
      "Loading required package: ggplot2\n",
      "\n",
      "Warning message:\n",
      "\"package 'ggplot2' was built under R version 4.2.3\"\n",
      "Error: package or namespace load failed for 'ggplot2' in loadNamespace(i, c(lib.loc, .libPaths()), versionCheck = vI[[i]]):\n",
      " namespace 'rlang' 1.0.6 is already loaded, but >= 1.1.0 is required\n",
      "\n"
     ]
    },
    {
     "ename": "ERROR",
     "evalue": "Error: package 'ggplot2' could not be loaded\n",
     "output_type": "error",
     "traceback": [
      "Error: package 'ggplot2' could not be loaded\nTraceback:\n",
      "1. library(caret)",
      "2. .getRequiredPackages2(pkgInfo, quietly = quietly)",
      "3. stop(gettextf(\"package %s could not be loaded\", sQuote(pkg)), \n .     call. = FALSE, domain = NA)"
     ]
    }
   ],
   "source": [
    "library(foreign)\n",
    "library(car); library(carData)\n",
    "library(lmtest);library(zoo)\n",
    "library(sandwich)\n",
    "library(stargazer)\n",
    "library(caTools)\n",
    "library(caret)\n",
    "library(ivreg)\n"
   ]
  },
  {
   "cell_type": "code",
   "execution_count": 11,
   "metadata": {
    "vscode": {
     "languageId": "r"
    }
   },
   "outputs": [
    {
     "ename": "ERROR",
     "evalue": "Error in mroz %>% select(hours, lwage, age, educ, exper, nwifeinc, kidslt6, : could not find function \"%>%\"\n",
     "output_type": "error",
     "traceback": [
      "Error in mroz %>% select(hours, lwage, age, educ, exper, nwifeinc, kidslt6, : could not find function \"%>%\"\nTraceback:\n"
     ]
    }
   ],
   "source": [
    "#mroz=read_excel(\"D:/dataR/ch9/mroz.xls\")\n",
    "mroz=read.table(\"mroz.txt\", header=TRUE)\n",
    "# Chỉ lấy các biến dùng trong bài để tiết kiệm thời gian xử lý\n",
    "data=mroz%>%select(hours, lwage, age,educ,exper,nwifeinc,kidslt6,kidsge6)\n",
    "# Xem tên biến và số liệu ở 2 dòng đầu\n",
    "head(data,2)\n",
    "# Chia data thành hai tập train và test, với tỷ lệ 80:20\n",
    "indexTrain=sample.split(data,SplitRatio =0.8)\n",
    "train.set=subset(data, indexTrain == TRUE)\n",
    "head(train.set,2)\n",
    "test.set= subset(data, indexTrain == FALSE)\n",
    "hours=train.set$hours\n",
    "lwage=train.set$lwage\n",
    "educ=train.set$educ\n",
    "age=train.set$age\n",
    "kidslt6=train.set$kidslt6\n",
    "nwifeinc=train.set$nwifeinc\n",
    "exper=train.set$exper\n",
    "# plot(age)"
   ]
  },
  {
   "cell_type": "markdown",
   "metadata": {},
   "source": [
    "## PHƯƠNG PHÁP 2SLS REGRESSION\n",
    "\n",
    "## UOC LUONG HE PHUONG TRINH - JOINT ESTIMATION OF SYSTEM"
   ]
  },
  {
   "cell_type": "code",
   "execution_count": null,
   "metadata": {
    "vscode": {
     "languageId": "r"
    }
   },
   "outputs": [],
   "source": [
    "# Ưu điểm của cách này là các biến công cụ ở mỗi phowng trình có thể thêm/bớt\n",
    "reg5=ivreg(hours~lwage+educ+age+kidslt6+nwifeinc|educ+age+kidslt6+nwifeinc+poly(exper,2),data=train.set)\n",
    "reg6=ivreg(lwage~hours+educ+poly(exper,2)|educ+age+kidslt6+nwifeinc+poly(exper,2),data=train.set)\n",
    "stargazer(reg5,reg6, type=\"text\") "
   ]
  },
  {
   "cell_type": "code",
   "execution_count": null,
   "metadata": {
    "vscode": {
     "languageId": "r"
    }
   },
   "outputs": [],
   "source": [
    "library(systemfit)\n",
    "# DINH NGHIA HE PHUONG TRINH\n",
    "eq.hours=hours~lwage+educ+age+kidslt6+nwifeinc\n",
    "eq.lwage=lwage~hours+educ+poly(exper,2) \n",
    "eq.system=list(eq.hours, eq.lwage)\n",
    "instrum=~educ+poly(age,2)+kidslt6+nwifeinc+poly(exper,2)\n",
    "my.sys=systemfit(eq.system,inst=instrum,method=\"2SLS\",data=train.set)\n",
    "summary(my.sys)\n",
    "hourshat=predict(my.sys$eq[[1]])\n",
    "head(hourshat,2)"
   ]
  },
  {
   "cell_type": "code",
   "execution_count": null,
   "metadata": {
    "vscode": {
     "languageId": "r"
    }
   },
   "outputs": [],
   "source": [
    "library(forecast)\n",
    "test.system=predict(my.sys,newdata=test.set,se.fit = FALSE, se.pred = FALSE,\n",
    "                             interval = \"confidence\", level=0.95)\n",
    "\n",
    "head(test.system,3)\n",
    "\n",
    "print(\"Đánh giá dự báo hours trên test.set\")\n",
    "accuracy(test.system$eq1.pred,test.set$hours)\n",
    "print(\"Đánh giá dự báo lwage trên test.set\")\n",
    "accuracy(test.system$eq2.pred,test.set$lwage)"
   ]
  },
  {
   "cell_type": "markdown",
   "metadata": {},
   "source": [
    "## LẤY RA VEC TƠ HỆ SỐ CỦA TỪNG PHƯƠNG TRÌNH, VÉC TƠ HỆ SỐ CÁC BIẾN NGOẠI SINH, MA TRẬN HỆ SỐ BIẾN NÔI SINH      "
   ]
  },
  {
   "cell_type": "code",
   "execution_count": null,
   "metadata": {
    "vscode": {
     "languageId": "r"
    }
   },
   "outputs": [],
   "source": [
    "betahat=coef(my.sys)\n",
    "betahat\n",
    "betahat_eq1=coef(my.sys$eq[[1]])\n",
    "print('Vec tơ beta phương trình 1')\n",
    "betahat_eq1\n",
    "print('Vec tơ beta các biến ngoại sinh phương trình 1')\n",
    "free_b1=betahat_eq1[-1]   \n",
    "free_b1\n",
    "print('Vec tơ beta phương trình 2')     \n",
    "betahat_eq2=coef(my.sys$eq[[2]])\n",
    "betahat_eq2\n",
    "print('Vec tơ beta các biến ngoại sinh phương trình 2')\n",
    "free_b2=betahat_eq2[-1]\n",
    "free_b2"
   ]
  },
  {
   "cell_type": "markdown",
   "metadata": {},
   "source": [
    "## DỰ BÁO CÁC BIẾN PHỤ THUỘC TẠI TRUNG BÌNH CỦA CÁC BIẾN"
   ]
  },
  {
   "cell_type": "code",
   "execution_count": null,
   "metadata": {
    "vscode": {
     "languageId": "r"
    }
   },
   "outputs": [],
   "source": [
    "# CẦN GIẢI HỆ PHOWNG TRÌNH TUYẾN TÍNH, Ax=b\n",
    "i=1\n",
    "educ=mean(educ)\n",
    "age=mean(age)\n",
    "kidslt6=mean(kidslt6)\n",
    "nwifeinc=mean(nwifeinc)\n",
    "exper=mean(exper)\n",
    "\n",
    "# Tính véc tư b\n",
    "b1=-(i*free_b1[1]+educ*free_b1[2]+age*free_b1[3]+kidslt6*free_b1[3]+nwifeinc*free_b1[4])\n",
    "\n",
    "b1\n",
    "b2=-(i*free_b2[1]+educ*free_b2[2]+exper*free_b2[3]+exper^2*free_b2[4])\n",
    "b2\n",
    "b=cbind(b1,b2)\n",
    "print('Véc tơ b')\n",
    "b\n",
    "\n",
    "#  Xây dựng ma trận A\n",
    "\n",
    "c1=c(1,-free_b2[1])\n",
    "c1\n",
    "c2=c(-free_b1[1],1)\n",
    "c2\n",
    "A=cbind(c1,c2)\n",
    "print('Ma trận A')\n",
    "A\n",
    "# Giải hệ phowng trình\n",
    "output=solve(A,t(b))\n",
    "output"
   ]
  }
 ],
 "metadata": {
  "kernelspec": {
   "display_name": "R",
   "language": "R",
   "name": "ir"
  },
  "language_info": {
   "codemirror_mode": "r",
   "file_extension": ".r",
   "mimetype": "text/x-r-source",
   "name": "R",
   "pygments_lexer": "r",
   "version": "4.2.1"
  },
  "orig_nbformat": 4
 },
 "nbformat": 4,
 "nbformat_minor": 2
}
