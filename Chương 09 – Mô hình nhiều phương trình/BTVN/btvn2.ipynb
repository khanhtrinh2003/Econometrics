{
 "cells": [
  {
   "cell_type": "code",
   "execution_count": null,
   "metadata": {
    "vscode": {
     "languageId": "r"
    }
   },
   "outputs": [],
   "source": [
    "knitr::opts_chunk$set(echo = TRUE)"
   ]
  },
  {
   "cell_type": "code",
   "execution_count": 3,
   "metadata": {
    "vscode": {
     "languageId": "r"
    }
   },
   "outputs": [
    {
     "name": "stdout",
     "output_type": "stream",
     "text": [
      "package 'caTools' successfully unpacked and MD5 sums checked\n"
     ]
    },
    {
     "name": "stderr",
     "output_type": "stream",
     "text": [
      "Warning message:\n",
      "\"cannot remove prior installation of package 'caTools'\"\n",
      "Warning message in file.copy(savedcopy, lib, recursive = TRUE):\n",
      "\"problem copying E:\\Program Files\\R-4.2.1\\library\\00LOCK\\caTools\\libs\\x64\\caTools.dll to E:\\Program Files\\R-4.2.1\\library\\caTools\\libs\\x64\\caTools.dll: Permission denied\"\n",
      "Warning message:\n",
      "\"restored 'caTools'\"\n"
     ]
    },
    {
     "name": "stdout",
     "output_type": "stream",
     "text": [
      "\n",
      "The downloaded binary packages are in\n",
      "\tC:\\Users\\Admin\\AppData\\Local\\Temp\\RtmpuGcMTI\\downloaded_packages\n"
     ]
    },
    {
     "name": "stderr",
     "output_type": "stream",
     "text": [
      "Warning message:\n",
      "\"package 'caTools' was built under R version 4.2.2\"\n"
     ]
    }
   ],
   "source": [
    "# Install the package. You only need to do this once.\n",
    "install.packages(\"caTools\")\n",
    "\n",
    "# Load the package. You need to do this every time you start a new R session.\n",
    "library(caTools)\n"
   ]
  },
  {
   "cell_type": "code",
   "execution_count": 1,
   "metadata": {
    "vscode": {
     "languageId": "r"
    }
   },
   "outputs": [
    {
     "name": "stdout",
     "output_type": "stream",
     "text": [
      "package 'rlang' successfully unpacked and MD5 sums checked\n"
     ]
    },
    {
     "name": "stderr",
     "output_type": "stream",
     "text": [
      "Warning message:\n",
      "\"cannot remove prior installation of package 'rlang'\"\n",
      "Warning message in file.copy(savedcopy, lib, recursive = TRUE):\n",
      "\"problem copying E:\\Program Files\\R-4.2.1\\library\\00LOCK\\rlang\\libs\\x64\\rlang.dll to E:\\Program Files\\R-4.2.1\\library\\rlang\\libs\\x64\\rlang.dll: Permission denied\"\n",
      "Warning message:\n",
      "\"restored 'rlang'\"\n"
     ]
    },
    {
     "name": "stdout",
     "output_type": "stream",
     "text": [
      "\n",
      "The downloaded binary packages are in\n",
      "\tC:\\Users\\Admin\\AppData\\Local\\Temp\\RtmpuGcMTI\\downloaded_packages\n"
     ]
    }
   ],
   "source": [
    "install.packages('rlang')"
   ]
  },
  {
   "cell_type": "code",
   "execution_count": 5,
   "metadata": {
    "vscode": {
     "languageId": "r"
    }
   },
   "outputs": [
    {
     "name": "stderr",
     "output_type": "stream",
     "text": [
      "Warning message:\n",
      "\"package 'car' was built under R version 4.2.3\"\n"
     ]
    },
    {
     "name": "stderr",
     "output_type": "stream",
     "text": [
      "Loading required package: carData\n",
      "\n",
      "Warning message:\n",
      "\"package 'carData' was built under R version 4.2.2\"\n",
      "Warning message:\n",
      "\"package 'lmtest' was built under R version 4.2.2\"\n",
      "Loading required package: zoo\n",
      "\n",
      "Warning message:\n",
      "\"package 'zoo' was built under R version 4.2.3\"\n",
      "\n",
      "Attaching package: 'zoo'\n",
      "\n",
      "\n",
      "The following objects are masked from 'package:base':\n",
      "\n",
      "    as.Date, as.Date.numeric\n",
      "\n",
      "\n",
      "Warning message:\n",
      "\"package 'AER' was built under R version 4.2.2\"\n",
      "Loading required package: sandwich\n",
      "\n",
      "Warning message:\n",
      "\"package 'sandwich' was built under R version 4.2.2\"\n",
      "Loading required package: survival\n",
      "\n",
      "Warning message:\n",
      "\"package 'caret' was built under R version 4.2.3\"\n",
      "Loading required package: ggplot2\n",
      "\n",
      "Warning message:\n",
      "\"package 'ggplot2' was built under R version 4.2.3\"\n",
      "Error: package or namespace load failed for 'ggplot2' in loadNamespace(i, c(lib.loc, .libPaths()), versionCheck = vI[[i]]):\n",
      " namespace 'rlang' 1.0.6 is already loaded, but >= 1.1.0 is required\n",
      "\n"
     ]
    },
    {
     "ename": "ERROR",
     "evalue": "Error: package 'ggplot2' could not be loaded\n",
     "output_type": "error",
     "traceback": [
      "Error: package 'ggplot2' could not be loaded\nTraceback:\n",
      "1. library(caret)",
      "2. .getRequiredPackages2(pkgInfo, quietly = quietly)",
      "3. stop(gettextf(\"package %s could not be loaded\", sQuote(pkg)), \n .     call. = FALSE, domain = NA)"
     ]
    }
   ],
   "source": [
    "library(foreign)\n",
    "library(car)\n",
    "library(lmtest)\n",
    "library(AER)\n",
    "library(caTools)\n",
    "library(caret)"
   ]
  },
  {
   "cell_type": "markdown",
   "metadata": {},
   "source": [
    "## BAI TAP 10.14.2+3:XAC SUAT VO NO\n",
    "\n",
    "# MO HINH LOGIT: XAC SUAT VO NO.  Data: mroz.txt\n",
    "\n",
    "# INPUT DATA & TRAIN.SET, TEST.SET\n"
   ]
  },
  {
   "cell_type": "code",
   "execution_count": 6,
   "metadata": {
    "vscode": {
     "languageId": "r"
    }
   },
   "outputs": [
    {
     "data": {
      "text/html": [
       "<style>\n",
       ".list-inline {list-style: none; margin:0; padding: 0}\n",
       ".list-inline>li {display: inline-block}\n",
       ".list-inline>li:not(:last-child)::after {content: \"\\00b7\"; padding: 0 .5ex}\n",
       "</style>\n",
       "<ol class=list-inline><li>813</li><li>25</li></ol>\n"
      ],
      "text/latex": [
       "\\begin{enumerate*}\n",
       "\\item 813\n",
       "\\item 25\n",
       "\\end{enumerate*}\n"
      ],
      "text/markdown": [
       "1. 813\n",
       "2. 25\n",
       "\n",
       "\n"
      ],
      "text/plain": [
       "[1] 813  25"
      ]
     },
     "metadata": {},
     "output_type": "display_data"
    }
   ],
   "source": [
    "leha=read.csv(\"leha.csv\", header=TRUE)\n",
    "#summary(leha)\n",
    "split=sample.split(leha$default_prin,SplitRatio=0.8)\n",
    "train.set=subset(leha, split==TRUE)\n",
    "# summary(train.set)\n",
    "test.set=subset(leha,split==FALSE)\n",
    "#test.set\n",
    "# train.set\n",
    "dim(test.set)"
   ]
  },
  {
   "cell_type": "markdown",
   "metadata": {},
   "source": [
    "## UOC LUONG LOGIT TREN TRAIN.SET"
   ]
  },
  {
   "cell_type": "code",
   "execution_count": 7,
   "metadata": {
    "vscode": {
     "languageId": "r"
    }
   },
   "outputs": [
    {
     "data": {
      "text/plain": [
       "\n",
       "Call:\n",
       "glm(formula = default_int ~ income2 + spending2 + experience + \n",
       "    age + newcustomer + notran + notran3 + wpcity + wpcompany + \n",
       "    wpothers + wpmanager + wpspecialist + wpother + cash + home100 + \n",
       "    liveparent + rent, family = binomial(link = logit), data = train.set)\n",
       "\n",
       "Deviance Residuals: \n",
       "    Min       1Q   Median       3Q      Max  \n",
       "-1.3175  -0.5575  -0.3991  -0.3171   2.6731  \n",
       "\n",
       "Coefficients:\n",
       "               Estimate Std. Error z value Pr(>|z|)    \n",
       "(Intercept)  -0.1236848  0.5689610  -0.217  0.82791    \n",
       "income2      -0.0324515  0.0140788  -2.305  0.02117 *  \n",
       "spending2     0.0041698  0.0051316   0.813  0.41647    \n",
       "experience   -0.0007066  0.0010163  -0.695  0.48688    \n",
       "age          -0.0200550  0.0130272  -1.539  0.12369    \n",
       "newcustomer   0.6542237  0.1645847   3.975 7.04e-05 ***\n",
       "notran        1.4103351  0.8080519   1.745  0.08092 .  \n",
       "notran3       2.4080918  0.7007944   3.436  0.00059 ***\n",
       "wpcity       -0.2687605  0.2594938  -1.036  0.30034    \n",
       "wpcompany    -0.7949410  0.2671146  -2.976  0.00292 ** \n",
       "wpothers     -0.5168334  0.3563814  -1.450  0.14700    \n",
       "wpmanager    -0.8923949  0.3110222  -2.869  0.00411 ** \n",
       "wpspecialist -0.5696871  0.3249898  -1.753  0.07961 .  \n",
       "wpother      -0.4050375  0.2700849  -1.500  0.13370    \n",
       "cash         -0.3656483  0.2065461  -1.770  0.07668 .  \n",
       "home100      -0.1554794  0.1926899  -0.807  0.41973    \n",
       "liveparent    0.0015829  0.1957448   0.008  0.99355    \n",
       "rent         -0.3046304  0.2382235  -1.279  0.20098    \n",
       "---\n",
       "Signif. codes:  0 '***' 0.001 '**' 0.01 '*' 0.05 '.' 0.1 ' ' 1\n",
       "\n",
       "(Dispersion parameter for binomial family taken to be 1)\n",
       "\n",
       "    Null deviance: 2321.0  on 3251  degrees of freedom\n",
       "Residual deviance: 2180.3  on 3234  degrees of freedom\n",
       "  (1 observation deleted due to missingness)\n",
       "AIC: 2216.3\n",
       "\n",
       "Number of Fisher Scoring iterations: 5\n"
      ]
     },
     "metadata": {},
     "output_type": "display_data"
    }
   ],
   "source": [
    "logitres=glm(default_int~income2+spending2+experience+age+newcustomer+notran+notran3+wpcity+wpcompany+wpothers+wpmanager+wpspecialist+wpother+cash+home100+liveparent+rent,data=train.set,family=binomial(link=logit))\n",
    "summary(logitres)"
   ]
  },
  {
   "cell_type": "markdown",
   "metadata": {},
   "source": [
    "## DIEU CHINH MO HNH"
   ]
  },
  {
   "cell_type": "code",
   "execution_count": 8,
   "metadata": {
    "vscode": {
     "languageId": "r"
    }
   },
   "outputs": [
    {
     "name": "stderr",
     "output_type": "stream",
     "text": [
      "Warning message in prob_L.train.classes == train.set$default_int:\n",
      "\"longer object length is not a multiple of shorter object length\"\n"
     ]
    },
    {
     "name": "stdout",
     "output_type": "stream",
     "text": [
      "[1] \"Ty lệ dự bao đúng trên train.set =\"\n"
     ]
    },
    {
     "data": {
      "text/html": [
       "0.885029203811866"
      ],
      "text/latex": [
       "0.885029203811866"
      ],
      "text/markdown": [
       "0.885029203811866"
      ],
      "text/plain": [
       "[1] 0.8850292"
      ]
     },
     "metadata": {},
     "output_type": "display_data"
    }
   ],
   "source": [
    "prob_L.train=fitted(logitres) #=glm(default_int~income2+age+newcustomer+notran3+wpcompany+wpmanager,data=train.set,family=binomial(link=logit))\n",
    "# head(prob_L.train)\n",
    "\n",
    "prob_L.train.classes <- ifelse(prob_L.train > 0.5, 1, 0)\n",
    "# Proportion of correctly classified observations:\n",
    "TLDBD=mean(prob_L.train.classes == train.set$default_int, na.rm=TRUE)\n",
    "print(\"Ty lệ dự bao đúng trên train.set =\")\n",
    "TLDBD"
   ]
  },
  {
   "cell_type": "markdown",
   "metadata": {},
   "source": [
    "## ƯỚC LƯỢNG MÔ HÌNH TRÊN TEST.SET"
   ]
  },
  {
   "cell_type": "code",
   "execution_count": 9,
   "metadata": {
    "vscode": {
     "languageId": "r"
    }
   },
   "outputs": [
    {
     "data": {
      "text/html": [
       "813"
      ],
      "text/latex": [
       "813"
      ],
      "text/markdown": [
       "813"
      ],
      "text/plain": [
       "[1] 813"
      ]
     },
     "metadata": {},
     "output_type": "display_data"
    },
    {
     "name": "stdout",
     "output_type": "stream",
     "text": [
      "[1] \"Tỷ lệ dự báo đúng trên test.set=\"\n"
     ]
    },
    {
     "data": {
      "text/html": [
       "0.891758917589176"
      ],
      "text/latex": [
       "0.891758917589176"
      ],
      "text/markdown": [
       "0.891758917589176"
      ],
      "text/plain": [
       "[1] 0.8917589"
      ]
     },
     "metadata": {},
     "output_type": "display_data"
    }
   ],
   "source": [
    "prob_L.test <- predict(logitres, test.set,type=\"response\")  # predicted scores \n",
    "length(prob_L.test)\n",
    "prob_L.test.classes <- ifelse(prob_L.test > 0.5, 1,0)\n",
    "# prob_L.test.classes\n",
    "# Proportion of correctly classified observations:\n",
    "TLDBD_L.test=mean(prob_L.test.classes == test.set$default_int, na.rm=TRUE)\n",
    "print(\"Tỷ lệ dự báo đúng trên test.set=\")\n",
    "TLDBD_L.test"
   ]
  },
  {
   "cell_type": "markdown",
   "metadata": {},
   "source": [
    "## MOT SO PHAN TICH"
   ]
  },
  {
   "cell_type": "code",
   "execution_count": 10,
   "metadata": {
    "vscode": {
     "languageId": "r"
    }
   },
   "outputs": [
    {
     "name": "stdout",
     "output_type": "stream",
     "text": [
      "[1] \"Tính APE- AVERAGE PAARTIAL EFFECTS- ảnh hưởng riêng trung bình của từng biến\"\n",
      "[1] \"APE=\"\n"
     ]
    },
    {
     "data": {
      "text/html": [
       "<style>\n",
       ".dl-inline {width: auto; margin:0; padding: 0}\n",
       ".dl-inline>dt, .dl-inline>dd {float: none; width: auto; display: inline-block}\n",
       ".dl-inline>dt::after {content: \":\\0020\"; padding-right: .5ex}\n",
       ".dl-inline>dt:not(:first-of-type) {padding-left: .5ex}\n",
       "</style><dl class=dl-inline><dt>(Intercept)</dt><dd>-0.014224514431325</dd><dt>income2</dt><dd>-0.00373212245007162</dd><dt>spending2</dt><dd>0.000479547463231445</dd><dt>experience</dt><dd>-8.12661321335732e-05</dd><dt>age</dt><dd>-0.00230644441453427</dd><dt>newcustomer</dt><dd>0.075239754362583</dd><dt>notran</dt><dd>0.162197205429845</dd><dt>notran3</dt><dd>0.276945371610022</dd><dt>wpcity</dt><dd>-0.0309091060633839</dd><dt>wpcompany</dt><dd>-0.0914231026547865</dd><dt>wpothers</dt><dd>-0.0594390148273403</dd><dt>wpmanager</dt><dd>-0.102630907555433</dd><dt>wpspecialist</dt><dd>-0.0655175187620116</dd><dt>wpother</dt><dd>-0.0465818082276712</dd><dt>cash</dt><dd>-0.0420518027524677</dd><dt>home100</dt><dd>-0.0178810910199028</dd><dt>liveparent</dt><dd>0.000182041251751193</dd><dt>rent</dt><dd>-0.0350343746888818</dd></dl>\n"
      ],
      "text/latex": [
       "\\begin{description*}\n",
       "\\item[(Intercept)] -0.014224514431325\n",
       "\\item[income2] -0.00373212245007162\n",
       "\\item[spending2] 0.000479547463231445\n",
       "\\item[experience] -8.12661321335732e-05\n",
       "\\item[age] -0.00230644441453427\n",
       "\\item[newcustomer] 0.075239754362583\n",
       "\\item[notran] 0.162197205429845\n",
       "\\item[notran3] 0.276945371610022\n",
       "\\item[wpcity] -0.0309091060633839\n",
       "\\item[wpcompany] -0.0914231026547865\n",
       "\\item[wpothers] -0.0594390148273403\n",
       "\\item[wpmanager] -0.102630907555433\n",
       "\\item[wpspecialist] -0.0655175187620116\n",
       "\\item[wpother] -0.0465818082276712\n",
       "\\item[cash] -0.0420518027524677\n",
       "\\item[home100] -0.0178810910199028\n",
       "\\item[liveparent] 0.000182041251751193\n",
       "\\item[rent] -0.0350343746888818\n",
       "\\end{description*}\n"
      ],
      "text/markdown": [
       "(Intercept)\n",
       ":   -0.014224514431325income2\n",
       ":   -0.00373212245007162spending2\n",
       ":   0.000479547463231445experience\n",
       ":   -8.12661321335732e-05age\n",
       ":   -0.00230644441453427newcustomer\n",
       ":   0.075239754362583notran\n",
       ":   0.162197205429845notran3\n",
       ":   0.276945371610022wpcity\n",
       ":   -0.0309091060633839wpcompany\n",
       ":   -0.0914231026547865wpothers\n",
       ":   -0.0594390148273403wpmanager\n",
       ":   -0.102630907555433wpspecialist\n",
       ":   -0.0655175187620116wpother\n",
       ":   -0.0465818082276712cash\n",
       ":   -0.0420518027524677home100\n",
       ":   -0.0178810910199028liveparent\n",
       ":   0.000182041251751193rent\n",
       ":   -0.0350343746888818\n",
       "\n"
      ],
      "text/plain": [
       "  (Intercept)       income2     spending2    experience           age \n",
       "-1.422451e-02 -3.732122e-03  4.795475e-04 -8.126613e-05 -2.306444e-03 \n",
       "  newcustomer        notran       notran3        wpcity     wpcompany \n",
       " 7.523975e-02  1.621972e-01  2.769454e-01 -3.090911e-02 -9.142310e-02 \n",
       "     wpothers     wpmanager  wpspecialist       wpother          cash \n",
       "-5.943901e-02 -1.026309e-01 -6.551752e-02 -4.658181e-02 -4.205180e-02 \n",
       "      home100    liveparent          rent \n",
       "-1.788109e-02  1.820413e-04 -3.503437e-02 "
      ]
     },
     "metadata": {},
     "output_type": "display_data"
    },
    {
     "name": "stdout",
     "output_type": "stream",
     "text": [
      "[1] \"Tính tỷ số OR, lấy đến 4 chữ số thập phân\"\n"
     ]
    },
    {
     "data": {
      "text/html": [
       "<table class=\"dataframe\">\n",
       "<caption>A matrix: 18 × 2 of type dbl</caption>\n",
       "<thead>\n",
       "\t<tr><th></th><th scope=col>Estimate</th><th scope=col>OR</th></tr>\n",
       "</thead>\n",
       "<tbody>\n",
       "\t<tr><th scope=row>(Intercept)</th><td>-0.1237</td><td> 0.8837</td></tr>\n",
       "\t<tr><th scope=row>income2</th><td>-0.0325</td><td> 0.9681</td></tr>\n",
       "\t<tr><th scope=row>spending2</th><td> 0.0042</td><td> 1.0042</td></tr>\n",
       "\t<tr><th scope=row>experience</th><td>-0.0007</td><td> 0.9993</td></tr>\n",
       "\t<tr><th scope=row>age</th><td>-0.0201</td><td> 0.9801</td></tr>\n",
       "\t<tr><th scope=row>newcustomer</th><td> 0.6542</td><td> 1.9236</td></tr>\n",
       "\t<tr><th scope=row>notran</th><td> 1.4103</td><td> 4.0973</td></tr>\n",
       "\t<tr><th scope=row>notran3</th><td> 2.4081</td><td>11.1127</td></tr>\n",
       "\t<tr><th scope=row>wpcity</th><td>-0.2688</td><td> 0.7643</td></tr>\n",
       "\t<tr><th scope=row>wpcompany</th><td>-0.7949</td><td> 0.4516</td></tr>\n",
       "\t<tr><th scope=row>wpothers</th><td>-0.5168</td><td> 0.5964</td></tr>\n",
       "\t<tr><th scope=row>wpmanager</th><td>-0.8924</td><td> 0.4097</td></tr>\n",
       "\t<tr><th scope=row>wpspecialist</th><td>-0.5697</td><td> 0.5657</td></tr>\n",
       "\t<tr><th scope=row>wpother</th><td>-0.4050</td><td> 0.6670</td></tr>\n",
       "\t<tr><th scope=row>cash</th><td>-0.3656</td><td> 0.6937</td></tr>\n",
       "\t<tr><th scope=row>home100</th><td>-0.1555</td><td> 0.8560</td></tr>\n",
       "\t<tr><th scope=row>liveparent</th><td> 0.0016</td><td> 1.0016</td></tr>\n",
       "\t<tr><th scope=row>rent</th><td>-0.3046</td><td> 0.7374</td></tr>\n",
       "</tbody>\n",
       "</table>\n"
      ],
      "text/latex": [
       "A matrix: 18 × 2 of type dbl\n",
       "\\begin{tabular}{r|ll}\n",
       "  & Estimate & OR\\\\\n",
       "\\hline\n",
       "\t(Intercept) & -0.1237 &  0.8837\\\\\n",
       "\tincome2 & -0.0325 &  0.9681\\\\\n",
       "\tspending2 &  0.0042 &  1.0042\\\\\n",
       "\texperience & -0.0007 &  0.9993\\\\\n",
       "\tage & -0.0201 &  0.9801\\\\\n",
       "\tnewcustomer &  0.6542 &  1.9236\\\\\n",
       "\tnotran &  1.4103 &  4.0973\\\\\n",
       "\tnotran3 &  2.4081 & 11.1127\\\\\n",
       "\twpcity & -0.2688 &  0.7643\\\\\n",
       "\twpcompany & -0.7949 &  0.4516\\\\\n",
       "\twpothers & -0.5168 &  0.5964\\\\\n",
       "\twpmanager & -0.8924 &  0.4097\\\\\n",
       "\twpspecialist & -0.5697 &  0.5657\\\\\n",
       "\twpother & -0.4050 &  0.6670\\\\\n",
       "\tcash & -0.3656 &  0.6937\\\\\n",
       "\thome100 & -0.1555 &  0.8560\\\\\n",
       "\tliveparent &  0.0016 &  1.0016\\\\\n",
       "\trent & -0.3046 &  0.7374\\\\\n",
       "\\end{tabular}\n"
      ],
      "text/markdown": [
       "\n",
       "A matrix: 18 × 2 of type dbl\n",
       "\n",
       "| <!--/--> | Estimate | OR |\n",
       "|---|---|---|\n",
       "| (Intercept) | -0.1237 |  0.8837 |\n",
       "| income2 | -0.0325 |  0.9681 |\n",
       "| spending2 |  0.0042 |  1.0042 |\n",
       "| experience | -0.0007 |  0.9993 |\n",
       "| age | -0.0201 |  0.9801 |\n",
       "| newcustomer |  0.6542 |  1.9236 |\n",
       "| notran |  1.4103 |  4.0973 |\n",
       "| notran3 |  2.4081 | 11.1127 |\n",
       "| wpcity | -0.2688 |  0.7643 |\n",
       "| wpcompany | -0.7949 |  0.4516 |\n",
       "| wpothers | -0.5168 |  0.5964 |\n",
       "| wpmanager | -0.8924 |  0.4097 |\n",
       "| wpspecialist | -0.5697 |  0.5657 |\n",
       "| wpother | -0.4050 |  0.6670 |\n",
       "| cash | -0.3656 |  0.6937 |\n",
       "| home100 | -0.1555 |  0.8560 |\n",
       "| liveparent |  0.0016 |  1.0016 |\n",
       "| rent | -0.3046 |  0.7374 |\n",
       "\n"
      ],
      "text/plain": [
       "             Estimate OR     \n",
       "(Intercept)  -0.1237   0.8837\n",
       "income2      -0.0325   0.9681\n",
       "spending2     0.0042   1.0042\n",
       "experience   -0.0007   0.9993\n",
       "age          -0.0201   0.9801\n",
       "newcustomer   0.6542   1.9236\n",
       "notran        1.4103   4.0973\n",
       "notran3       2.4081  11.1127\n",
       "wpcity       -0.2688   0.7643\n",
       "wpcompany    -0.7949   0.4516\n",
       "wpothers     -0.5168   0.5964\n",
       "wpmanager    -0.8924   0.4097\n",
       "wpspecialist -0.5697   0.5657\n",
       "wpother      -0.4050   0.6670\n",
       "cash         -0.3656   0.6937\n",
       "home100      -0.1555   0.8560\n",
       "liveparent    0.0016   1.0016\n",
       "rent         -0.3046   0.7374"
      ]
     },
     "metadata": {},
     "output_type": "display_data"
    },
    {
     "name": "stdout",
     "output_type": "stream",
     "text": [
      "[1] \"Khoảng tin cậy cho OR\"\n"
     ]
    },
    {
     "name": "stderr",
     "output_type": "stream",
     "text": [
      "Waiting for profiling to be done...\n",
      "\n"
     ]
    },
    {
     "data": {
      "text/html": [
       "<table class=\"dataframe\">\n",
       "<caption>A matrix: 18 × 3 of type dbl</caption>\n",
       "<thead>\n",
       "\t<tr><th></th><th scope=col>OR</th><th scope=col>2.5 %</th><th scope=col>97.5 %</th></tr>\n",
       "</thead>\n",
       "<tbody>\n",
       "\t<tr><th scope=row>(Intercept)</th><td> 0.8836583</td><td>0.2818692</td><td> 2.6051521</td></tr>\n",
       "\t<tr><th scope=row>income2</th><td> 0.9680694</td><td>0.9402853</td><td> 0.9934666</td></tr>\n",
       "\t<tr><th scope=row>spending2</th><td> 1.0041785</td><td>0.9897938</td><td> 1.0144658</td></tr>\n",
       "\t<tr><th scope=row>experience</th><td> 0.9992936</td><td>0.9970042</td><td> 1.0004670</td></tr>\n",
       "\t<tr><th scope=row>age</th><td> 0.9801448</td><td>0.9585102</td><td> 1.0069437</td></tr>\n",
       "\t<tr><th scope=row>newcustomer</th><td> 1.9236487</td><td>1.3992462</td><td> 2.6689262</td></tr>\n",
       "\t<tr><th scope=row>notran</th><td> 4.0973280</td><td>0.6038638</td><td>16.9678319</td></tr>\n",
       "\t<tr><th scope=row>notran3</th><td>11.1127360</td><td>2.6139348</td><td>44.4416351</td></tr>\n",
       "\t<tr><th scope=row>wpcity</th><td> 0.7643263</td><td>0.4657421</td><td> 1.2928979</td></tr>\n",
       "\t<tr><th scope=row>wpcompany</th><td> 0.4516079</td><td>0.2710051</td><td> 0.7749084</td></tr>\n",
       "\t<tr><th scope=row>wpothers</th><td> 0.5964062</td><td>0.2998617</td><td> 1.2204582</td></tr>\n",
       "\t<tr><th scope=row>wpmanager</th><td> 0.4096734</td><td>0.2271555</td><td> 0.7743925</td></tr>\n",
       "\t<tr><th scope=row>wpspecialist</th><td> 0.5657024</td><td>0.3043590</td><td> 1.0956067</td></tr>\n",
       "\t<tr><th scope=row>wpother</th><td> 0.6669518</td><td>0.3974959</td><td> 1.1500098</td></tr>\n",
       "\t<tr><th scope=row>cash</th><td> 0.6937468</td><td>0.4591646</td><td> 1.0333887</td></tr>\n",
       "\t<tr><th scope=row>home100</th><td> 0.8560047</td><td>0.5905732</td><td> 1.2588325</td></tr>\n",
       "\t<tr><th scope=row>liveparent</th><td> 1.0015841</td><td>0.6870531</td><td> 1.4819269</td></tr>\n",
       "\t<tr><th scope=row>rent</th><td> 0.7373958</td><td>0.4619012</td><td> 1.1776103</td></tr>\n",
       "</tbody>\n",
       "</table>\n"
      ],
      "text/latex": [
       "A matrix: 18 × 3 of type dbl\n",
       "\\begin{tabular}{r|lll}\n",
       "  & OR & 2.5 \\% & 97.5 \\%\\\\\n",
       "\\hline\n",
       "\t(Intercept) &  0.8836583 & 0.2818692 &  2.6051521\\\\\n",
       "\tincome2 &  0.9680694 & 0.9402853 &  0.9934666\\\\\n",
       "\tspending2 &  1.0041785 & 0.9897938 &  1.0144658\\\\\n",
       "\texperience &  0.9992936 & 0.9970042 &  1.0004670\\\\\n",
       "\tage &  0.9801448 & 0.9585102 &  1.0069437\\\\\n",
       "\tnewcustomer &  1.9236487 & 1.3992462 &  2.6689262\\\\\n",
       "\tnotran &  4.0973280 & 0.6038638 & 16.9678319\\\\\n",
       "\tnotran3 & 11.1127360 & 2.6139348 & 44.4416351\\\\\n",
       "\twpcity &  0.7643263 & 0.4657421 &  1.2928979\\\\\n",
       "\twpcompany &  0.4516079 & 0.2710051 &  0.7749084\\\\\n",
       "\twpothers &  0.5964062 & 0.2998617 &  1.2204582\\\\\n",
       "\twpmanager &  0.4096734 & 0.2271555 &  0.7743925\\\\\n",
       "\twpspecialist &  0.5657024 & 0.3043590 &  1.0956067\\\\\n",
       "\twpother &  0.6669518 & 0.3974959 &  1.1500098\\\\\n",
       "\tcash &  0.6937468 & 0.4591646 &  1.0333887\\\\\n",
       "\thome100 &  0.8560047 & 0.5905732 &  1.2588325\\\\\n",
       "\tliveparent &  1.0015841 & 0.6870531 &  1.4819269\\\\\n",
       "\trent &  0.7373958 & 0.4619012 &  1.1776103\\\\\n",
       "\\end{tabular}\n"
      ],
      "text/markdown": [
       "\n",
       "A matrix: 18 × 3 of type dbl\n",
       "\n",
       "| <!--/--> | OR | 2.5 % | 97.5 % |\n",
       "|---|---|---|---|\n",
       "| (Intercept) |  0.8836583 | 0.2818692 |  2.6051521 |\n",
       "| income2 |  0.9680694 | 0.9402853 |  0.9934666 |\n",
       "| spending2 |  1.0041785 | 0.9897938 |  1.0144658 |\n",
       "| experience |  0.9992936 | 0.9970042 |  1.0004670 |\n",
       "| age |  0.9801448 | 0.9585102 |  1.0069437 |\n",
       "| newcustomer |  1.9236487 | 1.3992462 |  2.6689262 |\n",
       "| notran |  4.0973280 | 0.6038638 | 16.9678319 |\n",
       "| notran3 | 11.1127360 | 2.6139348 | 44.4416351 |\n",
       "| wpcity |  0.7643263 | 0.4657421 |  1.2928979 |\n",
       "| wpcompany |  0.4516079 | 0.2710051 |  0.7749084 |\n",
       "| wpothers |  0.5964062 | 0.2998617 |  1.2204582 |\n",
       "| wpmanager |  0.4096734 | 0.2271555 |  0.7743925 |\n",
       "| wpspecialist |  0.5657024 | 0.3043590 |  1.0956067 |\n",
       "| wpother |  0.6669518 | 0.3974959 |  1.1500098 |\n",
       "| cash |  0.6937468 | 0.4591646 |  1.0333887 |\n",
       "| home100 |  0.8560047 | 0.5905732 |  1.2588325 |\n",
       "| liveparent |  1.0015841 | 0.6870531 |  1.4819269 |\n",
       "| rent |  0.7373958 | 0.4619012 |  1.1776103 |\n",
       "\n"
      ],
      "text/plain": [
       "             OR         2.5 %     97.5 %    \n",
       "(Intercept)   0.8836583 0.2818692  2.6051521\n",
       "income2       0.9680694 0.9402853  0.9934666\n",
       "spending2     1.0041785 0.9897938  1.0144658\n",
       "experience    0.9992936 0.9970042  1.0004670\n",
       "age           0.9801448 0.9585102  1.0069437\n",
       "newcustomer   1.9236487 1.3992462  2.6689262\n",
       "notran        4.0973280 0.6038638 16.9678319\n",
       "notran3      11.1127360 2.6139348 44.4416351\n",
       "wpcity        0.7643263 0.4657421  1.2928979\n",
       "wpcompany     0.4516079 0.2710051  0.7749084\n",
       "wpothers      0.5964062 0.2998617  1.2204582\n",
       "wpmanager     0.4096734 0.2271555  0.7743925\n",
       "wpspecialist  0.5657024 0.3043590  1.0956067\n",
       "wpother       0.6669518 0.3974959  1.1500098\n",
       "cash          0.6937468 0.4591646  1.0333887\n",
       "home100       0.8560047 0.5905732  1.2588325\n",
       "liveparent    1.0015841 0.6870531  1.4819269\n",
       "rent          0.7373958 0.4619012  1.1776103"
      ]
     },
     "metadata": {},
     "output_type": "display_data"
    },
    {
     "name": "stdout",
     "output_type": "stream",
     "text": [
      "[1] \"CIs using profiled log-likelihood\"\n"
     ]
    },
    {
     "name": "stderr",
     "output_type": "stream",
     "text": [
      "Waiting for profiling to be done...\n",
      "\n"
     ]
    },
    {
     "data": {
      "text/html": [
       "<table class=\"dataframe\">\n",
       "<caption>A matrix: 18 × 2 of type dbl</caption>\n",
       "<thead>\n",
       "\t<tr><th></th><th scope=col>2.5 %</th><th scope=col>97.5 %</th></tr>\n",
       "</thead>\n",
       "<tbody>\n",
       "\t<tr><th scope=row>(Intercept)</th><td>-1.266312050</td><td> 0.9574910439</td></tr>\n",
       "\t<tr><th scope=row>income2</th><td>-0.061571961</td><td>-0.0065548340</td></tr>\n",
       "\t<tr><th scope=row>spending2</th><td>-0.010258600</td><td> 0.0143621313</td></tr>\n",
       "\t<tr><th scope=row>experience</th><td>-0.003000329</td><td> 0.0004669058</td></tr>\n",
       "\t<tr><th scope=row>age</th><td>-0.042375031</td><td> 0.0069196879</td></tr>\n",
       "\t<tr><th scope=row>newcustomer</th><td> 0.335933696</td><td> 0.9816762007</td></tr>\n",
       "\t<tr><th scope=row>notran</th><td>-0.504406631</td><td> 2.8313193128</td></tr>\n",
       "\t<tr><th scope=row>notran3</th><td> 0.960856688</td><td> 3.7941767576</td></tr>\n",
       "\t<tr><th scope=row>wpcity</th><td>-0.764123150</td><td> 0.2568861369</td></tr>\n",
       "\t<tr><th scope=row>wpcompany</th><td>-1.305617759</td><td>-0.2550104163</td></tr>\n",
       "\t<tr><th scope=row>wpothers</th><td>-1.204433779</td><td> 0.1992263551</td></tr>\n",
       "\t<tr><th scope=row>wpmanager</th><td>-1.482120573</td><td>-0.2556763967</td></tr>\n",
       "\t<tr><th scope=row>wpspecialist</th><td>-1.189547331</td><td> 0.0913082687</td></tr>\n",
       "\t<tr><th scope=row>wpother</th><td>-0.922570771</td><td> 0.1397705038</td></tr>\n",
       "\t<tr><th scope=row>cash</th><td>-0.778346598</td><td> 0.0328434411</td></tr>\n",
       "\t<tr><th scope=row>home100</th><td>-0.526661685</td><td> 0.2301847429</td></tr>\n",
       "\t<tr><th scope=row>liveparent</th><td>-0.375343626</td><td> 0.3933432181</td></tr>\n",
       "\t<tr><th scope=row>rent</th><td>-0.772404334</td><td> 0.1634871770</td></tr>\n",
       "</tbody>\n",
       "</table>\n"
      ],
      "text/latex": [
       "A matrix: 18 × 2 of type dbl\n",
       "\\begin{tabular}{r|ll}\n",
       "  & 2.5 \\% & 97.5 \\%\\\\\n",
       "\\hline\n",
       "\t(Intercept) & -1.266312050 &  0.9574910439\\\\\n",
       "\tincome2 & -0.061571961 & -0.0065548340\\\\\n",
       "\tspending2 & -0.010258600 &  0.0143621313\\\\\n",
       "\texperience & -0.003000329 &  0.0004669058\\\\\n",
       "\tage & -0.042375031 &  0.0069196879\\\\\n",
       "\tnewcustomer &  0.335933696 &  0.9816762007\\\\\n",
       "\tnotran & -0.504406631 &  2.8313193128\\\\\n",
       "\tnotran3 &  0.960856688 &  3.7941767576\\\\\n",
       "\twpcity & -0.764123150 &  0.2568861369\\\\\n",
       "\twpcompany & -1.305617759 & -0.2550104163\\\\\n",
       "\twpothers & -1.204433779 &  0.1992263551\\\\\n",
       "\twpmanager & -1.482120573 & -0.2556763967\\\\\n",
       "\twpspecialist & -1.189547331 &  0.0913082687\\\\\n",
       "\twpother & -0.922570771 &  0.1397705038\\\\\n",
       "\tcash & -0.778346598 &  0.0328434411\\\\\n",
       "\thome100 & -0.526661685 &  0.2301847429\\\\\n",
       "\tliveparent & -0.375343626 &  0.3933432181\\\\\n",
       "\trent & -0.772404334 &  0.1634871770\\\\\n",
       "\\end{tabular}\n"
      ],
      "text/markdown": [
       "\n",
       "A matrix: 18 × 2 of type dbl\n",
       "\n",
       "| <!--/--> | 2.5 % | 97.5 % |\n",
       "|---|---|---|\n",
       "| (Intercept) | -1.266312050 |  0.9574910439 |\n",
       "| income2 | -0.061571961 | -0.0065548340 |\n",
       "| spending2 | -0.010258600 |  0.0143621313 |\n",
       "| experience | -0.003000329 |  0.0004669058 |\n",
       "| age | -0.042375031 |  0.0069196879 |\n",
       "| newcustomer |  0.335933696 |  0.9816762007 |\n",
       "| notran | -0.504406631 |  2.8313193128 |\n",
       "| notran3 |  0.960856688 |  3.7941767576 |\n",
       "| wpcity | -0.764123150 |  0.2568861369 |\n",
       "| wpcompany | -1.305617759 | -0.2550104163 |\n",
       "| wpothers | -1.204433779 |  0.1992263551 |\n",
       "| wpmanager | -1.482120573 | -0.2556763967 |\n",
       "| wpspecialist | -1.189547331 |  0.0913082687 |\n",
       "| wpother | -0.922570771 |  0.1397705038 |\n",
       "| cash | -0.778346598 |  0.0328434411 |\n",
       "| home100 | -0.526661685 |  0.2301847429 |\n",
       "| liveparent | -0.375343626 |  0.3933432181 |\n",
       "| rent | -0.772404334 |  0.1634871770 |\n",
       "\n"
      ],
      "text/plain": [
       "             2.5 %        97.5 %       \n",
       "(Intercept)  -1.266312050  0.9574910439\n",
       "income2      -0.061571961 -0.0065548340\n",
       "spending2    -0.010258600  0.0143621313\n",
       "experience   -0.003000329  0.0004669058\n",
       "age          -0.042375031  0.0069196879\n",
       "newcustomer   0.335933696  0.9816762007\n",
       "notran       -0.504406631  2.8313193128\n",
       "notran3       0.960856688  3.7941767576\n",
       "wpcity       -0.764123150  0.2568861369\n",
       "wpcompany    -1.305617759 -0.2550104163\n",
       "wpothers     -1.204433779  0.1992263551\n",
       "wpmanager    -1.482120573 -0.2556763967\n",
       "wpspecialist -1.189547331  0.0913082687\n",
       "wpother      -0.922570771  0.1397705038\n",
       "cash         -0.778346598  0.0328434411\n",
       "home100      -0.526661685  0.2301847429\n",
       "liveparent   -0.375343626  0.3933432181\n",
       "rent         -0.772404334  0.1634871770"
      ]
     },
     "metadata": {},
     "output_type": "display_data"
    },
    {
     "name": "stdout",
     "output_type": "stream",
     "text": [
      "[1] \"CIs using standard errors\"\n"
     ]
    },
    {
     "data": {
      "text/html": [
       "<table class=\"dataframe\">\n",
       "<caption>A matrix: 18 × 2 of type dbl</caption>\n",
       "<thead>\n",
       "\t<tr><th></th><th scope=col>2.5 %</th><th scope=col>97.5 %</th></tr>\n",
       "</thead>\n",
       "<tbody>\n",
       "\t<tr><th scope=row>(Intercept)</th><td>-1.238827818</td><td> 0.991458188</td></tr>\n",
       "\t<tr><th scope=row>income2</th><td>-0.060045454</td><td>-0.004857552</td></tr>\n",
       "\t<tr><th scope=row>spending2</th><td>-0.005888084</td><td> 0.014227594</td></tr>\n",
       "\t<tr><th scope=row>experience</th><td>-0.002698576</td><td> 0.001285327</td></tr>\n",
       "\t<tr><th scope=row>age</th><td>-0.045587787</td><td> 0.005477856</td></tr>\n",
       "\t<tr><th scope=row>newcustomer</th><td> 0.331643680</td><td> 0.976803810</td></tr>\n",
       "\t<tr><th scope=row>notran</th><td>-0.173417480</td><td> 2.994087591</td></tr>\n",
       "\t<tr><th scope=row>notran3</th><td> 1.034559993</td><td> 3.781623677</td></tr>\n",
       "\t<tr><th scope=row>wpcity</th><td>-0.777359008</td><td> 0.239838084</td></tr>\n",
       "\t<tr><th scope=row>wpcompany</th><td>-1.318475905</td><td>-0.271406069</td></tr>\n",
       "\t<tr><th scope=row>wpothers</th><td>-1.215327989</td><td> 0.181661274</td></tr>\n",
       "\t<tr><th scope=row>wpmanager</th><td>-1.501987297</td><td>-0.282802599</td></tr>\n",
       "\t<tr><th scope=row>wpspecialist</th><td>-1.206655416</td><td> 0.067281243</td></tr>\n",
       "\t<tr><th scope=row>wpother</th><td>-0.934394231</td><td> 0.124319151</td></tr>\n",
       "\t<tr><th scope=row>cash</th><td>-0.770471144</td><td> 0.039174555</td></tr>\n",
       "\t<tr><th scope=row>home100</th><td>-0.533144734</td><td> 0.222185869</td></tr>\n",
       "\t<tr><th scope=row>liveparent</th><td>-0.382069971</td><td> 0.385235737</td></tr>\n",
       "\t<tr><th scope=row>rent</th><td>-0.771539865</td><td> 0.162278976</td></tr>\n",
       "</tbody>\n",
       "</table>\n"
      ],
      "text/latex": [
       "A matrix: 18 × 2 of type dbl\n",
       "\\begin{tabular}{r|ll}\n",
       "  & 2.5 \\% & 97.5 \\%\\\\\n",
       "\\hline\n",
       "\t(Intercept) & -1.238827818 &  0.991458188\\\\\n",
       "\tincome2 & -0.060045454 & -0.004857552\\\\\n",
       "\tspending2 & -0.005888084 &  0.014227594\\\\\n",
       "\texperience & -0.002698576 &  0.001285327\\\\\n",
       "\tage & -0.045587787 &  0.005477856\\\\\n",
       "\tnewcustomer &  0.331643680 &  0.976803810\\\\\n",
       "\tnotran & -0.173417480 &  2.994087591\\\\\n",
       "\tnotran3 &  1.034559993 &  3.781623677\\\\\n",
       "\twpcity & -0.777359008 &  0.239838084\\\\\n",
       "\twpcompany & -1.318475905 & -0.271406069\\\\\n",
       "\twpothers & -1.215327989 &  0.181661274\\\\\n",
       "\twpmanager & -1.501987297 & -0.282802599\\\\\n",
       "\twpspecialist & -1.206655416 &  0.067281243\\\\\n",
       "\twpother & -0.934394231 &  0.124319151\\\\\n",
       "\tcash & -0.770471144 &  0.039174555\\\\\n",
       "\thome100 & -0.533144734 &  0.222185869\\\\\n",
       "\tliveparent & -0.382069971 &  0.385235737\\\\\n",
       "\trent & -0.771539865 &  0.162278976\\\\\n",
       "\\end{tabular}\n"
      ],
      "text/markdown": [
       "\n",
       "A matrix: 18 × 2 of type dbl\n",
       "\n",
       "| <!--/--> | 2.5 % | 97.5 % |\n",
       "|---|---|---|\n",
       "| (Intercept) | -1.238827818 |  0.991458188 |\n",
       "| income2 | -0.060045454 | -0.004857552 |\n",
       "| spending2 | -0.005888084 |  0.014227594 |\n",
       "| experience | -0.002698576 |  0.001285327 |\n",
       "| age | -0.045587787 |  0.005477856 |\n",
       "| newcustomer |  0.331643680 |  0.976803810 |\n",
       "| notran | -0.173417480 |  2.994087591 |\n",
       "| notran3 |  1.034559993 |  3.781623677 |\n",
       "| wpcity | -0.777359008 |  0.239838084 |\n",
       "| wpcompany | -1.318475905 | -0.271406069 |\n",
       "| wpothers | -1.215327989 |  0.181661274 |\n",
       "| wpmanager | -1.501987297 | -0.282802599 |\n",
       "| wpspecialist | -1.206655416 |  0.067281243 |\n",
       "| wpother | -0.934394231 |  0.124319151 |\n",
       "| cash | -0.770471144 |  0.039174555 |\n",
       "| home100 | -0.533144734 |  0.222185869 |\n",
       "| liveparent | -0.382069971 |  0.385235737 |\n",
       "| rent | -0.771539865 |  0.162278976 |\n",
       "\n"
      ],
      "text/plain": [
       "             2.5 %        97.5 %      \n",
       "(Intercept)  -1.238827818  0.991458188\n",
       "income2      -0.060045454 -0.004857552\n",
       "spending2    -0.005888084  0.014227594\n",
       "experience   -0.002698576  0.001285327\n",
       "age          -0.045587787  0.005477856\n",
       "newcustomer   0.331643680  0.976803810\n",
       "notran       -0.173417480  2.994087591\n",
       "notran3       1.034559993  3.781623677\n",
       "wpcity       -0.777359008  0.239838084\n",
       "wpcompany    -1.318475905 -0.271406069\n",
       "wpothers     -1.215327989  0.181661274\n",
       "wpmanager    -1.501987297 -0.282802599\n",
       "wpspecialist -1.206655416  0.067281243\n",
       "wpother      -0.934394231  0.124319151\n",
       "cash         -0.770471144  0.039174555\n",
       "home100      -0.533144734  0.222185869\n",
       "liveparent   -0.382069971  0.385235737\n",
       "rent         -0.771539865  0.162278976"
      ]
     },
     "metadata": {},
     "output_type": "display_data"
    }
   ],
   "source": [
    "print('Tính APE- AVERAGE PAARTIAL EFFECTS- ảnh hưởng riêng trung bình của từng biến')\n",
    "Aprob_L=mean(prob_L.train)\n",
    "APE_L=coef(logitres)*Aprob_L\n",
    "print('APE=')  \n",
    "APE_L\n",
    "\n",
    "print('Tính tỷ số OR, lấy đến 4 chữ số thập phân')\n",
    "cbind(Estimate=round(coef(logitres),4),\n",
    "      OR=round(exp(coef(logitres)),4))\n",
    "\n",
    "print('Khoảng tin cậy cho OR')\n",
    "exp(cbind(OR = coef(logitres), confint(logitres)))\n",
    "\n",
    "\n",
    "print('CIs using profiled log-likelihood')\n",
    "\n",
    "confint(logitres)\n",
    "\n",
    "print('CIs using standard errors')\n",
    "confint.default(logitres)"
   ]
  },
  {
   "cell_type": "code",
   "execution_count": null,
   "metadata": {
    "vscode": {
     "languageId": "r"
    }
   },
   "outputs": [],
   "source": []
  }
 ],
 "metadata": {
  "kernelspec": {
   "display_name": "R",
   "language": "R",
   "name": "ir"
  },
  "language_info": {
   "codemirror_mode": "r",
   "file_extension": ".r",
   "mimetype": "text/x-r-source",
   "name": "R",
   "pygments_lexer": "r",
   "version": "4.2.1"
  },
  "orig_nbformat": 4
 },
 "nbformat": 4,
 "nbformat_minor": 2
}
