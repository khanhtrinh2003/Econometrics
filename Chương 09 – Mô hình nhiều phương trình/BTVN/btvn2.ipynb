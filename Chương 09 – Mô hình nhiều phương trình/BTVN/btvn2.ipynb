{
 "cells": [
  {
   "cell_type": "code",
   "execution_count": 2,
   "metadata": {
    "vscode": {
     "languageId": "r"
    }
   },
   "outputs": [],
   "source": [
    "library(foreign)\n",
    "library(car)\n",
    "library(lmtest)\n",
    "library(AER)\n",
    "library(caTools)\n",
    "library(caret)"
   ]
  },
  {
   "cell_type": "markdown",
   "metadata": {},
   "source": [
    "## BAI TAP 10.14.2+3:XAC SUAT VO NO\n",
    "\n",
    "# MO HINH LOGIT: XAC SUAT VO NO.  Data: mroz.txt\n",
    "\n",
    "# INPUT DATA & TRAIN.SET, TEST.SET\n"
   ]
  },
  {
   "cell_type": "code",
   "execution_count": 3,
   "metadata": {
    "vscode": {
     "languageId": "r"
    }
   },
   "outputs": [
    {
     "data": {
      "text/html": [
       "<style>\n",
       ".list-inline {list-style: none; margin:0; padding: 0}\n",
       ".list-inline>li {display: inline-block}\n",
       ".list-inline>li:not(:last-child)::after {content: \"\\00b7\"; padding: 0 .5ex}\n",
       "</style>\n",
       "<ol class=list-inline><li>813</li><li>25</li></ol>\n"
      ],
      "text/latex": [
       "\\begin{enumerate*}\n",
       "\\item 813\n",
       "\\item 25\n",
       "\\end{enumerate*}\n"
      ],
      "text/markdown": [
       "1. 813\n",
       "2. 25\n",
       "\n",
       "\n"
      ],
      "text/plain": [
       "[1] 813  25"
      ]
     },
     "metadata": {},
     "output_type": "display_data"
    }
   ],
   "source": [
    "leha=read.csv(\"leha.csv\", header=TRUE)\n",
    "#summary(leha)\n",
    "split=sample.split(leha$default_prin,SplitRatio=0.8)\n",
    "train.set=subset(leha, split==TRUE)\n",
    "# summary(train.set)\n",
    "test.set=subset(leha,split==FALSE)\n",
    "#test.set\n",
    "# train.set\n",
    "dim(test.set)"
   ]
  },
  {
   "cell_type": "markdown",
   "metadata": {},
   "source": [
    "## UOC LUONG LOGIT TREN TRAIN.SET"
   ]
  },
  {
   "cell_type": "code",
   "execution_count": 4,
   "metadata": {
    "vscode": {
     "languageId": "r"
    }
   },
   "outputs": [
    {
     "data": {
      "text/plain": [
       "\n",
       "Call:\n",
       "glm(formula = default_int ~ income2 + spending2 + experience + \n",
       "    age + newcustomer + notran + notran3 + wpcity + wpcompany + \n",
       "    wpothers + wpmanager + wpspecialist + wpother + cash + home100 + \n",
       "    liveparent + rent, family = binomial(link = logit), data = train.set)\n",
       "\n",
       "Deviance Residuals: \n",
       "    Min       1Q   Median       3Q      Max  \n",
       "-1.2663  -0.5587  -0.3785  -0.2922   2.7225  \n",
       "\n",
       "Coefficients:\n",
       "               Estimate Std. Error z value Pr(>|z|)    \n",
       "(Intercept)  -0.8964377  0.5825933  -1.539 0.123877    \n",
       "income2      -0.0416509  0.0168274  -2.475 0.013317 *  \n",
       "spending2     0.0159629  0.0119970   1.331 0.183331    \n",
       "experience   -0.0007154  0.0010044  -0.712 0.476265    \n",
       "age          -0.0159753  0.0128990  -1.238 0.215534    \n",
       "newcustomer   0.9586945  0.1739215   5.512 3.54e-08 ***\n",
       "notran        1.9973066  0.6916203   2.888 0.003879 ** \n",
       "notran3       2.5836883  0.6981971   3.701 0.000215 ***\n",
       "wpcity       -0.1596736  0.2702805  -0.591 0.554674    \n",
       "wpcompany    -0.7433902  0.2782540  -2.672 0.007548 ** \n",
       "wpothers     -0.1489318  0.3735602  -0.399 0.690127    \n",
       "wpmanager    -0.4878607  0.3293123  -1.481 0.138486    \n",
       "wpspecialist -0.1677624  0.3423769  -0.490 0.624139    \n",
       "wpother      -0.3607386  0.2818134  -1.280 0.200523    \n",
       "cash         -0.1725556  0.2120335  -0.814 0.415752    \n",
       "home100      -0.3556727  0.1919304  -1.853 0.063863 .  \n",
       "liveparent   -0.1665055  0.1909702  -0.872 0.383267    \n",
       "rent         -0.2225113  0.2306830  -0.965 0.334757    \n",
       "---\n",
       "Signif. codes:  0 '***' 0.001 '**' 0.01 '*' 0.05 '.' 0.1 ' ' 1\n",
       "\n",
       "(Dispersion parameter for binomial family taken to be 1)\n",
       "\n",
       "    Null deviance: 2275.7  on 3251  degrees of freedom\n",
       "Residual deviance: 2114.4  on 3234  degrees of freedom\n",
       "  (1 observation deleted due to missingness)\n",
       "AIC: 2150.4\n",
       "\n",
       "Number of Fisher Scoring iterations: 5\n"
      ]
     },
     "metadata": {},
     "output_type": "display_data"
    }
   ],
   "source": [
    "logitres=glm(default_int~income2+spending2+experience+age+newcustomer+notran+notran3+wpcity+wpcompany+wpothers+wpmanager+wpspecialist+wpother+cash+home100+liveparent+rent,data=train.set,family=binomial(link=logit))\n",
    "summary(logitres)"
   ]
  },
  {
   "cell_type": "markdown",
   "metadata": {},
   "source": [
    "## DIEU CHINH MO HNH"
   ]
  },
  {
   "cell_type": "code",
   "execution_count": 5,
   "metadata": {
    "vscode": {
     "languageId": "r"
    }
   },
   "outputs": [
    {
     "name": "stderr",
     "output_type": "stream",
     "text": [
      "Warning message in prob_L.train.classes == train.set$default_int:\n",
      "\"longer object length is not a multiple of shorter object length\"\n"
     ]
    },
    {
     "name": "stdout",
     "output_type": "stream",
     "text": [
      "[1] \"Ty lệ dự bao đúng trên train.set =\"\n"
     ]
    },
    {
     "data": {
      "text/html": [
       "0.888103289271442"
      ],
      "text/latex": [
       "0.888103289271442"
      ],
      "text/markdown": [
       "0.888103289271442"
      ],
      "text/plain": [
       "[1] 0.8881033"
      ]
     },
     "metadata": {},
     "output_type": "display_data"
    }
   ],
   "source": [
    "prob_L.train=fitted(logitres) #=glm(default_int~income2+age+newcustomer+notran3+wpcompany+wpmanager,data=train.set,family=binomial(link=logit))\n",
    "# head(prob_L.train)\n",
    "\n",
    "prob_L.train.classes <- ifelse(prob_L.train > 0.5, 1, 0)\n",
    "# Proportion of correctly classified observations:\n",
    "TLDBD=mean(prob_L.train.classes == train.set$default_int, na.rm=TRUE)\n",
    "print(\"Ty lệ dự bao đúng trên train.set =\")\n",
    "TLDBD"
   ]
  },
  {
   "cell_type": "markdown",
   "metadata": {},
   "source": [
    "## ƯỚC LƯỢNG MÔ HÌNH TRÊN TEST.SET"
   ]
  },
  {
   "cell_type": "code",
   "execution_count": 6,
   "metadata": {
    "vscode": {
     "languageId": "r"
    }
   },
   "outputs": [
    {
     "data": {
      "text/html": [
       "813"
      ],
      "text/latex": [
       "813"
      ],
      "text/markdown": [
       "813"
      ],
      "text/plain": [
       "[1] 813"
      ]
     },
     "metadata": {},
     "output_type": "display_data"
    },
    {
     "name": "stdout",
     "output_type": "stream",
     "text": [
      "[1] \"Tỷ lệ dự báo đúng trên test.set=\"\n"
     ]
    },
    {
     "data": {
      "text/html": [
       "0.8769987699877"
      ],
      "text/latex": [
       "0.8769987699877"
      ],
      "text/markdown": [
       "0.8769987699877"
      ],
      "text/plain": [
       "[1] 0.8769988"
      ]
     },
     "metadata": {},
     "output_type": "display_data"
    }
   ],
   "source": [
    "prob_L.test <- predict(logitres, test.set,type=\"response\")  # predicted scores \n",
    "length(prob_L.test)\n",
    "prob_L.test.classes <- ifelse(prob_L.test > 0.5, 1,0)\n",
    "# prob_L.test.classes\n",
    "# Proportion of correctly classified observations:\n",
    "TLDBD_L.test=mean(prob_L.test.classes == test.set$default_int, na.rm=TRUE)\n",
    "print(\"Tỷ lệ dự báo đúng trên test.set=\")\n",
    "TLDBD_L.test"
   ]
  },
  {
   "cell_type": "markdown",
   "metadata": {},
   "source": [
    "## MOT SO PHAN TICH"
   ]
  },
  {
   "cell_type": "code",
   "execution_count": 7,
   "metadata": {
    "vscode": {
     "languageId": "r"
    }
   },
   "outputs": [
    {
     "name": "stdout",
     "output_type": "stream",
     "text": [
      "[1] \"Tính APE- AVERAGE PAARTIAL EFFECTS- ảnh hưởng riêng trung bình của từng biến\"\n",
      "[1] \"APE=\"\n"
     ]
    },
    {
     "data": {
      "text/html": [
       "<style>\n",
       ".dl-inline {width: auto; margin:0; padding: 0}\n",
       ".dl-inline>dt, .dl-inline>dd {float: none; width: auto; display: inline-block}\n",
       ".dl-inline>dt::after {content: \":\\0020\"; padding-right: .5ex}\n",
       ".dl-inline>dt:not(:first-of-type) {padding-left: .5ex}\n",
       "</style><dl class=dl-inline><dt>(Intercept)</dt><dd>-0.100063616000588</dd><dt>income2</dt><dd>-0.00464922945447122</dd><dt>spending2</dt><dd>0.00178183396478003</dd><dt>experience</dt><dd>-7.98584648631301e-05</dd><dt>age</dt><dd>-0.00178321752383769</dd><dt>newcustomer</dt><dd>0.107012943297213</dd><dt>notran</dt><dd>0.222946589859213</dd><dt>notran3</dt><dd>0.288400633808772</dd><dt>wpcity</dt><dd>-0.0178233501909858</dd><dt>wpcompany</dt><dd>-0.0829799006306386</dd><dt>wpothers</dt><dd>-0.0166243049811567</dd><dt>wpmanager</dt><dd>-0.0544567780344606</dd><dt>wpspecialist</dt><dd>-0.0187262456106258</dd><dt>wpother</dt><dd>-0.0402669428976628</dd><dt>cash</dt><dd>-0.0192612811287775</dd><dt>home100</dt><dd>-0.0397014721603126</dd><dt>liveparent</dt><dd>-0.0185859460308034</dd><dt>rent</dt><dd>-0.024837514465974</dd></dl>\n"
      ],
      "text/latex": [
       "\\begin{description*}\n",
       "\\item[(Intercept)] -0.100063616000588\n",
       "\\item[income2] -0.00464922945447122\n",
       "\\item[spending2] 0.00178183396478003\n",
       "\\item[experience] -7.98584648631301e-05\n",
       "\\item[age] -0.00178321752383769\n",
       "\\item[newcustomer] 0.107012943297213\n",
       "\\item[notran] 0.222946589859213\n",
       "\\item[notran3] 0.288400633808772\n",
       "\\item[wpcity] -0.0178233501909858\n",
       "\\item[wpcompany] -0.0829799006306386\n",
       "\\item[wpothers] -0.0166243049811567\n",
       "\\item[wpmanager] -0.0544567780344606\n",
       "\\item[wpspecialist] -0.0187262456106258\n",
       "\\item[wpother] -0.0402669428976628\n",
       "\\item[cash] -0.0192612811287775\n",
       "\\item[home100] -0.0397014721603126\n",
       "\\item[liveparent] -0.0185859460308034\n",
       "\\item[rent] -0.024837514465974\n",
       "\\end{description*}\n"
      ],
      "text/markdown": [
       "(Intercept)\n",
       ":   -0.100063616000588income2\n",
       ":   -0.00464922945447122spending2\n",
       ":   0.00178183396478003experience\n",
       ":   -7.98584648631301e-05age\n",
       ":   -0.00178321752383769newcustomer\n",
       ":   0.107012943297213notran\n",
       ":   0.222946589859213notran3\n",
       ":   0.288400633808772wpcity\n",
       ":   -0.0178233501909858wpcompany\n",
       ":   -0.0829799006306386wpothers\n",
       ":   -0.0166243049811567wpmanager\n",
       ":   -0.0544567780344606wpspecialist\n",
       ":   -0.0187262456106258wpother\n",
       ":   -0.0402669428976628cash\n",
       ":   -0.0192612811287775home100\n",
       ":   -0.0397014721603126liveparent\n",
       ":   -0.0185859460308034rent\n",
       ":   -0.024837514465974\n",
       "\n"
      ],
      "text/plain": [
       "  (Intercept)       income2     spending2    experience           age \n",
       "-1.000636e-01 -4.649229e-03  1.781834e-03 -7.985846e-05 -1.783218e-03 \n",
       "  newcustomer        notran       notran3        wpcity     wpcompany \n",
       " 1.070129e-01  2.229466e-01  2.884006e-01 -1.782335e-02 -8.297990e-02 \n",
       "     wpothers     wpmanager  wpspecialist       wpother          cash \n",
       "-1.662430e-02 -5.445678e-02 -1.872625e-02 -4.026694e-02 -1.926128e-02 \n",
       "      home100    liveparent          rent \n",
       "-3.970147e-02 -1.858595e-02 -2.483751e-02 "
      ]
     },
     "metadata": {},
     "output_type": "display_data"
    },
    {
     "name": "stdout",
     "output_type": "stream",
     "text": [
      "[1] \"Tính tỷ số OR, lấy đến 4 chữ số thập phân\"\n"
     ]
    },
    {
     "data": {
      "text/html": [
       "<table class=\"dataframe\">\n",
       "<caption>A matrix: 18 × 2 of type dbl</caption>\n",
       "<thead>\n",
       "\t<tr><th></th><th scope=col>Estimate</th><th scope=col>OR</th></tr>\n",
       "</thead>\n",
       "<tbody>\n",
       "\t<tr><th scope=row>(Intercept)</th><td>-0.8964</td><td> 0.4080</td></tr>\n",
       "\t<tr><th scope=row>income2</th><td>-0.0417</td><td> 0.9592</td></tr>\n",
       "\t<tr><th scope=row>spending2</th><td> 0.0160</td><td> 1.0161</td></tr>\n",
       "\t<tr><th scope=row>experience</th><td>-0.0007</td><td> 0.9993</td></tr>\n",
       "\t<tr><th scope=row>age</th><td>-0.0160</td><td> 0.9842</td></tr>\n",
       "\t<tr><th scope=row>newcustomer</th><td> 0.9587</td><td> 2.6083</td></tr>\n",
       "\t<tr><th scope=row>notran</th><td> 1.9973</td><td> 7.3692</td></tr>\n",
       "\t<tr><th scope=row>notran3</th><td> 2.5837</td><td>13.2459</td></tr>\n",
       "\t<tr><th scope=row>wpcity</th><td>-0.1597</td><td> 0.8524</td></tr>\n",
       "\t<tr><th scope=row>wpcompany</th><td>-0.7434</td><td> 0.4755</td></tr>\n",
       "\t<tr><th scope=row>wpothers</th><td>-0.1489</td><td> 0.8616</td></tr>\n",
       "\t<tr><th scope=row>wpmanager</th><td>-0.4879</td><td> 0.6139</td></tr>\n",
       "\t<tr><th scope=row>wpspecialist</th><td>-0.1678</td><td> 0.8456</td></tr>\n",
       "\t<tr><th scope=row>wpother</th><td>-0.3607</td><td> 0.6972</td></tr>\n",
       "\t<tr><th scope=row>cash</th><td>-0.1726</td><td> 0.8415</td></tr>\n",
       "\t<tr><th scope=row>home100</th><td>-0.3557</td><td> 0.7007</td></tr>\n",
       "\t<tr><th scope=row>liveparent</th><td>-0.1665</td><td> 0.8466</td></tr>\n",
       "\t<tr><th scope=row>rent</th><td>-0.2225</td><td> 0.8005</td></tr>\n",
       "</tbody>\n",
       "</table>\n"
      ],
      "text/latex": [
       "A matrix: 18 × 2 of type dbl\n",
       "\\begin{tabular}{r|ll}\n",
       "  & Estimate & OR\\\\\n",
       "\\hline\n",
       "\t(Intercept) & -0.8964 &  0.4080\\\\\n",
       "\tincome2 & -0.0417 &  0.9592\\\\\n",
       "\tspending2 &  0.0160 &  1.0161\\\\\n",
       "\texperience & -0.0007 &  0.9993\\\\\n",
       "\tage & -0.0160 &  0.9842\\\\\n",
       "\tnewcustomer &  0.9587 &  2.6083\\\\\n",
       "\tnotran &  1.9973 &  7.3692\\\\\n",
       "\tnotran3 &  2.5837 & 13.2459\\\\\n",
       "\twpcity & -0.1597 &  0.8524\\\\\n",
       "\twpcompany & -0.7434 &  0.4755\\\\\n",
       "\twpothers & -0.1489 &  0.8616\\\\\n",
       "\twpmanager & -0.4879 &  0.6139\\\\\n",
       "\twpspecialist & -0.1678 &  0.8456\\\\\n",
       "\twpother & -0.3607 &  0.6972\\\\\n",
       "\tcash & -0.1726 &  0.8415\\\\\n",
       "\thome100 & -0.3557 &  0.7007\\\\\n",
       "\tliveparent & -0.1665 &  0.8466\\\\\n",
       "\trent & -0.2225 &  0.8005\\\\\n",
       "\\end{tabular}\n"
      ],
      "text/markdown": [
       "\n",
       "A matrix: 18 × 2 of type dbl\n",
       "\n",
       "| <!--/--> | Estimate | OR |\n",
       "|---|---|---|\n",
       "| (Intercept) | -0.8964 |  0.4080 |\n",
       "| income2 | -0.0417 |  0.9592 |\n",
       "| spending2 |  0.0160 |  1.0161 |\n",
       "| experience | -0.0007 |  0.9993 |\n",
       "| age | -0.0160 |  0.9842 |\n",
       "| newcustomer |  0.9587 |  2.6083 |\n",
       "| notran |  1.9973 |  7.3692 |\n",
       "| notran3 |  2.5837 | 13.2459 |\n",
       "| wpcity | -0.1597 |  0.8524 |\n",
       "| wpcompany | -0.7434 |  0.4755 |\n",
       "| wpothers | -0.1489 |  0.8616 |\n",
       "| wpmanager | -0.4879 |  0.6139 |\n",
       "| wpspecialist | -0.1678 |  0.8456 |\n",
       "| wpother | -0.3607 |  0.6972 |\n",
       "| cash | -0.1726 |  0.8415 |\n",
       "| home100 | -0.3557 |  0.7007 |\n",
       "| liveparent | -0.1665 |  0.8466 |\n",
       "| rent | -0.2225 |  0.8005 |\n",
       "\n"
      ],
      "text/plain": [
       "             Estimate OR     \n",
       "(Intercept)  -0.8964   0.4080\n",
       "income2      -0.0417   0.9592\n",
       "spending2     0.0160   1.0161\n",
       "experience   -0.0007   0.9993\n",
       "age          -0.0160   0.9842\n",
       "newcustomer   0.9587   2.6083\n",
       "notran        1.9973   7.3692\n",
       "notran3       2.5837  13.2459\n",
       "wpcity       -0.1597   0.8524\n",
       "wpcompany    -0.7434   0.4755\n",
       "wpothers     -0.1489   0.8616\n",
       "wpmanager    -0.4879   0.6139\n",
       "wpspecialist -0.1678   0.8456\n",
       "wpother      -0.3607   0.6972\n",
       "cash         -0.1726   0.8415\n",
       "home100      -0.3557   0.7007\n",
       "liveparent   -0.1665   0.8466\n",
       "rent         -0.2225   0.8005"
      ]
     },
     "metadata": {},
     "output_type": "display_data"
    },
    {
     "name": "stdout",
     "output_type": "stream",
     "text": [
      "[1] \"Khoảng tin cậy cho OR\"\n"
     ]
    },
    {
     "name": "stderr",
     "output_type": "stream",
     "text": [
      "Waiting for profiling to be done...\n",
      "\n"
     ]
    },
    {
     "data": {
      "text/html": [
       "<table class=\"dataframe\">\n",
       "<caption>A matrix: 18 × 3 of type dbl</caption>\n",
       "<thead>\n",
       "\t<tr><th></th><th scope=col>OR</th><th scope=col>2.5 %</th><th scope=col>97.5 %</th></tr>\n",
       "</thead>\n",
       "<tbody>\n",
       "\t<tr><th scope=row>(Intercept)</th><td> 0.4080206</td><td>0.1263031</td><td> 1.2415327</td></tr>\n",
       "\t<tr><th scope=row>income2</th><td> 0.9592045</td><td>0.9267136</td><td> 0.9897062</td></tr>\n",
       "\t<tr><th scope=row>spending2</th><td> 1.0160910</td><td>0.9913937</td><td> 1.0395552</td></tr>\n",
       "\t<tr><th scope=row>experience</th><td> 0.9992848</td><td>0.9970865</td><td> 1.0008852</td></tr>\n",
       "\t<tr><th scope=row>age</th><td> 0.9841517</td><td>0.9611355</td><td> 1.0104082</td></tr>\n",
       "\t<tr><th scope=row>newcustomer</th><td> 2.6082890</td><td>1.8659884</td><td> 3.6924460</td></tr>\n",
       "\t<tr><th scope=row>notran</th><td> 7.3691814</td><td>1.5767473</td><td>26.1165003</td></tr>\n",
       "\t<tr><th scope=row>notran3</th><td>13.2459032</td><td>3.1282033</td><td>52.6803233</td></tr>\n",
       "\t<tr><th scope=row>wpcity</th><td> 0.8524219</td><td>0.5099235</td><td> 1.4779752</td></tr>\n",
       "\t<tr><th scope=row>wpcompany</th><td> 0.4754992</td><td>0.2799013</td><td> 0.8367563</td></tr>\n",
       "\t<tr><th scope=row>wpothers</th><td> 0.8616279</td><td>0.4220345</td><td> 1.8416862</td></tr>\n",
       "\t<tr><th scope=row>wpmanager</th><td> 0.6139384</td><td>0.3313533</td><td> 1.2164944</td></tr>\n",
       "\t<tr><th scope=row>wpspecialist</th><td> 0.8455547</td><td>0.4434303</td><td> 1.7129646</td></tr>\n",
       "\t<tr><th scope=row>wpother</th><td> 0.6971612</td><td>0.4070367</td><td> 1.2340675</td></tr>\n",
       "\t<tr><th scope=row>cash</th><td> 0.8415115</td><td>0.5510033</td><td> 1.2672735</td></tr>\n",
       "\t<tr><th scope=row>home100</th><td> 0.7007019</td><td>0.4832645</td><td> 1.0268380</td></tr>\n",
       "\t<tr><th scope=row>liveparent</th><td> 0.8466182</td><td>0.5854264</td><td> 1.2390849</td></tr>\n",
       "\t<tr><th scope=row>rent</th><td> 0.8005060</td><td>0.5090574</td><td> 1.2595483</td></tr>\n",
       "</tbody>\n",
       "</table>\n"
      ],
      "text/latex": [
       "A matrix: 18 × 3 of type dbl\n",
       "\\begin{tabular}{r|lll}\n",
       "  & OR & 2.5 \\% & 97.5 \\%\\\\\n",
       "\\hline\n",
       "\t(Intercept) &  0.4080206 & 0.1263031 &  1.2415327\\\\\n",
       "\tincome2 &  0.9592045 & 0.9267136 &  0.9897062\\\\\n",
       "\tspending2 &  1.0160910 & 0.9913937 &  1.0395552\\\\\n",
       "\texperience &  0.9992848 & 0.9970865 &  1.0008852\\\\\n",
       "\tage &  0.9841517 & 0.9611355 &  1.0104082\\\\\n",
       "\tnewcustomer &  2.6082890 & 1.8659884 &  3.6924460\\\\\n",
       "\tnotran &  7.3691814 & 1.5767473 & 26.1165003\\\\\n",
       "\tnotran3 & 13.2459032 & 3.1282033 & 52.6803233\\\\\n",
       "\twpcity &  0.8524219 & 0.5099235 &  1.4779752\\\\\n",
       "\twpcompany &  0.4754992 & 0.2799013 &  0.8367563\\\\\n",
       "\twpothers &  0.8616279 & 0.4220345 &  1.8416862\\\\\n",
       "\twpmanager &  0.6139384 & 0.3313533 &  1.2164944\\\\\n",
       "\twpspecialist &  0.8455547 & 0.4434303 &  1.7129646\\\\\n",
       "\twpother &  0.6971612 & 0.4070367 &  1.2340675\\\\\n",
       "\tcash &  0.8415115 & 0.5510033 &  1.2672735\\\\\n",
       "\thome100 &  0.7007019 & 0.4832645 &  1.0268380\\\\\n",
       "\tliveparent &  0.8466182 & 0.5854264 &  1.2390849\\\\\n",
       "\trent &  0.8005060 & 0.5090574 &  1.2595483\\\\\n",
       "\\end{tabular}\n"
      ],
      "text/markdown": [
       "\n",
       "A matrix: 18 × 3 of type dbl\n",
       "\n",
       "| <!--/--> | OR | 2.5 % | 97.5 % |\n",
       "|---|---|---|---|\n",
       "| (Intercept) |  0.4080206 | 0.1263031 |  1.2415327 |\n",
       "| income2 |  0.9592045 | 0.9267136 |  0.9897062 |\n",
       "| spending2 |  1.0160910 | 0.9913937 |  1.0395552 |\n",
       "| experience |  0.9992848 | 0.9970865 |  1.0008852 |\n",
       "| age |  0.9841517 | 0.9611355 |  1.0104082 |\n",
       "| newcustomer |  2.6082890 | 1.8659884 |  3.6924460 |\n",
       "| notran |  7.3691814 | 1.5767473 | 26.1165003 |\n",
       "| notran3 | 13.2459032 | 3.1282033 | 52.6803233 |\n",
       "| wpcity |  0.8524219 | 0.5099235 |  1.4779752 |\n",
       "| wpcompany |  0.4754992 | 0.2799013 |  0.8367563 |\n",
       "| wpothers |  0.8616279 | 0.4220345 |  1.8416862 |\n",
       "| wpmanager |  0.6139384 | 0.3313533 |  1.2164944 |\n",
       "| wpspecialist |  0.8455547 | 0.4434303 |  1.7129646 |\n",
       "| wpother |  0.6971612 | 0.4070367 |  1.2340675 |\n",
       "| cash |  0.8415115 | 0.5510033 |  1.2672735 |\n",
       "| home100 |  0.7007019 | 0.4832645 |  1.0268380 |\n",
       "| liveparent |  0.8466182 | 0.5854264 |  1.2390849 |\n",
       "| rent |  0.8005060 | 0.5090574 |  1.2595483 |\n",
       "\n"
      ],
      "text/plain": [
       "             OR         2.5 %     97.5 %    \n",
       "(Intercept)   0.4080206 0.1263031  1.2415327\n",
       "income2       0.9592045 0.9267136  0.9897062\n",
       "spending2     1.0160910 0.9913937  1.0395552\n",
       "experience    0.9992848 0.9970865  1.0008852\n",
       "age           0.9841517 0.9611355  1.0104082\n",
       "newcustomer   2.6082890 1.8659884  3.6924460\n",
       "notran        7.3691814 1.5767473 26.1165003\n",
       "notran3      13.2459032 3.1282033 52.6803233\n",
       "wpcity        0.8524219 0.5099235  1.4779752\n",
       "wpcompany     0.4754992 0.2799013  0.8367563\n",
       "wpothers      0.8616279 0.4220345  1.8416862\n",
       "wpmanager     0.6139384 0.3313533  1.2164944\n",
       "wpspecialist  0.8455547 0.4434303  1.7129646\n",
       "wpother       0.6971612 0.4070367  1.2340675\n",
       "cash          0.8415115 0.5510033  1.2672735\n",
       "home100       0.7007019 0.4832645  1.0268380\n",
       "liveparent    0.8466182 0.5854264  1.2390849\n",
       "rent          0.8005060 0.5090574  1.2595483"
      ]
     },
     "metadata": {},
     "output_type": "display_data"
    },
    {
     "name": "stdout",
     "output_type": "stream",
     "text": [
      "[1] \"CIs using profiled log-likelihood\"\n"
     ]
    },
    {
     "name": "stderr",
     "output_type": "stream",
     "text": [
      "Waiting for profiling to be done...\n",
      "\n"
     ]
    },
    {
     "data": {
      "text/html": [
       "<table class=\"dataframe\">\n",
       "<caption>A matrix: 18 × 2 of type dbl</caption>\n",
       "<thead>\n",
       "\t<tr><th></th><th scope=col>2.5 %</th><th scope=col>97.5 %</th></tr>\n",
       "</thead>\n",
       "<tbody>\n",
       "\t<tr><th scope=row>(Intercept)</th><td>-2.069070387</td><td> 0.2163466293</td></tr>\n",
       "\t<tr><th scope=row>income2</th><td>-0.076110711</td><td>-0.0103471237</td></tr>\n",
       "\t<tr><th scope=row>spending2</th><td>-0.008643514</td><td> 0.0387928950</td></tr>\n",
       "\t<tr><th scope=row>experience</th><td>-0.002917712</td><td> 0.0008847948</td></tr>\n",
       "\t<tr><th scope=row>age</th><td>-0.039639888</td><td> 0.0103543684</td></tr>\n",
       "\t<tr><th scope=row>newcustomer</th><td> 0.623790882</td><td> 1.3062891041</td></tr>\n",
       "\t<tr><th scope=row>notran</th><td> 0.455364051</td><td> 3.2625673098</td></tr>\n",
       "\t<tr><th scope=row>notran3</th><td> 1.140458818</td><td> 3.9642420142</td></tr>\n",
       "\t<tr><th scope=row>wpcity</th><td>-0.673494583</td><td> 0.3906730250</td></tr>\n",
       "\t<tr><th scope=row>wpcompany</th><td>-1.273318167</td><td>-0.1782224682</td></tr>\n",
       "\t<tr><th scope=row>wpothers</th><td>-0.862668283</td><td> 0.6106815648</td></tr>\n",
       "\t<tr><th scope=row>wpmanager</th><td>-1.104570120</td><td> 0.1959732521</td></tr>\n",
       "\t<tr><th scope=row>wpspecialist</th><td>-0.813214628</td><td> 0.5382255369</td></tr>\n",
       "\t<tr><th scope=row>wpother</th><td>-0.898851874</td><td> 0.2103156219</td></tr>\n",
       "\t<tr><th scope=row>cash</th><td>-0.596014553</td><td> 0.2368677402</td></tr>\n",
       "\t<tr><th scope=row>home100</th><td>-0.727191224</td><td> 0.0264841370</td></tr>\n",
       "\t<tr><th scope=row>liveparent</th><td>-0.535414843</td><td> 0.2143730914</td></tr>\n",
       "\t<tr><th scope=row>rent</th><td>-0.675194430</td><td> 0.2307531302</td></tr>\n",
       "</tbody>\n",
       "</table>\n"
      ],
      "text/latex": [
       "A matrix: 18 × 2 of type dbl\n",
       "\\begin{tabular}{r|ll}\n",
       "  & 2.5 \\% & 97.5 \\%\\\\\n",
       "\\hline\n",
       "\t(Intercept) & -2.069070387 &  0.2163466293\\\\\n",
       "\tincome2 & -0.076110711 & -0.0103471237\\\\\n",
       "\tspending2 & -0.008643514 &  0.0387928950\\\\\n",
       "\texperience & -0.002917712 &  0.0008847948\\\\\n",
       "\tage & -0.039639888 &  0.0103543684\\\\\n",
       "\tnewcustomer &  0.623790882 &  1.3062891041\\\\\n",
       "\tnotran &  0.455364051 &  3.2625673098\\\\\n",
       "\tnotran3 &  1.140458818 &  3.9642420142\\\\\n",
       "\twpcity & -0.673494583 &  0.3906730250\\\\\n",
       "\twpcompany & -1.273318167 & -0.1782224682\\\\\n",
       "\twpothers & -0.862668283 &  0.6106815648\\\\\n",
       "\twpmanager & -1.104570120 &  0.1959732521\\\\\n",
       "\twpspecialist & -0.813214628 &  0.5382255369\\\\\n",
       "\twpother & -0.898851874 &  0.2103156219\\\\\n",
       "\tcash & -0.596014553 &  0.2368677402\\\\\n",
       "\thome100 & -0.727191224 &  0.0264841370\\\\\n",
       "\tliveparent & -0.535414843 &  0.2143730914\\\\\n",
       "\trent & -0.675194430 &  0.2307531302\\\\\n",
       "\\end{tabular}\n"
      ],
      "text/markdown": [
       "\n",
       "A matrix: 18 × 2 of type dbl\n",
       "\n",
       "| <!--/--> | 2.5 % | 97.5 % |\n",
       "|---|---|---|\n",
       "| (Intercept) | -2.069070387 |  0.2163466293 |\n",
       "| income2 | -0.076110711 | -0.0103471237 |\n",
       "| spending2 | -0.008643514 |  0.0387928950 |\n",
       "| experience | -0.002917712 |  0.0008847948 |\n",
       "| age | -0.039639888 |  0.0103543684 |\n",
       "| newcustomer |  0.623790882 |  1.3062891041 |\n",
       "| notran |  0.455364051 |  3.2625673098 |\n",
       "| notran3 |  1.140458818 |  3.9642420142 |\n",
       "| wpcity | -0.673494583 |  0.3906730250 |\n",
       "| wpcompany | -1.273318167 | -0.1782224682 |\n",
       "| wpothers | -0.862668283 |  0.6106815648 |\n",
       "| wpmanager | -1.104570120 |  0.1959732521 |\n",
       "| wpspecialist | -0.813214628 |  0.5382255369 |\n",
       "| wpother | -0.898851874 |  0.2103156219 |\n",
       "| cash | -0.596014553 |  0.2368677402 |\n",
       "| home100 | -0.727191224 |  0.0264841370 |\n",
       "| liveparent | -0.535414843 |  0.2143730914 |\n",
       "| rent | -0.675194430 |  0.2307531302 |\n",
       "\n"
      ],
      "text/plain": [
       "             2.5 %        97.5 %       \n",
       "(Intercept)  -2.069070387  0.2163466293\n",
       "income2      -0.076110711 -0.0103471237\n",
       "spending2    -0.008643514  0.0387928950\n",
       "experience   -0.002917712  0.0008847948\n",
       "age          -0.039639888  0.0103543684\n",
       "newcustomer   0.623790882  1.3062891041\n",
       "notran        0.455364051  3.2625673098\n",
       "notran3       1.140458818  3.9642420142\n",
       "wpcity       -0.673494583  0.3906730250\n",
       "wpcompany    -1.273318167 -0.1782224682\n",
       "wpothers     -0.862668283  0.6106815648\n",
       "wpmanager    -1.104570120  0.1959732521\n",
       "wpspecialist -0.813214628  0.5382255369\n",
       "wpother      -0.898851874  0.2103156219\n",
       "cash         -0.596014553  0.2368677402\n",
       "home100      -0.727191224  0.0264841370\n",
       "liveparent   -0.535414843  0.2143730914\n",
       "rent         -0.675194430  0.2307531302"
      ]
     },
     "metadata": {},
     "output_type": "display_data"
    },
    {
     "name": "stdout",
     "output_type": "stream",
     "text": [
      "[1] \"CIs using standard errors\"\n"
     ]
    },
    {
     "data": {
      "text/html": [
       "<table class=\"dataframe\">\n",
       "<caption>A matrix: 18 × 2 of type dbl</caption>\n",
       "<thead>\n",
       "\t<tr><th></th><th scope=col>2.5 %</th><th scope=col>97.5 %</th></tr>\n",
       "</thead>\n",
       "<tbody>\n",
       "\t<tr><th scope=row>(Intercept)</th><td>-2.038299603</td><td> 0.245424242</td></tr>\n",
       "\t<tr><th scope=row>income2</th><td>-0.074632114</td><td>-0.008669782</td></tr>\n",
       "\t<tr><th scope=row>spending2</th><td>-0.007550876</td><td> 0.039476628</td></tr>\n",
       "\t<tr><th scope=row>experience</th><td>-0.002683932</td><td> 0.001253079</td></tr>\n",
       "\t<tr><th scope=row>age</th><td>-0.041256812</td><td> 0.009306270</td></tr>\n",
       "\t<tr><th scope=row>newcustomer</th><td> 0.617814588</td><td> 1.299574339</td></tr>\n",
       "\t<tr><th scope=row>notran</th><td> 0.641755669</td><td> 3.352857595</td></tr>\n",
       "\t<tr><th scope=row>notran3</th><td> 1.215247130</td><td> 3.952129495</td></tr>\n",
       "\t<tr><th scope=row>wpcity</th><td>-0.689413660</td><td> 0.370066362</td></tr>\n",
       "\t<tr><th scope=row>wpcompany</th><td>-1.288757923</td><td>-0.198022440</td></tr>\n",
       "\t<tr><th scope=row>wpothers</th><td>-0.881096324</td><td> 0.583232745</td></tr>\n",
       "\t<tr><th scope=row>wpmanager</th><td>-1.133300975</td><td> 0.157579534</td></tr>\n",
       "\t<tr><th scope=row>wpspecialist</th><td>-0.838808804</td><td> 0.503284008</td></tr>\n",
       "\t<tr><th scope=row>wpother</th><td>-0.913082616</td><td> 0.191605493</td></tr>\n",
       "\t<tr><th scope=row>cash</th><td>-0.588133638</td><td> 0.243022420</td></tr>\n",
       "\t<tr><th scope=row>home100</th><td>-0.731849394</td><td> 0.020504011</td></tr>\n",
       "\t<tr><th scope=row>liveparent</th><td>-0.540800308</td><td> 0.207789310</td></tr>\n",
       "\t<tr><th scope=row>rent</th><td>-0.674641585</td><td> 0.229619013</td></tr>\n",
       "</tbody>\n",
       "</table>\n"
      ],
      "text/latex": [
       "A matrix: 18 × 2 of type dbl\n",
       "\\begin{tabular}{r|ll}\n",
       "  & 2.5 \\% & 97.5 \\%\\\\\n",
       "\\hline\n",
       "\t(Intercept) & -2.038299603 &  0.245424242\\\\\n",
       "\tincome2 & -0.074632114 & -0.008669782\\\\\n",
       "\tspending2 & -0.007550876 &  0.039476628\\\\\n",
       "\texperience & -0.002683932 &  0.001253079\\\\\n",
       "\tage & -0.041256812 &  0.009306270\\\\\n",
       "\tnewcustomer &  0.617814588 &  1.299574339\\\\\n",
       "\tnotran &  0.641755669 &  3.352857595\\\\\n",
       "\tnotran3 &  1.215247130 &  3.952129495\\\\\n",
       "\twpcity & -0.689413660 &  0.370066362\\\\\n",
       "\twpcompany & -1.288757923 & -0.198022440\\\\\n",
       "\twpothers & -0.881096324 &  0.583232745\\\\\n",
       "\twpmanager & -1.133300975 &  0.157579534\\\\\n",
       "\twpspecialist & -0.838808804 &  0.503284008\\\\\n",
       "\twpother & -0.913082616 &  0.191605493\\\\\n",
       "\tcash & -0.588133638 &  0.243022420\\\\\n",
       "\thome100 & -0.731849394 &  0.020504011\\\\\n",
       "\tliveparent & -0.540800308 &  0.207789310\\\\\n",
       "\trent & -0.674641585 &  0.229619013\\\\\n",
       "\\end{tabular}\n"
      ],
      "text/markdown": [
       "\n",
       "A matrix: 18 × 2 of type dbl\n",
       "\n",
       "| <!--/--> | 2.5 % | 97.5 % |\n",
       "|---|---|---|\n",
       "| (Intercept) | -2.038299603 |  0.245424242 |\n",
       "| income2 | -0.074632114 | -0.008669782 |\n",
       "| spending2 | -0.007550876 |  0.039476628 |\n",
       "| experience | -0.002683932 |  0.001253079 |\n",
       "| age | -0.041256812 |  0.009306270 |\n",
       "| newcustomer |  0.617814588 |  1.299574339 |\n",
       "| notran |  0.641755669 |  3.352857595 |\n",
       "| notran3 |  1.215247130 |  3.952129495 |\n",
       "| wpcity | -0.689413660 |  0.370066362 |\n",
       "| wpcompany | -1.288757923 | -0.198022440 |\n",
       "| wpothers | -0.881096324 |  0.583232745 |\n",
       "| wpmanager | -1.133300975 |  0.157579534 |\n",
       "| wpspecialist | -0.838808804 |  0.503284008 |\n",
       "| wpother | -0.913082616 |  0.191605493 |\n",
       "| cash | -0.588133638 |  0.243022420 |\n",
       "| home100 | -0.731849394 |  0.020504011 |\n",
       "| liveparent | -0.540800308 |  0.207789310 |\n",
       "| rent | -0.674641585 |  0.229619013 |\n",
       "\n"
      ],
      "text/plain": [
       "             2.5 %        97.5 %      \n",
       "(Intercept)  -2.038299603  0.245424242\n",
       "income2      -0.074632114 -0.008669782\n",
       "spending2    -0.007550876  0.039476628\n",
       "experience   -0.002683932  0.001253079\n",
       "age          -0.041256812  0.009306270\n",
       "newcustomer   0.617814588  1.299574339\n",
       "notran        0.641755669  3.352857595\n",
       "notran3       1.215247130  3.952129495\n",
       "wpcity       -0.689413660  0.370066362\n",
       "wpcompany    -1.288757923 -0.198022440\n",
       "wpothers     -0.881096324  0.583232745\n",
       "wpmanager    -1.133300975  0.157579534\n",
       "wpspecialist -0.838808804  0.503284008\n",
       "wpother      -0.913082616  0.191605493\n",
       "cash         -0.588133638  0.243022420\n",
       "home100      -0.731849394  0.020504011\n",
       "liveparent   -0.540800308  0.207789310\n",
       "rent         -0.674641585  0.229619013"
      ]
     },
     "metadata": {},
     "output_type": "display_data"
    }
   ],
   "source": [
    "print('Tính APE- AVERAGE PAARTIAL EFFECTS- ảnh hưởng riêng trung bình của từng biến')\n",
    "Aprob_L=mean(prob_L.train)\n",
    "APE_L=coef(logitres)*Aprob_L\n",
    "print('APE=')  \n",
    "APE_L\n",
    "\n",
    "print('Tính tỷ số OR, lấy đến 4 chữ số thập phân')\n",
    "cbind(Estimate=round(coef(logitres),4),\n",
    "      OR=round(exp(coef(logitres)),4))\n",
    "\n",
    "print('Khoảng tin cậy cho OR')\n",
    "exp(cbind(OR = coef(logitres), confint(logitres)))\n",
    "\n",
    "\n",
    "print('CIs using profiled log-likelihood')\n",
    "\n",
    "confint(logitres)\n",
    "\n",
    "print('CIs using standard errors')\n",
    "confint.default(logitres)"
   ]
  },
  {
   "cell_type": "code",
   "execution_count": null,
   "metadata": {
    "vscode": {
     "languageId": "r"
    }
   },
   "outputs": [],
   "source": []
  }
 ],
 "metadata": {
  "kernelspec": {
   "display_name": "R",
   "language": "R",
   "name": "ir"
  },
  "language_info": {
   "codemirror_mode": "r",
   "file_extension": ".r",
   "mimetype": "text/x-r-source",
   "name": "R",
   "pygments_lexer": "r",
   "version": "4.2.1"
  },
  "orig_nbformat": 4
 },
 "nbformat": 4,
 "nbformat_minor": 2
}
