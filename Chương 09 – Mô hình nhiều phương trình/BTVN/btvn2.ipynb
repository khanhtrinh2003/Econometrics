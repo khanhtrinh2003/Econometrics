{
 "cells": [
  {
   "cell_type": "code",
   "execution_count": null,
   "metadata": {
    "vscode": {
     "languageId": "r"
    }
   },
   "outputs": [],
   "source": [
    "knitr::opts_chunk$set(echo = TRUE)"
   ]
  },
  {
   "cell_type": "code",
   "execution_count": 18,
   "metadata": {
    "vscode": {
     "languageId": "r"
    }
   },
   "outputs": [
    {
     "data": {
      "text/html": [
       "'R version 4.2.1 (2022-06-23 ucrt)'"
      ],
      "text/latex": [
       "'R version 4.2.1 (2022-06-23 ucrt)'"
      ],
      "text/markdown": [
       "'R version 4.2.1 (2022-06-23 ucrt)'"
      ],
      "text/plain": [
       "[1] \"R version 4.2.1 (2022-06-23 ucrt)\""
      ]
     },
     "metadata": {},
     "output_type": "display_data"
    }
   ],
   "source": [
    "R.version.string\n"
   ]
  },
  {
   "cell_type": "code",
   "execution_count": 1,
   "metadata": {
    "vscode": {
     "languageId": "r"
    }
   },
   "outputs": [
    {
     "name": "stdout",
     "output_type": "stream",
     "text": [
      "package 'rlang' successfully unpacked and MD5 sums checked\n"
     ]
    },
    {
     "name": "stderr",
     "output_type": "stream",
     "text": [
      "Warning message:\n",
      "\"cannot remove prior installation of package 'rlang'\"\n",
      "Warning message in file.copy(savedcopy, lib, recursive = TRUE):\n",
      "\"problem copying E:\\Program Files\\R-4.2.1\\library\\00LOCK\\rlang\\libs\\x64\\rlang.dll to E:\\Program Files\\R-4.2.1\\library\\rlang\\libs\\x64\\rlang.dll: Permission denied\"\n",
      "Warning message:\n",
      "\"restored 'rlang'\"\n"
     ]
    },
    {
     "name": "stdout",
     "output_type": "stream",
     "text": [
      "\n",
      "The downloaded binary packages are in\n",
      "\tC:\\Users\\Admin\\AppData\\Local\\Temp\\RtmpuGcMTI\\downloaded_packages\n"
     ]
    }
   ],
   "source": [
    "install.packages('rlang')"
   ]
  },
  {
   "cell_type": "code",
   "execution_count": 2,
   "metadata": {
    "vscode": {
     "languageId": "r"
    }
   },
   "outputs": [
    {
     "name": "stderr",
     "output_type": "stream",
     "text": [
      "Warning message:\n",
      "\"package 'caret' was built under R version 4.2.3\"\n",
      "Loading required package: ggplot2\n",
      "\n",
      "Warning message:\n",
      "\"package 'ggplot2' was built under R version 4.2.3\"\n",
      "Error: package or namespace load failed for 'ggplot2' in loadNamespace(i, c(lib.loc, .libPaths()), versionCheck = vI[[i]]):\n",
      " namespace 'rlang' 1.0.6 is already loaded, but >= 1.1.0 is required\n",
      "\n"
     ]
    },
    {
     "ename": "ERROR",
     "evalue": "Error: package 'ggplot2' could not be loaded\n",
     "output_type": "error",
     "traceback": [
      "Error: package 'ggplot2' could not be loaded\nTraceback:\n",
      "1. library(caret)",
      "2. .getRequiredPackages2(pkgInfo, quietly = quietly)",
      "3. stop(gettextf(\"package %s could not be loaded\", sQuote(pkg)), \n .     call. = FALSE, domain = NA)"
     ]
    }
   ],
   "source": [
    "library(foreign)\n",
    "library(car)\n",
    "library(lmtest)\n",
    "library(AER)\n",
    "library(caTools)\n",
    "library(caret)"
   ]
  },
  {
   "cell_type": "markdown",
   "metadata": {},
   "source": [
    "## BAI TAP 10.14.2+3:XAC SUAT VO NO\n",
    "\n",
    "# MO HINH LOGIT: XAC SUAT VO NO.  Data: mroz.txt\n",
    "\n",
    "# INPUT DATA & TRAIN.SET, TEST.SET\n"
   ]
  },
  {
   "cell_type": "code",
   "execution_count": 4,
   "metadata": {
    "vscode": {
     "languageId": "r"
    }
   },
   "outputs": [
    {
     "ename": "ERROR",
     "evalue": "Error in sample.split(leha$default_prin, SplitRatio = 0.8): could not find function \"sample.split\"\n",
     "output_type": "error",
     "traceback": [
      "Error in sample.split(leha$default_prin, SplitRatio = 0.8): could not find function \"sample.split\"\nTraceback:\n"
     ]
    }
   ],
   "source": [
    "leha=read.csv(\"leha.csv\", header=TRUE)\n",
    "#summary(leha)\n",
    "split=sample.split(leha$default_prin,SplitRatio=0.8)\n",
    "train.set=subset(leha, split==TRUE)\n",
    "# summary(train.set)\n",
    "test.set=subset(leha,split==FALSE)\n",
    "#test.set\n",
    "# train.set\n",
    "dim(test.set)"
   ]
  },
  {
   "cell_type": "markdown",
   "metadata": {},
   "source": [
    "## UOC LUONG LOGIT TREN TRAIN.SET"
   ]
  },
  {
   "cell_type": "code",
   "execution_count": null,
   "metadata": {
    "vscode": {
     "languageId": "r"
    }
   },
   "outputs": [],
   "source": [
    "logitres=glm(default_int~income2+spending2+experience+age+newcustomer+notran+notran3+wpcity+wpcompany+wpothers+wpmanager+wpspecialist+wpother+cash+home100+liveparent+rent,data=train.set,family=binomial(link=logit))\n",
    "summary(logitres)"
   ]
  },
  {
   "cell_type": "markdown",
   "metadata": {},
   "source": [
    "## DIEU CHINH MO HNH"
   ]
  },
  {
   "cell_type": "code",
   "execution_count": null,
   "metadata": {
    "vscode": {
     "languageId": "r"
    }
   },
   "outputs": [],
   "source": [
    "prob_L.train=fitted(logitres) #=glm(default_int~income2+age+newcustomer+notran3+wpcompany+wpmanager,data=train.set,family=binomial(link=logit))\n",
    "# head(prob_L.train)\n",
    "\n",
    "prob_L.train.classes <- ifelse(prob_L.train > 0.5, 1, 0)\n",
    "# Proportion of correctly classified observations:\n",
    "TLDBD=mean(prob_L.train.classes == train.set$default_int, na.rm=TRUE)\n",
    "print(\"Ty lệ dự bao đúng trên train.set =\")\n",
    "TLDBD"
   ]
  },
  {
   "cell_type": "markdown",
   "metadata": {},
   "source": [
    "## ƯỚC LƯỢNG MÔ HÌNH TRÊN TEST.SET"
   ]
  },
  {
   "cell_type": "code",
   "execution_count": null,
   "metadata": {
    "vscode": {
     "languageId": "r"
    }
   },
   "outputs": [],
   "source": [
    "prob_L.test <- predict(logitres, test.set,type=\"response\")  # predicted scores \n",
    "length(prob_L.test)\n",
    "prob_L.test.classes <- ifelse(prob_L.test > 0.5, 1,0)\n",
    "# prob_L.test.classes\n",
    "# Proportion of correctly classified observations:\n",
    "TLDBD_L.test=mean(prob_L.test.classes == test.set$default_int, na.rm=TRUE)\n",
    "print(\"Tỷ lệ dự báo đúng trên test.set=\")\n",
    "TLDBD_L.test"
   ]
  },
  {
   "cell_type": "markdown",
   "metadata": {},
   "source": [
    "## MOT SO PHAN TICH"
   ]
  },
  {
   "cell_type": "code",
   "execution_count": null,
   "metadata": {
    "vscode": {
     "languageId": "r"
    }
   },
   "outputs": [],
   "source": [
    "print('Tính APE- AVERAGE PAARTIAL EFFECTS- ảnh hưởng riêng trung bình của từng biến')\n",
    "Aprob_L=mean(prob_L.train)\n",
    "APE_L=coef(logitres)*Aprob_L\n",
    "print('APE=')  \n",
    "APE_L\n",
    "\n",
    "print('Tính tỷ số OR, lấy đến 4 chữ số thập phân')\n",
    "cbind(Estimate=round(coef(logitres),4),\n",
    "      OR=round(exp(coef(logitres)),4))\n",
    "\n",
    "print('Khoảng tin cậy cho OR')\n",
    "exp(cbind(OR = coef(logitres), confint(logitres)))\n",
    "\n",
    "\n",
    "print('CIs using profiled log-likelihood')\n",
    "\n",
    "confint(logitres)\n",
    "\n",
    "print('CIs using standard errors')\n",
    "confint.default(logitres)"
   ]
  }
 ],
 "metadata": {
  "kernelspec": {
   "display_name": "R",
   "language": "R",
   "name": "ir"
  },
  "language_info": {
   "codemirror_mode": "r",
   "file_extension": ".r",
   "mimetype": "text/x-r-source",
   "name": "R",
   "pygments_lexer": "r",
   "version": "4.2.1"
  },
  "orig_nbformat": 4
 },
 "nbformat": 4,
 "nbformat_minor": 2
}
