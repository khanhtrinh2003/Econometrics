{
 "cells": [
  {
   "cell_type": "code",
   "execution_count": 8,
   "metadata": {
    "vscode": {
     "languageId": "r"
    }
   },
   "outputs": [
    {
     "name": "stderr",
     "output_type": "stream",
     "text": [
      "Warning message:\n",
      "\"package 'dynlm' was built under R version 4.2.2\"\n"
     ]
    }
   ],
   "source": [
    "library(systemfit)\n",
    "library(stargazer)\n",
    "library(dynlm)"
   ]
  },
  {
   "cell_type": "code",
   "execution_count": 5,
   "metadata": {
    "vscode": {
     "languageId": "r"
    }
   },
   "outputs": [
    {
     "data": {
      "image/png": "[encoded data removed]",
      "text/plain": [
       "plot without title"
      ]
     },
     "metadata": {
      "image/png": {
       "height": 420,
       "width": 420
      }
     },
     "output_type": "display_data"
    }
   ],
   "source": [
    "ch10bt14<-read.table('ch10bt14.txt',header=TRUE)\n",
    "ch10bt14<-ts(ch10bt14,start(1959,1),frequency=1)\n",
    "ch10bt14<-as.data.frame(ch10bt14)\n",
    "I<-ch10bt14$I\n",
    "plot(I)\n",
    "R<-ch10bt14$R\n",
    "M<-ch10bt14$M\n",
    "Y<-ch10bt14$Y"
   ]
  },
  {
   "cell_type": "code",
   "execution_count": 20,
   "metadata": {
    "vscode": {
     "languageId": "r"
    }
   },
   "outputs": [
    {
     "data": {
      "text/plain": [
       "\n",
       "Time series regression with \"ts\" data:\n",
       "Start = 2, End = 32\n",
       "\n",
       "Call:\n",
       "dynlm(formula = ts(R) ~ ts(M) + L(ts(M), 1) + ts(I))\n",
       "\n",
       "Residuals:\n",
       "    Min      1Q  Median      3Q     Max \n",
       "-1.6521 -1.2500 -0.4302  0.9560  4.1936 \n",
       "\n",
       "Coefficients:\n",
       "             Estimate Std. Error t value Pr(>|t|)    \n",
       "(Intercept)  6.669155   0.672586   9.916  1.7e-10 ***\n",
       "ts(M)       -0.027028   0.019736  -1.369    0.182    \n",
       "L(ts(M), 1) -0.002934   0.018731  -0.157    0.877    \n",
       "ts(I)        0.032101   0.005656   5.675  5.0e-06 ***\n",
       "---\n",
       "Signif. codes:  0 '***' 0.001 '**' 0.01 '*' 0.05 '.' 0.1 ' ' 1\n",
       "\n",
       "Residual standard error: 1.631 on 27 degrees of freedom\n",
       "Multiple R-squared:  0.6992,\tAdjusted R-squared:  0.6658 \n",
       "F-statistic: 20.92 on 3 and 27 DF,  p-value: 3.268e-07\n"
      ]
     },
     "metadata": {},
     "output_type": "display_data"
    }
   ],
   "source": [
    "reg1<-dynlm(ts(R)~ts(M)+L(ts(M),1)+ts(I))\n",
    "summary(reg1)"
   ]
  },
  {
   "cell_type": "code",
   "execution_count": 10,
   "metadata": {
    "vscode": {
     "languageId": "r"
    }
   },
   "outputs": [],
   "source": [
    "bhat1<-coef(reg1)\n",
    "RHAT<-fitted.values(reg1)"
   ]
  },
  {
   "cell_type": "code",
   "execution_count": 21,
   "metadata": {
    "vscode": {
     "languageId": "r"
    }
   },
   "outputs": [
    {
     "data": {
      "text/plain": [
       "\n",
       "Time series regression with \"ts\" data:\n",
       "Start = 2, End = 32\n",
       "\n",
       "Call:\n",
       "dynlm(formula = ts(Y) ~ ts(M) + L(ts(M), 1) + ts(I))\n",
       "\n",
       "Residuals:\n",
       "    Min      1Q  Median      3Q     Max \n",
       "-252.51  -41.57  -12.83   10.39  277.72 \n",
       "\n",
       "Coefficients:\n",
       "            Estimate Std. Error t value Pr(>|t|)    \n",
       "(Intercept) -276.988     43.160  -6.418 7.09e-07 ***\n",
       "ts(M)          1.493      1.266   1.179   0.2488    \n",
       "L(ts(M), 1)    2.788      1.202   2.320   0.0282 *  \n",
       "ts(I)          2.577      0.363   7.101 1.24e-07 ***\n",
       "---\n",
       "Signif. codes:  0 '***' 0.001 '**' 0.01 '*' 0.05 '.' 0.1 ' ' 1\n",
       "\n",
       "Residual standard error: 104.7 on 27 degrees of freedom\n",
       "Multiple R-squared:  0.996,\tAdjusted R-squared:  0.9956 \n",
       "F-statistic:  2265 on 3 and 27 DF,  p-value: < 2.2e-16\n"
      ]
     },
     "metadata": {},
     "output_type": "display_data"
    }
   ],
   "source": [
    "reg2<-dynlm(ts(Y)~ts(M)+L(ts(M),1)+ts(I))\n",
    "summary(reg2)"
   ]
  },
  {
   "cell_type": "code",
   "execution_count": 12,
   "metadata": {
    "vscode": {
     "languageId": "r"
    }
   },
   "outputs": [
    {
     "data": {
      "text/html": [
       "<table class=\"dataframe\">\n",
       "<caption>A matrix: 32 × 2 of type dbl</caption>\n",
       "<thead>\n",
       "\t<tr><th></th><th scope=col>YHAT</th><th scope=col>RHAT</th></tr>\n",
       "</thead>\n",
       "<tbody>\n",
       "\t<tr><th scope=row>1</th><td> 505.6815</td><td> 4.985371</td></tr>\n",
       "\t<tr><th scope=row>2</th><td> 508.4192</td><td> 4.961126</td></tr>\n",
       "\t<tr><th scope=row>3</th><td> 525.6346</td><td> 4.800177</td></tr>\n",
       "\t<tr><th scope=row>4</th><td> 561.5960</td><td> 5.042877</td></tr>\n",
       "\t<tr><th scope=row>5</th><td> 598.4805</td><td> 5.055866</td></tr>\n",
       "\t<tr><th scope=row>6</th><td> 648.6040</td><td> 5.114484</td></tr>\n",
       "\t<tr><th scope=row>7</th><td> 720.4243</td><td> 5.417079</td></tr>\n",
       "\t<tr><th scope=row>8</th><td> 768.6464</td><td> 5.692458</td></tr>\n",
       "\t<tr><th scope=row>9</th><td> 810.4933</td><td> 5.278636</td></tr>\n",
       "\t<tr><th scope=row>10</th><td> 900.0969</td><td> 5.237715</td></tr>\n",
       "\t<tr><th scope=row>11</th><td> 965.2110</td><td> 5.537949</td></tr>\n",
       "\t<tr><th scope=row>12</th><td> 997.9610</td><td> 5.064203</td></tr>\n",
       "\t<tr><th scope=row>13</th><td>1118.8160</td><td> 5.462847</td></tr>\n",
       "\t<tr><th scope=row>14</th><td>1281.4786</td><td> 5.810040</td></tr>\n",
       "\t<tr><th scope=row>15</th><td>1431.1392</td><td> 6.615876</td></tr>\n",
       "\t<tr><th scope=row>16</th><td>1486.7380</td><td> 6.358153</td></tr>\n",
       "\t<tr><th scope=row>17</th><td>1494.5483</td><td> 5.321018</td></tr>\n",
       "\t<tr><th scope=row>18</th><td>1722.3727</td><td> 6.712138</td></tr>\n",
       "\t<tr><th scope=row>19</th><td>2004.3128</td><td> 8.292478</td></tr>\n",
       "\t<tr><th scope=row>20</th><td>2304.9200</td><td> 9.929812</td></tr>\n",
       "\t<tr><th scope=row>21</th><td>2521.8720</td><td>10.693171</td></tr>\n",
       "\t<tr><th scope=row>22</th><td>2601.8259</td><td> 9.504978</td></tr>\n",
       "\t<tr><th scope=row>23</th><td>2940.5171</td><td>11.603189</td></tr>\n",
       "\t<tr><th scope=row>24</th><td>2968.8714</td><td> 8.695193</td></tr>\n",
       "\t<tr><th scope=row>25</th><td>3274.1643</td><td> 8.692418</td></tr>\n",
       "\t<tr><th scope=row>26</th><td>3827.4098</td><td>13.336706</td></tr>\n",
       "\t<tr><th scope=row>27</th><td>4105.0798</td><td>11.162501</td></tr>\n",
       "\t<tr><th scope=row>28</th><td>4557.4516</td><td> 8.129680</td></tr>\n",
       "\t<tr><th scope=row>29</th><td>4743.1995</td><td> 8.393619</td></tr>\n",
       "\t<tr><th scope=row>30</th><td>5007.9078</td><td> 8.726331</td></tr>\n",
       "\t<tr><th scope=row>31</th><td>5146.1995</td><td> 9.934663</td></tr>\n",
       "\t<tr><th scope=row>32</th><td>5196.0774</td><td> 7.847248</td></tr>\n",
       "</tbody>\n",
       "</table>\n"
      ],
      "text/latex": [
       "A matrix: 32 × 2 of type dbl\n",
       "\\begin{tabular}{r|ll}\n",
       "  & YHAT & RHAT\\\\\n",
       "\\hline\n",
       "\t1 &  505.6815 &  4.985371\\\\\n",
       "\t2 &  508.4192 &  4.961126\\\\\n",
       "\t3 &  525.6346 &  4.800177\\\\\n",
       "\t4 &  561.5960 &  5.042877\\\\\n",
       "\t5 &  598.4805 &  5.055866\\\\\n",
       "\t6 &  648.6040 &  5.114484\\\\\n",
       "\t7 &  720.4243 &  5.417079\\\\\n",
       "\t8 &  768.6464 &  5.692458\\\\\n",
       "\t9 &  810.4933 &  5.278636\\\\\n",
       "\t10 &  900.0969 &  5.237715\\\\\n",
       "\t11 &  965.2110 &  5.537949\\\\\n",
       "\t12 &  997.9610 &  5.064203\\\\\n",
       "\t13 & 1118.8160 &  5.462847\\\\\n",
       "\t14 & 1281.4786 &  5.810040\\\\\n",
       "\t15 & 1431.1392 &  6.615876\\\\\n",
       "\t16 & 1486.7380 &  6.358153\\\\\n",
       "\t17 & 1494.5483 &  5.321018\\\\\n",
       "\t18 & 1722.3727 &  6.712138\\\\\n",
       "\t19 & 2004.3128 &  8.292478\\\\\n",
       "\t20 & 2304.9200 &  9.929812\\\\\n",
       "\t21 & 2521.8720 & 10.693171\\\\\n",
       "\t22 & 2601.8259 &  9.504978\\\\\n",
       "\t23 & 2940.5171 & 11.603189\\\\\n",
       "\t24 & 2968.8714 &  8.695193\\\\\n",
       "\t25 & 3274.1643 &  8.692418\\\\\n",
       "\t26 & 3827.4098 & 13.336706\\\\\n",
       "\t27 & 4105.0798 & 11.162501\\\\\n",
       "\t28 & 4557.4516 &  8.129680\\\\\n",
       "\t29 & 4743.1995 &  8.393619\\\\\n",
       "\t30 & 5007.9078 &  8.726331\\\\\n",
       "\t31 & 5146.1995 &  9.934663\\\\\n",
       "\t32 & 5196.0774 &  7.847248\\\\\n",
       "\\end{tabular}\n"
      ],
      "text/markdown": [
       "\n",
       "A matrix: 32 × 2 of type dbl\n",
       "\n",
       "| <!--/--> | YHAT | RHAT |\n",
       "|---|---|---|\n",
       "| 1 |  505.6815 |  4.985371 |\n",
       "| 2 |  508.4192 |  4.961126 |\n",
       "| 3 |  525.6346 |  4.800177 |\n",
       "| 4 |  561.5960 |  5.042877 |\n",
       "| 5 |  598.4805 |  5.055866 |\n",
       "| 6 |  648.6040 |  5.114484 |\n",
       "| 7 |  720.4243 |  5.417079 |\n",
       "| 8 |  768.6464 |  5.692458 |\n",
       "| 9 |  810.4933 |  5.278636 |\n",
       "| 10 |  900.0969 |  5.237715 |\n",
       "| 11 |  965.2110 |  5.537949 |\n",
       "| 12 |  997.9610 |  5.064203 |\n",
       "| 13 | 1118.8160 |  5.462847 |\n",
       "| 14 | 1281.4786 |  5.810040 |\n",
       "| 15 | 1431.1392 |  6.615876 |\n",
       "| 16 | 1486.7380 |  6.358153 |\n",
       "| 17 | 1494.5483 |  5.321018 |\n",
       "| 18 | 1722.3727 |  6.712138 |\n",
       "| 19 | 2004.3128 |  8.292478 |\n",
       "| 20 | 2304.9200 |  9.929812 |\n",
       "| 21 | 2521.8720 | 10.693171 |\n",
       "| 22 | 2601.8259 |  9.504978 |\n",
       "| 23 | 2940.5171 | 11.603189 |\n",
       "| 24 | 2968.8714 |  8.695193 |\n",
       "| 25 | 3274.1643 |  8.692418 |\n",
       "| 26 | 3827.4098 | 13.336706 |\n",
       "| 27 | 4105.0798 | 11.162501 |\n",
       "| 28 | 4557.4516 |  8.129680 |\n",
       "| 29 | 4743.1995 |  8.393619 |\n",
       "| 30 | 5007.9078 |  8.726331 |\n",
       "| 31 | 5146.1995 |  9.934663 |\n",
       "| 32 | 5196.0774 |  7.847248 |\n",
       "\n"
      ],
      "text/plain": [
       "   YHAT      RHAT     \n",
       "1   505.6815  4.985371\n",
       "2   508.4192  4.961126\n",
       "3   525.6346  4.800177\n",
       "4   561.5960  5.042877\n",
       "5   598.4805  5.055866\n",
       "6   648.6040  5.114484\n",
       "7   720.4243  5.417079\n",
       "8   768.6464  5.692458\n",
       "9   810.4933  5.278636\n",
       "10  900.0969  5.237715\n",
       "11  965.2110  5.537949\n",
       "12  997.9610  5.064203\n",
       "13 1118.8160  5.462847\n",
       "14 1281.4786  5.810040\n",
       "15 1431.1392  6.615876\n",
       "16 1486.7380  6.358153\n",
       "17 1494.5483  5.321018\n",
       "18 1722.3727  6.712138\n",
       "19 2004.3128  8.292478\n",
       "20 2304.9200  9.929812\n",
       "21 2521.8720 10.693171\n",
       "22 2601.8259  9.504978\n",
       "23 2940.5171 11.603189\n",
       "24 2968.8714  8.695193\n",
       "25 3274.1643  8.692418\n",
       "26 3827.4098 13.336706\n",
       "27 4105.0798 11.162501\n",
       "28 4557.4516  8.129680\n",
       "29 4743.1995  8.393619\n",
       "30 5007.9078  8.726331\n",
       "31 5146.1995  9.934663\n",
       "32 5196.0774  7.847248"
      ]
     },
     "metadata": {},
     "output_type": "display_data"
    }
   ],
   "source": [
    "YHAT<-fitted.values(reg2)\n",
    "b<-cbind(YHAT,RHAT)\n",
    "b"
   ]
  },
  {
   "cell_type": "code",
   "execution_count": 13,
   "metadata": {
    "vscode": {
     "languageId": "r"
    }
   },
   "outputs": [
    {
     "name": "stdout",
     "output_type": "stream",
     "text": [
      "\n",
      "==========================================================\n",
      "                                  Dependent variable:     \n",
      "                              ----------------------------\n",
      "                                    R              Y      \n",
      "                                   (1)            (2)     \n",
      "----------------------------------------------------------\n",
      "M                               -0.030***      4.260***   \n",
      "                                 (0.006)        (0.446)   \n",
      "                                                          \n",
      "lag(M, 1)                                                 \n",
      "                                                          \n",
      "                                                          \n",
      "I                                0.032***      2.446***   \n",
      "                                 (0.005)        (0.378)   \n",
      "                                                          \n",
      "Constant                         6.636***     -283.511*** \n",
      "                                 (0.640)       (44.841)   \n",
      "                                                          \n",
      "----------------------------------------------------------\n",
      "Observations                        32            32      \n",
      "R2                                0.708          0.995    \n",
      "Adjusted R2                       0.688          0.995    \n",
      "Residual Std. Error (df = 29)     1.578         110.636   \n",
      "F Statistic (df = 2; 29)        35.133***    3,152.101*** \n",
      "==========================================================\n",
      "Note:                          *p<0.1; **p<0.05; ***p<0.01\n"
     ]
    }
   ],
   "source": [
    "stargazer(reg1,reg2,type='text')"
   ]
  },
  {
   "cell_type": "code",
   "execution_count": null,
   "metadata": {
    "vscode": {
     "languageId": "r"
    }
   },
   "outputs": [],
   "source": [
    "subsample<-ch10bt14[2:32,1:4]\n",
    "subsample"
   ]
  },
  {
   "cell_type": "code",
   "execution_count": 18,
   "metadata": {
    "vscode": {
     "languageId": "r"
    }
   },
   "outputs": [
    {
     "name": "stdout",
     "output_type": "stream",
     "text": [
      "\n",
      "=================================================================\n",
      "                                 Dependent variable:             \n",
      "                    ---------------------------------------------\n",
      "                                        ts(R)                    \n",
      "                             (1)                    (2)          \n",
      "-----------------------------------------------------------------\n",
      "ts(YHAT)                   0.016***              -0.004***       \n",
      "                           (0.003)                (0.001)        \n",
      "                                                                 \n",
      "ts(M)                      -0.048*                               \n",
      "                           (0.024)                               \n",
      "                                                                 \n",
      "L(ts(M), 1)                -0.059**                              \n",
      "                           (0.021)                               \n",
      "                                                                 \n",
      "ts(I)                                             0.030***       \n",
      "                                                  (0.007)        \n",
      "                                                                 \n",
      "Constant                  12.461***               4.567***       \n",
      "                           (1.655)                (0.564)        \n",
      "                                                                 \n",
      "-----------------------------------------------------------------\n",
      "Observations                  30                     31          \n",
      "R2                          0.651                  0.619         \n",
      "Adjusted R2                 0.610                  0.592         \n",
      "Residual Std. Error    1.746 (df = 26)        1.803 (df = 28)    \n",
      "F Statistic         16.132*** (df = 3; 26) 22.742*** (df = 2; 28)\n",
      "=================================================================\n",
      "Note:                                 *p<0.1; **p<0.05; ***p<0.01\n"
     ]
    }
   ],
   "source": [
    "reg3<-dynlm(ts(R)~ts(YHAT)+ts(M)+L(ts(M),1),data=subsample)\n",
    "reg4<-dynlm(ts(R)~ts(YHAT)+ts(I),data=subsample)\n",
    "stargazer(reg3,reg4,type='text')"
   ]
  },
  {
   "cell_type": "code",
   "execution_count": 22,
   "metadata": {
    "vscode": {
     "languageId": "r"
    }
   },
   "outputs": [
    {
     "name": "stdout",
     "output_type": "stream",
     "text": [
      "\n",
      "==================================================================\n",
      "                                 Dependent variable:              \n",
      "                    ----------------------------------------------\n",
      "                            ts(R)                   ts(Y)         \n",
      "                             (1)                     (2)          \n",
      "------------------------------------------------------------------\n",
      "ts(Y)                      0.012***                               \n",
      "                           (0.002)                                \n",
      "                                                                  \n",
      "ts(M)                      -0.046**                               \n",
      "                           (0.019)                                \n",
      "                                                                  \n",
      "L(ts(M), 1)                -0.038**                               \n",
      "                           (0.016)                                \n",
      "                                                                  \n",
      "ts(R)                                            -143.300***      \n",
      "                                                  (40.598)        \n",
      "                                                                  \n",
      "ts(I)                                             7.039***        \n",
      "                                                   (0.367)        \n",
      "                                                                  \n",
      "Constant                  10.119***              671.981***       \n",
      "                           (0.971)                (212.157)       \n",
      "                                                                  \n",
      "------------------------------------------------------------------\n",
      "Observations                  31                     31           \n",
      "R2                          0.772                   0.966         \n",
      "Adjusted R2                 0.746                   0.964         \n",
      "Residual Std. Error    1.421 (df = 27)        301.247 (df = 28)   \n",
      "F Statistic         27.558*** (df = 3; 27) 409.974*** (df = 2; 28)\n",
      "==================================================================\n",
      "Note:                                  *p<0.1; **p<0.05; ***p<0.01\n"
     ]
    }
   ],
   "source": [
    "reg31<-dynlm(ts(R)~ts(Y)+ts(M)+L(ts(M),1)|ts(M)+ts(I)+L(ts(M),1))\n",
    "reg41<-dynlm(ts(Y)~ts(R)+ts(I)|ts(M)+ts(I)+L(ts(M),1))\n",
    "stargazer(reg31,reg41,type='text')"
   ]
  },
  {
   "cell_type": "code",
   "execution_count": 34,
   "metadata": {
    "vscode": {
     "languageId": "r"
    }
   },
   "outputs": [],
   "source": [
    "library(systemfit)\n",
    "eq.Laisuat<-R~Y+M+lag(M,1)\n",
    "eq.Thunhap<-Y~R+I\n",
    "eq.system<-list(eq.Thunhap,eq.Laisuat)\n",
    "instrum<- ~M+lag(M,1)+I"
   ]
  },
  {
   "cell_type": "code",
   "execution_count": 35,
   "metadata": {
    "vscode": {
     "languageId": "r"
    }
   },
   "outputs": [
    {
     "ename": "ERROR",
     "evalue": "Error in solve(crossprod(zMatEq[[i]]), crossprod(zMatEq[[i]], xMatAllThisEq), : the leading minor of order 3 is not positive definite\n",
     "output_type": "error",
     "traceback": [
      "Error in solve(crossprod(zMatEq[[i]]), crossprod(zMatEq[[i]], xMatAllThisEq), : the leading minor of order 3 is not positive definite\nTraceback:\n",
      "1. systemfit(eq.system, inst = instrum, method = \"2SLS\")",
      "2. calcFittedRegMat(xMatAll = xMatAll, zMatEq = zMatEq, nEq = nEq, \n .     nObsEq = nObsEq, useMatrix = control$useMatrix, solvetol = control$solvetol)",
      "3. solve(crossprod(zMatEq[[i]]), crossprod(zMatEq[[i]], xMatAllThisEq), \n .     tol = solvetol)",
      "4. solve(crossprod(zMatEq[[i]]), crossprod(zMatEq[[i]], xMatAllThisEq), \n .     tol = solvetol)"
     ]
    }
   ],
   "source": [
    "my.sys<-(systemfit(eq.system,inst=instrum,method=\"2SLS\"))\n",
    "my.sys"
   ]
  },
  {
   "cell_type": "code",
   "execution_count": null,
   "metadata": {
    "vscode": {
     "languageId": "r"
    }
   },
   "outputs": [],
   "source": [
    "\n",
    "\n",
    "\n",
    "summary(my.sys)"
   ]
  }
 ],
 "metadata": {
  "kernelspec": {
   "display_name": "R",
   "language": "R",
   "name": "ir"
  },
  "language_info": {
   "codemirror_mode": "r",
   "file_extension": ".r",
   "mimetype": "text/x-r-source",
   "name": "R",
   "pygments_lexer": "r",
   "version": "4.2.1"
  },
  "orig_nbformat": 4
 },
 "nbformat": 4,
 "nbformat_minor": 2
}
