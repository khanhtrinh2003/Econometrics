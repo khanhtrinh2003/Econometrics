{
 "cells": [
  {
   "cell_type": "code",
   "execution_count": 6,
   "metadata": {
    "vscode": {
     "languageId": "r"
    }
   },
   "outputs": [
    {
     "name": "stderr",
     "output_type": "stream",
     "text": [
      "Warning message:\n",
      "\"package 'systemfit' was built under R version 4.2.2\"\n",
      "Loading required package: Matrix\n",
      "\n"
     ]
    },
    {
     "name": "stderr",
     "output_type": "stream",
     "text": [
      "Loading required package: car\n",
      "\n",
      "Warning message:\n",
      "\"package 'car' was built under R version 4.2.2\"\n",
      "Loading required package: carData\n",
      "\n",
      "Warning message:\n",
      "\"package 'carData' was built under R version 4.2.2\"\n",
      "Loading required package: lmtest\n",
      "\n",
      "Warning message:\n",
      "\"package 'lmtest' was built under R version 4.2.2\"\n",
      "Loading required package: zoo\n",
      "\n",
      "Warning message:\n",
      "\"package 'zoo' was built under R version 4.2.2\"\n",
      "\n",
      "Attaching package: 'zoo'\n",
      "\n",
      "\n",
      "The following objects are masked from 'package:base':\n",
      "\n",
      "    as.Date, as.Date.numeric\n",
      "\n",
      "\n",
      "\n",
      "Please cite the 'systemfit' package as:\n",
      "Arne Henningsen and Jeff D. Hamann (2007). systemfit: A Package for Estimating Systems of Simultaneous Equations in R. Journal of Statistical Software 23(4), 1-40. http://www.jstatsoft.org/v23/i04/.\n",
      "\n",
      "If you have questions, suggestions, or comments regarding the 'systemfit' package, please use a forum or 'tracker' at systemfit's R-Forge site:\n",
      "https://r-forge.r-project.org/projects/systemfit/\n",
      "\n",
      "\n",
      "Please cite as: \n",
      "\n",
      "\n",
      " Hlavac, Marek (2022). stargazer: Well-Formatted Regression and Summary Statistics Tables.\n",
      "\n",
      " R package version 5.2.3. https://CRAN.R-project.org/package=stargazer \n",
      "\n",
      "\n"
     ]
    }
   ],
   "source": [
    "library(systemfit)\n",
    "library(stargazer)"
   ]
  },
  {
   "cell_type": "code",
   "execution_count": 5,
   "metadata": {
    "vscode": {
     "languageId": "r"
    }
   },
   "outputs": [
    {
     "data": {
      "image/png": "[encoded data removed]",
      "text/plain": [
       "plot without title"
      ]
     },
     "metadata": {
      "image/png": {
       "height": 420,
       "width": 420
      }
     },
     "output_type": "display_data"
    }
   ],
   "source": [
    "ch10bt14<-read.table('ch10bt14.txt',header=TRUE)\n",
    "ch10bt14<-ts(ch10bt14,start(1959,1),frequency=1)\n",
    "ch10bt14<-as.data.frame(ch10bt14)\n",
    "I<-ch10bt14$I\n",
    "plot(I)\n",
    "R<-ch10bt14$R\n",
    "M<-ch10bt14$M\n",
    "Y<-ch10bt14$Y"
   ]
  },
  {
   "cell_type": "code",
   "execution_count": null,
   "metadata": {
    "vscode": {
     "languageId": "r"
    }
   },
   "outputs": [],
   "source": [
    "reg1<-dynlm(R~M+)"
   ]
  }
 ],
 "metadata": {
  "kernelspec": {
   "display_name": "R",
   "language": "R",
   "name": "ir"
  },
  "language_info": {
   "codemirror_mode": "r",
   "file_extension": ".r",
   "mimetype": "text/x-r-source",
   "name": "R",
   "pygments_lexer": "r",
   "version": "4.2.1"
  },
  "orig_nbformat": 4
 },
 "nbformat": 4,
 "nbformat_minor": 2
}
