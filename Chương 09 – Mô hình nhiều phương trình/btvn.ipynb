{
 "cells": [
  {
   "cell_type": "markdown",
   "metadata": {},
   "source": [
    "# VÍ DỤ 9.15"
   ]
  },
  {
   "cell_type": "code",
   "execution_count": 2,
   "metadata": {
    "vscode": {
     "languageId": "r"
    }
   },
   "outputs": [
    {
     "name": "stderr",
     "output_type": "stream",
     "text": [
      "Warning message:\n",
      "\"package 'AER' was built under R version 4.2.2\"\n",
      "Loading required package: car\n",
      "\n",
      "Warning message:\n",
      "\"package 'car' was built under R version 4.2.2\"\n",
      "Loading required package: carData\n",
      "\n",
      "Warning message:\n",
      "\"package 'carData' was built under R version 4.2.2\"\n",
      "Loading required package: lmtest\n",
      "\n",
      "Warning message:\n",
      "\"package 'lmtest' was built under R version 4.2.2\"\n",
      "Loading required package: zoo\n",
      "\n",
      "Warning message:\n",
      "\"package 'zoo' was built under R version 4.2.2\"\n",
      "\n",
      "Attaching package: 'zoo'\n",
      "\n",
      "\n",
      "The following objects are masked from 'package:base':\n",
      "\n",
      "    as.Date, as.Date.numeric\n",
      "\n",
      "\n",
      "Loading required package: sandwich\n",
      "\n",
      "Warning message:\n",
      "\"package 'sandwich' was built under R version 4.2.2\"\n",
      "Loading required package: survival\n",
      "\n",
      "Warning message:\n",
      "\"package 'dynlm' was built under R version 4.2.2\"\n",
      "\n",
      "Attaching package: 'dplyr'\n",
      "\n",
      "\n",
      "The following object is masked from 'package:car':\n",
      "\n",
      "    recode\n",
      "\n",
      "\n",
      "The following objects are masked from 'package:stats':\n",
      "\n",
      "    filter, lag\n",
      "\n",
      "\n",
      "The following objects are masked from 'package:base':\n",
      "\n",
      "    intersect, setdiff, setequal, union\n",
      "\n",
      "\n",
      "Warning message:\n",
      "\"package 'systemfit' was built under R version 4.2.3\"\n",
      "Loading required package: Matrix\n",
      "\n",
      "\n",
      "Please cite the 'systemfit' package as:\n",
      "Arne Henningsen and Jeff D. Hamann (2007). systemfit: A Package for Estimating Systems of Simultaneous Equations in R. Journal of Statistical Software 23(4), 1-40. http://www.jstatsoft.org/v23/i04/.\n",
      "\n",
      "If you have questions, suggestions, or comments regarding the 'systemfit' package, please use a forum or 'tracker' at systemfit's R-Forge site:\n",
      "https://r-forge.r-project.org/projects/systemfit/\n",
      "\n",
      "\n",
      "Please cite as: \n",
      "\n",
      "\n",
      " Hlavac, Marek (2022). stargazer: Well-Formatted Regression and Summary Statistics Tables.\n",
      "\n",
      " R package version 5.2.3. https://CRAN.R-project.org/package=stargazer \n",
      "\n",
      "\n"
     ]
    }
   ],
   "source": [
    "library(foreign); library(AER) \n",
    "library(car); library(carData)\n",
    "library(lmtest);library(zoo)\n",
    "library(sandwich); library(dynlm)\n",
    "library(dplyr);\n",
    "# Cài đặt \"systemfit), strargazer (nếu chưa cài đặt)\n",
    "library(systemfit)\n",
    "library(stargazer)\n"
   ]
  },
  {
   "cell_type": "markdown",
   "metadata": {},
   "source": [
    "- CÁC BIẾN: Y-Thu nhập; I-Đầu tư; M - Cầu tiền; R - Lãi suất dài hạn; Data: ch10bt14.txt\n",
    "- Hệ phương trình: \n",
    "\n",
    "$$\\begin{cases}R=b_0+b_1*Y+b_2*M+b_3*M(-1)+u_1;\\\\ Y=a_0+a_1*R+a_2*I\\end{cases}$$"
   ]
  },
  {
   "cell_type": "code",
   "execution_count": 3,
   "metadata": {
    "vscode": {
     "languageId": "r"
    }
   },
   "outputs": [
    {
     "data": {
      "image/png": "[encoded data removed]",
      "text/plain": [
       "plot without title"
      ]
     },
     "metadata": {
      "image/png": {
       "height": 420,
       "width": 420
      }
     },
     "output_type": "display_data"
    }
   ],
   "source": [
    "ch10bt14=read.table(\"ch10bt14.txt\", header=TRUE)\n",
    "ch10bt14=ts(ch10bt14, start(1959,1), frequency=1)\n",
    "ch10bt14=as.data.frame(ch10bt14)\n",
    "I=ch10bt14$I\n",
    "plot(I)"
   ]
  },
  {
   "cell_type": "code",
   "execution_count": 4,
   "metadata": {
    "vscode": {
     "languageId": "r"
    }
   },
   "outputs": [],
   "source": [
    "R=ch10bt14$R\n",
    "# plot(R)\n",
    "M=ch10bt14$M\n",
    "#plot(M)\n",
    "Y=ch10bt14$Y\n",
    "# plot(Y)"
   ]
  },
  {
   "cell_type": "markdown",
   "metadata": {},
   "source": [
    "## Định dạng từng phương trình\n",
    "- Phương trình 1: Định dạng đúng\n",
    "- Phương trình 2: Vô định\n",
    "- Phương pháp 2SLS"
   ]
  },
  {
   "cell_type": "markdown",
   "metadata": {},
   "source": [
    "## Giai đoạn 1 - TÍNH BIẾN CÔNG CỤ\n",
    "- Ước lượng cac phương trình rút gọn, ghi lại cac giá trị fitted của biến phụ thuộc\n",
    "- Ước lượng  phương trình rút gọn thứ nhất\n",
    "- Các biến công cụ: hệ số chặn, M, M(-1), I"
   ]
  },
  {
   "cell_type": "code",
   "execution_count": 5,
   "metadata": {
    "vscode": {
     "languageId": "r"
    }
   },
   "outputs": [
    {
     "data": {
      "text/plain": [
       "\n",
       "Time series regression with \"numeric\" data:\n",
       "Start = 1, End = 31\n",
       "\n",
       "Call:\n",
       "dynlm(formula = R ~ M + lag(M, 1) + I)\n",
       "\n",
       "Residuals:\n",
       "    Min      1Q  Median      3Q     Max \n",
       "-1.6521 -1.2500 -0.4302  0.9560  4.1936 \n",
       "\n",
       "Coefficients:\n",
       "             Estimate Std. Error t value Pr(>|t|)    \n",
       "(Intercept)  6.669155   0.672586   9.916  1.7e-10 ***\n",
       "M           -0.027028   0.019736  -1.369    0.182    \n",
       "lag(M, 1)   -0.002934   0.018731  -0.157    0.877    \n",
       "I            0.032101   0.005656   5.675  5.0e-06 ***\n",
       "---\n",
       "Signif. codes:  0 '***' 0.001 '**' 0.01 '*' 0.05 '.' 0.1 ' ' 1\n",
       "\n",
       "Residual standard error: 1.631 on 27 degrees of freedom\n",
       "  (1 observation deleted due to missingness)\n",
       "Multiple R-squared:  0.6992,\tAdjusted R-squared:  0.6658 \n",
       "F-statistic: 20.92 on 3 and 27 DF,  p-value: 3.268e-07\n"
      ]
     },
     "metadata": {},
     "output_type": "display_data"
    }
   ],
   "source": [
    "reg1= dynlm(R~ M+lag(M,1)+I)\n",
    "# Ghi lại hệ số của phương trình thứ nhất\n",
    "bhat1=coef(reg1)\n",
    "# Ghi lại các giá trị fitted của R\n",
    "RHAT= fitted.values(reg1)\n",
    "\n",
    "summary(reg1)"
   ]
  },
  {
   "cell_type": "code",
   "execution_count": 6,
   "metadata": {
    "vscode": {
     "languageId": "r"
    }
   },
   "outputs": [
    {
     "data": {
      "text/plain": [
       "\n",
       "Time series regression with \"numeric\" data:\n",
       "Start = 1, End = 31\n",
       "\n",
       "Call:\n",
       "dynlm(formula = Y ~ M + lag(M, 1) + I)\n",
       "\n",
       "Residuals:\n",
       "    Min      1Q  Median      3Q     Max \n",
       "-252.51  -41.57  -12.83   10.39  277.72 \n",
       "\n",
       "Coefficients:\n",
       "            Estimate Std. Error t value Pr(>|t|)    \n",
       "(Intercept) -276.988     43.160  -6.418 7.09e-07 ***\n",
       "M              1.493      1.266   1.179   0.2488    \n",
       "lag(M, 1)      2.788      1.202   2.320   0.0282 *  \n",
       "I              2.577      0.363   7.101 1.24e-07 ***\n",
       "---\n",
       "Signif. codes:  0 '***' 0.001 '**' 0.01 '*' 0.05 '.' 0.1 ' ' 1\n",
       "\n",
       "Residual standard error: 104.7 on 27 degrees of freedom\n",
       "  (1 observation deleted due to missingness)\n",
       "Multiple R-squared:  0.996,\tAdjusted R-squared:  0.9956 \n",
       "F-statistic:  2265 on 3 and 27 DF,  p-value: < 2.2e-16\n"
      ]
     },
     "metadata": {},
     "output_type": "display_data"
    }
   ],
   "source": [
    "# Ước lượng phương trình rút gọn thứ 2\n",
    "reg2= dynlm(Y~ M+lag(M,1)+I)\n",
    "# bhat2=coef(reg2)\n",
    "YHAT= fitted.values(reg2)\n",
    "summary(reg2)"
   ]
  },
  {
   "cell_type": "code",
   "execution_count": 7,
   "metadata": {
    "vscode": {
     "languageId": "r"
    }
   },
   "outputs": [
    {
     "data": {
      "text/html": [
       "<table class=\"dataframe\">\n",
       "<caption>A matrix: 31 × 2 of type dbl</caption>\n",
       "<thead>\n",
       "\t<tr><th></th><th scope=col>YHAT</th><th scope=col>RHAT</th></tr>\n",
       "</thead>\n",
       "<tbody>\n",
       "\t<tr><th scope=row>2</th><td> 526.1840</td><td> 4.981948</td></tr>\n",
       "\t<tr><th scope=row>3</th><td> 532.7910</td><td> 4.832589</td></tr>\n",
       "\t<tr><th scope=row>4</th><td> 575.1391</td><td> 5.067419</td></tr>\n",
       "\t<tr><th scope=row>5</th><td> 605.0510</td><td> 5.087399</td></tr>\n",
       "\t<tr><th scope=row>6</th><td> 652.2245</td><td> 5.148504</td></tr>\n",
       "\t<tr><th scope=row>7</th><td> 724.9438</td><td> 5.448500</td></tr>\n",
       "\t<tr><th scope=row>8</th><td> 784.0803</td><td> 5.711028</td></tr>\n",
       "\t<tr><th scope=row>9</th><td> 806.3229</td><td> 5.318954</td></tr>\n",
       "\t<tr><th scope=row>10</th><td> 889.4135</td><td> 5.284300</td></tr>\n",
       "\t<tr><th scope=row>11</th><td> 978.1371</td><td> 5.558100</td></tr>\n",
       "\t<tr><th scope=row>12</th><td> 999.3045</td><td> 5.097947</td></tr>\n",
       "\t<tr><th scope=row>13</th><td>1114.2718</td><td> 5.500392</td></tr>\n",
       "\t<tr><th scope=row>14</th><td>1261.7954</td><td> 5.860962</td></tr>\n",
       "\t<tr><th scope=row>15</th><td>1437.0099</td><td> 6.635844</td></tr>\n",
       "\t<tr><th scope=row>16</th><td>1499.0518</td><td> 6.371798</td></tr>\n",
       "\t<tr><th scope=row>17</th><td>1499.7901</td><td> 5.345701</td></tr>\n",
       "\t<tr><th scope=row>18</th><td>1720.3154</td><td> 6.737732</td></tr>\n",
       "\t<tr><th scope=row>19</th><td>1995.1964</td><td> 8.317622</td></tr>\n",
       "\t<tr><th scope=row>20</th><td>2300.1618</td><td> 9.942138</td></tr>\n",
       "\t<tr><th scope=row>21</th><td>2531.2046</td><td>10.686206</td></tr>\n",
       "\t<tr><th scope=row>22</th><td>2605.5708</td><td> 9.507434</td></tr>\n",
       "\t<tr><th scope=row>23</th><td>2952.2337</td><td>11.587088</td></tr>\n",
       "\t<tr><th scope=row>24</th><td>2945.1931</td><td> 8.726368</td></tr>\n",
       "\t<tr><th scope=row>25</th><td>3232.5880</td><td> 8.739944</td></tr>\n",
       "\t<tr><th scope=row>26</th><td>3853.1295</td><td>13.292515</td></tr>\n",
       "\t<tr><th scope=row>27</th><td>4029.2741</td><td>11.230546</td></tr>\n",
       "\t<tr><th scope=row>28</th><td>4381.8508</td><td> 8.309747</td></tr>\n",
       "\t<tr><th scope=row>29</th><td>4792.5355</td><td> 8.334553</td></tr>\n",
       "\t<tr><th scope=row>30</th><td>5032.3018</td><td> 8.690175</td></tr>\n",
       "\t<tr><th scope=row>31</th><td>5258.7664</td><td> 9.800336</td></tr>\n",
       "\t<tr><th scope=row>32</th><td>5236.1069</td><td> 7.796208</td></tr>\n",
       "</tbody>\n",
       "</table>\n"
      ],
      "text/latex": [
       "A matrix: 31 × 2 of type dbl\n",
       "\\begin{tabular}{r|ll}\n",
       "  & YHAT & RHAT\\\\\n",
       "\\hline\n",
       "\t2 &  526.1840 &  4.981948\\\\\n",
       "\t3 &  532.7910 &  4.832589\\\\\n",
       "\t4 &  575.1391 &  5.067419\\\\\n",
       "\t5 &  605.0510 &  5.087399\\\\\n",
       "\t6 &  652.2245 &  5.148504\\\\\n",
       "\t7 &  724.9438 &  5.448500\\\\\n",
       "\t8 &  784.0803 &  5.711028\\\\\n",
       "\t9 &  806.3229 &  5.318954\\\\\n",
       "\t10 &  889.4135 &  5.284300\\\\\n",
       "\t11 &  978.1371 &  5.558100\\\\\n",
       "\t12 &  999.3045 &  5.097947\\\\\n",
       "\t13 & 1114.2718 &  5.500392\\\\\n",
       "\t14 & 1261.7954 &  5.860962\\\\\n",
       "\t15 & 1437.0099 &  6.635844\\\\\n",
       "\t16 & 1499.0518 &  6.371798\\\\\n",
       "\t17 & 1499.7901 &  5.345701\\\\\n",
       "\t18 & 1720.3154 &  6.737732\\\\\n",
       "\t19 & 1995.1964 &  8.317622\\\\\n",
       "\t20 & 2300.1618 &  9.942138\\\\\n",
       "\t21 & 2531.2046 & 10.686206\\\\\n",
       "\t22 & 2605.5708 &  9.507434\\\\\n",
       "\t23 & 2952.2337 & 11.587088\\\\\n",
       "\t24 & 2945.1931 &  8.726368\\\\\n",
       "\t25 & 3232.5880 &  8.739944\\\\\n",
       "\t26 & 3853.1295 & 13.292515\\\\\n",
       "\t27 & 4029.2741 & 11.230546\\\\\n",
       "\t28 & 4381.8508 &  8.309747\\\\\n",
       "\t29 & 4792.5355 &  8.334553\\\\\n",
       "\t30 & 5032.3018 &  8.690175\\\\\n",
       "\t31 & 5258.7664 &  9.800336\\\\\n",
       "\t32 & 5236.1069 &  7.796208\\\\\n",
       "\\end{tabular}\n"
      ],
      "text/markdown": [
       "\n",
       "A matrix: 31 × 2 of type dbl\n",
       "\n",
       "| <!--/--> | YHAT | RHAT |\n",
       "|---|---|---|\n",
       "| 2 |  526.1840 |  4.981948 |\n",
       "| 3 |  532.7910 |  4.832589 |\n",
       "| 4 |  575.1391 |  5.067419 |\n",
       "| 5 |  605.0510 |  5.087399 |\n",
       "| 6 |  652.2245 |  5.148504 |\n",
       "| 7 |  724.9438 |  5.448500 |\n",
       "| 8 |  784.0803 |  5.711028 |\n",
       "| 9 |  806.3229 |  5.318954 |\n",
       "| 10 |  889.4135 |  5.284300 |\n",
       "| 11 |  978.1371 |  5.558100 |\n",
       "| 12 |  999.3045 |  5.097947 |\n",
       "| 13 | 1114.2718 |  5.500392 |\n",
       "| 14 | 1261.7954 |  5.860962 |\n",
       "| 15 | 1437.0099 |  6.635844 |\n",
       "| 16 | 1499.0518 |  6.371798 |\n",
       "| 17 | 1499.7901 |  5.345701 |\n",
       "| 18 | 1720.3154 |  6.737732 |\n",
       "| 19 | 1995.1964 |  8.317622 |\n",
       "| 20 | 2300.1618 |  9.942138 |\n",
       "| 21 | 2531.2046 | 10.686206 |\n",
       "| 22 | 2605.5708 |  9.507434 |\n",
       "| 23 | 2952.2337 | 11.587088 |\n",
       "| 24 | 2945.1931 |  8.726368 |\n",
       "| 25 | 3232.5880 |  8.739944 |\n",
       "| 26 | 3853.1295 | 13.292515 |\n",
       "| 27 | 4029.2741 | 11.230546 |\n",
       "| 28 | 4381.8508 |  8.309747 |\n",
       "| 29 | 4792.5355 |  8.334553 |\n",
       "| 30 | 5032.3018 |  8.690175 |\n",
       "| 31 | 5258.7664 |  9.800336 |\n",
       "| 32 | 5236.1069 |  7.796208 |\n",
       "\n"
      ],
      "text/plain": [
       "   YHAT      RHAT     \n",
       "2   526.1840  4.981948\n",
       "3   532.7910  4.832589\n",
       "4   575.1391  5.067419\n",
       "5   605.0510  5.087399\n",
       "6   652.2245  5.148504\n",
       "7   724.9438  5.448500\n",
       "8   784.0803  5.711028\n",
       "9   806.3229  5.318954\n",
       "10  889.4135  5.284300\n",
       "11  978.1371  5.558100\n",
       "12  999.3045  5.097947\n",
       "13 1114.2718  5.500392\n",
       "14 1261.7954  5.860962\n",
       "15 1437.0099  6.635844\n",
       "16 1499.0518  6.371798\n",
       "17 1499.7901  5.345701\n",
       "18 1720.3154  6.737732\n",
       "19 1995.1964  8.317622\n",
       "20 2300.1618  9.942138\n",
       "21 2531.2046 10.686206\n",
       "22 2605.5708  9.507434\n",
       "23 2952.2337 11.587088\n",
       "24 2945.1931  8.726368\n",
       "25 3232.5880  8.739944\n",
       "26 3853.1295 13.292515\n",
       "27 4029.2741 11.230546\n",
       "28 4381.8508  8.309747\n",
       "29 4792.5355  8.334553\n",
       "30 5032.3018  8.690175\n",
       "31 5258.7664  9.800336\n",
       "32 5236.1069  7.796208"
      ]
     },
     "metadata": {},
     "output_type": "display_data"
    }
   ],
   "source": [
    "# Kết hợp YHAT, RHAT thành véc tơ b\n",
    "b=cbind(YHAT,RHAT)\n",
    "b"
   ]
  },
  {
   "cell_type": "code",
   "execution_count": 8,
   "metadata": {
    "vscode": {
     "languageId": "r"
    }
   },
   "outputs": [
    {
     "name": "stdout",
     "output_type": "stream",
     "text": [
      "\n",
      "==========================================================\n",
      "                                  Dependent variable:     \n",
      "                              ----------------------------\n",
      "                                    R              Y      \n",
      "                                   (1)            (2)     \n",
      "----------------------------------------------------------\n",
      "M                                 -0.027         1.493    \n",
      "                                 (0.020)        (1.266)   \n",
      "                                                          \n",
      "lag(M, 1)                         -0.003        2.788**   \n",
      "                                 (0.019)        (1.202)   \n",
      "                                                          \n",
      "I                                0.032***      2.577***   \n",
      "                                 (0.006)        (0.363)   \n",
      "                                                          \n",
      "Constant                         6.669***     -276.988*** \n",
      "                                 (0.673)       (43.160)   \n",
      "                                                          \n",
      "----------------------------------------------------------\n",
      "Observations                        31            31      \n",
      "R2                                0.699          0.996    \n",
      "Adjusted R2                       0.666          0.996    \n",
      "Residual Std. Error (df = 27)     1.631         104.680   \n",
      "F Statistic (df = 3; 27)        20.923***    2,264.808*** \n",
      "==========================================================\n",
      "Note:                          *p<0.1; **p<0.05; ***p<0.01\n"
     ]
    }
   ],
   "source": [
    "# Trình bài kết quả hồi quy hai hàm trên 1 bảng\n",
    "stargazer(reg1,reg2,type=\"text\")"
   ]
  },
  {
   "cell_type": "markdown",
   "metadata": {},
   "source": [
    "## Giai doan 2: Ước lượng các mô hình ban đầu\n",
    "\n",
    "- Thay các biến RHAT cho R, YHAT cho Y ở vế phả các phương trình và ước lượng"
   ]
  },
  {
   "cell_type": "code",
   "execution_count": 11,
   "metadata": {
    "vscode": {
     "languageId": "r"
    }
   },
   "outputs": [
    {
     "data": {
      "text/html": [
       "<table class=\"dataframe\">\n",
       "<caption>A data.frame: 31 × 4</caption>\n",
       "<thead>\n",
       "\t<tr><th></th><th scope=col>I</th><th scope=col>R</th><th scope=col>M</th><th scope=col>Y</th></tr>\n",
       "\t<tr><th></th><th scope=col>&lt;dbl&gt;</th><th scope=col>&lt;dbl&gt;</th><th scope=col>&lt;dbl&gt;</th><th scope=col>&lt;dbl&gt;</th></tr>\n",
       "</thead>\n",
       "<tbody>\n",
       "\t<tr><th scope=row>2</th><td> 78.7</td><td> 3.98</td><td>140.7</td><td> 513.3584</td></tr>\n",
       "\t<tr><th scope=row>3</th><td> 77.9</td><td> 3.54</td><td>145.2</td><td> 531.7493</td></tr>\n",
       "\t<tr><th scope=row>4</th><td> 87.9</td><td> 3.47</td><td>147.9</td><td> 571.5252</td></tr>\n",
       "\t<tr><th scope=row>5</th><td> 93.4</td><td> 3.67</td><td>153.4</td><td> 603.1098</td></tr>\n",
       "\t<tr><th scope=row>6</th><td>101.7</td><td> 4.03</td><td>160.4</td><td> 647.9456</td></tr>\n",
       "\t<tr><th scope=row>7</th><td>118.0</td><td> 4.22</td><td>167.9</td><td> 702.7588</td></tr>\n",
       "\t<tr><th scope=row>8</th><td>130.4</td><td> 5.23</td><td>172.1</td><td> 769.6851</td></tr>\n",
       "\t<tr><th scope=row>9</th><td>128.0</td><td> 5.03</td><td>183.3</td><td> 814.2869</td></tr>\n",
       "\t<tr><th scope=row>10</th><td>139.9</td><td> 5.68</td><td>197.5</td><td> 889.3003</td></tr>\n",
       "\t<tr><th scope=row>11</th><td>155.2</td><td> 7.02</td><td>204.0</td><td> 959.5495</td></tr>\n",
       "\t<tr><th scope=row>12</th><td>150.3</td><td> 7.29</td><td>214.5</td><td>1010.6786</td></tr>\n",
       "\t<tr><th scope=row>13</th><td>175.5</td><td> 5.65</td><td>228.4</td><td>1097.2368</td></tr>\n",
       "\t<tr><th scope=row>14</th><td>205.6</td><td> 5.72</td><td>249.3</td><td>1207.0630</td></tr>\n",
       "\t<tr><th scope=row>15</th><td>243.1</td><td> 6.95</td><td>262.9</td><td>1349.6276</td></tr>\n",
       "\t<tr><th scope=row>16</th><td>245.8</td><td> 7.82</td><td>274.4</td><td>1458.5705</td></tr>\n",
       "\t<tr><th scope=row>17</th><td>226.0</td><td> 7.49</td><td>287.6</td><td>1585.9485</td></tr>\n",
       "\t<tr><th scope=row>18</th><td>286.4</td><td> 6.77</td><td>306.4</td><td>1768.4594</td></tr>\n",
       "\t<tr><th scope=row>19</th><td>358.3</td><td> 6.69</td><td>331.3</td><td>1974.0097</td></tr>\n",
       "\t<tr><th scope=row>20</th><td>434.0</td><td> 8.29</td><td>358.4</td><td>2232.7462</td></tr>\n",
       "\t<tr><th scope=row>21</th><td>480.2</td><td> 9.71</td><td>382.8</td><td>2488.5468</td></tr>\n",
       "\t<tr><th scope=row>22</th><td>467.6</td><td>11.55</td><td>408.8</td><td>2707.9868</td></tr>\n",
       "\t<tr><th scope=row>23</th><td>558.0</td><td>14.44</td><td>436.4</td><td>3030.5651</td></tr>\n",
       "\t<tr><th scope=row>24</th><td>503.4</td><td>12.92</td><td>474.4</td><td>3149.5744</td></tr>\n",
       "\t<tr><th scope=row>25</th><td>546.7</td><td>10.45</td><td>521.2</td><td>3404.9911</td></tr>\n",
       "\t<tr><th scope=row>26</th><td>718.9</td><td>11.89</td><td>552.2</td><td>3777.0874</td></tr>\n",
       "\t<tr><th scope=row>27</th><td>714.5</td><td> 9.64</td><td>619.9</td><td>4038.6898</td></tr>\n",
       "\t<tr><th scope=row>28</th><td>717.6</td><td> 7.06</td><td>724.3</td><td>4268.6549</td></tr>\n",
       "\t<tr><th scope=row>29</th><td>749.3</td><td> 7.68</td><td>749.7</td><td>4540.0248</td></tr>\n",
       "\t<tr><th scope=row>30</th><td>793.6</td><td> 8.26</td><td>786.4</td><td>4900.3894</td></tr>\n",
       "\t<tr><th scope=row>31</th><td>837.6</td><td> 8.55</td><td>793.6</td><td>5243.9964</td></tr>\n",
       "\t<tr><th scope=row>32</th><td>802.6</td><td> 8.26</td><td>825.4</td><td>5513.8236</td></tr>\n",
       "</tbody>\n",
       "</table>\n"
      ],
      "text/latex": [
       "A data.frame: 31 × 4\n",
       "\\begin{tabular}{r|llll}\n",
       "  & I & R & M & Y\\\\\n",
       "  & <dbl> & <dbl> & <dbl> & <dbl>\\\\\n",
       "\\hline\n",
       "\t2 &  78.7 &  3.98 & 140.7 &  513.3584\\\\\n",
       "\t3 &  77.9 &  3.54 & 145.2 &  531.7493\\\\\n",
       "\t4 &  87.9 &  3.47 & 147.9 &  571.5252\\\\\n",
       "\t5 &  93.4 &  3.67 & 153.4 &  603.1098\\\\\n",
       "\t6 & 101.7 &  4.03 & 160.4 &  647.9456\\\\\n",
       "\t7 & 118.0 &  4.22 & 167.9 &  702.7588\\\\\n",
       "\t8 & 130.4 &  5.23 & 172.1 &  769.6851\\\\\n",
       "\t9 & 128.0 &  5.03 & 183.3 &  814.2869\\\\\n",
       "\t10 & 139.9 &  5.68 & 197.5 &  889.3003\\\\\n",
       "\t11 & 155.2 &  7.02 & 204.0 &  959.5495\\\\\n",
       "\t12 & 150.3 &  7.29 & 214.5 & 1010.6786\\\\\n",
       "\t13 & 175.5 &  5.65 & 228.4 & 1097.2368\\\\\n",
       "\t14 & 205.6 &  5.72 & 249.3 & 1207.0630\\\\\n",
       "\t15 & 243.1 &  6.95 & 262.9 & 1349.6276\\\\\n",
       "\t16 & 245.8 &  7.82 & 274.4 & 1458.5705\\\\\n",
       "\t17 & 226.0 &  7.49 & 287.6 & 1585.9485\\\\\n",
       "\t18 & 286.4 &  6.77 & 306.4 & 1768.4594\\\\\n",
       "\t19 & 358.3 &  6.69 & 331.3 & 1974.0097\\\\\n",
       "\t20 & 434.0 &  8.29 & 358.4 & 2232.7462\\\\\n",
       "\t21 & 480.2 &  9.71 & 382.8 & 2488.5468\\\\\n",
       "\t22 & 467.6 & 11.55 & 408.8 & 2707.9868\\\\\n",
       "\t23 & 558.0 & 14.44 & 436.4 & 3030.5651\\\\\n",
       "\t24 & 503.4 & 12.92 & 474.4 & 3149.5744\\\\\n",
       "\t25 & 546.7 & 10.45 & 521.2 & 3404.9911\\\\\n",
       "\t26 & 718.9 & 11.89 & 552.2 & 3777.0874\\\\\n",
       "\t27 & 714.5 &  9.64 & 619.9 & 4038.6898\\\\\n",
       "\t28 & 717.6 &  7.06 & 724.3 & 4268.6549\\\\\n",
       "\t29 & 749.3 &  7.68 & 749.7 & 4540.0248\\\\\n",
       "\t30 & 793.6 &  8.26 & 786.4 & 4900.3894\\\\\n",
       "\t31 & 837.6 &  8.55 & 793.6 & 5243.9964\\\\\n",
       "\t32 & 802.6 &  8.26 & 825.4 & 5513.8236\\\\\n",
       "\\end{tabular}\n"
      ],
      "text/markdown": [
       "\n",
       "A data.frame: 31 × 4\n",
       "\n",
       "| <!--/--> | I &lt;dbl&gt; | R &lt;dbl&gt; | M &lt;dbl&gt; | Y &lt;dbl&gt; |\n",
       "|---|---|---|---|---|\n",
       "| 2 |  78.7 |  3.98 | 140.7 |  513.3584 |\n",
       "| 3 |  77.9 |  3.54 | 145.2 |  531.7493 |\n",
       "| 4 |  87.9 |  3.47 | 147.9 |  571.5252 |\n",
       "| 5 |  93.4 |  3.67 | 153.4 |  603.1098 |\n",
       "| 6 | 101.7 |  4.03 | 160.4 |  647.9456 |\n",
       "| 7 | 118.0 |  4.22 | 167.9 |  702.7588 |\n",
       "| 8 | 130.4 |  5.23 | 172.1 |  769.6851 |\n",
       "| 9 | 128.0 |  5.03 | 183.3 |  814.2869 |\n",
       "| 10 | 139.9 |  5.68 | 197.5 |  889.3003 |\n",
       "| 11 | 155.2 |  7.02 | 204.0 |  959.5495 |\n",
       "| 12 | 150.3 |  7.29 | 214.5 | 1010.6786 |\n",
       "| 13 | 175.5 |  5.65 | 228.4 | 1097.2368 |\n",
       "| 14 | 205.6 |  5.72 | 249.3 | 1207.0630 |\n",
       "| 15 | 243.1 |  6.95 | 262.9 | 1349.6276 |\n",
       "| 16 | 245.8 |  7.82 | 274.4 | 1458.5705 |\n",
       "| 17 | 226.0 |  7.49 | 287.6 | 1585.9485 |\n",
       "| 18 | 286.4 |  6.77 | 306.4 | 1768.4594 |\n",
       "| 19 | 358.3 |  6.69 | 331.3 | 1974.0097 |\n",
       "| 20 | 434.0 |  8.29 | 358.4 | 2232.7462 |\n",
       "| 21 | 480.2 |  9.71 | 382.8 | 2488.5468 |\n",
       "| 22 | 467.6 | 11.55 | 408.8 | 2707.9868 |\n",
       "| 23 | 558.0 | 14.44 | 436.4 | 3030.5651 |\n",
       "| 24 | 503.4 | 12.92 | 474.4 | 3149.5744 |\n",
       "| 25 | 546.7 | 10.45 | 521.2 | 3404.9911 |\n",
       "| 26 | 718.9 | 11.89 | 552.2 | 3777.0874 |\n",
       "| 27 | 714.5 |  9.64 | 619.9 | 4038.6898 |\n",
       "| 28 | 717.6 |  7.06 | 724.3 | 4268.6549 |\n",
       "| 29 | 749.3 |  7.68 | 749.7 | 4540.0248 |\n",
       "| 30 | 793.6 |  8.26 | 786.4 | 4900.3894 |\n",
       "| 31 | 837.6 |  8.55 | 793.6 | 5243.9964 |\n",
       "| 32 | 802.6 |  8.26 | 825.4 | 5513.8236 |\n",
       "\n"
      ],
      "text/plain": [
       "   I     R     M     Y        \n",
       "2   78.7  3.98 140.7  513.3584\n",
       "3   77.9  3.54 145.2  531.7493\n",
       "4   87.9  3.47 147.9  571.5252\n",
       "5   93.4  3.67 153.4  603.1098\n",
       "6  101.7  4.03 160.4  647.9456\n",
       "7  118.0  4.22 167.9  702.7588\n",
       "8  130.4  5.23 172.1  769.6851\n",
       "9  128.0  5.03 183.3  814.2869\n",
       "10 139.9  5.68 197.5  889.3003\n",
       "11 155.2  7.02 204.0  959.5495\n",
       "12 150.3  7.29 214.5 1010.6786\n",
       "13 175.5  5.65 228.4 1097.2368\n",
       "14 205.6  5.72 249.3 1207.0630\n",
       "15 243.1  6.95 262.9 1349.6276\n",
       "16 245.8  7.82 274.4 1458.5705\n",
       "17 226.0  7.49 287.6 1585.9485\n",
       "18 286.4  6.77 306.4 1768.4594\n",
       "19 358.3  6.69 331.3 1974.0097\n",
       "20 434.0  8.29 358.4 2232.7462\n",
       "21 480.2  9.71 382.8 2488.5468\n",
       "22 467.6 11.55 408.8 2707.9868\n",
       "23 558.0 14.44 436.4 3030.5651\n",
       "24 503.4 12.92 474.4 3149.5744\n",
       "25 546.7 10.45 521.2 3404.9911\n",
       "26 718.9 11.89 552.2 3777.0874\n",
       "27 714.5  9.64 619.9 4038.6898\n",
       "28 717.6  7.06 724.3 4268.6549\n",
       "29 749.3  7.68 749.7 4540.0248\n",
       "30 793.6  8.26 786.4 4900.3894\n",
       "31 837.6  8.55 793.6 5243.9964\n",
       "32 802.6  8.26 825.4 5513.8236"
      ]
     },
     "metadata": {},
     "output_type": "display_data"
    }
   ],
   "source": [
    "# Đặt lại mẫu - resample\n",
    "subsample=ch10bt14[2:32,1:4]\n",
    "subsample"
   ]
  },
  {
   "cell_type": "code",
   "execution_count": 14,
   "metadata": {
    "vscode": {
     "languageId": "r"
    }
   },
   "outputs": [
    {
     "name": "stdout",
     "output_type": "stream",
     "text": [
      "\n",
      "====================================================================\n",
      "                                  Dependent variable:               \n",
      "                    ------------------------------------------------\n",
      "                              R                        Y            \n",
      "                             (1)                      (2)           \n",
      "--------------------------------------------------------------------\n",
      "YHAT                       0.012***                                 \n",
      "                           (0.002)                                  \n",
      "                                                                    \n",
      "M                          -0.046**                                 \n",
      "                           (0.022)                                  \n",
      "                                                                    \n",
      "lag(M, 1)                  -0.037*                                  \n",
      "                           (0.019)                                  \n",
      "                                                                    \n",
      "RHAT                                              -143.300***       \n",
      "                                                   (14.816)         \n",
      "                                                                    \n",
      "I                                                  7.039***         \n",
      "                                                    (0.134)         \n",
      "                                                                    \n",
      "Constant                  10.175***               671.981***        \n",
      "                           (1.130)                 (77.427)         \n",
      "                                                                    \n",
      "--------------------------------------------------------------------\n",
      "Observations                  30                      31            \n",
      "R2                          0.688                    0.995          \n",
      "Adjusted R2                 0.652                    0.995          \n",
      "Residual Std. Error    1.650 (df = 26)         109.941 (df = 28)    \n",
      "F Statistic         19.124*** (df = 3; 26) 3,078.113*** (df = 2; 28)\n",
      "====================================================================\n",
      "Note:                                    *p<0.1; **p<0.05; ***p<0.01\n"
     ]
    }
   ],
   "source": [
    "reg3=lm(R~YHAT+M+lag(M,1),data=subsample)\n",
    "reg4=lm(Y~RHAT+I,data=subsample)\n",
    "stargazer(reg3,reg4, type= \"text\")"
   ]
  },
  {
   "cell_type": "markdown",
   "metadata": {},
   "source": [
    "## RÚT GỌN HAI GIAI ĐOẠN TRÊN  - 2SLS REGRESION (CÁCH KHÁC, GỘP HAI GIAI ĐOẠN. CÁC BIẾN SAU  \"|\" LÀ CÁC BIẾN CÔNG CỤ )\n",
    "- Máy tự động thực hiện hai giai đoạn. Có từ khóa để thực hiện 2SLS\n",
    "- Ký tự, các biến sau  \"|\" là các biến công cụ.\n",
    "\n"
   ]
  },
  {
   "cell_type": "code",
   "execution_count": 5,
   "metadata": {
    "vscode": {
     "languageId": "r"
    }
   },
   "outputs": [
    {
     "name": "stdout",
     "output_type": "stream",
     "text": [
      "\n",
      "==================================================================\n",
      "                                 Dependent variable:              \n",
      "                    ----------------------------------------------\n",
      "                              R                       Y           \n",
      "                             (1)                     (2)          \n",
      "------------------------------------------------------------------\n",
      "Y                          0.012***                               \n",
      "                           (0.002)                                \n",
      "                                                                  \n",
      "M                          -0.046**                               \n",
      "                           (0.019)                                \n",
      "                                                                  \n",
      "lag(M, 1)                  -0.038**                               \n",
      "                           (0.016)                                \n",
      "                                                                  \n",
      "R                                                -143.300***      \n",
      "                                                  (40.598)        \n",
      "                                                                  \n",
      "I                                                 7.039***        \n",
      "                                                   (0.367)        \n",
      "                                                                  \n",
      "Constant                  10.119***              671.981***       \n",
      "                           (0.971)                (212.157)       \n",
      "                                                                  \n",
      "------------------------------------------------------------------\n",
      "Observations                  31                     31           \n",
      "R2                          0.772                   0.966         \n",
      "Adjusted R2                 0.746                   0.964         \n",
      "Residual Std. Error    1.421 (df = 27)        301.247 (df = 28)   \n",
      "F Statistic         27.558*** (df = 3; 27) 409.974*** (df = 2; 28)\n",
      "==================================================================\n",
      "Note:                                  *p<0.1; **p<0.05; ***p<0.01\n"
     ]
    }
   ],
   "source": [
    "reg31=dynlm(R~Y+M+lag(M,1)|M+I+lag(M,1))\n",
    "reg41= dynlm(Y~R + I|M + lag(M,1)+I)\n",
    "stargazer(reg31,reg41, type=\"text\")"
   ]
  },
  {
   "cell_type": "markdown",
   "metadata": {},
   "source": [
    "### UOC LUONG HE PHUONG TRINH - JOINT ESTIMATION OF SYSTEM\n",
    "- CÁCH KHÁC-THỰC HIỆN TRÊN THỰC TẾ \n",
    "- library(systemfit)\n",
    "- ĐỊNH NGHĨA HỆ PHƯƠNG TRÌNH"
   ]
  },
  {
   "cell_type": "code",
   "execution_count": 15,
   "metadata": {
    "vscode": {
     "languageId": "r"
    }
   },
   "outputs": [
    {
     "data": {
      "text/plain": [
       "\n",
       "systemfit results \n",
       "method: 2SLS \n",
       "\n",
       "        N DF     SSR detRCov   OLS-R2 McElroy-R2\n",
       "system 62 55 2541051  155127 0.966006   0.940775\n",
       "\n",
       "     N DF         SSR         MSE      RMSE       R2   Adj R2\n",
       "eq1 31 28 2.54100e+06 90749.86070 301.24718 0.966006 0.963578\n",
       "eq2 31 27 5.45524e+01     2.02046   1.42143 0.771641 0.746268\n",
       "\n",
       "The covariance matrix of the residuals\n",
       "          eq1       eq2\n",
       "eq1 90749.861 168.01599\n",
       "eq2   168.016   2.02046\n",
       "\n",
       "The correlations of the residuals\n",
       "         eq1      eq2\n",
       "eq1 1.000000 0.392376\n",
       "eq2 0.392376 1.000000\n",
       "\n",
       "\n",
       "2SLS estimates for 'eq1' (equation 1)\n",
       "Model Formula: Y ~ R + I\n",
       "Instruments: ~M + lag(M, 1) + I\n",
       "\n",
       "               Estimate  Std. Error  t value   Pr(>|t|)    \n",
       "(Intercept)  671.980523  212.156659  3.16738  0.0036976 ** \n",
       "R           -143.299833   40.598198 -3.52971  0.0014591 ** \n",
       "I              7.039408    0.366547 19.20465 < 2.22e-16 ***\n",
       "---\n",
       "Signif. codes:  0 '***' 0.001 '**' 0.01 '*' 0.05 '.' 0.1 ' ' 1\n",
       "\n",
       "Residual standard error: 301.247175 on 28 degrees of freedom\n",
       "Number of observations: 31 Degrees of Freedom: 28 \n",
       "SSR: 2540996.099747 MSE: 90749.860705 Root MSE: 301.247175 \n",
       "Multiple R-Squared: 0.966006 Adjusted R-Squared: 0.963578 \n",
       "\n",
       "\n",
       "2SLS estimates for 'eq2' (equation 2)\n",
       "Model Formula: R ~ Y + M + lag(M, 1)\n",
       "Instruments: ~M + lag(M, 1) + I\n",
       "\n",
       "               Estimate  Std. Error  t value   Pr(>|t|)    \n",
       "(Intercept) 10.11926274  0.97099503 10.42154 5.8122e-11 ***\n",
       "Y            0.01245582  0.00191236  6.51333 5.5357e-07 ***\n",
       "M           -0.04562022  0.01871621 -2.43747   0.021657 *  \n",
       "lag(M, 1)   -0.03766145  0.01634198 -2.30458   0.029113 *  \n",
       "---\n",
       "Signif. codes:  0 '***' 0.001 '**' 0.01 '*' 0.05 '.' 0.1 ' ' 1\n",
       "\n",
       "Residual standard error: 1.421429 on 27 degrees of freedom\n",
       "Number of observations: 31 Degrees of Freedom: 27 \n",
       "SSR: 54.552397 MSE: 2.020459 Root MSE: 1.421429 \n",
       "Multiple R-Squared: 0.771641 Adjusted R-Squared: 0.746268 \n"
      ]
     },
     "metadata": {},
     "output_type": "display_data"
    }
   ],
   "source": [
    "eq.Laisuat= R~ Y+M+ lag(M,1)\n",
    "eq.Thunhap= Y~ R+I\n",
    "eq.system=list(eq.Thunhap, eq.Laisuat)\n",
    "instrum=~M+lag(M,1)+I\n",
    "my.sys=(systemfit(eq.system,inst=instrum,method=\"2SLS\"))\n",
    "summary(my.sys)"
   ]
  },
  {
   "cell_type": "code",
   "execution_count": null,
   "metadata": {
    "vscode": {
     "languageId": "r"
    }
   },
   "outputs": [],
   "source": []
  }
 ],
 "metadata": {
  "kernelspec": {
   "display_name": "R",
   "language": "R",
   "name": "ir"
  },
  "language_info": {
   "codemirror_mode": "r",
   "file_extension": ".r",
   "mimetype": "text/x-r-source",
   "name": "R",
   "pygments_lexer": "r",
   "version": "4.2.1"
  },
  "orig_nbformat": 4
 },
 "nbformat": 4,
 "nbformat_minor": 2
}
