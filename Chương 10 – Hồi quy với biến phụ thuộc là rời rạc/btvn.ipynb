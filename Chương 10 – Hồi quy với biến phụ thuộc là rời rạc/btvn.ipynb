{
 "cells": [
  {
   "cell_type": "code",
   "execution_count": 1,
   "metadata": {
    "vscode": {
     "languageId": "r"
    }
   },
   "outputs": [
    {
     "name": "stderr",
     "output_type": "stream",
     "text": [
      "Warning message:\n",
      "\"package 'car' was built under R version 4.2.3\"\n",
      "Loading required package: carData\n",
      "\n",
      "Warning message:\n",
      "\"package 'carData' was built under R version 4.2.2\"\n",
      "Warning message:\n",
      "\"package 'lmtest' was built under R version 4.2.2\"\n",
      "Loading required package: zoo\n",
      "\n",
      "Warning message:\n",
      "\"package 'zoo' was built under R version 4.2.3\"\n",
      "\n",
      "Attaching package: 'zoo'\n",
      "\n",
      "\n",
      "The following objects are masked from 'package:base':\n",
      "\n",
      "    as.Date, as.Date.numeric\n",
      "\n",
      "\n",
      "Warning message:\n",
      "\"package 'AER' was built under R version 4.2.2\"\n",
      "Loading required package: sandwich\n",
      "\n",
      "Warning message:\n",
      "\"package 'sandwich' was built under R version 4.2.2\"\n",
      "Loading required package: survival\n",
      "\n",
      "Warning message:\n",
      "\"package 'caret' was built under R version 4.2.3\"\n",
      "Loading required package: ggplot2\n",
      "\n",
      "Warning message:\n",
      "\"package 'ggplot2' was built under R version 4.2.3\"\n",
      "Loading required package: lattice\n",
      "\n",
      "\n",
      "Attaching package: 'caret'\n",
      "\n",
      "\n",
      "The following object is masked from 'package:survival':\n",
      "\n",
      "    cluster\n",
      "\n",
      "\n",
      "Warning message:\n",
      "\"package 'reshape2' was built under R version 4.2.2\"\n",
      "\n",
      "Please cite as: \n",
      "\n",
      "\n",
      " Hlavac, Marek (2022). stargazer: Well-Formatted Regression and Summary Statistics Tables.\n",
      "\n",
      " R package version 5.2.3. https://CRAN.R-project.org/package=stargazer \n",
      "\n",
      "\n",
      "Warning message:\n",
      "\"package 'mlogit' was built under R version 4.2.2\"\n",
      "Loading required package: dfidx\n",
      "\n",
      "Warning message:\n",
      "\"package 'dfidx' was built under R version 4.2.2\"\n",
      "\n",
      "Attaching package: 'dfidx'\n",
      "\n",
      "\n",
      "The following object is masked from 'package:stats':\n",
      "\n",
      "    filter\n",
      "\n",
      "\n"
     ]
    }
   ],
   "source": [
    "library(foreign)\n",
    "library(car)\n",
    "library(lmtest)\n",
    "library(AER)\n",
    "library(caret)\n",
    "# library(caTools)\n",
    "library(reshape2)\n",
    "library(stargazer)\n",
    "library(mlogit)\n",
    "library(nnet)"
   ]
  },
  {
   "cell_type": "markdown",
   "metadata": {},
   "source": [
    "## MÔ HÌNH MULTINOMIAL LOGITIC  Data: hsb2.csv\n",
    "# These are the Madsen data used in the revised lecture notes. High School and Beyond survey\n",
    "Description\n",
    "Two hundred observations were randomly sampled from the High School and Beyond survey, a survey conducted on high school seniors by the National Center of Education Statistics. Các biến số: 200 observations and 10 variables: gender:levels female and male; race:levels african american, asian, hispanic, and white; ses:Socio economic status of student's family, with levels low, middle, and high; schtyp: Type of school, with levels public and private; prog: Type of program, with levels general, academic, and vocational; read: Standardized reading score; write:Standardized writing score; math:Standardized math score; science:Standardized science score; socst:Standardized social studies score.\n",
    "## INPUT DATA\n",
    "\n"
   ]
  },
  {
   "cell_type": "code",
   "execution_count": 2,
   "metadata": {
    "vscode": {
     "languageId": "r"
    }
   },
   "outputs": [
    {
     "data": {
      "text/html": [
       "<table class=\"dataframe\">\n",
       "<caption>A data.frame: 2 × 10</caption>\n",
       "<thead>\n",
       "\t<tr><th></th><th scope=col>gender</th><th scope=col>race</th><th scope=col>ses</th><th scope=col>schtyp</th><th scope=col>prog</th><th scope=col>read</th><th scope=col>write</th><th scope=col>math</th><th scope=col>science</th><th scope=col>socst</th></tr>\n",
       "\t<tr><th></th><th scope=col>&lt;chr&gt;</th><th scope=col>&lt;chr&gt;</th><th scope=col>&lt;chr&gt;</th><th scope=col>&lt;chr&gt;</th><th scope=col>&lt;chr&gt;</th><th scope=col>&lt;int&gt;</th><th scope=col>&lt;int&gt;</th><th scope=col>&lt;int&gt;</th><th scope=col>&lt;int&gt;</th><th scope=col>&lt;int&gt;</th></tr>\n",
       "</thead>\n",
       "<tbody>\n",
       "\t<tr><th scope=row>1</th><td>male  </td><td>white</td><td>low   </td><td>public</td><td>general   </td><td>57</td><td>52</td><td>41</td><td>47</td><td>57</td></tr>\n",
       "\t<tr><th scope=row>2</th><td>female</td><td>white</td><td>middle</td><td>public</td><td>vocational</td><td>68</td><td>59</td><td>53</td><td>63</td><td>61</td></tr>\n",
       "</tbody>\n",
       "</table>\n"
      ],
      "text/latex": [
       "A data.frame: 2 × 10\n",
       "\\begin{tabular}{r|llllllllll}\n",
       "  & gender & race & ses & schtyp & prog & read & write & math & science & socst\\\\\n",
       "  & <chr> & <chr> & <chr> & <chr> & <chr> & <int> & <int> & <int> & <int> & <int>\\\\\n",
       "\\hline\n",
       "\t1 & male   & white & low    & public & general    & 57 & 52 & 41 & 47 & 57\\\\\n",
       "\t2 & female & white & middle & public & vocational & 68 & 59 & 53 & 63 & 61\\\\\n",
       "\\end{tabular}\n"
      ],
      "text/markdown": [
       "\n",
       "A data.frame: 2 × 10\n",
       "\n",
       "| <!--/--> | gender &lt;chr&gt; | race &lt;chr&gt; | ses &lt;chr&gt; | schtyp &lt;chr&gt; | prog &lt;chr&gt; | read &lt;int&gt; | write &lt;int&gt; | math &lt;int&gt; | science &lt;int&gt; | socst &lt;int&gt; |\n",
       "|---|---|---|---|---|---|---|---|---|---|---|\n",
       "| 1 | male   | white | low    | public | general    | 57 | 52 | 41 | 47 | 57 |\n",
       "| 2 | female | white | middle | public | vocational | 68 | 59 | 53 | 63 | 61 |\n",
       "\n"
      ],
      "text/plain": [
       "  gender race  ses    schtyp prog       read write math science socst\n",
       "1 male   white low    public general    57   52    41   47      57   \n",
       "2 female white middle public vocational 68   59    53   63      61   "
      ]
     },
     "metadata": {},
     "output_type": "display_data"
    },
    {
     "data": {
      "text/html": [
       "<style>\n",
       ".list-inline {list-style: none; margin:0; padding: 0}\n",
       ".list-inline>li {display: inline-block}\n",
       ".list-inline>li:not(:last-child)::after {content: \"\\00b7\"; padding: 0 .5ex}\n",
       "</style>\n",
       "<ol class=list-inline><li>200</li><li>10</li></ol>\n"
      ],
      "text/latex": [
       "\\begin{enumerate*}\n",
       "\\item 200\n",
       "\\item 10\n",
       "\\end{enumerate*}\n"
      ],
      "text/markdown": [
       "1. 200\n",
       "2. 10\n",
       "\n",
       "\n"
      ],
      "text/plain": [
       "[1] 200  10"
      ]
     },
     "metadata": {},
     "output_type": "display_data"
    }
   ],
   "source": [
    "hsb2=read.csv(\"hsb2.csv\", header=TRUE)\n",
    "head(hsb2,2)\n",
    "dim(hsb2)"
   ]
  },
  {
   "cell_type": "code",
   "execution_count": 3,
   "metadata": {
    "vscode": {
     "languageId": "r"
    }
   },
   "outputs": [
    {
     "name": "stdout",
     "output_type": "stream",
     "text": [
      "[1] \"Checking the output (dependent) variable\"\n"
     ]
    },
    {
     "data": {
      "text/plain": [
       "\n",
       "  academic    general vocational \n",
       "       105         45         50 "
      ]
     },
     "metadata": {},
     "output_type": "display_data"
    },
    {
     "name": "stdout",
     "output_type": "stream",
     "text": [
      "[1] \"Bảng phân bổ prog và loại trường schtyp\"\n"
     ]
    },
    {
     "data": {
      "text/plain": [
       "            schtyp\n",
       "prog         private public\n",
       "  academic        24     81\n",
       "  general          6     39\n",
       "  vocational       2     48"
      ]
     },
     "metadata": {},
     "output_type": "display_data"
    },
    {
     "name": "stdout",
     "output_type": "stream",
     "text": [
      "[1] \"Kiểm định sự tương quan giưa các biến số\"\n"
     ]
    },
    {
     "data": {
      "text/plain": [
       "\n",
       "\tPearson's Chi-squared test\n",
       "\n",
       "data:  hsb2$prog and hsb2$ses\n",
       "X-squared = 16.604, df = 4, p-value = 0.002307\n"
      ]
     },
     "metadata": {},
     "output_type": "display_data"
    },
    {
     "data": {
      "text/plain": [
       "\n",
       "\tPearson's Chi-squared test\n",
       "\n",
       "data:  hsb2$prog and hsb2$gender\n",
       "X-squared = 0.052809, df = 2, p-value = 0.9739\n"
      ]
     },
     "metadata": {},
     "output_type": "display_data"
    },
    {
     "data": {
      "text/plain": [
       "\n",
       "\tPearson's Chi-squared test\n",
       "\n",
       "data:  hsb2$prog and hsb2$schtyp\n",
       "X-squared = 9.2687, df = 2, p-value = 0.009712\n"
      ]
     },
     "metadata": {},
     "output_type": "display_data"
    }
   ],
   "source": [
    "# table\n",
    "print('Checking the output (dependent) variable')\n",
    "table(hsb2$prog) \n",
    "print('Bảng phân bổ prog và loại trường schtyp')\n",
    "with(hsb2, table(prog, schtyp))\n",
    "print('Kiểm định sự tương quan giưa các biến số') \n",
    "chisq.test(hsb2$prog,hsb2$ses)\n",
    "chisq.test(hsb2$prog,hsb2$gender)\n",
    "chisq.test(hsb2$prog,hsb2$schtyp)"
   ]
  },
  {
   "cell_type": "markdown",
   "metadata": {},
   "source": [
    "## UOC LUONG MULTINOMIAL LOGIT "
   ]
  },
  {
   "cell_type": "code",
   "execution_count": 4,
   "metadata": {
    "vscode": {
     "languageId": "r"
    }
   },
   "outputs": [
    {
     "name": "stdout",
     "output_type": "stream",
     "text": [
      "# weights:  15 (8 variable)\n",
      "initial  value 219.722458 \n",
      "iter  10 value 179.983731\n",
      "final  value 179.981726 \n",
      "converged\n"
     ]
    }
   ],
   "source": [
    "multihsb2=multinom(prog ~ ses + write, data=hsb2)"
   ]
  },
  {
   "cell_type": "markdown",
   "metadata": {},
   "source": [
    "## MỘT SỐ PHÂN TÍCH "
   ]
  },
  {
   "cell_type": "code",
   "execution_count": 5,
   "metadata": {
    "vscode": {
     "languageId": "r"
    }
   },
   "outputs": [
    {
     "name": "stdout",
     "output_type": "stream",
     "text": [
      "[1] \"Trình bày dạng cột\"\n",
      "\n",
      "==============================================\n",
      "                      Dependent variable:     \n",
      "                  ----------------------------\n",
      "                     general      vocational  \n",
      "                       (1)            (2)     \n",
      "----------------------------------------------\n",
      "seslow               1.163**        0.983*    \n",
      "                     (0.514)        (0.596)   \n",
      "                                              \n",
      "sesmiddle             0.630         1.274**   \n",
      "                     (0.465)        (0.511)   \n",
      "                                              \n",
      "write               -0.058***      -0.114***  \n",
      "                     (0.021)        (0.022)   \n",
      "                                              \n",
      "Constant              1.689        4.236***   \n",
      "                     (1.227)        (1.205)   \n",
      "                                              \n",
      "----------------------------------------------\n",
      "Akaike Inf. Crit.    375.963        375.963   \n",
      "==============================================\n",
      "Note:              *p<0.1; **p<0.05; ***p<0.01\n",
      "[1] \"Tính tỷ số OR\"\n"
     ]
    },
    {
     "data": {
      "text/html": [
       "<table class=\"dataframe\">\n",
       "<caption>A matrix: 2 × 4 of type dbl</caption>\n",
       "<thead>\n",
       "\t<tr><th></th><th scope=col>(Intercept)</th><th scope=col>seslow</th><th scope=col>sesmiddle</th><th scope=col>write</th></tr>\n",
       "</thead>\n",
       "<tbody>\n",
       "\t<tr><th scope=row>general</th><td> 5.416653</td><td>3.199009</td><td>1.876792</td><td>0.9437152</td></tr>\n",
       "\t<tr><th scope=row>vocational</th><td>69.101326</td><td>2.671709</td><td>3.575477</td><td>0.8926115</td></tr>\n",
       "</tbody>\n",
       "</table>\n"
      ],
      "text/latex": [
       "A matrix: 2 × 4 of type dbl\n",
       "\\begin{tabular}{r|llll}\n",
       "  & (Intercept) & seslow & sesmiddle & write\\\\\n",
       "\\hline\n",
       "\tgeneral &  5.416653 & 3.199009 & 1.876792 & 0.9437152\\\\\n",
       "\tvocational & 69.101326 & 2.671709 & 3.575477 & 0.8926115\\\\\n",
       "\\end{tabular}\n"
      ],
      "text/markdown": [
       "\n",
       "A matrix: 2 × 4 of type dbl\n",
       "\n",
       "| <!--/--> | (Intercept) | seslow | sesmiddle | write |\n",
       "|---|---|---|---|---|\n",
       "| general |  5.416653 | 3.199009 | 1.876792 | 0.9437152 |\n",
       "| vocational | 69.101326 | 2.671709 | 3.575477 | 0.8926115 |\n",
       "\n"
      ],
      "text/plain": [
       "           (Intercept) seslow   sesmiddle write    \n",
       "general     5.416653   3.199009 1.876792  0.9437152\n",
       "vocational 69.101326   2.671709 3.575477  0.8926115"
      ]
     },
     "metadata": {},
     "output_type": "display_data"
    },
    {
     "name": "stdout",
     "output_type": "stream",
     "text": [
      "[1] \"Tỷ số OR cho từng nhóm\"\n",
      "\n",
      "==============================================\n",
      "                      Dependent variable:     \n",
      "                  ----------------------------\n",
      "                     general      vocational  \n",
      "                       (1)            (2)     \n",
      "----------------------------------------------\n",
      "seslow               3.199**        2.672*    \n",
      "                     (0.514)        (0.596)   \n",
      "                                              \n",
      "sesmiddle             1.877         3.575**   \n",
      "                     (0.465)        (0.511)   \n",
      "                                              \n",
      "write                0.944***      0.893***   \n",
      "                     (0.021)        (0.022)   \n",
      "                                              \n",
      "Constant              5.417        69.101***  \n",
      "                     (1.227)        (1.205)   \n",
      "                                              \n",
      "----------------------------------------------\n",
      "Akaike Inf. Crit.    375.963        375.963   \n",
      "==============================================\n",
      "Note:              *p<0.1; **p<0.05; ***p<0.01\n"
     ]
    }
   ],
   "source": [
    "\n",
    "print('Trình bày dạng cột') \n",
    "\n",
    "stargazer(multihsb2, type=\"text\")\n",
    "\n",
    "print('Tính tỷ số OR')\n",
    "\n",
    "multihsb2.OR = exp(coef(multihsb2))\n",
    "multihsb2.OR\n",
    "\n",
    "print('Tỷ số OR cho từng nhóm')\n",
    "stargazer(multihsb2, coef=list(multihsb2.OR), type=\"text\", p.auto=FALSE)"
   ]
  },
  {
   "cell_type": "code",
   "execution_count": 6,
   "metadata": {
    "vscode": {
     "languageId": "r"
    }
   },
   "outputs": [
    {
     "data": {
      "text/html": [
       "<table class=\"dataframe\">\n",
       "<caption>A matrix: 3 × 3 of type dbl</caption>\n",
       "<thead>\n",
       "\t<tr><th></th><th scope=col>academic</th><th scope=col>general</th><th scope=col>vocational</th></tr>\n",
       "</thead>\n",
       "<tbody>\n",
       "\t<tr><th scope=row>1</th><td>0.4247920</td><td>0.3619528</td><td>0.2132552</td></tr>\n",
       "\t<tr><th scope=row>2</th><td>0.6110350</td><td>0.2036240</td><td>0.1853410</td></tr>\n",
       "\t<tr><th scope=row>3</th><td>0.2917517</td><td>0.2336122</td><td>0.4746361</td></tr>\n",
       "</tbody>\n",
       "</table>\n"
      ],
      "text/latex": [
       "A matrix: 3 × 3 of type dbl\n",
       "\\begin{tabular}{r|lll}\n",
       "  & academic & general & vocational\\\\\n",
       "\\hline\n",
       "\t1 & 0.4247920 & 0.3619528 & 0.2132552\\\\\n",
       "\t2 & 0.6110350 & 0.2036240 & 0.1853410\\\\\n",
       "\t3 & 0.2917517 & 0.2336122 & 0.4746361\\\\\n",
       "\\end{tabular}\n"
      ],
      "text/markdown": [
       "\n",
       "A matrix: 3 × 3 of type dbl\n",
       "\n",
       "| <!--/--> | academic | general | vocational |\n",
       "|---|---|---|---|\n",
       "| 1 | 0.4247920 | 0.3619528 | 0.2132552 |\n",
       "| 2 | 0.6110350 | 0.2036240 | 0.1853410 |\n",
       "| 3 | 0.2917517 | 0.2336122 | 0.4746361 |\n",
       "\n"
      ],
      "text/plain": [
       "  academic  general   vocational\n",
       "1 0.4247920 0.3619528 0.2132552 \n",
       "2 0.6110350 0.2036240 0.1853410 \n",
       "3 0.2917517 0.2336122 0.4746361 "
      ]
     },
     "metadata": {},
     "output_type": "display_data"
    },
    {
     "name": "stdout",
     "output_type": "stream",
     "text": [
      "[1] \"trung bình xác suất lựa chọn=academic\"\n"
     ]
    },
    {
     "data": {
      "text/html": [
       "0.524998789527876"
      ],
      "text/latex": [
       "0.524998789527876"
      ],
      "text/markdown": [
       "0.524998789527876"
      ],
      "text/plain": [
       "[1] 0.5249988"
      ]
     },
     "metadata": {},
     "output_type": "display_data"
    },
    {
     "name": "stdout",
     "output_type": "stream",
     "text": [
      "[1] \"trung bình xác suất lựa chọn=general\"\n"
     ]
    },
    {
     "data": {
      "text/html": [
       "0.225000419787443"
      ],
      "text/latex": [
       "0.225000419787443"
      ],
      "text/markdown": [
       "0.225000419787443"
      ],
      "text/plain": [
       "[1] 0.2250004"
      ]
     },
     "metadata": {},
     "output_type": "display_data"
    },
    {
     "name": "stdout",
     "output_type": "stream",
     "text": [
      "[1] \"trung bình xác suất lựa chọn=vocation=\"\n"
     ]
    },
    {
     "data": {
      "text/html": [
       "0.250000790684681"
      ],
      "text/latex": [
       "0.250000790684681"
      ],
      "text/markdown": [
       "0.250000790684681"
      ],
      "text/plain": [
       "[1] 0.2500008"
      ]
     },
     "metadata": {},
     "output_type": "display_data"
    }
   ],
   "source": [
    "\n",
    "## XÁC SUẤT TRUNG BÌNH CÁC LỰA CHỌN CHƯƠNG TRÌNH\n",
    "Prob=fitted(multihsb2)\n",
    "head(Prob,3)\n",
    "print('trung bình xác suất lựa chọn=academic')\n",
    "P_aca_TB=mean(Prob[,c(1)])\n",
    "P_aca_TB\n",
    "print('trung bình xác suất lựa chọn=general')\n",
    "P_gen_TB=mean(Prob[,c(2)])\n",
    "P_gen_TB\n",
    "print('trung bình xác suất lựa chọn=vocation=')\n",
    "P_voc_TB=mean(Prob[,c(3)])\n",
    "P_voc_TB"
   ]
  },
  {
   "cell_type": "code",
   "execution_count": 7,
   "metadata": {
    "vscode": {
     "languageId": "r"
    }
   },
   "outputs": [
    {
     "data": {
      "text/plain": [
       "pp.write$ses: high\n",
       "  academic    general vocational \n",
       " 0.4418634  0.2256730  0.3324636 \n",
       "------------------------------------------------------------ \n",
       "pp.write$ses: low\n",
       "  academic    general vocational \n",
       " 0.2247991  0.3541661  0.4210348 \n",
       "------------------------------------------------------------ \n",
       "pp.write$ses: middle\n",
       "  academic    general vocational \n",
       " 0.2302619  0.2096853  0.5600528 "
      ]
     },
     "metadata": {},
     "output_type": "display_data"
    }
   ],
   "source": [
    "dwrite <- data.frame(ses = rep(c(\"low\", \"middle\", \"high\"), each = 21), write = rep(c(30:50),3))\n",
    "# dwrite\n",
    "pp.write <- cbind(dwrite, predict(multihsb2, newdata = dwrite, type = \"probs\", se = TRUE))\n",
    "by(pp.write[, 3:5], pp.write$ses, colMeans)"
   ]
  },
  {
   "cell_type": "code",
   "execution_count": null,
   "metadata": {
    "vscode": {
     "languageId": "r"
    }
   },
   "outputs": [],
   "source": []
  }
 ],
 "metadata": {
  "kernelspec": {
   "display_name": "R",
   "language": "R",
   "name": "ir"
  },
  "language_info": {
   "codemirror_mode": "r",
   "file_extension": ".r",
   "mimetype": "text/x-r-source",
   "name": "R",
   "pygments_lexer": "r",
   "version": "4.2.1"
  },
  "orig_nbformat": 4
 },
 "nbformat": 4,
 "nbformat_minor": 2
}
