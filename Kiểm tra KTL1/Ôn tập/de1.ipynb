{
 "cells": [
  {
   "attachments": {},
   "cell_type": "markdown",
   "metadata": {},
   "source": [
    "Tệp số liệu ch4bt2.txt cho 40 quan sát về các biến BEER- mức chi tiêu cho bia/người/năm; Y - thu nhập/người/năm ($); AGE - tuổi; SEX- giới tính (1 nam; 0 nữ); học vấn:  D1 = 1 nếu tốt nghiệp trung học; D1= 0 đối với các trường hợp khác; D2 = 1 nếu tốt nghiệp cao đẳng, D2 = 0 đối với các trường hợp khác; D3 = 1 nếu tốt nghiệp đại học, D3 = 0 đối với các trường hợp khác.\n",
    "      Hãy tính toán và lập luận đầy đủ để trả lời các câu hỏi sau:\n"
   ]
  },
  {
   "cell_type": "code",
   "execution_count": 108,
   "metadata": {
    "vscode": {
     "languageId": "r"
    }
   },
   "outputs": [],
   "source": [
    "library(lmtest)\n",
    "library(car)\n",
    "library(carData)\n",
    "library(hexView)\n",
    "library(strucchange)\n",
    "library(fBasics)"
   ]
  },
  {
   "cell_type": "code",
   "execution_count": 109,
   "metadata": {
    "vscode": {
     "languageId": "r"
    }
   },
   "outputs": [
    {
     "name": "stderr",
     "output_type": "stream",
     "text": [
      "Warning message in readEViews(\"ch4bt2.wf1\"):\n",
      "\"Skipping boilerplate variable\n",
      "\"\n",
      "Warning message in readEViews(\"ch4bt2.wf1\"):\n",
      "\"Skipping boilerplate variable\n",
      "\"\n"
     ]
    },
    {
     "data": {
      "text/html": [
       "<table class=\"dataframe\">\n",
       "<caption>A data.frame: 40 × 8</caption>\n",
       "<thead>\n",
       "\t<tr><th scope=col>Date</th><th scope=col>AGE</th><th scope=col>BE</th><th scope=col>D1</th><th scope=col>D2</th><th scope=col>D3</th><th scope=col>SEX</th><th scope=col>Y</th></tr>\n",
       "\t<tr><th scope=col>&lt;date&gt;</th><th scope=col>&lt;dbl&gt;</th><th scope=col>&lt;dbl&gt;</th><th scope=col>&lt;dbl&gt;</th><th scope=col>&lt;dbl&gt;</th><th scope=col>&lt;dbl&gt;</th><th scope=col>&lt;dbl&gt;</th><th scope=col>&lt;dbl&gt;</th></tr>\n",
       "</thead>\n",
       "<tbody>\n",
       "\t<tr><td>0001-01-01</td><td>25</td><td>109</td><td>0</td><td>0</td><td>0</td><td>1</td><td> 15000</td></tr>\n",
       "\t<tr><td>0002-01-01</td><td>45</td><td>  0</td><td>0</td><td>0</td><td>0</td><td>1</td><td> 30000</td></tr>\n",
       "\t<tr><td>0003-01-01</td><td>20</td><td>  0</td><td>0</td><td>0</td><td>0</td><td>1</td><td> 12000</td></tr>\n",
       "\t<tr><td>0004-01-01</td><td>28</td><td>108</td><td>0</td><td>0</td><td>0</td><td>1</td><td> 20000</td></tr>\n",
       "\t<tr><td>0005-01-01</td><td>25</td><td>220</td><td>1</td><td>0</td><td>0</td><td>1</td><td> 15000</td></tr>\n",
       "\t<tr><td>0006-01-01</td><td>35</td><td>189</td><td>1</td><td>0</td><td>0</td><td>1</td><td> 30000</td></tr>\n",
       "\t<tr><td>0007-01-01</td><td>40</td><td> 64</td><td>1</td><td>0</td><td>0</td><td>1</td><td> 12000</td></tr>\n",
       "\t<tr><td>0008-01-01</td><td>22</td><td>262</td><td>1</td><td>0</td><td>0</td><td>1</td><td> 12000</td></tr>\n",
       "\t<tr><td>0009-01-01</td><td>30</td><td> 64</td><td>1</td><td>0</td><td>0</td><td>1</td><td> 28000</td></tr>\n",
       "\t<tr><td>0010-01-01</td><td>21</td><td> 35</td><td>1</td><td>0</td><td>0</td><td>1</td><td> 22000</td></tr>\n",
       "\t<tr><td>0011-01-01</td><td>40</td><td> 94</td><td>1</td><td>0</td><td>0</td><td>1</td><td> 44000</td></tr>\n",
       "\t<tr><td>0012-01-01</td><td>21</td><td> 71</td><td>0</td><td>1</td><td>0</td><td>1</td><td> 10000</td></tr>\n",
       "\t<tr><td>0013-01-01</td><td>45</td><td>403</td><td>0</td><td>1</td><td>0</td><td>1</td><td>222000</td></tr>\n",
       "\t<tr><td>0014-01-01</td><td>36</td><td> 41</td><td>0</td><td>1</td><td>0</td><td>1</td><td> 32000</td></tr>\n",
       "\t<tr><td>0015-01-01</td><td>36</td><td> 10</td><td>0</td><td>1</td><td>0</td><td>1</td><td> 45000</td></tr>\n",
       "\t<tr><td>0016-01-01</td><td>40</td><td>110</td><td>0</td><td>1</td><td>0</td><td>1</td><td> 55000</td></tr>\n",
       "\t<tr><td>0017-01-01</td><td>23</td><td>239</td><td>0</td><td>1</td><td>0</td><td>1</td><td> 29000</td></tr>\n",
       "\t<tr><td>0018-01-01</td><td>32</td><td> 63</td><td>0</td><td>1</td><td>0</td><td>1</td><td> 39000</td></tr>\n",
       "\t<tr><td>0019-01-01</td><td>52</td><td>  0</td><td>0</td><td>1</td><td>0</td><td>1</td><td> 70000</td></tr>\n",
       "\t<tr><td>0020-01-01</td><td>30</td><td>106</td><td>0</td><td>0</td><td>1</td><td>1</td><td> 55000</td></tr>\n",
       "\t<tr><td>0021-01-01</td><td>45</td><td>  0</td><td>0</td><td>0</td><td>1</td><td>0</td><td> 90000</td></tr>\n",
       "\t<tr><td>0022-01-01</td><td>32</td><td>141</td><td>0</td><td>0</td><td>0</td><td>0</td><td>  6000</td></tr>\n",
       "\t<tr><td>0023-01-01</td><td>20</td><td>299</td><td>0</td><td>0</td><td>0</td><td>0</td><td> 18000</td></tr>\n",
       "\t<tr><td>0024-01-01</td><td>55</td><td>148</td><td>0</td><td>0</td><td>0</td><td>0</td><td> 55000</td></tr>\n",
       "\t<tr><td>0025-01-01</td><td>18</td><td>424</td><td>1</td><td>0</td><td>0</td><td>0</td><td> 10000</td></tr>\n",
       "\t<tr><td>0026-01-01</td><td>30</td><td>242</td><td>1</td><td>0</td><td>0</td><td>0</td><td> 23000</td></tr>\n",
       "\t<tr><td>0027-01-01</td><td>45</td><td>119</td><td>1</td><td>0</td><td>0</td><td>0</td><td> 35000</td></tr>\n",
       "\t<tr><td>0028-01-01</td><td>40</td><td>338</td><td>1</td><td>0</td><td>0</td><td>0</td><td> 38000</td></tr>\n",
       "\t<tr><td>0029-01-01</td><td>50</td><td>135</td><td>1</td><td>0</td><td>0</td><td>0</td><td> 45000</td></tr>\n",
       "\t<tr><td>0030-01-01</td><td>32</td><td>590</td><td>1</td><td>0</td><td>0</td><td>0</td><td> 85000</td></tr>\n",
       "\t<tr><td>0031-01-01</td><td>30</td><td>324</td><td>1</td><td>0</td><td>0</td><td>0</td><td> 22000</td></tr>\n",
       "\t<tr><td>0032-01-01</td><td>51</td><td> 87</td><td>1</td><td>0</td><td>0</td><td>0</td><td> 25000</td></tr>\n",
       "\t<tr><td>0033-01-01</td><td>22</td><td>395</td><td>0</td><td>1</td><td>0</td><td>0</td><td> 29000</td></tr>\n",
       "\t<tr><td>0034-01-01</td><td>40</td><td>513</td><td>0</td><td>1</td><td>0</td><td>0</td><td>132000</td></tr>\n",
       "\t<tr><td>0035-01-01</td><td>30</td><td> 56</td><td>0</td><td>1</td><td>0</td><td>0</td><td> 35000</td></tr>\n",
       "\t<tr><td>0036-01-01</td><td>36</td><td>400</td><td>0</td><td>1</td><td>0</td><td>0</td><td> 80000</td></tr>\n",
       "\t<tr><td>0037-01-01</td><td>27</td><td>384</td><td>0</td><td>1</td><td>0</td><td>0</td><td> 55000</td></tr>\n",
       "\t<tr><td>0038-01-01</td><td>24</td><td>262</td><td>0</td><td>1</td><td>0</td><td>0</td><td> 30000</td></tr>\n",
       "\t<tr><td>0039-01-01</td><td>21</td><td>336</td><td>0</td><td>1</td><td>0</td><td>0</td><td> 27000</td></tr>\n",
       "\t<tr><td>0040-01-01</td><td>45</td><td>281</td><td>0</td><td>0</td><td>1</td><td>0</td><td> 80000</td></tr>\n",
       "</tbody>\n",
       "</table>\n"
      ],
      "text/latex": [
       "A data.frame: 40 × 8\n",
       "\\begin{tabular}{llllllll}\n",
       " Date & AGE & BE & D1 & D2 & D3 & SEX & Y\\\\\n",
       " <date> & <dbl> & <dbl> & <dbl> & <dbl> & <dbl> & <dbl> & <dbl>\\\\\n",
       "\\hline\n",
       "\t 0001-01-01 & 25 & 109 & 0 & 0 & 0 & 1 &  15000\\\\\n",
       "\t 0002-01-01 & 45 &   0 & 0 & 0 & 0 & 1 &  30000\\\\\n",
       "\t 0003-01-01 & 20 &   0 & 0 & 0 & 0 & 1 &  12000\\\\\n",
       "\t 0004-01-01 & 28 & 108 & 0 & 0 & 0 & 1 &  20000\\\\\n",
       "\t 0005-01-01 & 25 & 220 & 1 & 0 & 0 & 1 &  15000\\\\\n",
       "\t 0006-01-01 & 35 & 189 & 1 & 0 & 0 & 1 &  30000\\\\\n",
       "\t 0007-01-01 & 40 &  64 & 1 & 0 & 0 & 1 &  12000\\\\\n",
       "\t 0008-01-01 & 22 & 262 & 1 & 0 & 0 & 1 &  12000\\\\\n",
       "\t 0009-01-01 & 30 &  64 & 1 & 0 & 0 & 1 &  28000\\\\\n",
       "\t 0010-01-01 & 21 &  35 & 1 & 0 & 0 & 1 &  22000\\\\\n",
       "\t 0011-01-01 & 40 &  94 & 1 & 0 & 0 & 1 &  44000\\\\\n",
       "\t 0012-01-01 & 21 &  71 & 0 & 1 & 0 & 1 &  10000\\\\\n",
       "\t 0013-01-01 & 45 & 403 & 0 & 1 & 0 & 1 & 222000\\\\\n",
       "\t 0014-01-01 & 36 &  41 & 0 & 1 & 0 & 1 &  32000\\\\\n",
       "\t 0015-01-01 & 36 &  10 & 0 & 1 & 0 & 1 &  45000\\\\\n",
       "\t 0016-01-01 & 40 & 110 & 0 & 1 & 0 & 1 &  55000\\\\\n",
       "\t 0017-01-01 & 23 & 239 & 0 & 1 & 0 & 1 &  29000\\\\\n",
       "\t 0018-01-01 & 32 &  63 & 0 & 1 & 0 & 1 &  39000\\\\\n",
       "\t 0019-01-01 & 52 &   0 & 0 & 1 & 0 & 1 &  70000\\\\\n",
       "\t 0020-01-01 & 30 & 106 & 0 & 0 & 1 & 1 &  55000\\\\\n",
       "\t 0021-01-01 & 45 &   0 & 0 & 0 & 1 & 0 &  90000\\\\\n",
       "\t 0022-01-01 & 32 & 141 & 0 & 0 & 0 & 0 &   6000\\\\\n",
       "\t 0023-01-01 & 20 & 299 & 0 & 0 & 0 & 0 &  18000\\\\\n",
       "\t 0024-01-01 & 55 & 148 & 0 & 0 & 0 & 0 &  55000\\\\\n",
       "\t 0025-01-01 & 18 & 424 & 1 & 0 & 0 & 0 &  10000\\\\\n",
       "\t 0026-01-01 & 30 & 242 & 1 & 0 & 0 & 0 &  23000\\\\\n",
       "\t 0027-01-01 & 45 & 119 & 1 & 0 & 0 & 0 &  35000\\\\\n",
       "\t 0028-01-01 & 40 & 338 & 1 & 0 & 0 & 0 &  38000\\\\\n",
       "\t 0029-01-01 & 50 & 135 & 1 & 0 & 0 & 0 &  45000\\\\\n",
       "\t 0030-01-01 & 32 & 590 & 1 & 0 & 0 & 0 &  85000\\\\\n",
       "\t 0031-01-01 & 30 & 324 & 1 & 0 & 0 & 0 &  22000\\\\\n",
       "\t 0032-01-01 & 51 &  87 & 1 & 0 & 0 & 0 &  25000\\\\\n",
       "\t 0033-01-01 & 22 & 395 & 0 & 1 & 0 & 0 &  29000\\\\\n",
       "\t 0034-01-01 & 40 & 513 & 0 & 1 & 0 & 0 & 132000\\\\\n",
       "\t 0035-01-01 & 30 &  56 & 0 & 1 & 0 & 0 &  35000\\\\\n",
       "\t 0036-01-01 & 36 & 400 & 0 & 1 & 0 & 0 &  80000\\\\\n",
       "\t 0037-01-01 & 27 & 384 & 0 & 1 & 0 & 0 &  55000\\\\\n",
       "\t 0038-01-01 & 24 & 262 & 0 & 1 & 0 & 0 &  30000\\\\\n",
       "\t 0039-01-01 & 21 & 336 & 0 & 1 & 0 & 0 &  27000\\\\\n",
       "\t 0040-01-01 & 45 & 281 & 0 & 0 & 1 & 0 &  80000\\\\\n",
       "\\end{tabular}\n"
      ],
      "text/markdown": [
       "\n",
       "A data.frame: 40 × 8\n",
       "\n",
       "| Date &lt;date&gt; | AGE &lt;dbl&gt; | BE &lt;dbl&gt; | D1 &lt;dbl&gt; | D2 &lt;dbl&gt; | D3 &lt;dbl&gt; | SEX &lt;dbl&gt; | Y &lt;dbl&gt; |\n",
       "|---|---|---|---|---|---|---|---|\n",
       "| 0001-01-01 | 25 | 109 | 0 | 0 | 0 | 1 |  15000 |\n",
       "| 0002-01-01 | 45 |   0 | 0 | 0 | 0 | 1 |  30000 |\n",
       "| 0003-01-01 | 20 |   0 | 0 | 0 | 0 | 1 |  12000 |\n",
       "| 0004-01-01 | 28 | 108 | 0 | 0 | 0 | 1 |  20000 |\n",
       "| 0005-01-01 | 25 | 220 | 1 | 0 | 0 | 1 |  15000 |\n",
       "| 0006-01-01 | 35 | 189 | 1 | 0 | 0 | 1 |  30000 |\n",
       "| 0007-01-01 | 40 |  64 | 1 | 0 | 0 | 1 |  12000 |\n",
       "| 0008-01-01 | 22 | 262 | 1 | 0 | 0 | 1 |  12000 |\n",
       "| 0009-01-01 | 30 |  64 | 1 | 0 | 0 | 1 |  28000 |\n",
       "| 0010-01-01 | 21 |  35 | 1 | 0 | 0 | 1 |  22000 |\n",
       "| 0011-01-01 | 40 |  94 | 1 | 0 | 0 | 1 |  44000 |\n",
       "| 0012-01-01 | 21 |  71 | 0 | 1 | 0 | 1 |  10000 |\n",
       "| 0013-01-01 | 45 | 403 | 0 | 1 | 0 | 1 | 222000 |\n",
       "| 0014-01-01 | 36 |  41 | 0 | 1 | 0 | 1 |  32000 |\n",
       "| 0015-01-01 | 36 |  10 | 0 | 1 | 0 | 1 |  45000 |\n",
       "| 0016-01-01 | 40 | 110 | 0 | 1 | 0 | 1 |  55000 |\n",
       "| 0017-01-01 | 23 | 239 | 0 | 1 | 0 | 1 |  29000 |\n",
       "| 0018-01-01 | 32 |  63 | 0 | 1 | 0 | 1 |  39000 |\n",
       "| 0019-01-01 | 52 |   0 | 0 | 1 | 0 | 1 |  70000 |\n",
       "| 0020-01-01 | 30 | 106 | 0 | 0 | 1 | 1 |  55000 |\n",
       "| 0021-01-01 | 45 |   0 | 0 | 0 | 1 | 0 |  90000 |\n",
       "| 0022-01-01 | 32 | 141 | 0 | 0 | 0 | 0 |   6000 |\n",
       "| 0023-01-01 | 20 | 299 | 0 | 0 | 0 | 0 |  18000 |\n",
       "| 0024-01-01 | 55 | 148 | 0 | 0 | 0 | 0 |  55000 |\n",
       "| 0025-01-01 | 18 | 424 | 1 | 0 | 0 | 0 |  10000 |\n",
       "| 0026-01-01 | 30 | 242 | 1 | 0 | 0 | 0 |  23000 |\n",
       "| 0027-01-01 | 45 | 119 | 1 | 0 | 0 | 0 |  35000 |\n",
       "| 0028-01-01 | 40 | 338 | 1 | 0 | 0 | 0 |  38000 |\n",
       "| 0029-01-01 | 50 | 135 | 1 | 0 | 0 | 0 |  45000 |\n",
       "| 0030-01-01 | 32 | 590 | 1 | 0 | 0 | 0 |  85000 |\n",
       "| 0031-01-01 | 30 | 324 | 1 | 0 | 0 | 0 |  22000 |\n",
       "| 0032-01-01 | 51 |  87 | 1 | 0 | 0 | 0 |  25000 |\n",
       "| 0033-01-01 | 22 | 395 | 0 | 1 | 0 | 0 |  29000 |\n",
       "| 0034-01-01 | 40 | 513 | 0 | 1 | 0 | 0 | 132000 |\n",
       "| 0035-01-01 | 30 |  56 | 0 | 1 | 0 | 0 |  35000 |\n",
       "| 0036-01-01 | 36 | 400 | 0 | 1 | 0 | 0 |  80000 |\n",
       "| 0037-01-01 | 27 | 384 | 0 | 1 | 0 | 0 |  55000 |\n",
       "| 0038-01-01 | 24 | 262 | 0 | 1 | 0 | 0 |  30000 |\n",
       "| 0039-01-01 | 21 | 336 | 0 | 1 | 0 | 0 |  27000 |\n",
       "| 0040-01-01 | 45 | 281 | 0 | 0 | 1 | 0 |  80000 |\n",
       "\n"
      ],
      "text/plain": [
       "   Date       AGE BE  D1 D2 D3 SEX Y     \n",
       "1  0001-01-01 25  109 0  0  0  1    15000\n",
       "2  0002-01-01 45    0 0  0  0  1    30000\n",
       "3  0003-01-01 20    0 0  0  0  1    12000\n",
       "4  0004-01-01 28  108 0  0  0  1    20000\n",
       "5  0005-01-01 25  220 1  0  0  1    15000\n",
       "6  0006-01-01 35  189 1  0  0  1    30000\n",
       "7  0007-01-01 40   64 1  0  0  1    12000\n",
       "8  0008-01-01 22  262 1  0  0  1    12000\n",
       "9  0009-01-01 30   64 1  0  0  1    28000\n",
       "10 0010-01-01 21   35 1  0  0  1    22000\n",
       "11 0011-01-01 40   94 1  0  0  1    44000\n",
       "12 0012-01-01 21   71 0  1  0  1    10000\n",
       "13 0013-01-01 45  403 0  1  0  1   222000\n",
       "14 0014-01-01 36   41 0  1  0  1    32000\n",
       "15 0015-01-01 36   10 0  1  0  1    45000\n",
       "16 0016-01-01 40  110 0  1  0  1    55000\n",
       "17 0017-01-01 23  239 0  1  0  1    29000\n",
       "18 0018-01-01 32   63 0  1  0  1    39000\n",
       "19 0019-01-01 52    0 0  1  0  1    70000\n",
       "20 0020-01-01 30  106 0  0  1  1    55000\n",
       "21 0021-01-01 45    0 0  0  1  0    90000\n",
       "22 0022-01-01 32  141 0  0  0  0     6000\n",
       "23 0023-01-01 20  299 0  0  0  0    18000\n",
       "24 0024-01-01 55  148 0  0  0  0    55000\n",
       "25 0025-01-01 18  424 1  0  0  0    10000\n",
       "26 0026-01-01 30  242 1  0  0  0    23000\n",
       "27 0027-01-01 45  119 1  0  0  0    35000\n",
       "28 0028-01-01 40  338 1  0  0  0    38000\n",
       "29 0029-01-01 50  135 1  0  0  0    45000\n",
       "30 0030-01-01 32  590 1  0  0  0    85000\n",
       "31 0031-01-01 30  324 1  0  0  0    22000\n",
       "32 0032-01-01 51   87 1  0  0  0    25000\n",
       "33 0033-01-01 22  395 0  1  0  0    29000\n",
       "34 0034-01-01 40  513 0  1  0  0   132000\n",
       "35 0035-01-01 30   56 0  1  0  0    35000\n",
       "36 0036-01-01 36  400 0  1  0  0    80000\n",
       "37 0037-01-01 27  384 0  1  0  0    55000\n",
       "38 0038-01-01 24  262 0  1  0  0    30000\n",
       "39 0039-01-01 21  336 0  1  0  0    27000\n",
       "40 0040-01-01 45  281 0  0  1  0    80000"
      ]
     },
     "metadata": {},
     "output_type": "display_data"
    }
   ],
   "source": [
    "df <- readEViews(\"ch4bt2.wf1\")\n",
    "df"
   ]
  },
  {
   "attachments": {},
   "cell_type": "markdown",
   "metadata": {},
   "source": [
    "## Câu 1\n",
    "\n",
    "Hãy ước lượng hàm tiêu dùng về bia phụ thuộc vào thu nhập, tuổi, giới tính, học vấn."
   ]
  },
  {
   "cell_type": "code",
   "execution_count": 110,
   "metadata": {
    "vscode": {
     "languageId": "r"
    }
   },
   "outputs": [
    {
     "data": {
      "text/plain": [
       "\n",
       "Call:\n",
       "lm(formula = BE ~ Y + AGE + SEX + D1 + D2 + D3, data = df)\n",
       "\n",
       "Residuals:\n",
       "    Min      1Q  Median      3Q     Max \n",
       "-205.68  -43.40   17.55   57.09  126.35 \n",
       "\n",
       "Coefficients:\n",
       "              Estimate Std. Error t value Pr(>|t|)    \n",
       "(Intercept)  4.373e+02  6.212e+01   7.040 4.69e-08 ***\n",
       "Y            2.811e-03  4.712e-04   5.966 1.07e-06 ***\n",
       "AGE         -8.967e+00  1.643e+00  -5.457 4.79e-06 ***\n",
       "SEX         -1.693e+02  2.843e+01  -5.955 1.10e-06 ***\n",
       "D1           7.485e+01  4.085e+01   1.832   0.0759 .  \n",
       "D2          -5.014e+00  4.416e+01  -0.114   0.9103    \n",
       "D3          -1.040e+02  6.510e+01  -1.598   0.1196    \n",
       "---\n",
       "Signif. codes:  0 '***' 0.001 '**' 0.01 '*' 0.05 '.' 0.1 ' ' 1\n",
       "\n",
       "Residual standard error: 88.76 on 33 degrees of freedom\n",
       "Multiple R-squared:  0.7256,\tAdjusted R-squared:  0.6757 \n",
       "F-statistic: 14.55 on 6 and 33 DF,  p-value: 4.808e-08\n"
      ]
     },
     "metadata": {},
     "output_type": "display_data"
    }
   ],
   "source": [
    "hq <- lm(data = df,BE~Y+AGE+SEX+D1+D2+D3)\n",
    "summary(hq)"
   ]
  },
  {
   "attachments": {},
   "cell_type": "markdown",
   "metadata": {},
   "source": [
    "## Câu 2\n",
    "\n",
    "Sử dụng kiểm đình F để xem có bỏ được D2 và D3 ra khỏi mô hình hay không? "
   ]
  },
  {
   "cell_type": "code",
   "execution_count": 111,
   "metadata": {
    "vscode": {
     "languageId": "r"
    }
   },
   "outputs": [],
   "source": [
    "hq0 <- lm(data=df,BE~Y+AGE+SEX+D1)\n",
    "rur <- summary(hq)$r.squared\n",
    "rr <- summary(hq0)$r.squared"
   ]
  },
  {
   "cell_type": "code",
   "execution_count": 112,
   "metadata": {
    "vscode": {
     "languageId": "r"
    }
   },
   "outputs": [
    {
     "data": {
      "text/html": [
       "1.59731734026052"
      ],
      "text/latex": [
       "1.59731734026052"
      ],
      "text/markdown": [
       "1.59731734026052"
      ],
      "text/plain": [
       "[1] 1.597317"
      ]
     },
     "metadata": {},
     "output_type": "display_data"
    }
   ],
   "source": [
    "fqs <- ((rur-rr)/2)/((1-rur)/33)\n",
    "fqs"
   ]
  },
  {
   "cell_type": "code",
   "execution_count": 113,
   "metadata": {
    "vscode": {
     "languageId": "r"
    }
   },
   "outputs": [
    {
     "data": {
      "text/html": [
       "3.28491765103829"
      ],
      "text/latex": [
       "3.28491765103829"
      ],
      "text/markdown": [
       "3.28491765103829"
      ],
      "text/plain": [
       "[1] 3.284918"
      ]
     },
     "metadata": {},
     "output_type": "display_data"
    }
   ],
   "source": [
    "qf(0.95, df1 = 2, df2 = 33)"
   ]
  },
  {
   "attachments": {},
   "cell_type": "markdown",
   "metadata": {},
   "source": [
    "Vậy có thể bỏ D2 và D3 ra khỏi mô hình"
   ]
  },
  {
   "attachments": {},
   "cell_type": "markdown",
   "metadata": {},
   "source": [
    "##### Cách 2"
   ]
  },
  {
   "cell_type": "code",
   "execution_count": 114,
   "metadata": {
    "vscode": {
     "languageId": "r"
    }
   },
   "outputs": [
    {
     "data": {
      "text/html": [
       "<table class=\"dataframe\">\n",
       "<caption>A anova: 2 × 6</caption>\n",
       "<thead>\n",
       "\t<tr><th></th><th scope=col>Res.Df</th><th scope=col>RSS</th><th scope=col>Df</th><th scope=col>Sum of Sq</th><th scope=col>F</th><th scope=col>Pr(&gt;F)</th></tr>\n",
       "\t<tr><th></th><th scope=col>&lt;dbl&gt;</th><th scope=col>&lt;dbl&gt;</th><th scope=col>&lt;dbl&gt;</th><th scope=col>&lt;dbl&gt;</th><th scope=col>&lt;dbl&gt;</th><th scope=col>&lt;dbl&gt;</th></tr>\n",
       "</thead>\n",
       "<tbody>\n",
       "\t<tr><th scope=row>1</th><td>35</td><td>285179.6</td><td>NA</td><td>      NA</td><td>      NA</td><td>       NA</td></tr>\n",
       "\t<tr><th scope=row>2</th><td>33</td><td>260008.9</td><td> 2</td><td>25170.71</td><td>1.597317</td><td>0.2176961</td></tr>\n",
       "</tbody>\n",
       "</table>\n"
      ],
      "text/latex": [
       "A anova: 2 × 6\n",
       "\\begin{tabular}{r|llllll}\n",
       "  & Res.Df & RSS & Df & Sum of Sq & F & Pr(>F)\\\\\n",
       "  & <dbl> & <dbl> & <dbl> & <dbl> & <dbl> & <dbl>\\\\\n",
       "\\hline\n",
       "\t1 & 35 & 285179.6 & NA &       NA &       NA &        NA\\\\\n",
       "\t2 & 33 & 260008.9 &  2 & 25170.71 & 1.597317 & 0.2176961\\\\\n",
       "\\end{tabular}\n"
      ],
      "text/markdown": [
       "\n",
       "A anova: 2 × 6\n",
       "\n",
       "| <!--/--> | Res.Df &lt;dbl&gt; | RSS &lt;dbl&gt; | Df &lt;dbl&gt; | Sum of Sq &lt;dbl&gt; | F &lt;dbl&gt; | Pr(&gt;F) &lt;dbl&gt; |\n",
       "|---|---|---|---|---|---|---|\n",
       "| 1 | 35 | 285179.6 | NA |       NA |       NA |        NA |\n",
       "| 2 | 33 | 260008.9 |  2 | 25170.71 | 1.597317 | 0.2176961 |\n",
       "\n"
      ],
      "text/plain": [
       "  Res.Df RSS      Df Sum of Sq F        Pr(>F)   \n",
       "1 35     285179.6 NA       NA        NA        NA\n",
       "2 33     260008.9  2 25170.71  1.597317 0.2176961"
      ]
     },
     "metadata": {},
     "output_type": "display_data"
    }
   ],
   "source": [
    "anova(hq0,hq)"
   ]
  },
  {
   "attachments": {},
   "cell_type": "markdown",
   "metadata": {},
   "source": [
    "##### Cách 3"
   ]
  },
  {
   "cell_type": "code",
   "execution_count": 115,
   "metadata": {
    "vscode": {
     "languageId": "r"
    }
   },
   "outputs": [
    {
     "data": {
      "text/html": [
       "<table class=\"dataframe\">\n",
       "<caption>A anova: 2 × 6</caption>\n",
       "<thead>\n",
       "\t<tr><th></th><th scope=col>Res.Df</th><th scope=col>RSS</th><th scope=col>Df</th><th scope=col>Sum of Sq</th><th scope=col>F</th><th scope=col>Pr(&gt;F)</th></tr>\n",
       "\t<tr><th></th><th scope=col>&lt;dbl&gt;</th><th scope=col>&lt;dbl&gt;</th><th scope=col>&lt;dbl&gt;</th><th scope=col>&lt;dbl&gt;</th><th scope=col>&lt;dbl&gt;</th><th scope=col>&lt;dbl&gt;</th></tr>\n",
       "</thead>\n",
       "<tbody>\n",
       "\t<tr><th scope=row>1</th><td>35</td><td>285179.6</td><td>NA</td><td>      NA</td><td>      NA</td><td>       NA</td></tr>\n",
       "\t<tr><th scope=row>2</th><td>33</td><td>260008.9</td><td> 2</td><td>25170.71</td><td>1.597317</td><td>0.2176961</td></tr>\n",
       "</tbody>\n",
       "</table>\n"
      ],
      "text/latex": [
       "A anova: 2 × 6\n",
       "\\begin{tabular}{r|llllll}\n",
       "  & Res.Df & RSS & Df & Sum of Sq & F & Pr(>F)\\\\\n",
       "  & <dbl> & <dbl> & <dbl> & <dbl> & <dbl> & <dbl>\\\\\n",
       "\\hline\n",
       "\t1 & 35 & 285179.6 & NA &       NA &       NA &        NA\\\\\n",
       "\t2 & 33 & 260008.9 &  2 & 25170.71 & 1.597317 & 0.2176961\\\\\n",
       "\\end{tabular}\n"
      ],
      "text/markdown": [
       "\n",
       "A anova: 2 × 6\n",
       "\n",
       "| <!--/--> | Res.Df &lt;dbl&gt; | RSS &lt;dbl&gt; | Df &lt;dbl&gt; | Sum of Sq &lt;dbl&gt; | F &lt;dbl&gt; | Pr(&gt;F) &lt;dbl&gt; |\n",
       "|---|---|---|---|---|---|---|\n",
       "| 1 | 35 | 285179.6 | NA |       NA |       NA |        NA |\n",
       "| 2 | 33 | 260008.9 |  2 | 25170.71 | 1.597317 | 0.2176961 |\n",
       "\n"
      ],
      "text/plain": [
       "  Res.Df RSS      Df Sum of Sq F        Pr(>F)   \n",
       "1 35     285179.6 NA       NA        NA        NA\n",
       "2 33     260008.9  2 25170.71  1.597317 0.2176961"
      ]
     },
     "metadata": {},
     "output_type": "display_data"
    }
   ],
   "source": [
    "linearHypothesis(hq,c(\"D2=0\",\"D3=0\"))"
   ]
  },
  {
   "attachments": {},
   "cell_type": "markdown",
   "metadata": {},
   "source": [
    "Với mức ý nghĩa 5%, có thể bỏ D2 và D3 ra khỏi mô hình"
   ]
  },
  {
   "attachments": {},
   "cell_type": "markdown",
   "metadata": {},
   "source": [
    "## Câu 3\n",
    "\n",
    "Ước lương lại mô hình và kiểm định xem dạng hàm có phù hợp không?"
   ]
  },
  {
   "cell_type": "code",
   "execution_count": 116,
   "metadata": {
    "vscode": {
     "languageId": "r"
    }
   },
   "outputs": [
    {
     "data": {
      "text/plain": [
       "\n",
       "\tRESET test\n",
       "\n",
       "data:  hq\n",
       "RESET = 2.97, df1 = 2, df2 = 31, p-value = 0.06605\n"
      ]
     },
     "metadata": {},
     "output_type": "display_data"
    }
   ],
   "source": [
    "resettest(hq, power = c(2,3))"
   ]
  },
  {
   "attachments": {},
   "cell_type": "markdown",
   "metadata": {},
   "source": [
    "Với mức ý nghĩa 5%, dạng hàm là phù hợp"
   ]
  },
  {
   "attachments": {},
   "cell_type": "markdown",
   "metadata": {},
   "source": [
    "## Câu 4\n",
    "\n",
    "Phương sai của sai số có đồng đều không?"
   ]
  },
  {
   "cell_type": "code",
   "execution_count": 117,
   "metadata": {
    "vscode": {
     "languageId": "r"
    }
   },
   "outputs": [
    {
     "data": {
      "text/plain": [
       "\n",
       "Call:\n",
       "lm(formula = phandu ~ Y + AGE + I(Y^2) + I(AGE^2) + I(Y * AGE), \n",
       "    data = df)\n",
       "\n",
       "Residuals:\n",
       "    Min      1Q  Median      3Q     Max \n",
       "-214.41  -51.19   16.25   55.02  129.83 \n",
       "\n",
       "Coefficients:\n",
       "              Estimate Std. Error t value Pr(>|t|)\n",
       "(Intercept) -2.096e+01  1.650e+02  -0.127    0.900\n",
       "Y            4.334e-03  3.433e-03   1.263    0.215\n",
       "AGE         -3.023e+00  1.117e+01  -0.271    0.788\n",
       "I(Y^2)      -1.840e-09  7.069e-09  -0.260    0.796\n",
       "I(AGE^2)     7.711e-02  1.811e-01   0.426    0.673\n",
       "I(Y * AGE)  -9.379e-05  1.012e-04  -0.927    0.360\n",
       "\n",
       "Residual standard error: 84.1 on 34 degrees of freedom\n",
       "Multiple R-squared:  0.07511,\tAdjusted R-squared:  -0.06091 \n",
       "F-statistic: 0.5522 on 5 and 34 DF,  p-value: 0.7355\n"
      ]
     },
     "metadata": {},
     "output_type": "display_data"
    }
   ],
   "source": [
    "df$phandu <- resid(hq)\n",
    "summary(lm(data = df, phandu ~ Y+AGE+I(Y^2)+I(AGE^2)+I(Y*AGE)))"
   ]
  },
  {
   "cell_type": "code",
   "execution_count": 118,
   "metadata": {
    "vscode": {
     "languageId": "r"
    }
   },
   "outputs": [
    {
     "data": {
      "text/plain": [
       "\n",
       "\tstudentized Breusch-Pagan test\n",
       "\n",
       "data:  hq\n",
       "BP = 4.0415, df = 3, p-value = 0.257\n"
      ]
     },
     "metadata": {},
     "output_type": "display_data"
    }
   ],
   "source": [
    "bptest(hq, ~ I(Y^2)+I(AGE^2)+I(Y*AGE), data = df)"
   ]
  },
  {
   "attachments": {},
   "cell_type": "markdown",
   "metadata": {},
   "source": [
    "Phương sai sai số đồng đều"
   ]
  },
  {
   "attachments": {},
   "cell_type": "markdown",
   "metadata": {},
   "source": [
    "## Câu 5\n",
    "\n",
    "u có phân bố chuẩn? với mức ý nghãi 5%."
   ]
  },
  {
   "cell_type": "code",
   "execution_count": 119,
   "metadata": {
    "vscode": {
     "languageId": "r"
    }
   },
   "outputs": [
    {
     "data": {
      "text/plain": [
       "\n",
       "Title:\n",
       " Jarque - Bera Normalality Test\n",
       "\n",
       "Test Results:\n",
       "  STATISTIC:\n",
       "    X-squared: 4.2341\n",
       "  P VALUE:\n",
       "    Asymptotic p Value: 0.1204 \n",
       "\n",
       "Description:\n",
       " Sun Mar 12 19:49:25 2023 by user: Admin\n"
      ]
     },
     "metadata": {},
     "output_type": "display_data"
    }
   ],
   "source": [
    "jarqueberaTest(hq$residuals)"
   ]
  },
  {
   "attachments": {},
   "cell_type": "markdown",
   "metadata": {},
   "source": [
    "Với mức ý nghĩa 5%, u có phân phối chuẩn"
   ]
  },
  {
   "attachments": {},
   "cell_type": "markdown",
   "metadata": {},
   "source": [
    "## Câu 6\n",
    "\n",
    "Với các yếu khác như nhau, nam và nữ có tiêu dùng bia khác nhau không?  Vì sao. Mức khác nhau là bao nhiêu?"
   ]
  },
  {
   "cell_type": "code",
   "execution_count": 120,
   "metadata": {
    "vscode": {
     "languageId": "r"
    }
   },
   "outputs": [
    {
     "data": {
      "text/plain": [
       "\n",
       "Call:\n",
       "lm(formula = BE ~ SEX, data = df)\n",
       "\n",
       "Residuals:\n",
       "    Min      1Q  Median      3Q     Max \n",
       "-273.70 -101.90   -7.55   87.27  316.30 \n",
       "\n",
       "Coefficients:\n",
       "            Estimate Std. Error t value Pr(>|t|)    \n",
       "(Intercept)   273.70      29.86   9.166 3.63e-11 ***\n",
       "SEX          -164.30      42.23  -3.891  0.00039 ***\n",
       "---\n",
       "Signif. codes:  0 '***' 0.001 '**' 0.01 '*' 0.05 '.' 0.1 ' ' 1\n",
       "\n",
       "Residual standard error: 133.5 on 38 degrees of freedom\n",
       "Multiple R-squared:  0.2849,\tAdjusted R-squared:  0.266 \n",
       "F-statistic: 15.14 on 1 and 38 DF,  p-value: 0.0003902\n"
      ]
     },
     "metadata": {},
     "output_type": "display_data"
    }
   ],
   "source": [
    "hq1 <- lm(data = df,BE~SEX)\n",
    "summary(hq1)"
   ]
  },
  {
   "attachments": {},
   "cell_type": "markdown",
   "metadata": {},
   "source": [
    "Với các yếu khác như nhau, nam và nữ có tiêu dùng bia là khác nhau \n",
    "\n",
    "Vì sao hệ số của biến SEX có ý nghĩa. \n",
    "\n",
    "Nam chi tiêu cho bia trung bình ít hơn nữ -164.30 đơn vị"
   ]
  },
  {
   "attachments": {},
   "cell_type": "markdown",
   "metadata": {},
   "source": [
    "## Câu 7 \n",
    "\n",
    "Một nữ, 28 tuổi, chưa tốt nghiệp trung học, có thu nhập trung bình/năm bằng 25000 \\$/năm và một nam 30 tuổi, tốt nghiệp trung học, có thu nhập 27000\\$/năm. Hãy dự báo khoảng tiêu dùng beer trung bình trong năm với hệ số tin cậy 95% của hai người này"
   ]
  },
  {
   "cell_type": "code",
   "execution_count": 121,
   "metadata": {
    "vscode": {
     "languageId": "r"
    }
   },
   "outputs": [
    {
     "data": {
      "text/html": [
       "<table class=\"dataframe\">\n",
       "<caption>A matrix: 2 × 3 of type dbl</caption>\n",
       "<thead>\n",
       "\t<tr><th></th><th scope=col>fit</th><th scope=col>lwr</th><th scope=col>upr</th></tr>\n",
       "</thead>\n",
       "<tbody>\n",
       "\t<tr><th scope=row>1</th><td>256.5161</td><td>178.77724</td><td>334.2551</td></tr>\n",
       "\t<tr><th scope=row>2</th><td>149.7629</td><td> 93.09669</td><td>206.4291</td></tr>\n",
       "</tbody>\n",
       "</table>\n"
      ],
      "text/latex": [
       "A matrix: 2 × 3 of type dbl\n",
       "\\begin{tabular}{r|lll}\n",
       "  & fit & lwr & upr\\\\\n",
       "\\hline\n",
       "\t1 & 256.5161 & 178.77724 & 334.2551\\\\\n",
       "\t2 & 149.7629 &  93.09669 & 206.4291\\\\\n",
       "\\end{tabular}\n"
      ],
      "text/markdown": [
       "\n",
       "A matrix: 2 × 3 of type dbl\n",
       "\n",
       "| <!--/--> | fit | lwr | upr |\n",
       "|---|---|---|---|\n",
       "| 1 | 256.5161 | 178.77724 | 334.2551 |\n",
       "| 2 | 149.7629 |  93.09669 | 206.4291 |\n",
       "\n"
      ],
      "text/plain": [
       "  fit      lwr       upr     \n",
       "1 256.5161 178.77724 334.2551\n",
       "2 149.7629  93.09669 206.4291"
      ]
     },
     "metadata": {},
     "output_type": "display_data"
    }
   ],
   "source": [
    "Y <- c(25000,27000)\n",
    "AGE <- c(28,30)\n",
    "SEX <- c(0,1)\n",
    "D1 <- c(0,1)\n",
    "D2 <- c(0,0)\n",
    "D3 <- c(0,0)\n",
    "predic <- predict(hq,data.frame(Y,AGE,SEX,D1,D2,D3),interval=\"confidence\",level=0.95)\n",
    "predic"
   ]
  }
 ],
 "metadata": {
  "kernelspec": {
   "display_name": "R",
   "language": "R",
   "name": "ir"
  },
  "language_info": {
   "codemirror_mode": "r",
   "file_extension": ".r",
   "mimetype": "text/x-r-source",
   "name": "R",
   "pygments_lexer": "r",
   "version": "4.2.1"
  },
  "orig_nbformat": 4
 },
 "nbformat": 4,
 "nbformat_minor": 2
}
