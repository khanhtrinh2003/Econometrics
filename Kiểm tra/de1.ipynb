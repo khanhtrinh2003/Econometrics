{
 "cells": [
  {
   "attachments": {},
   "cell_type": "markdown",
   "metadata": {},
   "source": [
    "Cho tệp dữ liệu deso1.txt gồm 30 quan sát về các biến số: \n",
    "- q: lượng thịt sử dụng của hộ gia đình kg/tháng; \n",
    "\n",
    "- p: giá ($)/kg thịt bò \n",
    "\n",
    "- y: là thu nhập của hộ/tháng. \n",
    "\n",
    "Hãy viết code tính toán và trả lời các câu hỏi dưới đây với LẬP LUẬN ĐẦY ĐỦ, mức ý nghĩa 5%:"
   ]
  },
  {
   "cell_type": "code",
   "execution_count": 2,
   "metadata": {
    "vscode": {
     "languageId": "r"
    }
   },
   "outputs": [],
   "source": [
    "library(lmtest)\n",
    "library(car)\n",
    "library(carData)\n",
    "library(hexView)\n",
    "library(strucchange)\n",
    "library(fBasics)"
   ]
  },
  {
   "cell_type": "code",
   "execution_count": 3,
   "metadata": {
    "vscode": {
     "languageId": "r"
    }
   },
   "outputs": [
    {
     "data": {
      "text/html": [
       "<table class=\"dataframe\">\n",
       "<caption>A data.frame: 30 × 3</caption>\n",
       "<thead>\n",
       "\t<tr><th scope=col>p</th><th scope=col>q</th><th scope=col>y</th></tr>\n",
       "\t<tr><th scope=col>&lt;dbl&gt;</th><th scope=col>&lt;dbl&gt;</th><th scope=col>&lt;dbl&gt;</th></tr>\n",
       "</thead>\n",
       "<tbody>\n",
       "\t<tr><td>10.763</td><td>11.6320</td><td>487.648</td></tr>\n",
       "\t<tr><td>13.033</td><td>12.0290</td><td>364.877</td></tr>\n",
       "\t<tr><td> 9.244</td><td> 8.9160</td><td>541.037</td></tr>\n",
       "\t<tr><td> 4.605</td><td>33.9080</td><td>760.343</td></tr>\n",
       "\t<tr><td>13.045</td><td> 4.5610</td><td>421.746</td></tr>\n",
       "\t<tr><td> 7.706</td><td>17.5940</td><td>578.214</td></tr>\n",
       "\t<tr><td> 7.405</td><td>18.8420</td><td>561.734</td></tr>\n",
       "\t<tr><td> 7.519</td><td>11.6370</td><td>301.470</td></tr>\n",
       "\t<tr><td> 8.764</td><td> 7.6450</td><td>379.636</td></tr>\n",
       "\t<tr><td>13.511</td><td> 7.8810</td><td>478.855</td></tr>\n",
       "\t<tr><td> 4.943</td><td> 9.6140</td><td>433.741</td></tr>\n",
       "\t<tr><td> 8.360</td><td> 9.0670</td><td>525.702</td></tr>\n",
       "\t<tr><td> 5.721</td><td>14.0700</td><td>513.067</td></tr>\n",
       "\t<tr><td> 7.225</td><td>15.4740</td><td>408.666</td></tr>\n",
       "\t<tr><td> 6.617</td><td> 3.0410</td><td>192.061</td></tr>\n",
       "\t<tr><td>14.219</td><td>14.0960</td><td>462.621</td></tr>\n",
       "\t<tr><td> 6.769</td><td> 4.1180</td><td>312.659</td></tr>\n",
       "\t<tr><td> 7.769</td><td>10.4890</td><td>400.848</td></tr>\n",
       "\t<tr><td> 9.804</td><td> 6.2310</td><td>392.215</td></tr>\n",
       "\t<tr><td>11.063</td><td> 6.4580</td><td>377.724</td></tr>\n",
       "\t<tr><td> 6.535</td><td> 8.7360</td><td>343.552</td></tr>\n",
       "\t<tr><td>11.063</td><td> 5.1580</td><td>301.599</td></tr>\n",
       "\t<tr><td> 4.016</td><td>16.6180</td><td>294.112</td></tr>\n",
       "\t<tr><td> 4.759</td><td>11.3420</td><td>365.032</td></tr>\n",
       "\t<tr><td> 5.483</td><td> 2.9903</td><td>256.125</td></tr>\n",
       "\t<tr><td> 7.890</td><td> 3.1380</td><td>184.798</td></tr>\n",
       "\t<tr><td> 8.460</td><td>15.3150</td><td>359.084</td></tr>\n",
       "\t<tr><td> 6.195</td><td>22.2400</td><td>629.378</td></tr>\n",
       "\t<tr><td> 6.743</td><td>10.0120</td><td>306.527</td></tr>\n",
       "\t<tr><td>11.977</td><td> 3.9820</td><td>347.488</td></tr>\n",
       "</tbody>\n",
       "</table>\n"
      ],
      "text/latex": [
       "A data.frame: 30 × 3\n",
       "\\begin{tabular}{lll}\n",
       " p & q & y\\\\\n",
       " <dbl> & <dbl> & <dbl>\\\\\n",
       "\\hline\n",
       "\t 10.763 & 11.6320 & 487.648\\\\\n",
       "\t 13.033 & 12.0290 & 364.877\\\\\n",
       "\t  9.244 &  8.9160 & 541.037\\\\\n",
       "\t  4.605 & 33.9080 & 760.343\\\\\n",
       "\t 13.045 &  4.5610 & 421.746\\\\\n",
       "\t  7.706 & 17.5940 & 578.214\\\\\n",
       "\t  7.405 & 18.8420 & 561.734\\\\\n",
       "\t  7.519 & 11.6370 & 301.470\\\\\n",
       "\t  8.764 &  7.6450 & 379.636\\\\\n",
       "\t 13.511 &  7.8810 & 478.855\\\\\n",
       "\t  4.943 &  9.6140 & 433.741\\\\\n",
       "\t  8.360 &  9.0670 & 525.702\\\\\n",
       "\t  5.721 & 14.0700 & 513.067\\\\\n",
       "\t  7.225 & 15.4740 & 408.666\\\\\n",
       "\t  6.617 &  3.0410 & 192.061\\\\\n",
       "\t 14.219 & 14.0960 & 462.621\\\\\n",
       "\t  6.769 &  4.1180 & 312.659\\\\\n",
       "\t  7.769 & 10.4890 & 400.848\\\\\n",
       "\t  9.804 &  6.2310 & 392.215\\\\\n",
       "\t 11.063 &  6.4580 & 377.724\\\\\n",
       "\t  6.535 &  8.7360 & 343.552\\\\\n",
       "\t 11.063 &  5.1580 & 301.599\\\\\n",
       "\t  4.016 & 16.6180 & 294.112\\\\\n",
       "\t  4.759 & 11.3420 & 365.032\\\\\n",
       "\t  5.483 &  2.9903 & 256.125\\\\\n",
       "\t  7.890 &  3.1380 & 184.798\\\\\n",
       "\t  8.460 & 15.3150 & 359.084\\\\\n",
       "\t  6.195 & 22.2400 & 629.378\\\\\n",
       "\t  6.743 & 10.0120 & 306.527\\\\\n",
       "\t 11.977 &  3.9820 & 347.488\\\\\n",
       "\\end{tabular}\n"
      ],
      "text/markdown": [
       "\n",
       "A data.frame: 30 × 3\n",
       "\n",
       "| p &lt;dbl&gt; | q &lt;dbl&gt; | y &lt;dbl&gt; |\n",
       "|---|---|---|\n",
       "| 10.763 | 11.6320 | 487.648 |\n",
       "| 13.033 | 12.0290 | 364.877 |\n",
       "|  9.244 |  8.9160 | 541.037 |\n",
       "|  4.605 | 33.9080 | 760.343 |\n",
       "| 13.045 |  4.5610 | 421.746 |\n",
       "|  7.706 | 17.5940 | 578.214 |\n",
       "|  7.405 | 18.8420 | 561.734 |\n",
       "|  7.519 | 11.6370 | 301.470 |\n",
       "|  8.764 |  7.6450 | 379.636 |\n",
       "| 13.511 |  7.8810 | 478.855 |\n",
       "|  4.943 |  9.6140 | 433.741 |\n",
       "|  8.360 |  9.0670 | 525.702 |\n",
       "|  5.721 | 14.0700 | 513.067 |\n",
       "|  7.225 | 15.4740 | 408.666 |\n",
       "|  6.617 |  3.0410 | 192.061 |\n",
       "| 14.219 | 14.0960 | 462.621 |\n",
       "|  6.769 |  4.1180 | 312.659 |\n",
       "|  7.769 | 10.4890 | 400.848 |\n",
       "|  9.804 |  6.2310 | 392.215 |\n",
       "| 11.063 |  6.4580 | 377.724 |\n",
       "|  6.535 |  8.7360 | 343.552 |\n",
       "| 11.063 |  5.1580 | 301.599 |\n",
       "|  4.016 | 16.6180 | 294.112 |\n",
       "|  4.759 | 11.3420 | 365.032 |\n",
       "|  5.483 |  2.9903 | 256.125 |\n",
       "|  7.890 |  3.1380 | 184.798 |\n",
       "|  8.460 | 15.3150 | 359.084 |\n",
       "|  6.195 | 22.2400 | 629.378 |\n",
       "|  6.743 | 10.0120 | 306.527 |\n",
       "| 11.977 |  3.9820 | 347.488 |\n",
       "\n"
      ],
      "text/plain": [
       "   p      q       y      \n",
       "1  10.763 11.6320 487.648\n",
       "2  13.033 12.0290 364.877\n",
       "3   9.244  8.9160 541.037\n",
       "4   4.605 33.9080 760.343\n",
       "5  13.045  4.5610 421.746\n",
       "6   7.706 17.5940 578.214\n",
       "7   7.405 18.8420 561.734\n",
       "8   7.519 11.6370 301.470\n",
       "9   8.764  7.6450 379.636\n",
       "10 13.511  7.8810 478.855\n",
       "11  4.943  9.6140 433.741\n",
       "12  8.360  9.0670 525.702\n",
       "13  5.721 14.0700 513.067\n",
       "14  7.225 15.4740 408.666\n",
       "15  6.617  3.0410 192.061\n",
       "16 14.219 14.0960 462.621\n",
       "17  6.769  4.1180 312.659\n",
       "18  7.769 10.4890 400.848\n",
       "19  9.804  6.2310 392.215\n",
       "20 11.063  6.4580 377.724\n",
       "21  6.535  8.7360 343.552\n",
       "22 11.063  5.1580 301.599\n",
       "23  4.016 16.6180 294.112\n",
       "24  4.759 11.3420 365.032\n",
       "25  5.483  2.9903 256.125\n",
       "26  7.890  3.1380 184.798\n",
       "27  8.460 15.3150 359.084\n",
       "28  6.195 22.2400 629.378\n",
       "29  6.743 10.0120 306.527\n",
       "30 11.977  3.9820 347.488"
      ]
     },
     "metadata": {},
     "output_type": "display_data"
    }
   ],
   "source": [
    "df <- read.table(\"de1.txt\",header = TRUE)\n",
    "df"
   ]
  },
  {
   "cell_type": "code",
   "execution_count": 4,
   "metadata": {
    "vscode": {
     "languageId": "r"
    }
   },
   "outputs": [
    {
     "data": {
      "text/html": [
       "<style>\n",
       ".list-inline {list-style: none; margin:0; padding: 0}\n",
       ".list-inline>li {display: inline-block}\n",
       ".list-inline>li:not(:last-child)::after {content: \"\\00b7\"; padding: 0 .5ex}\n",
       "</style>\n",
       "<ol class=list-inline><li>'p'</li><li>'q'</li><li>'y'</li></ol>\n"
      ],
      "text/latex": [
       "\\begin{enumerate*}\n",
       "\\item 'p'\n",
       "\\item 'q'\n",
       "\\item 'y'\n",
       "\\end{enumerate*}\n"
      ],
      "text/markdown": [
       "1. 'p'\n",
       "2. 'q'\n",
       "3. 'y'\n",
       "\n",
       "\n"
      ],
      "text/plain": [
       "[1] \"p\" \"q\" \"y\""
      ]
     },
     "metadata": {},
     "output_type": "display_data"
    }
   ],
   "source": [
    "names(df)"
   ]
  },
  {
   "attachments": {},
   "cell_type": "markdown",
   "metadata": {},
   "source": [
    "## Câu 1\n",
    "\n",
    "Hãy cho biết khi từng biến số p và y tăng 1% thì cầu về thịt bò thay đổi bao nhiêu%? "
   ]
  },
  {
   "cell_type": "code",
   "execution_count": 6,
   "metadata": {
    "vscode": {
     "languageId": "r"
    }
   },
   "outputs": [
    {
     "data": {
      "text/plain": [
       "\n",
       "Call:\n",
       "lm(formula = log(q) ~ log(p) + log(y), data = df)\n",
       "\n",
       "Residuals:\n",
       "     Min       1Q   Median       3Q      Max \n",
       "-0.72529 -0.24963  0.00872  0.14688  0.67200 \n",
       "\n",
       "Coefficients:\n",
       "            Estimate Std. Error t value Pr(>|t|)    \n",
       "(Intercept)  -5.1391     1.4077  -3.651  0.00111 ** \n",
       "log(p)       -0.5693     0.2137  -2.664  0.01285 *  \n",
       "log(y)        1.4297     0.2275   6.285    1e-06 ***\n",
       "---\n",
       "Signif. codes:  0 '***' 0.001 '**' 0.01 '*' 0.05 '.' 0.1 ' ' 1\n",
       "\n",
       "Residual standard error: 0.392 on 27 degrees of freedom\n",
       "Multiple R-squared:  0.6251,\tAdjusted R-squared:  0.5973 \n",
       "F-statistic: 22.51 on 2 and 27 DF,  p-value: 1.772e-06\n"
      ]
     },
     "metadata": {},
     "output_type": "display_data"
    }
   ],
   "source": [
    "hq <- lm(data = df,log(q)~log(p)+log(y))\n",
    "summary(hq)"
   ]
  },
  {
   "attachments": {},
   "cell_type": "markdown",
   "metadata": {},
   "source": [
    "Khi từng biến số p và y tăng 1% thì cầu về thịt bò thay đổi lượng cầu thịt bò thay đổi (1.4297-0.5693)%"
   ]
  },
  {
   "attachments": {},
   "cell_type": "markdown",
   "metadata": {},
   "source": [
    "## Câu 2\n",
    "\n",
    "Hệ số có giãn của cầu theo giá bằng -1?"
   ]
  },
  {
   "cell_type": "code",
   "execution_count": 7,
   "metadata": {
    "vscode": {
     "languageId": "r"
    }
   },
   "outputs": [
    {
     "data": {
      "text/html": [
       "<table class=\"dataframe\">\n",
       "<caption>A anova: 2 × 6</caption>\n",
       "<thead>\n",
       "\t<tr><th></th><th scope=col>Res.Df</th><th scope=col>RSS</th><th scope=col>Df</th><th scope=col>Sum of Sq</th><th scope=col>F</th><th scope=col>Pr(&gt;F)</th></tr>\n",
       "\t<tr><th></th><th scope=col>&lt;dbl&gt;</th><th scope=col>&lt;dbl&gt;</th><th scope=col>&lt;dbl&gt;</th><th scope=col>&lt;dbl&gt;</th><th scope=col>&lt;dbl&gt;</th><th scope=col>&lt;dbl&gt;</th></tr>\n",
       "</thead>\n",
       "<tbody>\n",
       "\t<tr><th scope=row>1</th><td>28</td><td>4.774200</td><td>NA</td><td>       NA</td><td>     NA</td><td>        NA</td></tr>\n",
       "\t<tr><th scope=row>2</th><td>27</td><td>4.149745</td><td> 1</td><td>0.6244552</td><td>4.06297</td><td>0.05388568</td></tr>\n",
       "</tbody>\n",
       "</table>\n"
      ],
      "text/latex": [
       "A anova: 2 × 6\n",
       "\\begin{tabular}{r|llllll}\n",
       "  & Res.Df & RSS & Df & Sum of Sq & F & Pr(>F)\\\\\n",
       "  & <dbl> & <dbl> & <dbl> & <dbl> & <dbl> & <dbl>\\\\\n",
       "\\hline\n",
       "\t1 & 28 & 4.774200 & NA &        NA &      NA &         NA\\\\\n",
       "\t2 & 27 & 4.149745 &  1 & 0.6244552 & 4.06297 & 0.05388568\\\\\n",
       "\\end{tabular}\n"
      ],
      "text/markdown": [
       "\n",
       "A anova: 2 × 6\n",
       "\n",
       "| <!--/--> | Res.Df &lt;dbl&gt; | RSS &lt;dbl&gt; | Df &lt;dbl&gt; | Sum of Sq &lt;dbl&gt; | F &lt;dbl&gt; | Pr(&gt;F) &lt;dbl&gt; |\n",
       "|---|---|---|---|---|---|---|\n",
       "| 1 | 28 | 4.774200 | NA |        NA |      NA |         NA |\n",
       "| 2 | 27 | 4.149745 |  1 | 0.6244552 | 4.06297 | 0.05388568 |\n",
       "\n"
      ],
      "text/plain": [
       "  Res.Df RSS      Df Sum of Sq F       Pr(>F)    \n",
       "1 28     4.774200 NA        NA      NA         NA\n",
       "2 27     4.149745  1 0.6244552 4.06297 0.05388568"
      ]
     },
     "metadata": {},
     "output_type": "display_data"
    }
   ],
   "source": [
    "linearHypothesis(hq,c(\"log(p)=-1\"))"
   ]
  },
  {
   "attachments": {},
   "cell_type": "markdown",
   "metadata": {},
   "source": [
    "Với mức ý nghĩa 5%, thì hệ số có giãn của cầu theo giá bằng 1"
   ]
  },
  {
   "attachments": {},
   "cell_type": "markdown",
   "metadata": {},
   "source": [
    "## Câu 3 \n",
    "\n",
    "Khi giá tăng 1% và thu nhập cũng tăng 1% thì lượng cầu về thịt bò không đổi?"
   ]
  },
  {
   "cell_type": "code",
   "execution_count": 8,
   "metadata": {
    "vscode": {
     "languageId": "r"
    }
   },
   "outputs": [
    {
     "data": {
      "text/html": [
       "<table class=\"dataframe\">\n",
       "<caption>A anova: 2 × 6</caption>\n",
       "<thead>\n",
       "\t<tr><th></th><th scope=col>Res.Df</th><th scope=col>RSS</th><th scope=col>Df</th><th scope=col>Sum of Sq</th><th scope=col>F</th><th scope=col>Pr(&gt;F)</th></tr>\n",
       "\t<tr><th></th><th scope=col>&lt;dbl&gt;</th><th scope=col>&lt;dbl&gt;</th><th scope=col>&lt;dbl&gt;</th><th scope=col>&lt;dbl&gt;</th><th scope=col>&lt;dbl&gt;</th><th scope=col>&lt;dbl&gt;</th></tr>\n",
       "</thead>\n",
       "<tbody>\n",
       "\t<tr><th scope=row>1</th><td>28</td><td>5.380488</td><td>NA</td><td>      NA</td><td>      NA</td><td>         NA</td></tr>\n",
       "\t<tr><th scope=row>2</th><td>27</td><td>4.149745</td><td> 1</td><td>1.230743</td><td>8.007734</td><td>0.008682818</td></tr>\n",
       "</tbody>\n",
       "</table>\n"
      ],
      "text/latex": [
       "A anova: 2 × 6\n",
       "\\begin{tabular}{r|llllll}\n",
       "  & Res.Df & RSS & Df & Sum of Sq & F & Pr(>F)\\\\\n",
       "  & <dbl> & <dbl> & <dbl> & <dbl> & <dbl> & <dbl>\\\\\n",
       "\\hline\n",
       "\t1 & 28 & 5.380488 & NA &       NA &       NA &          NA\\\\\n",
       "\t2 & 27 & 4.149745 &  1 & 1.230743 & 8.007734 & 0.008682818\\\\\n",
       "\\end{tabular}\n"
      ],
      "text/markdown": [
       "\n",
       "A anova: 2 × 6\n",
       "\n",
       "| <!--/--> | Res.Df &lt;dbl&gt; | RSS &lt;dbl&gt; | Df &lt;dbl&gt; | Sum of Sq &lt;dbl&gt; | F &lt;dbl&gt; | Pr(&gt;F) &lt;dbl&gt; |\n",
       "|---|---|---|---|---|---|---|\n",
       "| 1 | 28 | 5.380488 | NA |       NA |       NA |          NA |\n",
       "| 2 | 27 | 4.149745 |  1 | 1.230743 | 8.007734 | 0.008682818 |\n",
       "\n"
      ],
      "text/plain": [
       "  Res.Df RSS      Df Sum of Sq F        Pr(>F)     \n",
       "1 28     5.380488 NA       NA        NA          NA\n",
       "2 27     4.149745  1 1.230743  8.007734 0.008682818"
      ]
     },
     "metadata": {},
     "output_type": "display_data"
    }
   ],
   "source": [
    "linearHypothesis(hq,c(\"log(p)=-log(y)\"))"
   ]
  },
  {
   "attachments": {},
   "cell_type": "markdown",
   "metadata": {},
   "source": [
    "Khi giá tăng 1% và thu nhập cũng tăng 1% thì lượng cầu về thịt bò thay đổi"
   ]
  },
  {
   "attachments": {},
   "cell_type": "markdown",
   "metadata": {},
   "source": [
    "## Câu 4\n",
    "\n",
    "Tìm khoảng tin cậy đối xứng 95% cho tổng hai hệ số co giãn."
   ]
  },
  {
   "cell_type": "code",
   "execution_count": 9,
   "metadata": {
    "vscode": {
     "languageId": "r"
    }
   },
   "outputs": [
    {
     "data": {
      "text/html": [
       "<table class=\"dataframe\">\n",
       "<caption>A matrix: 3 × 3 of type dbl</caption>\n",
       "<thead>\n",
       "\t<tr><th></th><th scope=col>(Intercept)</th><th scope=col>log(p)</th><th scope=col>log(y)</th></tr>\n",
       "</thead>\n",
       "<tbody>\n",
       "\t<tr><th scope=row>(Intercept)</th><td> 1.98156993</td><td>-0.079690259</td><td>-0.303604062</td></tr>\n",
       "\t<tr><th scope=row>log(p)</th><td>-0.07969026</td><td> 0.045655315</td><td>-0.002479062</td></tr>\n",
       "\t<tr><th scope=row>log(y)</th><td>-0.30360406</td><td>-0.002479062</td><td> 0.051742449</td></tr>\n",
       "</tbody>\n",
       "</table>\n"
      ],
      "text/latex": [
       "A matrix: 3 × 3 of type dbl\n",
       "\\begin{tabular}{r|lll}\n",
       "  & (Intercept) & log(p) & log(y)\\\\\n",
       "\\hline\n",
       "\t(Intercept) &  1.98156993 & -0.079690259 & -0.303604062\\\\\n",
       "\tlog(p) & -0.07969026 &  0.045655315 & -0.002479062\\\\\n",
       "\tlog(y) & -0.30360406 & -0.002479062 &  0.051742449\\\\\n",
       "\\end{tabular}\n"
      ],
      "text/markdown": [
       "\n",
       "A matrix: 3 × 3 of type dbl\n",
       "\n",
       "| <!--/--> | (Intercept) | log(p) | log(y) |\n",
       "|---|---|---|---|\n",
       "| (Intercept) |  1.98156993 | -0.079690259 | -0.303604062 |\n",
       "| log(p) | -0.07969026 |  0.045655315 | -0.002479062 |\n",
       "| log(y) | -0.30360406 | -0.002479062 |  0.051742449 |\n",
       "\n"
      ],
      "text/plain": [
       "            (Intercept) log(p)       log(y)      \n",
       "(Intercept)  1.98156993 -0.079690259 -0.303604062\n",
       "log(p)      -0.07969026  0.045655315 -0.002479062\n",
       "log(y)      -0.30360406 -0.002479062  0.051742449"
      ]
     },
     "metadata": {},
     "output_type": "display_data"
    }
   ],
   "source": [
    "vcov(hq)"
   ]
  },
  {
   "cell_type": "code",
   "execution_count": 10,
   "metadata": {
    "vscode": {
     "languageId": "r"
    }
   },
   "outputs": [
    {
     "data": {
      "text/html": [
       "<style>\n",
       ".list-inline {list-style: none; margin:0; padding: 0}\n",
       ".list-inline>li {display: inline-block}\n",
       ".list-inline>li:not(:last-child)::after {content: \"\\00b7\"; padding: 0 .5ex}\n",
       "</style>\n",
       "<ol class=list-inline><li>0.236563746255983</li><li>1.48423625374402</li></ol>\n"
      ],
      "text/latex": [
       "\\begin{enumerate*}\n",
       "\\item 0.236563746255983\n",
       "\\item 1.48423625374402\n",
       "\\end{enumerate*}\n"
      ],
      "text/markdown": [
       "1. 0.236563746255983\n",
       "2. 1.48423625374402\n",
       "\n",
       "\n"
      ],
      "text/plain": [
       "[1] 0.2365637 1.4842363"
      ]
     },
     "metadata": {},
     "output_type": "display_data"
    }
   ],
   "source": [
    "var2 <- vcov(hq)[2,2]\n",
    "var3 <- vcov(hq)[3,3]\n",
    "cov23 <- vcov(hq)[3,2]\n",
    "\n",
    "se <- sqrt(var2+var3+2*cov23)\n",
    "beta2 <- -0.5693\n",
    "beta3 <- 1.4297\n",
    "\n",
    "((beta2+beta3)+c(-1,1)*qt(0.975,length(df$p)-3)*se)"
   ]
  },
  {
   "attachments": {},
   "cell_type": "markdown",
   "metadata": {},
   "source": [
    "## Câu 5 \n",
    "\n",
    "Tính phần dư của mình và vẽ đồ thị $e^2$ theo y và cho biết nhận xét."
   ]
  },
  {
   "cell_type": "code",
   "execution_count": 15,
   "metadata": {
    "vscode": {
     "languageId": "r"
    }
   },
   "outputs": [
    {
     "data": {
      "image/png": "[encoded data removed]",
      "text/plain": [
       "plot without title"
      ]
     },
     "metadata": {
      "image/png": {
       "height": 420,
       "width": 420
      }
     },
     "output_type": "display_data"
    }
   ],
   "source": [
    "phandu_binh <- resid(hq)^2\n",
    "plot(df$y,phandu_binh)"
   ]
  },
  {
   "attachments": {},
   "cell_type": "markdown",
   "metadata": {},
   "source": [
    "## Câu 7\n",
    "\n",
    "Cho hai giá trị p và y ngoài mẫu $(p_1,y_1)=(6,520)$ và $(p_2,y_2)=(8,480)$ Hãy dự báo khoảng tin 95% cho y."
   ]
  },
  {
   "cell_type": "code",
   "execution_count": 17,
   "metadata": {
    "vscode": {
     "languageId": "r"
    }
   },
   "outputs": [
    {
     "data": {
      "text/html": [
       "<table class=\"dataframe\">\n",
       "<caption>A matrix: 2 × 3 of type dbl</caption>\n",
       "<thead>\n",
       "\t<tr><th></th><th scope=col>fit</th><th scope=col>lwr</th><th scope=col>upr</th></tr>\n",
       "</thead>\n",
       "<tbody>\n",
       "\t<tr><th scope=row>1</th><td>2.781807</td><td>2.545146</td><td>3.018469</td></tr>\n",
       "\t<tr><th scope=row>2</th><td>2.503593</td><td>2.327861</td><td>2.679324</td></tr>\n",
       "</tbody>\n",
       "</table>\n"
      ],
      "text/latex": [
       "A matrix: 2 × 3 of type dbl\n",
       "\\begin{tabular}{r|lll}\n",
       "  & fit & lwr & upr\\\\\n",
       "\\hline\n",
       "\t1 & 2.781807 & 2.545146 & 3.018469\\\\\n",
       "\t2 & 2.503593 & 2.327861 & 2.679324\\\\\n",
       "\\end{tabular}\n"
      ],
      "text/markdown": [
       "\n",
       "A matrix: 2 × 3 of type dbl\n",
       "\n",
       "| <!--/--> | fit | lwr | upr |\n",
       "|---|---|---|---|\n",
       "| 1 | 2.781807 | 2.545146 | 3.018469 |\n",
       "| 2 | 2.503593 | 2.327861 | 2.679324 |\n",
       "\n"
      ],
      "text/plain": [
       "  fit      lwr      upr     \n",
       "1 2.781807 2.545146 3.018469\n",
       "2 2.503593 2.327861 2.679324"
      ]
     },
     "metadata": {},
     "output_type": "display_data"
    }
   ],
   "source": [
    "p <- c(6,8)\n",
    "y <- c(520,480)\n",
    "predic <- predict(hq,data.frame(p=p,y=y),interval=\"confidence\",level=0.95)\n",
    "predic"
   ]
  }
 ],
 "metadata": {
  "kernelspec": {
   "display_name": "R",
   "language": "R",
   "name": "ir"
  },
  "language_info": {
   "codemirror_mode": "r",
   "file_extension": ".r",
   "mimetype": "text/x-r-source",
   "name": "R",
   "pygments_lexer": "r",
   "version": "4.2.1"
  },
  "orig_nbformat": 4
 },
 "nbformat": 4,
 "nbformat_minor": 2
}
