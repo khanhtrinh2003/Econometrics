{
 "cells": [
  {
   "attachments": {},
   "cell_type": "markdown",
   "metadata": {},
   "source": [
    "Cho tệp dữ liệu ch3_bt5.txt gồm 30 quan sát về các biến số: q- lương thịt sử dụng của hộ gia đình kg/tháng; p giá ($)/kg thịt bò và y là thu nhập của hộ/tháng. Hãy viết code tính toán và trả lời các câu hỏi sau:"
   ]
  },
  {
   "cell_type": "code",
   "execution_count": 22,
   "metadata": {
    "vscode": {
     "languageId": "r"
    }
   },
   "outputs": [],
   "source": [
    "library(ggplot2)\n",
    "library(lmtest)\n",
    "library(urca)\n",
    "library(sandwich)\n",
    "library(car)\n",
    "library(carData)\n",
    "library(forecast)\n",
    "library(tseries)\n",
    "library(dummy)\n",
    "library(seasonal)\n",
    "library(hexView)\n",
    "library(strucchange)\n",
    "library(fBasics)"
   ]
  },
  {
   "cell_type": "code",
   "execution_count": 23,
   "metadata": {
    "vscode": {
     "languageId": "r"
    }
   },
   "outputs": [
    {
     "name": "stderr",
     "output_type": "stream",
     "text": [
      "Warning message in readEViews(\"ch3_bt5.wf1\"):\n",
      "\"Skipping boilerplate variable\n",
      "\"\n",
      "Warning message in readEViews(\"ch3_bt5.wf1\"):\n",
      "\"Skipping boilerplate variable\n",
      "\"\n"
     ]
    },
    {
     "data": {
      "text/html": [
       "<table class=\"dataframe\">\n",
       "<caption>A data.frame: 30 × 4</caption>\n",
       "<thead>\n",
       "\t<tr><th scope=col>Date</th><th scope=col>P</th><th scope=col>Q</th><th scope=col>Y</th></tr>\n",
       "\t<tr><th scope=col>&lt;date&gt;</th><th scope=col>&lt;dbl&gt;</th><th scope=col>&lt;dbl&gt;</th><th scope=col>&lt;dbl&gt;</th></tr>\n",
       "</thead>\n",
       "<tbody>\n",
       "\t<tr><td>0001-01-01</td><td>10.763</td><td>11.6320</td><td>487.648</td></tr>\n",
       "\t<tr><td>0002-01-01</td><td>13.033</td><td>12.0290</td><td>364.877</td></tr>\n",
       "\t<tr><td>0003-01-01</td><td> 9.244</td><td> 8.9160</td><td>541.037</td></tr>\n",
       "\t<tr><td>0004-01-01</td><td> 4.605</td><td>33.9080</td><td>760.343</td></tr>\n",
       "\t<tr><td>0005-01-01</td><td>13.045</td><td> 4.5610</td><td>421.746</td></tr>\n",
       "\t<tr><td>0006-01-01</td><td> 7.706</td><td>17.5940</td><td>578.214</td></tr>\n",
       "\t<tr><td>0007-01-01</td><td> 7.405</td><td>18.8420</td><td>561.734</td></tr>\n",
       "\t<tr><td>0008-01-01</td><td> 7.519</td><td>11.6370</td><td>301.470</td></tr>\n",
       "\t<tr><td>0009-01-01</td><td> 8.764</td><td> 7.6450</td><td>379.636</td></tr>\n",
       "\t<tr><td>0010-01-01</td><td>13.511</td><td> 7.8810</td><td>478.855</td></tr>\n",
       "\t<tr><td>0011-01-01</td><td> 4.943</td><td> 9.6140</td><td>433.741</td></tr>\n",
       "\t<tr><td>0012-01-01</td><td> 8.360</td><td> 9.0670</td><td>525.702</td></tr>\n",
       "\t<tr><td>0013-01-01</td><td> 5.721</td><td>14.0700</td><td>513.067</td></tr>\n",
       "\t<tr><td>0014-01-01</td><td> 7.225</td><td>15.4740</td><td>408.666</td></tr>\n",
       "\t<tr><td>0015-01-01</td><td> 6.617</td><td> 3.0410</td><td>192.061</td></tr>\n",
       "\t<tr><td>0016-01-01</td><td>14.219</td><td>14.0960</td><td>462.621</td></tr>\n",
       "\t<tr><td>0017-01-01</td><td> 6.769</td><td> 4.1180</td><td>312.659</td></tr>\n",
       "\t<tr><td>0018-01-01</td><td> 7.769</td><td>10.4890</td><td>400.848</td></tr>\n",
       "\t<tr><td>0019-01-01</td><td> 9.804</td><td> 6.2310</td><td>392.215</td></tr>\n",
       "\t<tr><td>0020-01-01</td><td>11.063</td><td> 6.4580</td><td>377.724</td></tr>\n",
       "\t<tr><td>0021-01-01</td><td> 6.535</td><td> 8.7360</td><td>343.552</td></tr>\n",
       "\t<tr><td>0022-01-01</td><td>11.063</td><td> 5.1580</td><td>301.599</td></tr>\n",
       "\t<tr><td>0023-01-01</td><td> 4.016</td><td>16.6180</td><td>294.112</td></tr>\n",
       "\t<tr><td>0024-01-01</td><td> 4.759</td><td>11.3420</td><td>365.032</td></tr>\n",
       "\t<tr><td>0025-01-01</td><td> 5.483</td><td> 2.9903</td><td>256.125</td></tr>\n",
       "\t<tr><td>0026-01-01</td><td> 7.890</td><td> 3.1380</td><td>184.798</td></tr>\n",
       "\t<tr><td>0027-01-01</td><td> 8.460</td><td>15.3150</td><td>359.084</td></tr>\n",
       "\t<tr><td>0028-01-01</td><td> 6.195</td><td>22.2400</td><td>629.378</td></tr>\n",
       "\t<tr><td>0029-01-01</td><td> 6.743</td><td>10.0120</td><td>306.527</td></tr>\n",
       "\t<tr><td>0030-01-01</td><td>11.977</td><td> 3.9820</td><td>347.488</td></tr>\n",
       "</tbody>\n",
       "</table>\n"
      ],
      "text/latex": [
       "A data.frame: 30 × 4\n",
       "\\begin{tabular}{llll}\n",
       " Date & P & Q & Y\\\\\n",
       " <date> & <dbl> & <dbl> & <dbl>\\\\\n",
       "\\hline\n",
       "\t 0001-01-01 & 10.763 & 11.6320 & 487.648\\\\\n",
       "\t 0002-01-01 & 13.033 & 12.0290 & 364.877\\\\\n",
       "\t 0003-01-01 &  9.244 &  8.9160 & 541.037\\\\\n",
       "\t 0004-01-01 &  4.605 & 33.9080 & 760.343\\\\\n",
       "\t 0005-01-01 & 13.045 &  4.5610 & 421.746\\\\\n",
       "\t 0006-01-01 &  7.706 & 17.5940 & 578.214\\\\\n",
       "\t 0007-01-01 &  7.405 & 18.8420 & 561.734\\\\\n",
       "\t 0008-01-01 &  7.519 & 11.6370 & 301.470\\\\\n",
       "\t 0009-01-01 &  8.764 &  7.6450 & 379.636\\\\\n",
       "\t 0010-01-01 & 13.511 &  7.8810 & 478.855\\\\\n",
       "\t 0011-01-01 &  4.943 &  9.6140 & 433.741\\\\\n",
       "\t 0012-01-01 &  8.360 &  9.0670 & 525.702\\\\\n",
       "\t 0013-01-01 &  5.721 & 14.0700 & 513.067\\\\\n",
       "\t 0014-01-01 &  7.225 & 15.4740 & 408.666\\\\\n",
       "\t 0015-01-01 &  6.617 &  3.0410 & 192.061\\\\\n",
       "\t 0016-01-01 & 14.219 & 14.0960 & 462.621\\\\\n",
       "\t 0017-01-01 &  6.769 &  4.1180 & 312.659\\\\\n",
       "\t 0018-01-01 &  7.769 & 10.4890 & 400.848\\\\\n",
       "\t 0019-01-01 &  9.804 &  6.2310 & 392.215\\\\\n",
       "\t 0020-01-01 & 11.063 &  6.4580 & 377.724\\\\\n",
       "\t 0021-01-01 &  6.535 &  8.7360 & 343.552\\\\\n",
       "\t 0022-01-01 & 11.063 &  5.1580 & 301.599\\\\\n",
       "\t 0023-01-01 &  4.016 & 16.6180 & 294.112\\\\\n",
       "\t 0024-01-01 &  4.759 & 11.3420 & 365.032\\\\\n",
       "\t 0025-01-01 &  5.483 &  2.9903 & 256.125\\\\\n",
       "\t 0026-01-01 &  7.890 &  3.1380 & 184.798\\\\\n",
       "\t 0027-01-01 &  8.460 & 15.3150 & 359.084\\\\\n",
       "\t 0028-01-01 &  6.195 & 22.2400 & 629.378\\\\\n",
       "\t 0029-01-01 &  6.743 & 10.0120 & 306.527\\\\\n",
       "\t 0030-01-01 & 11.977 &  3.9820 & 347.488\\\\\n",
       "\\end{tabular}\n"
      ],
      "text/markdown": [
       "\n",
       "A data.frame: 30 × 4\n",
       "\n",
       "| Date &lt;date&gt; | P &lt;dbl&gt; | Q &lt;dbl&gt; | Y &lt;dbl&gt; |\n",
       "|---|---|---|---|\n",
       "| 0001-01-01 | 10.763 | 11.6320 | 487.648 |\n",
       "| 0002-01-01 | 13.033 | 12.0290 | 364.877 |\n",
       "| 0003-01-01 |  9.244 |  8.9160 | 541.037 |\n",
       "| 0004-01-01 |  4.605 | 33.9080 | 760.343 |\n",
       "| 0005-01-01 | 13.045 |  4.5610 | 421.746 |\n",
       "| 0006-01-01 |  7.706 | 17.5940 | 578.214 |\n",
       "| 0007-01-01 |  7.405 | 18.8420 | 561.734 |\n",
       "| 0008-01-01 |  7.519 | 11.6370 | 301.470 |\n",
       "| 0009-01-01 |  8.764 |  7.6450 | 379.636 |\n",
       "| 0010-01-01 | 13.511 |  7.8810 | 478.855 |\n",
       "| 0011-01-01 |  4.943 |  9.6140 | 433.741 |\n",
       "| 0012-01-01 |  8.360 |  9.0670 | 525.702 |\n",
       "| 0013-01-01 |  5.721 | 14.0700 | 513.067 |\n",
       "| 0014-01-01 |  7.225 | 15.4740 | 408.666 |\n",
       "| 0015-01-01 |  6.617 |  3.0410 | 192.061 |\n",
       "| 0016-01-01 | 14.219 | 14.0960 | 462.621 |\n",
       "| 0017-01-01 |  6.769 |  4.1180 | 312.659 |\n",
       "| 0018-01-01 |  7.769 | 10.4890 | 400.848 |\n",
       "| 0019-01-01 |  9.804 |  6.2310 | 392.215 |\n",
       "| 0020-01-01 | 11.063 |  6.4580 | 377.724 |\n",
       "| 0021-01-01 |  6.535 |  8.7360 | 343.552 |\n",
       "| 0022-01-01 | 11.063 |  5.1580 | 301.599 |\n",
       "| 0023-01-01 |  4.016 | 16.6180 | 294.112 |\n",
       "| 0024-01-01 |  4.759 | 11.3420 | 365.032 |\n",
       "| 0025-01-01 |  5.483 |  2.9903 | 256.125 |\n",
       "| 0026-01-01 |  7.890 |  3.1380 | 184.798 |\n",
       "| 0027-01-01 |  8.460 | 15.3150 | 359.084 |\n",
       "| 0028-01-01 |  6.195 | 22.2400 | 629.378 |\n",
       "| 0029-01-01 |  6.743 | 10.0120 | 306.527 |\n",
       "| 0030-01-01 | 11.977 |  3.9820 | 347.488 |\n",
       "\n"
      ],
      "text/plain": [
       "   Date       P      Q       Y      \n",
       "1  0001-01-01 10.763 11.6320 487.648\n",
       "2  0002-01-01 13.033 12.0290 364.877\n",
       "3  0003-01-01  9.244  8.9160 541.037\n",
       "4  0004-01-01  4.605 33.9080 760.343\n",
       "5  0005-01-01 13.045  4.5610 421.746\n",
       "6  0006-01-01  7.706 17.5940 578.214\n",
       "7  0007-01-01  7.405 18.8420 561.734\n",
       "8  0008-01-01  7.519 11.6370 301.470\n",
       "9  0009-01-01  8.764  7.6450 379.636\n",
       "10 0010-01-01 13.511  7.8810 478.855\n",
       "11 0011-01-01  4.943  9.6140 433.741\n",
       "12 0012-01-01  8.360  9.0670 525.702\n",
       "13 0013-01-01  5.721 14.0700 513.067\n",
       "14 0014-01-01  7.225 15.4740 408.666\n",
       "15 0015-01-01  6.617  3.0410 192.061\n",
       "16 0016-01-01 14.219 14.0960 462.621\n",
       "17 0017-01-01  6.769  4.1180 312.659\n",
       "18 0018-01-01  7.769 10.4890 400.848\n",
       "19 0019-01-01  9.804  6.2310 392.215\n",
       "20 0020-01-01 11.063  6.4580 377.724\n",
       "21 0021-01-01  6.535  8.7360 343.552\n",
       "22 0022-01-01 11.063  5.1580 301.599\n",
       "23 0023-01-01  4.016 16.6180 294.112\n",
       "24 0024-01-01  4.759 11.3420 365.032\n",
       "25 0025-01-01  5.483  2.9903 256.125\n",
       "26 0026-01-01  7.890  3.1380 184.798\n",
       "27 0027-01-01  8.460 15.3150 359.084\n",
       "28 0028-01-01  6.195 22.2400 629.378\n",
       "29 0029-01-01  6.743 10.0120 306.527\n",
       "30 0030-01-01 11.977  3.9820 347.488"
      ]
     },
     "metadata": {},
     "output_type": "display_data"
    }
   ],
   "source": [
    "df <- readEViews(\"ch3_bt5.wf1\")\n",
    "df"
   ]
  },
  {
   "attachments": {},
   "cell_type": "markdown",
   "metadata": {},
   "source": [
    "## Câu 1\n",
    "\n",
    "Hãy cho biết khi từng biến số p và y tăng 1% thì cầu về thịt bò thay đổi bao nhiêu%? "
   ]
  },
  {
   "cell_type": "code",
   "execution_count": 24,
   "metadata": {
    "vscode": {
     "languageId": "r"
    }
   },
   "outputs": [
    {
     "data": {
      "text/plain": [
       "\n",
       "Call:\n",
       "lm(formula = log(Q) ~ log(Y) + log(P), data = df)\n",
       "\n",
       "Residuals:\n",
       "     Min       1Q   Median       3Q      Max \n",
       "-0.72529 -0.24963  0.00872  0.14688  0.67200 \n",
       "\n",
       "Coefficients:\n",
       "            Estimate Std. Error t value Pr(>|t|)    \n",
       "(Intercept)  -5.1391     1.4077  -3.651  0.00111 ** \n",
       "log(Y)        1.4297     0.2275   6.285    1e-06 ***\n",
       "log(P)       -0.5693     0.2137  -2.664  0.01285 *  \n",
       "---\n",
       "Signif. codes:  0 '***' 0.001 '**' 0.01 '*' 0.05 '.' 0.1 ' ' 1\n",
       "\n",
       "Residual standard error: 0.392 on 27 degrees of freedom\n",
       "Multiple R-squared:  0.6251,\tAdjusted R-squared:  0.5973 \n",
       "F-statistic: 22.51 on 2 and 27 DF,  p-value: 1.772e-06\n"
      ]
     },
     "metadata": {},
     "output_type": "display_data"
    }
   ],
   "source": [
    "hq <- lm(data = df,log(Q)~log(Y)+log(P))\n",
    "summary(hq)"
   ]
  },
  {
   "attachments": {},
   "cell_type": "markdown",
   "metadata": {},
   "source": [
    "- Khi P tăng 1% thì Q giảm 0.5693%\n",
    "- Khi Y tăng 1% thì Q giảm 1.4297%"
   ]
  },
  {
   "attachments": {},
   "cell_type": "markdown",
   "metadata": {},
   "source": [
    "## Câu 2\n",
    "\n",
    "Hệ số có giãn của cầu theo giá bằng -1?"
   ]
  },
  {
   "cell_type": "code",
   "execution_count": 25,
   "metadata": {
    "vscode": {
     "languageId": "r"
    }
   },
   "outputs": [
    {
     "data": {
      "text/html": [
       "<table class=\"dataframe\">\n",
       "<caption>A anova: 2 × 6</caption>\n",
       "<thead>\n",
       "\t<tr><th></th><th scope=col>Res.Df</th><th scope=col>RSS</th><th scope=col>Df</th><th scope=col>Sum of Sq</th><th scope=col>F</th><th scope=col>Pr(&gt;F)</th></tr>\n",
       "\t<tr><th></th><th scope=col>&lt;dbl&gt;</th><th scope=col>&lt;dbl&gt;</th><th scope=col>&lt;dbl&gt;</th><th scope=col>&lt;dbl&gt;</th><th scope=col>&lt;dbl&gt;</th><th scope=col>&lt;dbl&gt;</th></tr>\n",
       "</thead>\n",
       "<tbody>\n",
       "\t<tr><th scope=row>1</th><td>28</td><td>4.774200</td><td>NA</td><td>       NA</td><td>     NA</td><td>        NA</td></tr>\n",
       "\t<tr><th scope=row>2</th><td>27</td><td>4.149745</td><td> 1</td><td>0.6244552</td><td>4.06297</td><td>0.05388568</td></tr>\n",
       "</tbody>\n",
       "</table>\n"
      ],
      "text/latex": [
       "A anova: 2 × 6\n",
       "\\begin{tabular}{r|llllll}\n",
       "  & Res.Df & RSS & Df & Sum of Sq & F & Pr(>F)\\\\\n",
       "  & <dbl> & <dbl> & <dbl> & <dbl> & <dbl> & <dbl>\\\\\n",
       "\\hline\n",
       "\t1 & 28 & 4.774200 & NA &        NA &      NA &         NA\\\\\n",
       "\t2 & 27 & 4.149745 &  1 & 0.6244552 & 4.06297 & 0.05388568\\\\\n",
       "\\end{tabular}\n"
      ],
      "text/markdown": [
       "\n",
       "A anova: 2 × 6\n",
       "\n",
       "| <!--/--> | Res.Df &lt;dbl&gt; | RSS &lt;dbl&gt; | Df &lt;dbl&gt; | Sum of Sq &lt;dbl&gt; | F &lt;dbl&gt; | Pr(&gt;F) &lt;dbl&gt; |\n",
       "|---|---|---|---|---|---|---|\n",
       "| 1 | 28 | 4.774200 | NA |        NA |      NA |         NA |\n",
       "| 2 | 27 | 4.149745 |  1 | 0.6244552 | 4.06297 | 0.05388568 |\n",
       "\n"
      ],
      "text/plain": [
       "  Res.Df RSS      Df Sum of Sq F       Pr(>F)    \n",
       "1 28     4.774200 NA        NA      NA         NA\n",
       "2 27     4.149745  1 0.6244552 4.06297 0.05388568"
      ]
     },
     "metadata": {},
     "output_type": "display_data"
    }
   ],
   "source": [
    "linearHypothesis(hq,c(\"log(P)=-1\"))"
   ]
  },
  {
   "attachments": {},
   "cell_type": "markdown",
   "metadata": {},
   "source": [
    "## Câu 3 \n",
    "\n",
    "Khi giá tăng 1% và thu nhập cũng tăng 1% thì lượng cầu về thịt bò không đổi?"
   ]
  },
  {
   "cell_type": "code",
   "execution_count": 26,
   "metadata": {
    "vscode": {
     "languageId": "r"
    }
   },
   "outputs": [
    {
     "data": {
      "text/html": [
       "<table class=\"dataframe\">\n",
       "<caption>A anova: 2 × 6</caption>\n",
       "<thead>\n",
       "\t<tr><th></th><th scope=col>Res.Df</th><th scope=col>RSS</th><th scope=col>Df</th><th scope=col>Sum of Sq</th><th scope=col>F</th><th scope=col>Pr(&gt;F)</th></tr>\n",
       "\t<tr><th></th><th scope=col>&lt;dbl&gt;</th><th scope=col>&lt;dbl&gt;</th><th scope=col>&lt;dbl&gt;</th><th scope=col>&lt;dbl&gt;</th><th scope=col>&lt;dbl&gt;</th><th scope=col>&lt;dbl&gt;</th></tr>\n",
       "</thead>\n",
       "<tbody>\n",
       "\t<tr><th scope=row>1</th><td>28</td><td>5.380488</td><td>NA</td><td>      NA</td><td>      NA</td><td>         NA</td></tr>\n",
       "\t<tr><th scope=row>2</th><td>27</td><td>4.149745</td><td> 1</td><td>1.230743</td><td>8.007734</td><td>0.008682818</td></tr>\n",
       "</tbody>\n",
       "</table>\n"
      ],
      "text/latex": [
       "A anova: 2 × 6\n",
       "\\begin{tabular}{r|llllll}\n",
       "  & Res.Df & RSS & Df & Sum of Sq & F & Pr(>F)\\\\\n",
       "  & <dbl> & <dbl> & <dbl> & <dbl> & <dbl> & <dbl>\\\\\n",
       "\\hline\n",
       "\t1 & 28 & 5.380488 & NA &       NA &       NA &          NA\\\\\n",
       "\t2 & 27 & 4.149745 &  1 & 1.230743 & 8.007734 & 0.008682818\\\\\n",
       "\\end{tabular}\n"
      ],
      "text/markdown": [
       "\n",
       "A anova: 2 × 6\n",
       "\n",
       "| <!--/--> | Res.Df &lt;dbl&gt; | RSS &lt;dbl&gt; | Df &lt;dbl&gt; | Sum of Sq &lt;dbl&gt; | F &lt;dbl&gt; | Pr(&gt;F) &lt;dbl&gt; |\n",
       "|---|---|---|---|---|---|---|\n",
       "| 1 | 28 | 5.380488 | NA |       NA |       NA |          NA |\n",
       "| 2 | 27 | 4.149745 |  1 | 1.230743 | 8.007734 | 0.008682818 |\n",
       "\n"
      ],
      "text/plain": [
       "  Res.Df RSS      Df Sum of Sq F        Pr(>F)     \n",
       "1 28     5.380488 NA       NA        NA          NA\n",
       "2 27     4.149745  1 1.230743  8.007734 0.008682818"
      ]
     },
     "metadata": {},
     "output_type": "display_data"
    }
   ],
   "source": [
    "linearHypothesis(hq,c(\"log(P)=-log(Y)\"))"
   ]
  },
  {
   "attachments": {},
   "cell_type": "markdown",
   "metadata": {},
   "source": [
    "Với mức ý nghĩa 5%, khi giá tăng 1% và thu nhập cũng tăng 1% thì lượng cầu về thịt bò có thay đổi"
   ]
  },
  {
   "attachments": {},
   "cell_type": "markdown",
   "metadata": {},
   "source": [
    "## Câu 4\n",
    "\n",
    "Tìm khoảng tin cậy đối xứng 95% cho tổng hai hệ số co giãn."
   ]
  },
  {
   "cell_type": "code",
   "execution_count": 27,
   "metadata": {
    "vscode": {
     "languageId": "r"
    }
   },
   "outputs": [
    {
     "data": {
      "text/html": [
       "<table class=\"dataframe\">\n",
       "<caption>A matrix: 3 × 3 of type dbl</caption>\n",
       "<thead>\n",
       "\t<tr><th></th><th scope=col>(Intercept)</th><th scope=col>log(Y)</th><th scope=col>log(P)</th></tr>\n",
       "</thead>\n",
       "<tbody>\n",
       "\t<tr><th scope=row>(Intercept)</th><td> 1.98156993</td><td>-0.303604062</td><td>-0.079690259</td></tr>\n",
       "\t<tr><th scope=row>log(Y)</th><td>-0.30360406</td><td> 0.051742449</td><td>-0.002479062</td></tr>\n",
       "\t<tr><th scope=row>log(P)</th><td>-0.07969026</td><td>-0.002479062</td><td> 0.045655315</td></tr>\n",
       "</tbody>\n",
       "</table>\n"
      ],
      "text/latex": [
       "A matrix: 3 × 3 of type dbl\n",
       "\\begin{tabular}{r|lll}\n",
       "  & (Intercept) & log(Y) & log(P)\\\\\n",
       "\\hline\n",
       "\t(Intercept) &  1.98156993 & -0.303604062 & -0.079690259\\\\\n",
       "\tlog(Y) & -0.30360406 &  0.051742449 & -0.002479062\\\\\n",
       "\tlog(P) & -0.07969026 & -0.002479062 &  0.045655315\\\\\n",
       "\\end{tabular}\n"
      ],
      "text/markdown": [
       "\n",
       "A matrix: 3 × 3 of type dbl\n",
       "\n",
       "| <!--/--> | (Intercept) | log(Y) | log(P) |\n",
       "|---|---|---|---|\n",
       "| (Intercept) |  1.98156993 | -0.303604062 | -0.079690259 |\n",
       "| log(Y) | -0.30360406 |  0.051742449 | -0.002479062 |\n",
       "| log(P) | -0.07969026 | -0.002479062 |  0.045655315 |\n",
       "\n"
      ],
      "text/plain": [
       "            (Intercept) log(Y)       log(P)      \n",
       "(Intercept)  1.98156993 -0.303604062 -0.079690259\n",
       "log(Y)      -0.30360406  0.051742449 -0.002479062\n",
       "log(P)      -0.07969026 -0.002479062  0.045655315"
      ]
     },
     "metadata": {},
     "output_type": "display_data"
    }
   ],
   "source": [
    "vcov(hq)"
   ]
  },
  {
   "cell_type": "code",
   "execution_count": 28,
   "metadata": {
    "vscode": {
     "languageId": "r"
    }
   },
   "outputs": [
    {
     "name": "stdout",
     "output_type": "stream",
     "text": [
      "[1] 1.484236\n",
      "[1] 0.2365637\n"
     ]
    }
   ],
   "source": [
    "var2 <- vcov(hq)[2,2]\n",
    "var3 <- vcov(hq)[3,3]\n",
    "cov23 <- vcov(hq)[3,2]\n",
    "\n",
    "se <- sqrt(var2+var3+2*cov23)\n",
    "beta2 <- 1.4297\n",
    "beta3 <- -0.5693\n",
    "\n",
    "can_tren <- (beta2+beta3)+qt(0.975,length(df$P)-3)*se\n",
    "can_duoi <- (beta2+beta3)-qt(0.975,length(df$P)-3)*se\n",
    "print(can_tren)\n",
    "print(can_duoi)"
   ]
  },
  {
   "attachments": {},
   "cell_type": "markdown",
   "metadata": {},
   "source": [
    "## Câu 5 \n",
    "\n",
    "Hãy kiểm định dạng hàm có phù hợp không?"
   ]
  },
  {
   "cell_type": "code",
   "execution_count": 29,
   "metadata": {
    "vscode": {
     "languageId": "r"
    }
   },
   "outputs": [
    {
     "data": {
      "text/plain": [
       "\n",
       "\tRESET test\n",
       "\n",
       "data:  hq\n",
       "RESET = 0.18291, df1 = 2, df2 = 25, p-value = 0.8339\n"
      ]
     },
     "metadata": {},
     "output_type": "display_data"
    }
   ],
   "source": [
    "resettest(hq, power = c(2,3))"
   ]
  },
  {
   "attachments": {},
   "cell_type": "markdown",
   "metadata": {},
   "source": [
    "Với mức ý nghĩa 5%, dạng hàm phù hợp"
   ]
  },
  {
   "attachments": {},
   "cell_type": "markdown",
   "metadata": {},
   "source": [
    "## Câu 6\n",
    "\n",
    "Hãy kiểm định xem PSSS có đồng đều không?"
   ]
  },
  {
   "cell_type": "code",
   "execution_count": 30,
   "metadata": {
    "vscode": {
     "languageId": "r"
    }
   },
   "outputs": [
    {
     "data": {
      "text/plain": [
       "\n",
       "Call:\n",
       "lm(formula = phandu ~ Y + P + I(Y^2) + I(P^2) + I(P * Y), data = df)\n",
       "\n",
       "Residuals:\n",
       "     Min       1Q   Median       3Q      Max \n",
       "-0.71267 -0.23452 -0.02239  0.21620  0.69306 \n",
       "\n",
       "Coefficients:\n",
       "              Estimate Std. Error t value Pr(>|t|)\n",
       "(Intercept) -1.934e-01  1.522e+00  -0.127    0.900\n",
       "Y            2.573e-03  5.446e-03   0.472    0.641\n",
       "P           -6.273e-02  2.073e-01  -0.303    0.765\n",
       "I(Y^2)      -1.729e-06  4.275e-06  -0.404    0.690\n",
       "I(P^2)       7.211e-03  9.865e-03   0.731    0.472\n",
       "I(P * Y)    -1.692e-04  3.535e-04  -0.479    0.637\n",
       "\n",
       "Residual standard error: 0.4101 on 24 degrees of freedom\n",
       "Multiple R-squared:  0.02747,\tAdjusted R-squared:  -0.1751 \n",
       "F-statistic: 0.1356 on 5 and 24 DF,  p-value: 0.9825\n"
      ]
     },
     "metadata": {},
     "output_type": "display_data"
    }
   ],
   "source": [
    "df$phandu <- resid(hq)\n",
    "summary(lm(data = df, phandu ~ Y+P+I(Y^2)+I(P^2)+I(P*Y)))"
   ]
  },
  {
   "cell_type": "code",
   "execution_count": 31,
   "metadata": {
    "vscode": {
     "languageId": "r"
    }
   },
   "outputs": [
    {
     "data": {
      "text/plain": [
       "\n",
       "\tstudentized Breusch-Pagan test\n",
       "\n",
       "data:  hq\n",
       "BP = 2.2963, df = 2, p-value = 0.3172\n"
      ]
     },
     "metadata": {},
     "output_type": "display_data"
    }
   ],
   "source": [
    "bptest(hq)"
   ]
  },
  {
   "attachments": {},
   "cell_type": "markdown",
   "metadata": {},
   "source": [
    "Với mức ý nghĩa 5%, phương sai sai số đồng đều"
   ]
  },
  {
   "attachments": {},
   "cell_type": "markdown",
   "metadata": {},
   "source": [
    "## Câu 7\n",
    "\n",
    "Cho hai giá trị p và y ngoài mẫu $(p_{31},y_{31})=(6,520)$ va $(p_{32},y_{32})=(8,480)$ Hãy dự báo khoảng tin 95% cho y."
   ]
  },
  {
   "cell_type": "code",
   "execution_count": 32,
   "metadata": {
    "vscode": {
     "languageId": "r"
    }
   },
   "outputs": [
    {
     "data": {
      "text/html": [
       "<table class=\"dataframe\">\n",
       "<caption>A matrix: 1 × 3 of type dbl</caption>\n",
       "<thead>\n",
       "\t<tr><th></th><th scope=col>fit</th><th scope=col>lwr</th><th scope=col>upr</th></tr>\n",
       "</thead>\n",
       "<tbody>\n",
       "\t<tr><th scope=row>1</th><td>2.781807</td><td>2.545146</td><td>3.018469</td></tr>\n",
       "</tbody>\n",
       "</table>\n"
      ],
      "text/latex": [
       "A matrix: 1 × 3 of type dbl\n",
       "\\begin{tabular}{r|lll}\n",
       "  & fit & lwr & upr\\\\\n",
       "\\hline\n",
       "\t1 & 2.781807 & 2.545146 & 3.018469\\\\\n",
       "\\end{tabular}\n"
      ],
      "text/markdown": [
       "\n",
       "A matrix: 1 × 3 of type dbl\n",
       "\n",
       "| <!--/--> | fit | lwr | upr |\n",
       "|---|---|---|---|\n",
       "| 1 | 2.781807 | 2.545146 | 3.018469 |\n",
       "\n"
      ],
      "text/plain": [
       "  fit      lwr      upr     \n",
       "1 2.781807 2.545146 3.018469"
      ]
     },
     "metadata": {},
     "output_type": "display_data"
    }
   ],
   "source": [
    "predic1 <- predict(hq,data.frame(P=6,Y=520),interval=\"confidence\",level=0.95)\n",
    "predic1"
   ]
  },
  {
   "cell_type": "code",
   "execution_count": 33,
   "metadata": {
    "vscode": {
     "languageId": "r"
    }
   },
   "outputs": [
    {
     "data": {
      "text/html": [
       "<table class=\"dataframe\">\n",
       "<caption>A matrix: 1 × 3 of type dbl</caption>\n",
       "<thead>\n",
       "\t<tr><th></th><th scope=col>fit</th><th scope=col>lwr</th><th scope=col>upr</th></tr>\n",
       "</thead>\n",
       "<tbody>\n",
       "\t<tr><th scope=row>1</th><td>2.503593</td><td>2.327861</td><td>2.679324</td></tr>\n",
       "</tbody>\n",
       "</table>\n"
      ],
      "text/latex": [
       "A matrix: 1 × 3 of type dbl\n",
       "\\begin{tabular}{r|lll}\n",
       "  & fit & lwr & upr\\\\\n",
       "\\hline\n",
       "\t1 & 2.503593 & 2.327861 & 2.679324\\\\\n",
       "\\end{tabular}\n"
      ],
      "text/markdown": [
       "\n",
       "A matrix: 1 × 3 of type dbl\n",
       "\n",
       "| <!--/--> | fit | lwr | upr |\n",
       "|---|---|---|---|\n",
       "| 1 | 2.503593 | 2.327861 | 2.679324 |\n",
       "\n"
      ],
      "text/plain": [
       "  fit      lwr      upr     \n",
       "1 2.503593 2.327861 2.679324"
      ]
     },
     "metadata": {},
     "output_type": "display_data"
    }
   ],
   "source": [
    "predic2 <- predict(hq,data.frame(P=8,Y=480),interval=\"confidence\",level=0.95)\n",
    "predic2"
   ]
  }
 ],
 "metadata": {
  "kernelspec": {
   "display_name": "R",
   "language": "R",
   "name": "ir"
  },
  "language_info": {
   "codemirror_mode": "r",
   "file_extension": ".r",
   "mimetype": "text/x-r-source",
   "name": "R",
   "pygments_lexer": "r",
   "version": "4.2.1"
  },
  "orig_nbformat": 4
 },
 "nbformat": 4,
 "nbformat_minor": 2
}
