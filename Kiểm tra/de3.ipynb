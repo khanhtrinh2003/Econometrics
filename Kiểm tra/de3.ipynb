{
 "cells": [
  {
   "attachments": {},
   "cell_type": "markdown",
   "metadata": {},
   "source": [
    "Cho tệp dữ liệu Deso3.txt gồm 30 quan sát về các biến số: \n",
    "- q: lượng sản phẩm bán được; \n",
    "\n",
    "- p giá một sản phẩm; \n",
    "\n",
    "- pf: giá của các yếu tố đầu vào tạo ra 1 sản phẩm. \n",
    "\n",
    "Hãy viết code tính toán và trả lời các câu hỏi dưới đây với LẬP LUẬN ĐẦY ĐỦ, mức ý nghĩa 5%."
   ]
  },
  {
   "cell_type": "code",
   "execution_count": 17,
   "metadata": {
    "vscode": {
     "languageId": "r"
    }
   },
   "outputs": [],
   "source": [
    "library(lmtest)\n",
    "library(car)\n",
    "library(carData)\n",
    "library(hexView)\n",
    "library(strucchange)\n",
    "library(fBasics)"
   ]
  },
  {
   "cell_type": "code",
   "execution_count": 18,
   "metadata": {
    "vscode": {
     "languageId": "r"
    }
   },
   "outputs": [
    {
     "data": {
      "text/html": [
       "<table class=\"dataframe\">\n",
       "<caption>A data.frame: 30 × 5</caption>\n",
       "<thead>\n",
       "\t<tr><th scope=col>p</th><th scope=col>q</th><th scope=col>ps</th><th scope=col>di</th><th scope=col>pf</th></tr>\n",
       "\t<tr><th scope=col>&lt;dbl&gt;</th><th scope=col>&lt;dbl&gt;</th><th scope=col>&lt;dbl&gt;</th><th scope=col>&lt;dbl&gt;</th><th scope=col>&lt;dbl&gt;</th></tr>\n",
       "</thead>\n",
       "<tbody>\n",
       "\t<tr><td> 9.88</td><td>19.89</td><td>19.97</td><td>21.03</td><td>10.52</td></tr>\n",
       "\t<tr><td>13.41</td><td>13.04</td><td>18.04</td><td>20.43</td><td>19.67</td></tr>\n",
       "\t<tr><td>11.57</td><td>19.61</td><td>22.36</td><td>18.70</td><td>13.74</td></tr>\n",
       "\t<tr><td>13.81</td><td>17.13</td><td>20.87</td><td>15.25</td><td>17.95</td></tr>\n",
       "\t<tr><td>17.79</td><td>22.55</td><td>19.79</td><td>27.09</td><td>13.71</td></tr>\n",
       "\t<tr><td>12.84</td><td> 6.37</td><td>15.98</td><td>24.89</td><td>24.95</td></tr>\n",
       "\t<tr><td>18.11</td><td>15.02</td><td>17.94</td><td>22.94</td><td>24.71</td></tr>\n",
       "\t<tr><td>13.52</td><td>10.22</td><td>17.09</td><td>21.96</td><td>23.61</td></tr>\n",
       "\t<tr><td>22.45</td><td>23.64</td><td>22.72</td><td>38.85</td><td>19.52</td></tr>\n",
       "\t<tr><td>16.55</td><td>16.12</td><td>15.74</td><td>31.69</td><td>20.03</td></tr>\n",
       "\t<tr><td>19.39</td><td>24.55</td><td>24.64</td><td>26.23</td><td>15.38</td></tr>\n",
       "\t<tr><td>22.29</td><td>18.92</td><td>23.70</td><td>30.07</td><td>22.98</td></tr>\n",
       "\t<tr><td>16.65</td><td>11.94</td><td>15.93</td><td>33.67</td><td>25.76</td></tr>\n",
       "\t<tr><td>21.65</td><td>18.93</td><td>23.34</td><td>32.90</td><td>25.17</td></tr>\n",
       "\t<tr><td>17.56</td><td>12.60</td><td>15.21</td><td>37.46</td><td>25.82</td></tr>\n",
       "\t<tr><td>20.40</td><td>20.49</td><td>26.04</td><td>35.18</td><td>19.31</td></tr>\n",
       "\t<tr><td>26.85</td><td>22.94</td><td>22.95</td><td>43.81</td><td>26.02</td></tr>\n",
       "\t<tr><td>29.98</td><td>21.08</td><td>27.10</td><td>41.21</td><td>29.65</td></tr>\n",
       "\t<tr><td>23.59</td><td>16.68</td><td>23.65</td><td>38.20</td><td>27.45</td></tr>\n",
       "\t<tr><td>19.11</td><td>17.61</td><td>20.06</td><td>43.98</td><td>18.00</td></tr>\n",
       "\t<tr><td>15.41</td><td>16.62</td><td>26.38</td><td>37.64</td><td>18.87</td></tr>\n",
       "\t<tr><td>25.81</td><td>20.99</td><td>24.28</td><td>45.24</td><td>24.58</td></tr>\n",
       "\t<tr><td>27.67</td><td>24.53</td><td>26.64</td><td>48.15</td><td>25.25</td></tr>\n",
       "\t<tr><td>23.57</td><td>19.67</td><td>22.65</td><td>36.70</td><td>24.24</td></tr>\n",
       "\t<tr><td>22.25</td><td>23.29</td><td>19.68</td><td>43.92</td><td>22.63</td></tr>\n",
       "\t<tr><td>25.60</td><td>16.64</td><td>23.82</td><td>46.03</td><td>27.35</td></tr>\n",
       "\t<tr><td>27.90</td><td>20.81</td><td>28.98</td><td>46.32</td><td>27.80</td></tr>\n",
       "\t<tr><td>27.00</td><td>14.95</td><td>18.52</td><td>48.94</td><td>30.34</td></tr>\n",
       "\t<tr><td>29.48</td><td>26.27</td><td>28.16</td><td>51.25</td><td>24.12</td></tr>\n",
       "\t<tr><td>35.15</td><td>20.65</td><td>28.43</td><td>48.36</td><td>34.01</td></tr>\n",
       "</tbody>\n",
       "</table>\n"
      ],
      "text/latex": [
       "A data.frame: 30 × 5\n",
       "\\begin{tabular}{lllll}\n",
       " p & q & ps & di & pf\\\\\n",
       " <dbl> & <dbl> & <dbl> & <dbl> & <dbl>\\\\\n",
       "\\hline\n",
       "\t  9.88 & 19.89 & 19.97 & 21.03 & 10.52\\\\\n",
       "\t 13.41 & 13.04 & 18.04 & 20.43 & 19.67\\\\\n",
       "\t 11.57 & 19.61 & 22.36 & 18.70 & 13.74\\\\\n",
       "\t 13.81 & 17.13 & 20.87 & 15.25 & 17.95\\\\\n",
       "\t 17.79 & 22.55 & 19.79 & 27.09 & 13.71\\\\\n",
       "\t 12.84 &  6.37 & 15.98 & 24.89 & 24.95\\\\\n",
       "\t 18.11 & 15.02 & 17.94 & 22.94 & 24.71\\\\\n",
       "\t 13.52 & 10.22 & 17.09 & 21.96 & 23.61\\\\\n",
       "\t 22.45 & 23.64 & 22.72 & 38.85 & 19.52\\\\\n",
       "\t 16.55 & 16.12 & 15.74 & 31.69 & 20.03\\\\\n",
       "\t 19.39 & 24.55 & 24.64 & 26.23 & 15.38\\\\\n",
       "\t 22.29 & 18.92 & 23.70 & 30.07 & 22.98\\\\\n",
       "\t 16.65 & 11.94 & 15.93 & 33.67 & 25.76\\\\\n",
       "\t 21.65 & 18.93 & 23.34 & 32.90 & 25.17\\\\\n",
       "\t 17.56 & 12.60 & 15.21 & 37.46 & 25.82\\\\\n",
       "\t 20.40 & 20.49 & 26.04 & 35.18 & 19.31\\\\\n",
       "\t 26.85 & 22.94 & 22.95 & 43.81 & 26.02\\\\\n",
       "\t 29.98 & 21.08 & 27.10 & 41.21 & 29.65\\\\\n",
       "\t 23.59 & 16.68 & 23.65 & 38.20 & 27.45\\\\\n",
       "\t 19.11 & 17.61 & 20.06 & 43.98 & 18.00\\\\\n",
       "\t 15.41 & 16.62 & 26.38 & 37.64 & 18.87\\\\\n",
       "\t 25.81 & 20.99 & 24.28 & 45.24 & 24.58\\\\\n",
       "\t 27.67 & 24.53 & 26.64 & 48.15 & 25.25\\\\\n",
       "\t 23.57 & 19.67 & 22.65 & 36.70 & 24.24\\\\\n",
       "\t 22.25 & 23.29 & 19.68 & 43.92 & 22.63\\\\\n",
       "\t 25.60 & 16.64 & 23.82 & 46.03 & 27.35\\\\\n",
       "\t 27.90 & 20.81 & 28.98 & 46.32 & 27.80\\\\\n",
       "\t 27.00 & 14.95 & 18.52 & 48.94 & 30.34\\\\\n",
       "\t 29.48 & 26.27 & 28.16 & 51.25 & 24.12\\\\\n",
       "\t 35.15 & 20.65 & 28.43 & 48.36 & 34.01\\\\\n",
       "\\end{tabular}\n"
      ],
      "text/markdown": [
       "\n",
       "A data.frame: 30 × 5\n",
       "\n",
       "| p &lt;dbl&gt; | q &lt;dbl&gt; | ps &lt;dbl&gt; | di &lt;dbl&gt; | pf &lt;dbl&gt; |\n",
       "|---|---|---|---|---|\n",
       "|  9.88 | 19.89 | 19.97 | 21.03 | 10.52 |\n",
       "| 13.41 | 13.04 | 18.04 | 20.43 | 19.67 |\n",
       "| 11.57 | 19.61 | 22.36 | 18.70 | 13.74 |\n",
       "| 13.81 | 17.13 | 20.87 | 15.25 | 17.95 |\n",
       "| 17.79 | 22.55 | 19.79 | 27.09 | 13.71 |\n",
       "| 12.84 |  6.37 | 15.98 | 24.89 | 24.95 |\n",
       "| 18.11 | 15.02 | 17.94 | 22.94 | 24.71 |\n",
       "| 13.52 | 10.22 | 17.09 | 21.96 | 23.61 |\n",
       "| 22.45 | 23.64 | 22.72 | 38.85 | 19.52 |\n",
       "| 16.55 | 16.12 | 15.74 | 31.69 | 20.03 |\n",
       "| 19.39 | 24.55 | 24.64 | 26.23 | 15.38 |\n",
       "| 22.29 | 18.92 | 23.70 | 30.07 | 22.98 |\n",
       "| 16.65 | 11.94 | 15.93 | 33.67 | 25.76 |\n",
       "| 21.65 | 18.93 | 23.34 | 32.90 | 25.17 |\n",
       "| 17.56 | 12.60 | 15.21 | 37.46 | 25.82 |\n",
       "| 20.40 | 20.49 | 26.04 | 35.18 | 19.31 |\n",
       "| 26.85 | 22.94 | 22.95 | 43.81 | 26.02 |\n",
       "| 29.98 | 21.08 | 27.10 | 41.21 | 29.65 |\n",
       "| 23.59 | 16.68 | 23.65 | 38.20 | 27.45 |\n",
       "| 19.11 | 17.61 | 20.06 | 43.98 | 18.00 |\n",
       "| 15.41 | 16.62 | 26.38 | 37.64 | 18.87 |\n",
       "| 25.81 | 20.99 | 24.28 | 45.24 | 24.58 |\n",
       "| 27.67 | 24.53 | 26.64 | 48.15 | 25.25 |\n",
       "| 23.57 | 19.67 | 22.65 | 36.70 | 24.24 |\n",
       "| 22.25 | 23.29 | 19.68 | 43.92 | 22.63 |\n",
       "| 25.60 | 16.64 | 23.82 | 46.03 | 27.35 |\n",
       "| 27.90 | 20.81 | 28.98 | 46.32 | 27.80 |\n",
       "| 27.00 | 14.95 | 18.52 | 48.94 | 30.34 |\n",
       "| 29.48 | 26.27 | 28.16 | 51.25 | 24.12 |\n",
       "| 35.15 | 20.65 | 28.43 | 48.36 | 34.01 |\n",
       "\n"
      ],
      "text/plain": [
       "   p     q     ps    di    pf   \n",
       "1   9.88 19.89 19.97 21.03 10.52\n",
       "2  13.41 13.04 18.04 20.43 19.67\n",
       "3  11.57 19.61 22.36 18.70 13.74\n",
       "4  13.81 17.13 20.87 15.25 17.95\n",
       "5  17.79 22.55 19.79 27.09 13.71\n",
       "6  12.84  6.37 15.98 24.89 24.95\n",
       "7  18.11 15.02 17.94 22.94 24.71\n",
       "8  13.52 10.22 17.09 21.96 23.61\n",
       "9  22.45 23.64 22.72 38.85 19.52\n",
       "10 16.55 16.12 15.74 31.69 20.03\n",
       "11 19.39 24.55 24.64 26.23 15.38\n",
       "12 22.29 18.92 23.70 30.07 22.98\n",
       "13 16.65 11.94 15.93 33.67 25.76\n",
       "14 21.65 18.93 23.34 32.90 25.17\n",
       "15 17.56 12.60 15.21 37.46 25.82\n",
       "16 20.40 20.49 26.04 35.18 19.31\n",
       "17 26.85 22.94 22.95 43.81 26.02\n",
       "18 29.98 21.08 27.10 41.21 29.65\n",
       "19 23.59 16.68 23.65 38.20 27.45\n",
       "20 19.11 17.61 20.06 43.98 18.00\n",
       "21 15.41 16.62 26.38 37.64 18.87\n",
       "22 25.81 20.99 24.28 45.24 24.58\n",
       "23 27.67 24.53 26.64 48.15 25.25\n",
       "24 23.57 19.67 22.65 36.70 24.24\n",
       "25 22.25 23.29 19.68 43.92 22.63\n",
       "26 25.60 16.64 23.82 46.03 27.35\n",
       "27 27.90 20.81 28.98 46.32 27.80\n",
       "28 27.00 14.95 18.52 48.94 30.34\n",
       "29 29.48 26.27 28.16 51.25 24.12\n",
       "30 35.15 20.65 28.43 48.36 34.01"
      ]
     },
     "metadata": {},
     "output_type": "display_data"
    }
   ],
   "source": [
    "df <- read.table(\"de3.txt\",header = TRUE)\n",
    "df"
   ]
  },
  {
   "cell_type": "code",
   "execution_count": 19,
   "metadata": {
    "vscode": {
     "languageId": "r"
    }
   },
   "outputs": [
    {
     "data": {
      "text/html": [
       "<style>\n",
       ".list-inline {list-style: none; margin:0; padding: 0}\n",
       ".list-inline>li {display: inline-block}\n",
       ".list-inline>li:not(:last-child)::after {content: \"\\00b7\"; padding: 0 .5ex}\n",
       "</style>\n",
       "<ol class=list-inline><li>'p'</li><li>'q'</li><li>'ps'</li><li>'di'</li><li>'pf'</li></ol>\n"
      ],
      "text/latex": [
       "\\begin{enumerate*}\n",
       "\\item 'p'\n",
       "\\item 'q'\n",
       "\\item 'ps'\n",
       "\\item 'di'\n",
       "\\item 'pf'\n",
       "\\end{enumerate*}\n"
      ],
      "text/markdown": [
       "1. 'p'\n",
       "2. 'q'\n",
       "3. 'ps'\n",
       "4. 'di'\n",
       "5. 'pf'\n",
       "\n",
       "\n"
      ],
      "text/plain": [
       "[1] \"p\"  \"q\"  \"ps\" \"di\" \"pf\""
      ]
     },
     "metadata": {},
     "output_type": "display_data"
    }
   ],
   "source": [
    "names(df)"
   ]
  },
  {
   "attachments": {},
   "cell_type": "markdown",
   "metadata": {},
   "source": [
    "## Câu 1\n",
    "\n",
    "Ước lượng mô hình log-log với q biến phụ thuộc, p, pf biến độc lập. Kết quả là ước lượng của hàm (kinh tế) gì và kết quả có phù hợp về mặt kinh tế không?"
   ]
  },
  {
   "cell_type": "code",
   "execution_count": 20,
   "metadata": {
    "vscode": {
     "languageId": "r"
    }
   },
   "outputs": [
    {
     "data": {
      "text/plain": [
       "\n",
       "Call:\n",
       "lm(formula = log(q) ~ log(p) + log(pf), data = df)\n",
       "\n",
       "Residuals:\n",
       "     Min       1Q   Median       3Q      Max \n",
       "-0.33272 -0.02035  0.01260  0.05243  0.17403 \n",
       "\n",
       "Coefficients:\n",
       "            Estimate Std. Error t value Pr(>|t|)    \n",
       "(Intercept)  3.07659    0.26410   11.65 4.88e-12 ***\n",
       "log(p)       1.22482    0.09934   12.33 1.33e-12 ***\n",
       "log(pf)     -1.24925    0.11933  -10.47 5.27e-11 ***\n",
       "---\n",
       "Signif. codes:  0 '***' 0.001 '**' 0.01 '*' 0.05 '.' 0.1 ' ' 1\n",
       "\n",
       "Residual standard error: 0.1189 on 27 degrees of freedom\n",
       "Multiple R-squared:  0.8541,\tAdjusted R-squared:  0.8433 \n",
       "F-statistic: 79.03 on 2 and 27 DF,  p-value: 5.185e-12\n"
      ]
     },
     "metadata": {},
     "output_type": "display_data"
    }
   ],
   "source": [
    "hq <- lm(data = df,log(q)~log(p)+log(pf))\n",
    "summary(hq)"
   ]
  },
  {
   "attachments": {},
   "cell_type": "markdown",
   "metadata": {},
   "source": [
    "Kết quả ước lượng là hàm cobb-douglas: $q=\\alpha \\times p^{\\alpha_1}pf^{\\alpha_2}$\n",
    "\n",
    "Hệ số của biến phụ thuộc p là có phù hợp về mặt kinh tế\n",
    "\n",
    "Vì\n",
    "-  Khi giá một sản phẩm tăng thì lượng cung tăng $\\Rarr$ hệ số p >0\n",
    "\n",
    "-  Khi giá của các yếu tố đầu vào tạo ra 1 sản phẩm tăng thì lượng cung giảm $\\Rarr$ hệ số p <0"
   ]
  },
  {
   "attachments": {},
   "cell_type": "markdown",
   "metadata": {},
   "source": [
    "## Câu 2\n",
    "\n",
    "Hãy cho biết khi biến số pf tăng 1% thì q thay đổi như thế nào? "
   ]
  },
  {
   "attachments": {},
   "cell_type": "markdown",
   "metadata": {},
   "source": [
    "Khi pf tăng 1% thì q giảm -1.24925%"
   ]
  },
  {
   "attachments": {},
   "cell_type": "markdown",
   "metadata": {},
   "source": [
    "## Câu 3 \n",
    "\n",
    "Hệ số có giãn của q theo p bằng 1?"
   ]
  },
  {
   "cell_type": "code",
   "execution_count": 21,
   "metadata": {
    "vscode": {
     "languageId": "r"
    }
   },
   "outputs": [
    {
     "data": {
      "text/html": [
       "<table class=\"dataframe\">\n",
       "<caption>A anova: 2 × 6</caption>\n",
       "<thead>\n",
       "\t<tr><th></th><th scope=col>Res.Df</th><th scope=col>RSS</th><th scope=col>Df</th><th scope=col>Sum of Sq</th><th scope=col>F</th><th scope=col>Pr(&gt;F)</th></tr>\n",
       "\t<tr><th></th><th scope=col>&lt;dbl&gt;</th><th scope=col>&lt;dbl&gt;</th><th scope=col>&lt;dbl&gt;</th><th scope=col>&lt;dbl&gt;</th><th scope=col>&lt;dbl&gt;</th><th scope=col>&lt;dbl&gt;</th></tr>\n",
       "</thead>\n",
       "<tbody>\n",
       "\t<tr><th scope=row>1</th><td>28</td><td>0.4540002</td><td>NA</td><td>        NA</td><td>      NA</td><td>       NA</td></tr>\n",
       "\t<tr><th scope=row>2</th><td>27</td><td>0.3816170</td><td> 1</td><td>0.07238322</td><td>5.121226</td><td>0.0318863</td></tr>\n",
       "</tbody>\n",
       "</table>\n"
      ],
      "text/latex": [
       "A anova: 2 × 6\n",
       "\\begin{tabular}{r|llllll}\n",
       "  & Res.Df & RSS & Df & Sum of Sq & F & Pr(>F)\\\\\n",
       "  & <dbl> & <dbl> & <dbl> & <dbl> & <dbl> & <dbl>\\\\\n",
       "\\hline\n",
       "\t1 & 28 & 0.4540002 & NA &         NA &       NA &        NA\\\\\n",
       "\t2 & 27 & 0.3816170 &  1 & 0.07238322 & 5.121226 & 0.0318863\\\\\n",
       "\\end{tabular}\n"
      ],
      "text/markdown": [
       "\n",
       "A anova: 2 × 6\n",
       "\n",
       "| <!--/--> | Res.Df &lt;dbl&gt; | RSS &lt;dbl&gt; | Df &lt;dbl&gt; | Sum of Sq &lt;dbl&gt; | F &lt;dbl&gt; | Pr(&gt;F) &lt;dbl&gt; |\n",
       "|---|---|---|---|---|---|---|\n",
       "| 1 | 28 | 0.4540002 | NA |         NA |       NA |        NA |\n",
       "| 2 | 27 | 0.3816170 |  1 | 0.07238322 | 5.121226 | 0.0318863 |\n",
       "\n"
      ],
      "text/plain": [
       "  Res.Df RSS       Df Sum of Sq  F        Pr(>F)   \n",
       "1 28     0.4540002 NA         NA       NA        NA\n",
       "2 27     0.3816170  1 0.07238322 5.121226 0.0318863"
      ]
     },
     "metadata": {},
     "output_type": "display_data"
    }
   ],
   "source": [
    "linearHypothesis(hq,c(\"log(p)=1\"))"
   ]
  },
  {
   "attachments": {},
   "cell_type": "markdown",
   "metadata": {},
   "source": [
    "Với mức ý nghĩa 5%, thì hệ số có giãn của q theo p khác 1"
   ]
  },
  {
   "attachments": {},
   "cell_type": "markdown",
   "metadata": {},
   "source": [
    "## Câu 4\n",
    "\n",
    "Khi giá p tăng 1% và pf cũng tăng 1% thì q có thay đổi không? vì sao?"
   ]
  },
  {
   "cell_type": "code",
   "execution_count": 22,
   "metadata": {
    "vscode": {
     "languageId": "r"
    }
   },
   "outputs": [
    {
     "data": {
      "text/html": [
       "<table class=\"dataframe\">\n",
       "<caption>A anova: 2 × 6</caption>\n",
       "<thead>\n",
       "\t<tr><th></th><th scope=col>Res.Df</th><th scope=col>RSS</th><th scope=col>Df</th><th scope=col>Sum of Sq</th><th scope=col>F</th><th scope=col>Pr(&gt;F)</th></tr>\n",
       "\t<tr><th></th><th scope=col>&lt;dbl&gt;</th><th scope=col>&lt;dbl&gt;</th><th scope=col>&lt;dbl&gt;</th><th scope=col>&lt;dbl&gt;</th><th scope=col>&lt;dbl&gt;</th><th scope=col>&lt;dbl&gt;</th></tr>\n",
       "</thead>\n",
       "<tbody>\n",
       "\t<tr><th scope=row>1</th><td>28</td><td>0.3827703</td><td>NA</td><td>         NA</td><td>        NA</td><td>       NA</td></tr>\n",
       "\t<tr><th scope=row>2</th><td>27</td><td>0.3816170</td><td> 1</td><td>0.001153316</td><td>0.08159891</td><td>0.7773223</td></tr>\n",
       "</tbody>\n",
       "</table>\n"
      ],
      "text/latex": [
       "A anova: 2 × 6\n",
       "\\begin{tabular}{r|llllll}\n",
       "  & Res.Df & RSS & Df & Sum of Sq & F & Pr(>F)\\\\\n",
       "  & <dbl> & <dbl> & <dbl> & <dbl> & <dbl> & <dbl>\\\\\n",
       "\\hline\n",
       "\t1 & 28 & 0.3827703 & NA &          NA &         NA &        NA\\\\\n",
       "\t2 & 27 & 0.3816170 &  1 & 0.001153316 & 0.08159891 & 0.7773223\\\\\n",
       "\\end{tabular}\n"
      ],
      "text/markdown": [
       "\n",
       "A anova: 2 × 6\n",
       "\n",
       "| <!--/--> | Res.Df &lt;dbl&gt; | RSS &lt;dbl&gt; | Df &lt;dbl&gt; | Sum of Sq &lt;dbl&gt; | F &lt;dbl&gt; | Pr(&gt;F) &lt;dbl&gt; |\n",
       "|---|---|---|---|---|---|---|\n",
       "| 1 | 28 | 0.3827703 | NA |          NA |         NA |        NA |\n",
       "| 2 | 27 | 0.3816170 |  1 | 0.001153316 | 0.08159891 | 0.7773223 |\n",
       "\n"
      ],
      "text/plain": [
       "  Res.Df RSS       Df Sum of Sq   F          Pr(>F)   \n",
       "1 28     0.3827703 NA          NA         NA        NA\n",
       "2 27     0.3816170  1 0.001153316 0.08159891 0.7773223"
      ]
     },
     "metadata": {},
     "output_type": "display_data"
    }
   ],
   "source": [
    "linearHypothesis(hq,c(\"log(p)=-log(pf)\"))"
   ]
  },
  {
   "attachments": {},
   "cell_type": "markdown",
   "metadata": {},
   "source": [
    "Với mức ý nghĩa 5%, khi giá p tăng 1% và pf cũng tăng 1% thì q có không thay đổi. Vì P-value>5% nên chưa có cơ sở bác bỏ $H_0$"
   ]
  },
  {
   "attachments": {},
   "cell_type": "markdown",
   "metadata": {},
   "source": [
    "## Câu 5 \n",
    "\n",
    "Tìm khoảng tin cậy đối xứng 95% cho tổng hai hệ số co giãn."
   ]
  },
  {
   "cell_type": "code",
   "execution_count": 23,
   "metadata": {
    "vscode": {
     "languageId": "r"
    }
   },
   "outputs": [
    {
     "data": {
      "text/html": [
       "<table class=\"dataframe\">\n",
       "<caption>A matrix: 3 × 3 of type dbl</caption>\n",
       "<thead>\n",
       "\t<tr><th></th><th scope=col>(Intercept)</th><th scope=col>log(p)</th><th scope=col>log(pf)</th></tr>\n",
       "</thead>\n",
       "<tbody>\n",
       "\t<tr><th scope=row>(Intercept)</th><td> 0.069749833</td><td>-0.003566604</td><td>-0.018933682</td></tr>\n",
       "\t<tr><th scope=row>log(p)</th><td>-0.003566604</td><td> 0.009869392</td><td>-0.008395851</td></tr>\n",
       "\t<tr><th scope=row>log(pf)</th><td>-0.018933682</td><td>-0.008395851</td><td> 0.014240193</td></tr>\n",
       "</tbody>\n",
       "</table>\n"
      ],
      "text/latex": [
       "A matrix: 3 × 3 of type dbl\n",
       "\\begin{tabular}{r|lll}\n",
       "  & (Intercept) & log(p) & log(pf)\\\\\n",
       "\\hline\n",
       "\t(Intercept) &  0.069749833 & -0.003566604 & -0.018933682\\\\\n",
       "\tlog(p) & -0.003566604 &  0.009869392 & -0.008395851\\\\\n",
       "\tlog(pf) & -0.018933682 & -0.008395851 &  0.014240193\\\\\n",
       "\\end{tabular}\n"
      ],
      "text/markdown": [
       "\n",
       "A matrix: 3 × 3 of type dbl\n",
       "\n",
       "| <!--/--> | (Intercept) | log(p) | log(pf) |\n",
       "|---|---|---|---|\n",
       "| (Intercept) |  0.069749833 | -0.003566604 | -0.018933682 |\n",
       "| log(p) | -0.003566604 |  0.009869392 | -0.008395851 |\n",
       "| log(pf) | -0.018933682 | -0.008395851 |  0.014240193 |\n",
       "\n"
      ],
      "text/plain": [
       "            (Intercept)  log(p)       log(pf)     \n",
       "(Intercept)  0.069749833 -0.003566604 -0.018933682\n",
       "log(p)      -0.003566604  0.009869392 -0.008395851\n",
       "log(pf)     -0.018933682 -0.008395851  0.014240193"
      ]
     },
     "metadata": {},
     "output_type": "display_data"
    }
   ],
   "source": [
    "vcov(hq)"
   ]
  },
  {
   "cell_type": "code",
   "execution_count": 24,
   "metadata": {
    "vscode": {
     "languageId": "r"
    }
   },
   "outputs": [
    {
     "data": {
      "text/html": [
       "<style>\n",
       ".list-inline {list-style: none; margin:0; padding: 0}\n",
       ".list-inline>li {display: inline-block}\n",
       ".list-inline>li:not(:last-child)::after {content: \"\\00b7\"; padding: 0 .5ex}\n",
       "</style>\n",
       "<ol class=list-inline><li>-0.199953071864425</li><li>0.151093071864425</li></ol>\n"
      ],
      "text/latex": [
       "\\begin{enumerate*}\n",
       "\\item -0.199953071864425\n",
       "\\item 0.151093071864425\n",
       "\\end{enumerate*}\n"
      ],
      "text/markdown": [
       "1. -0.199953071864425\n",
       "2. 0.151093071864425\n",
       "\n",
       "\n"
      ],
      "text/plain": [
       "[1] -0.1999531  0.1510931"
      ]
     },
     "metadata": {},
     "output_type": "display_data"
    }
   ],
   "source": [
    "var2 <- vcov(hq)[2,2]\n",
    "var3 <- vcov(hq)[3,3]\n",
    "cov23 <- vcov(hq)[3,2]\n",
    "\n",
    "se <- sqrt(var2+var3+2*cov23)\n",
    "beta2 <- 1.22482\n",
    "beta3 <- -1.24925\n",
    "\n",
    "((beta2+beta3)+c(-1,1)*qt(0.975,length(df$p)-3)*se)"
   ]
  },
  {
   "attachments": {},
   "cell_type": "markdown",
   "metadata": {},
   "source": [
    "## Câu 6\n",
    "\n",
    "Hãy dự báo khoảng tin 95% cho q tại trung bình của p và pf."
   ]
  },
  {
   "cell_type": "code",
   "execution_count": 25,
   "metadata": {
    "vscode": {
     "languageId": "r"
    }
   },
   "outputs": [
    {
     "data": {
      "text/html": [
       "<table class=\"dataframe\">\n",
       "<caption>A matrix: 1 × 3 of type dbl</caption>\n",
       "<thead>\n",
       "\t<tr><th></th><th scope=col>fit</th><th scope=col>lwr</th><th scope=col>upr</th></tr>\n",
       "</thead>\n",
       "<tbody>\n",
       "\t<tr><th scope=row>1</th><td>2.895647</td><td>2.850616</td><td>2.940677</td></tr>\n",
       "</tbody>\n",
       "</table>\n"
      ],
      "text/latex": [
       "A matrix: 1 × 3 of type dbl\n",
       "\\begin{tabular}{r|lll}\n",
       "  & fit & lwr & upr\\\\\n",
       "\\hline\n",
       "\t1 & 2.895647 & 2.850616 & 2.940677\\\\\n",
       "\\end{tabular}\n"
      ],
      "text/markdown": [
       "\n",
       "A matrix: 1 × 3 of type dbl\n",
       "\n",
       "| <!--/--> | fit | lwr | upr |\n",
       "|---|---|---|---|\n",
       "| 1 | 2.895647 | 2.850616 | 2.940677 |\n",
       "\n"
      ],
      "text/plain": [
       "  fit      lwr      upr     \n",
       "1 2.895647 2.850616 2.940677"
      ]
     },
     "metadata": {},
     "output_type": "display_data"
    }
   ],
   "source": [
    "predic <- predict(hq,data.frame(p=mean(df$p),pf=mean(df$pf)),interval=\"confidence\",level=0.95)\n",
    "predic"
   ]
  }
 ],
 "metadata": {
  "kernelspec": {
   "display_name": "R",
   "language": "R",
   "name": "ir"
  },
  "language_info": {
   "codemirror_mode": "r",
   "file_extension": ".r",
   "mimetype": "text/x-r-source",
   "name": "R",
   "pygments_lexer": "r",
   "version": "4.2.1"
  },
  "orig_nbformat": 4
 },
 "nbformat": 4,
 "nbformat_minor": 2
}
