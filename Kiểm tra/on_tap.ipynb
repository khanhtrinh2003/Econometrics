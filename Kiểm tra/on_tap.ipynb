{
 "cells": [
  {
   "cell_type": "code",
   "execution_count": null,
   "metadata": {
    "vscode": {
     "languageId": "r"
    }
   },
   "outputs": [],
   "source": [
    "library(ggplot2)\n",
    "library(lmtest)\n",
    "library(urca)\n",
    "library(sandwich)\n",
    "library(car)\n",
    "library(carData)\n",
    "library(forecast)\n",
    "library(tseries)\n",
    "library(dummy)\n",
    "library(seasonal)\n",
    "library(hexView)\n",
    "library(strucchange)"
   ]
  },
  {
   "attachments": {},
   "cell_type": "markdown",
   "metadata": {},
   "source": [
    "##### Đọc file"
   ]
  },
  {
   "attachments": {},
   "cell_type": "markdown",
   "metadata": {},
   "source": [
    "File Eview"
   ]
  },
  {
   "cell_type": "code",
   "execution_count": null,
   "metadata": {
    "vscode": {
     "languageId": "r"
    }
   },
   "outputs": [],
   "source": [
    "readEViews(\"\")"
   ]
  },
  {
   "attachments": {},
   "cell_type": "markdown",
   "metadata": {},
   "source": [
    "File words"
   ]
  },
  {
   "cell_type": "code",
   "execution_count": null,
   "metadata": {
    "vscode": {
     "languageId": "r"
    }
   },
   "outputs": [],
   "source": [
    "df = read.table(\"ch3bt4.txt\",header = TRUE)"
   ]
  },
  {
   "attachments": {},
   "cell_type": "markdown",
   "metadata": {},
   "source": [
    "##### Hồi quy"
   ]
  },
  {
   "cell_type": "code",
   "execution_count": null,
   "metadata": {
    "vscode": {
     "languageId": "r"
    }
   },
   "outputs": [],
   "source": [
    "hq <- lm(data = df,log(Y)~log(K)+log(L))\n",
    "summary(hq)"
   ]
  },
  {
   "attachments": {},
   "cell_type": "markdown",
   "metadata": {},
   "source": [
    "##### Dự báo"
   ]
  },
  {
   "cell_type": "code",
   "execution_count": null,
   "metadata": {
    "vscode": {
     "languageId": "r"
    }
   },
   "outputs": [],
   "source": [
    "K <- c(50,45)\n",
    "L <- c(35,32)\n",
    "predic2 <- predict(hq,data.frame(K,L),interval=\"confidence\",level=0.95)\n",
    "predic2"
   ]
  },
  {
   "attachments": {},
   "cell_type": "markdown",
   "metadata": {},
   "source": [
    "##### Kiểm định giả thiết"
   ]
  },
  {
   "cell_type": "code",
   "execution_count": null,
   "metadata": {
    "vscode": {
     "languageId": "r"
    }
   },
   "outputs": [],
   "source": [
    "linearHypothesis(hq,c(\"log(K)+log(L)=1\",\"log(L)=0.3\"))"
   ]
  },
  {
   "attachments": {},
   "cell_type": "markdown",
   "metadata": {},
   "source": [
    "Kiểm định phương sai sai số đồng đều"
   ]
  },
  {
   "cell_type": "code",
   "execution_count": null,
   "metadata": {
    "vscode": {
     "languageId": "r"
    }
   },
   "outputs": [],
   "source": [
    "phandubp <- residual(hq)\n",
    "summary(lm(data = trang, phandubp ~ AGE + EDUC + I(AGE^2) + I(EDUC^2) + (AGE*EDUC)))"
   ]
  },
  {
   "attachments": {},
   "cell_type": "markdown",
   "metadata": {},
   "source": [
    "##### Tìm khoảng tin cậy"
   ]
  },
  {
   "attachments": {},
   "cell_type": "markdown",
   "metadata": {},
   "source": [
    "Cho 1 hệ số"
   ]
  },
  {
   "cell_type": "code",
   "execution_count": null,
   "metadata": {
    "vscode": {
     "languageId": "r"
    }
   },
   "outputs": [],
   "source": [
    "confint(hoiquy, level = 0.9)"
   ]
  },
  {
   "attachments": {},
   "cell_type": "markdown",
   "metadata": {},
   "source": [
    "Cho 2 hệ số\n",
    "\n",
    "$\\hat\\beta_1+ \\hat\\beta_2-t_{\\alpha/2}se(\\hat\\beta_1+ \\hat\\beta_2)<\\beta_1+ \\beta_2<\\hat\\beta_1+ \\hat\\beta_2+t_{\\alpha/2}se(\\hat\\beta_1+ \\hat\\beta_2)$"
   ]
  },
  {
   "cell_type": "code",
   "execution_count": null,
   "metadata": {
    "vscode": {
     "languageId": "r"
    }
   },
   "outputs": [],
   "source": [
    "vcov(hq)\n",
    "var2 <- vcov(hq)[2,2]\n",
    "var3 <- vcov(hq)[3,3]\n",
    "cov23 <- vcov(hq)[3,2]\n",
    "\n",
    "se <- sqrt(var2+var3+2*cov23)\n",
    "beta2 <- 0.52370 \n",
    "beta3 <- 0.69301\n",
    "\n",
    "can_tren <- (beta2+beta3)+qt(0.95,length(df$K)-3)*se\n",
    "can_duoi <- (beta2+beta3)-qt(0.95,length(df$L)-3)*se"
   ]
  },
  {
   "attachments": {},
   "cell_type": "markdown",
   "metadata": {},
   "source": [
    "## Biến giả"
   ]
  },
  {
   "cell_type": "code",
   "execution_count": null,
   "metadata": {
    "vscode": {
     "languageId": "r"
    }
   },
   "outputs": [],
   "source": [
    "anova2 <- lm(data = trang, WAGE ~ BLACK + SOUTH)\n",
    "summary(anova2)"
   ]
  },
  {
   "attachments": {},
   "cell_type": "markdown",
   "metadata": {},
   "source": [
    "1. Khi BLACK = 0 và SOUTH = 0 (không phải là người Mĩ gốc Phi và không ở khu vực miền nàm) thì WAGE = 3520.13. Đây chính là mức lương trung bình tháng của nhóm lao động người phi da đen và không ở miền nam.\n",
    "\n",
    "2. Khi BLACK = 1 và SOUTH = 1 mức lương trung bình của người Mĩ gốc Phi lại còn sống ở miền Nam (tệ phân biệt chủng tộc rất gay gắt ở các ban miền Nam và là một trong những nguyên nhân của nội chiến Mĩ) luôn thấp hơn (221.66+98.89).\n",
    "\n",
    "3. Khi BLACK = 1 và SOUTH = 0 mức lương trung bình của người Mĩ gốc Phi không sống ở miền Nam được cải thiện hơn chút ít khi mức lương của anh ta chỉ thấp hơn nhóm còn lại 221.66.\n",
    "\n",
    "4. Khi BLACK = 0 và SOUTH = 1 mức lương trung bình của người Mĩ da trắng (và các màu da khác) thấp hơn 98.89.\n",
    "\n",
    "5. Tất cả 4 kết luận trên là có ý nghĩa thống kê vì tất cả các hệ số hồi quy đều có ý nghĩa thống kê ở mức cao"
   ]
  },
  {
   "attachments": {},
   "cell_type": "markdown",
   "metadata": {},
   "source": [
    "#### Sự tương tác của các biến giả"
   ]
  },
  {
   "cell_type": "code",
   "execution_count": null,
   "metadata": {
    "vscode": {
     "languageId": "r"
    }
   },
   "outputs": [],
   "source": [
    "anova3 <- lm(data = trang, WAGE ~ BLACK + SOUTH + BLACK*SOUTH)\n",
    "summary(anova3)"
   ]
  },
  {
   "attachments": {},
   "cell_type": "markdown",
   "metadata": {},
   "source": [
    "Diễn giải mô kết quả của mô hình cũng tương tự như trên với chú ý rằng hệ số hồi quy β4 cho\n",
    "BLACK*SOUTH là -113.44. Điều này có nghĩa là nếu một quan sát mà anh ta vừa là người da màu, vừa\n",
    "là dân miền nam thì mức lương của anh ta sẽ thấp hơn so với nhóm còn lại là (155 + 83 + 113)"
   ]
  },
  {
   "attachments": {},
   "cell_type": "markdown",
   "metadata": {},
   "source": [
    "#### Tương tác giữa biến định lượng và biến định tính"
   ]
  },
  {
   "cell_type": "code",
   "execution_count": null,
   "metadata": {
    "vscode": {
     "languageId": "r"
    }
   },
   "outputs": [],
   "source": [
    "ancova2 <- lm(data = trang, WAGE ~ URBAN + EDUC + URBAN*EDUC)\n",
    "summary(ancova2)"
   ]
  },
  {
   "attachments": {},
   "cell_type": "markdown",
   "metadata": {},
   "source": [
    "Gia tăng thêm một năm học, nếu là lao động ở thành thị thì mức lương sẽ tăng\n",
    "(38.91 + 26.14) nhưng nếu là lao động ở khu vực khác thì mức lương chỉ tăng 38.91"
   ]
  },
  {
   "attachments": {},
   "cell_type": "markdown",
   "metadata": {},
   "source": [
    "#### Kiểm định Chow"
   ]
  },
  {
   "attachments": {},
   "cell_type": "markdown",
   "metadata": {},
   "source": [
    "Cách 1: Tính tay"
   ]
  },
  {
   "cell_type": "code",
   "execution_count": null,
   "metadata": {
    "vscode": {
     "languageId": "r"
    }
   },
   "outputs": [],
   "source": [
    "nongthon <- lm(WAGE ~ EDUC, data = df, subset = (URBAN == 0))\n",
    "thanhthi <- lm(WAGE ~ EDUC, data = df, subset = (URBAN == 1))\n",
    "pooled <- lm(WAGE ~ EDUC, data = df)\n",
    "RSS <- sum((residuals(pooled))^2)\n",
    "RSS1 <- sum((residuals(nongthon))^2)\n",
    "RSS2 <- sum((residuals(thanhthi))^2)\n",
    "Fqs <- 931*(RSS - RSS1 - RSS2) / (2*(RSS1 + RSS2))\n",
    "Fqs\n",
    "## [1] 18.82677\n",
    "\n",
    "qf(0.95, df1 = 2, df2 = 931)\n",
    "## [1] 3.005393"
   ]
  },
  {
   "attachments": {},
   "cell_type": "markdown",
   "metadata": {},
   "source": [
    "Cách 2: TÍnh máy"
   ]
  },
  {
   "cell_type": "code",
   "execution_count": null,
   "metadata": {
    "vscode": {
     "languageId": "r"
    }
   },
   "outputs": [],
   "source": [
    "sctest(df$ns ~ df$kn, type = \"Chow\", point = 16)"
   ]
  }
 ],
 "metadata": {
  "kernelspec": {
   "display_name": "R",
   "language": "R",
   "name": "ir"
  },
  "language_info": {
   "codemirror_mode": "r",
   "file_extension": ".r",
   "mimetype": "text/x-r-source",
   "name": "R",
   "pygments_lexer": "r",
   "version": "4.2.1"
  },
  "orig_nbformat": 4
 },
 "nbformat": 4,
 "nbformat_minor": 2
}
