{
 "cells": [
  {
   "cell_type": "code",
   "execution_count": 3,
   "metadata": {
    "vscode": {
     "languageId": "r"
    }
   },
   "outputs": [],
   "source": [
    "library(hexView)"
   ]
  },
  {
   "attachments": {},
   "cell_type": "markdown",
   "metadata": {},
   "source": [
    "### Bài 1"
   ]
  },
  {
   "attachments": {},
   "cell_type": "markdown",
   "metadata": {},
   "source": [
    "### Bài 2"
   ]
  },
  {
   "attachments": {},
   "cell_type": "markdown",
   "metadata": {},
   "source": [
    "### Bài 3"
   ]
  },
  {
   "attachments": {},
   "cell_type": "markdown",
   "metadata": {},
   "source": [
    "### Bài 4"
   ]
  },
  {
   "attachments": {},
   "cell_type": "markdown",
   "metadata": {},
   "source": [
    "### Bài 5"
   ]
  },
  {
   "attachments": {},
   "cell_type": "markdown",
   "metadata": {},
   "source": [
    "### Bài 6"
   ]
  },
  {
   "attachments": {},
   "cell_type": "markdown",
   "metadata": {},
   "source": [
    "### Bài 7"
   ]
  },
  {
   "attachments": {},
   "cell_type": "markdown",
   "metadata": {},
   "source": [
    "### Bài 8"
   ]
  },
  {
   "attachments": {},
   "cell_type": "markdown",
   "metadata": {},
   "source": [
    "### Bài 9"
   ]
  },
  {
   "cell_type": "code",
   "execution_count": 4,
   "metadata": {
    "vscode": {
     "languageId": "r"
    }
   },
   "outputs": [
    {
     "name": "stderr",
     "output_type": "stream",
     "text": [
      "Warning message in readEViews(\"ch4bt3.wf1\"):\n",
      "\"Skipping boilerplate variable\n",
      "\"\n",
      "Warning message in readEViews(\"ch4bt3.wf1\"):\n",
      "\"Skipping boilerplate variable\n",
      "\"\n"
     ]
    }
   ],
   "source": [
    "bai3 <- readEViews(\"ch4bt3.wf1\")"
   ]
  },
  {
   "cell_type": "code",
   "execution_count": 9,
   "metadata": {
    "vscode": {
     "languageId": "r"
    }
   },
   "outputs": [],
   "source": [
    "fix(bai3)"
   ]
  },
  {
   "cell_type": "code",
   "execution_count": 6,
   "metadata": {
    "vscode": {
     "languageId": "r"
    }
   },
   "outputs": [
    {
     "name": "stderr",
     "output_type": "stream",
     "text": [
      "Warning message in readEViews(\"ch4bt8.wf1\"):\n",
      "\"Skipping boilerplate variable\n",
      "\"\n",
      "Warning message in readEViews(\"ch4bt8.wf1\"):\n",
      "\"Skipping boilerplate variable\n",
      "\"\n",
      "Warning message in readEViews(\"ch4bt9.wf1\"):\n",
      "\"Skipping boilerplate variable\n",
      "\"\n",
      "Warning message in readEViews(\"ch4bt9.wf1\"):\n",
      "\"Skipping boilerplate variable\n",
      "\"\n"
     ]
    }
   ],
   "source": [
    "bai8 <- readEViews(\"ch4bt8.wf1\")\n",
    "bai9 <- readEViews(\"ch4bt9.wf1\")"
   ]
  },
  {
   "cell_type": "code",
   "execution_count": 8,
   "metadata": {
    "vscode": {
     "languageId": "r"
    }
   },
   "outputs": [
    {
     "data": {
      "text/html": [
       "<style>\n",
       ".list-inline {list-style: none; margin:0; padding: 0}\n",
       ".list-inline>li {display: inline-block}\n",
       ".list-inline>li:not(:last-child)::after {content: \"\\00b7\"; padding: 0 .5ex}\n",
       "</style>\n",
       "<ol class=list-inline><li>'Date'</li><li>'KN'</li><li>'NS'</li><li>'TD'</li></ol>\n"
      ],
      "text/latex": [
       "\\begin{enumerate*}\n",
       "\\item 'Date'\n",
       "\\item 'KN'\n",
       "\\item 'NS'\n",
       "\\item 'TD'\n",
       "\\end{enumerate*}\n"
      ],
      "text/markdown": [
       "1. 'Date'\n",
       "2. 'KN'\n",
       "3. 'NS'\n",
       "4. 'TD'\n",
       "\n",
       "\n"
      ],
      "text/plain": [
       "[1] \"Date\" \"KN\"   \"NS\"   \"TD\"  "
      ]
     },
     "metadata": {},
     "output_type": "display_data"
    }
   ],
   "source": [
    "names(bai9)"
   ]
  },
  {
   "cell_type": "code",
   "execution_count": 13,
   "metadata": {
    "vscode": {
     "languageId": "r"
    }
   },
   "outputs": [],
   "source": [
    "bai8$TD = ifelse(bai8$EDUC < 13, \"ngu\", ifelse(16< bai8$EDUC , \"gioi\", \"binhthuong\"))"
   ]
  },
  {
   "cell_type": "code",
   "execution_count": 15,
   "metadata": {
    "vscode": {
     "languageId": "r"
    }
   },
   "outputs": [],
   "source": [
    "bai8$TD = ifelse(bai8$EDUC < 13, 1,0)\n",
    "bai8$TD1 = ifelse(16<bai8$EDUC , 1, 0)"
   ]
  },
  {
   "cell_type": "code",
   "execution_count": 17,
   "metadata": {
    "vscode": {
     "languageId": "r"
    }
   },
   "outputs": [
    {
     "data": {
      "text/plain": [
       "\n",
       "Call:\n",
       "lm(formula = WAGE ~ EXPER + TD1 * EXPER, data = bai8)\n",
       "\n",
       "Residuals:\n",
       "    Min      1Q  Median      3Q     Max \n",
       "-907.38 -278.29  -37.78  199.30 2150.92 \n",
       "\n",
       "Coefficients:\n",
       "            Estimate Std. Error t value Pr(>|t|)    \n",
       "(Intercept) 3388.894     39.736  85.285   <2e-16 ***\n",
       "EXPER          3.472      3.130   1.109   0.2677    \n",
       "TD1           41.590    125.335   0.332   0.7401    \n",
       "EXPER:TD1     27.974     13.570   2.062   0.0395 *  \n",
       "---\n",
       "Signif. codes:  0 '***' 0.001 '**' 0.01 '*' 0.05 '.' 0.1 ' ' 1\n",
       "\n",
       "Residual standard error: 395.3 on 931 degrees of freedom\n",
       "Multiple R-squared:  0.04755,\tAdjusted R-squared:  0.04448 \n",
       "F-statistic: 15.49 on 3 and 931 DF,  p-value: 7.694e-10\n"
      ]
     },
     "metadata": {},
     "output_type": "display_data"
    }
   ],
   "source": [
    "summary(lm(data=bai8,WAGE~ EXPER+TD1*EXPER))"
   ]
  }
 ],
 "metadata": {
  "kernelspec": {
   "display_name": "R",
   "language": "R",
   "name": "ir"
  },
  "language_info": {
   "codemirror_mode": "r",
   "file_extension": ".r",
   "mimetype": "text/x-r-source",
   "name": "R",
   "pygments_lexer": "r",
   "version": "4.2.1"
  },
  "orig_nbformat": 4
 },
 "nbformat": 4,
 "nbformat_minor": 2
}
