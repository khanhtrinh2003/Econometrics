{
 "cells": [
  {
   "cell_type": "code",
   "execution_count": 1,
   "metadata": {
    "vscode": {
     "languageId": "r"
    }
   },
   "outputs": [],
   "source": [
    "library(hexView)"
   ]
  },
  {
   "cell_type": "code",
   "execution_count": 2,
   "metadata": {
    "vscode": {
     "languageId": "r"
    }
   },
   "outputs": [
    {
     "name": "stderr",
     "output_type": "stream",
     "text": [
      "Warning message in readEViews(\"ch4bt3.wf1\"):\n",
      "\"Skipping boilerplate variable\n",
      "\"\n",
      "Warning message in readEViews(\"ch4bt3.wf1\"):\n",
      "\"Skipping boilerplate variable\n",
      "\"\n"
     ]
    }
   ],
   "source": [
    "bai3 <- readEViews(\"ch4bt3.wf1\")"
   ]
  },
  {
   "cell_type": "code",
   "execution_count": 3,
   "metadata": {
    "vscode": {
     "languageId": "r"
    }
   },
   "outputs": [
    {
     "name": "stderr",
     "output_type": "stream",
     "text": [
      "Warning message:\n",
      "\"class discarded from column 'Date'\"\n"
     ]
    }
   ],
   "source": [
    "fix(bai3)"
   ]
  },
  {
   "cell_type": "code",
   "execution_count": 4,
   "metadata": {
    "vscode": {
     "languageId": "r"
    }
   },
   "outputs": [
    {
     "name": "stderr",
     "output_type": "stream",
     "text": [
      "Warning message in readEViews(\"ch4bt8.wf1\"):\n",
      "\"Skipping boilerplate variable\n",
      "\"\n",
      "Warning message in readEViews(\"ch4bt8.wf1\"):\n",
      "\"Skipping boilerplate variable\n",
      "\"\n",
      "Warning message in readEViews(\"ch4bt9.wf1\"):\n",
      "\"Skipping boilerplate variable\n",
      "\"\n",
      "Warning message in readEViews(\"ch4bt9.wf1\"):\n",
      "\"Skipping boilerplate variable\n",
      "\"\n"
     ]
    }
   ],
   "source": [
    "bai8 <- readEViews(\"ch4bt8.wf1\")\n",
    "bai9 <- readEViews(\"ch4bt9.wf1\")"
   ]
  },
  {
   "cell_type": "code",
   "execution_count": 6,
   "metadata": {
    "vscode": {
     "languageId": "r"
    }
   },
   "outputs": [
    {
     "data": {
      "text/html": [
       "<style>\n",
       ".list-inline {list-style: none; margin:0; padding: 0}\n",
       ".list-inline>li {display: inline-block}\n",
       ".list-inline>li:not(:last-child)::after {content: \"\\00b7\"; padding: 0 .5ex}\n",
       "</style>\n",
       "<ol class=list-inline><li>'Date'</li><li>'AGE'</li><li>'BLACK'</li><li>'EDUC'</li><li>'EXPER'</li><li>'FEDUC'</li><li>'GT'</li><li>'IQ'</li><li>'MALE'</li><li>'MARRIED'</li><li>'MEDUC'</li><li>'SOUTH'</li><li>'SSIBS'</li><li>'URBAN'</li><li>'WAGE'</li></ol>\n"
      ],
      "text/latex": [
       "\\begin{enumerate*}\n",
       "\\item 'Date'\n",
       "\\item 'AGE'\n",
       "\\item 'BLACK'\n",
       "\\item 'EDUC'\n",
       "\\item 'EXPER'\n",
       "\\item 'FEDUC'\n",
       "\\item 'GT'\n",
       "\\item 'IQ'\n",
       "\\item 'MALE'\n",
       "\\item 'MARRIED'\n",
       "\\item 'MEDUC'\n",
       "\\item 'SOUTH'\n",
       "\\item 'SSIBS'\n",
       "\\item 'URBAN'\n",
       "\\item 'WAGE'\n",
       "\\end{enumerate*}\n"
      ],
      "text/markdown": [
       "1. 'Date'\n",
       "2. 'AGE'\n",
       "3. 'BLACK'\n",
       "4. 'EDUC'\n",
       "5. 'EXPER'\n",
       "6. 'FEDUC'\n",
       "7. 'GT'\n",
       "8. 'IQ'\n",
       "9. 'MALE'\n",
       "10. 'MARRIED'\n",
       "11. 'MEDUC'\n",
       "12. 'SOUTH'\n",
       "13. 'SSIBS'\n",
       "14. 'URBAN'\n",
       "15. 'WAGE'\n",
       "\n",
       "\n"
      ],
      "text/plain": [
       " [1] \"Date\"    \"AGE\"     \"BLACK\"   \"EDUC\"    \"EXPER\"   \"FEDUC\"   \"GT\"     \n",
       " [8] \"IQ\"      \"MALE\"    \"MARRIED\" \"MEDUC\"   \"SOUTH\"   \"SSIBS\"   \"URBAN\"  \n",
       "[15] \"WAGE\"   "
      ]
     },
     "metadata": {},
     "output_type": "display_data"
    }
   ],
   "source": [
    "names(bai8)"
   ]
  },
  {
   "cell_type": "code",
   "execution_count": 13,
   "metadata": {
    "vscode": {
     "languageId": "r"
    }
   },
   "outputs": [],
   "source": [
    "bai8$TD = ifelse(bai8$EDUC < 13, \"ngu\", ifelse(16< bai8$EDUC , \"gioi\", \"binhthuong\"))"
   ]
  },
  {
   "cell_type": "code",
   "execution_count": 15,
   "metadata": {
    "vscode": {
     "languageId": "r"
    }
   },
   "outputs": [],
   "source": [
    "bai8$TD = ifelse(bai8$EDUC < 13, 1,0)\n",
    "bai8$TD1 = ifelse(16<bai8$EDUC , 1, 0)"
   ]
  },
  {
   "cell_type": "code",
   "execution_count": 17,
   "metadata": {
    "vscode": {
     "languageId": "r"
    }
   },
   "outputs": [
    {
     "data": {
      "text/plain": [
       "\n",
       "Call:\n",
       "lm(formula = WAGE ~ EXPER + TD1 * EXPER, data = bai8)\n",
       "\n",
       "Residuals:\n",
       "    Min      1Q  Median      3Q     Max \n",
       "-907.38 -278.29  -37.78  199.30 2150.92 \n",
       "\n",
       "Coefficients:\n",
       "            Estimate Std. Error t value Pr(>|t|)    \n",
       "(Intercept) 3388.894     39.736  85.285   <2e-16 ***\n",
       "EXPER          3.472      3.130   1.109   0.2677    \n",
       "TD1           41.590    125.335   0.332   0.7401    \n",
       "EXPER:TD1     27.974     13.570   2.062   0.0395 *  \n",
       "---\n",
       "Signif. codes:  0 '***' 0.001 '**' 0.01 '*' 0.05 '.' 0.1 ' ' 1\n",
       "\n",
       "Residual standard error: 395.3 on 931 degrees of freedom\n",
       "Multiple R-squared:  0.04755,\tAdjusted R-squared:  0.04448 \n",
       "F-statistic: 15.49 on 3 and 931 DF,  p-value: 7.694e-10\n"
      ]
     },
     "metadata": {},
     "output_type": "display_data"
    }
   ],
   "source": [
    "summary(lm(data=bai8,WAGE~ EXPER+TD1*EXPER))"
   ]
  }
 ],
 "metadata": {
  "kernelspec": {
   "display_name": "R",
   "language": "R",
   "name": "ir"
  },
  "language_info": {
   "codemirror_mode": "r",
   "file_extension": ".r",
   "mimetype": "text/x-r-source",
   "name": "R",
   "pygments_lexer": "r",
   "version": "4.2.1"
  },
  "orig_nbformat": 4
 },
 "nbformat": 4,
 "nbformat_minor": 2
}
